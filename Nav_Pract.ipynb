{
 "cells": [
  {
   "cell_type": "code",
   "execution_count": 1,
   "metadata": {},
   "outputs": [],
   "source": [
    "Rover1Data = Import[\"RV1-red2.txt\", \"Data\"];"
   ]
  },
  {
   "cell_type": "code",
   "execution_count": 2,
   "metadata": {},
   "outputs": [
    {
     "data": {
      "text/html": [
       "<div><pre style=\"&#102;&#111;&#110;&#116;&#45;&#102;&#97;&#109;&#105;&#108;&#121;&#58;&#32;&#34;&#67;&#111;&#117;&#114;&#105;&#101;&#114;&#32;&#78;&#101;&#119;&#34;&#44;&#67;&#111;&#117;&#114;&#105;&#101;&#114;&#44;&#109;&#111;&#110;&#111;&#115;&#112;&#97;&#99;&#101;&#59;\">&#123;&#49;&#50;&#53;&#54;&#44;&#32;&#50;&#125;</pre></div>"
      ],
      "text/plain": [
       "{1256, 2}"
      ]
     },
     "execution_count": 2,
     "metadata": {
      "text/html": [],
      "text/plain": []
     },
     "output_type": "execute_result"
    }
   ],
   "source": [
    "Dimensions[Rover1Data]"
   ]
  },
  {
   "cell_type": "code",
   "execution_count": 3,
   "metadata": {},
   "outputs": [
    {
     "data": {
      "text/html": [
       "<div><img alt=\"Output\" src=\"data:image/png;base64,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\"></div>"
      ],
      "text/plain": [
       "2.26348     -4.34219\n",
       "\n",
       "1.19462     -4.34219\n",
       "\n",
       "1.19462     -4.34219\n",
       "\n",
       "0.188623    -2.44944\n",
       "\n",
       "-0.880243   -2.44944"
      ]
     },
     "execution_count": 3,
     "metadata": {
      "text/html": [],
      "text/plain": []
     },
     "output_type": "execute_result"
    }
   ],
   "source": [
    "Rover1Data[[1;;5]] //  MatrixForm"
   ]
  },
  {
   "cell_type": "code",
   "execution_count": 4,
   "metadata": {},
   "outputs": [
    {
     "data": {
      "text/html": [
       "<div><img alt=\"Output\" src=\"data:image/png;base64,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\"></div>"
      ],
      "text/plain": [
       "-Graphics-"
      ]
     },
     "execution_count": 4,
     "metadata": {
      "text/html": [],
      "text/plain": []
     },
     "output_type": "execute_result"
    }
   ],
   "source": [
    "Show[ListPlot[Rover1Data, PlotStyle -> Red],\n",
    "    ListPlot[Rover1Data[[315;;400]], PlotStyle -> Blue],\n",
    "    PlotRange -> All]"
   ]
  },
  {
   "cell_type": "code",
   "execution_count": 5,
   "metadata": {},
   "outputs": [],
   "source": [
    "Rover1LineInPark = Rover1Data[[315;;400]];"
   ]
  },
  {
   "cell_type": "code",
   "execution_count": 6,
   "metadata": {},
   "outputs": [
    {
     "data": {
      "text/html": [
       "<div><img alt=\"Output\" src=\"data:image/png;base64,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\"></div>"
      ],
      "text/plain": [
       "-15.5296   95.8623\n",
       "\n",
       "-16.5985   93.9695\n",
       "\n",
       "-17.6673   93.9695\n",
       "\n",
       "-17.6673   92.1881\n",
       "\n",
       "-18.6733   92.1881"
      ]
     },
     "execution_count": 6,
     "metadata": {
      "text/html": [],
      "text/plain": []
     },
     "output_type": "execute_result"
    }
   ],
   "source": [
    "Rover1LineInPark[[1;;5]] // MatrixForm"
   ]
  },
  {
   "cell_type": "markdown",
   "metadata": {},
   "source": [
    "# МНК"
   ]
  },
  {
   "cell_type": "code",
   "execution_count": 7,
   "metadata": {},
   "outputs": [
    {
     "data": {
      "text/html": [
       "<div><img alt=\"Output\" src=\"data:image/png;base64,iVBORw0KGgoAAAANSUhEUgAAAIIAAAAPCAIAAACnT4CsAAAAzHpUWHRSYXcgcHJvZmlsZSB0eXBlIGV4aWYAAHjabU/bDQMhDPtnio6QFw6Mw7Wc1A06fsOBWlHVErFxXpD663mm24AwJcteUAEKWLUqLUShiclM9YrTkpXj3U90Lr+Flb8J9OUfu++YLOV30NqgY0NotdWwBqlMn9u8H6teWin7IKUNVj5P/39XF2SwW0QTckcNXVLIIGSh7DhxB6KQ8RCye3CHe7TBR4W20Tgg3ffqnqBhPMYXdBzWFqwRRWu0stqlR8wKOVb2+kh6A1pPWsXqJ/YlAAAACXBIWXMAAAsTAAALEwEAmpwYAAAAPHRFWHRTb2Z0d2FyZQBDcmVhdGVkIHdpdGggdGhlIFdvbGZyYW0gTGFuZ3VhZ2UgOiB3d3cud29sZnJhbS5jb21coqaFAAAAIXRFWHRDcmVhdGlvbiBUaW1lADIwMjE6MDM6MjkgMTQ6MjQ6NTaLl/QbAAACA0lEQVRYhe1YO3bDIBBcchbJRZ5PQE4Q0rtNB6VzCB8Al1GX1lUqOIFyAj8XWu5CCiHrtxDj5L2o0FTyiGVmvDL7ZOa9hxX/jYf/NrACYG3DQrC2YRFo2+COT4wxpuzgTuAYY09H15FWBW68lgBZTgrRZA5oLQqk/3ioduOepVf+QagHAKvYK3yg5mO/5dvWeO+9x92pVLbdWUDLeQMiFZkqjwkRZBZILQqk/0Qoq8rTVvJk+V+F8gGoOUjTfTISuMbrDQBpvDeSXjEHWU4KpcjJEmNIuZTWbOXcfzRUez0wloqfE8rIgUkjAbhGeja45gzbTQFgFStPOy3h3DgAgOrThifjUMVbGy3/DbBpfq9F+qdIq8RZf+yLG8pz8fzujayEskEF632RGtFWMQHG1/tNV4/6LBhjjL3CTv4kNy2/H8455wAAu4v7tEj/JGmVAFNPmpAZP4Vuq6sK3YZis4VKHB7Rvz8PHjgo9nX7W6pfoOMyyu+Dc4iI2FwuDSIijvuQpUX6n5HueKigar/w8u0LKhFm/43xbwTng9EROcgGZ5+Rs/MWNR9PhtF5ly6/dzYYHRlFca2pq7j/JEm6Ha/MDBUs9/tAMDtAqOzn/FWxp4i2TEiinBSKqBPWY20gtUhXpP9oqOvdjidX5ocKU7nfkmtkfv1PaQFY36IXgbUNi8A3Abmbl7UWDOEAAAAASUVORK5CYII=\"></div>"
      ],
      "text/plain": [
       "109.011 + 0.994911 x"
      ]
     },
     "execution_count": 7,
     "metadata": {
      "text/html": [],
      "text/plain": []
     },
     "output_type": "execute_result"
    }
   ],
   "source": [
    "LSline = Fit[Rover1LineInPark, {x, 1}, x]"
   ]
  },
  {
   "cell_type": "code",
   "execution_count": 8,
   "metadata": {},
   "outputs": [
    {
     "data": {
      "text/html": [
       "<div><img alt=\"Output\" src=\"data:image/png;base64,iVBORw0KGgoAAAANSUhEUgAAAWgAAADoCAIAAABNQOnuAAAAzXpUWHRSYXcgcHJvZmlsZSB0eXBlIGV4aWYAAHjadU/bDQMhDPtnio6QFw6Mw/Wo1A06fsNBpVKpli42vjiQ1F/PR7oNCFOy7AUVoIBVq9JCFJqYzFSvegFlKd791FeIW1j5K9CXf+y+Y7KUn0EkU+i4IbTaCqxBKtPnNs/H6pdWyj5IaYN91uI/Z3VBBrtFNSF31NAlhQxCFsqOB+5ANDJOIbsHd7hHDD46tI3ggHTfu3uChnGOFXR8rC1Yo4rWiLLapUfN8Zhj/b0WSW9rjVrSdWCdAAAAAAlwSFlzAAALEwAACxMBAJqcGAAAADx0RVh0U29mdHdhcmUAQ3JlYXRlZCB3aXRoIHRoZSBXb2xmcmFtIExhbmd1YWdlIDogd3d3LndvbGZyYW0uY29tXKKmhQAAACF0RVh0Q3JlYXRpb24gVGltZQAyMDIxOjAzOjI5IDE0OjI0OjU3/JDEjQAAHWdJREFUeJzt3X14W9WdJ/BvHJOIQhjxlEmuas8gM50it51ynZCxwkuRB9qV091UbmfBGWZb44IlLy+RBlpb2zay3KE36tBKbEttUeJ42mFrZmdrjSnIz5CnVoGdyOw0uk9naDQlxeqsPbophNylvNy8EO0fV1acxEms2LJ05e/n4Xkq3cjxubX5cs75nXvOqlwuByKiYtSUuwFEdIrb7S53ExaEwUFERWNwEFHRGBxEVDQGBxEVjcFBREVjcBBR0RgcRFQ0BgcRFY3BQVRZ3G53BS0DU5R5L9cuczOI6Pyi0Wi5mwAASCTg8wFAKnX2H7LHQUSny2SwfTtaWiDLUBRkMmd/hMFBRLMUBT4fGhowMgKTCZKEqSlYrWd/kEMVIgJUFZEIQiFoGgB4PAgEIAjn+jiDg2hl0zQMDiIYhKoCgMsFSYLNdv4vYnAQrWCxGHy+/CyGw4FAAA7HQr6OwUG0IiUS8PuRTAKAIECS0NGx8K9mcBCtMJkMfD7EYgBgNiMQgMcDk6mov4PBQVRZCqu/ln5Bh6IgFEIkAgAmE7xe9PTAbL6Iv4nBQVRZSrIATC+aPPpofga0owOSdJ6iyQUxOIiqnV5n1RePu1wIBCCKi/wrGRxE1Wtu0cRuhyQtsGhyQVw5SlSNEgls2YK2NmQysNkwOop9+5YqNcAeB1FpyEPu/RujneLsm4FJAHWu4M5WYf4rSyadht+fL5oIQr5ostTY4yBaavKQW4+F2bcD065gNBrtro89HlfmvbIk9CdNGhsRi+XrrFNTpUgNMDiIlpoSz26MRoOuutn32em6zU0CAHFj80xWme/KYmka+vrQ2JgvtXo8OHAAfX3Frs5YOA5ViJaW0NoqAKelQb1FH40IlrpzXrl4+pMmetHE6UQ4fMEnTRaPwUFUctNZBaIAKNkZWM5xpWDu9l8XWNMxPg6/H7IMAKKIcHgJpz/Pj8FBVFqCpX5mLKW0tgry/sk6y9b5rsy1oAVgsgyfD4kEAFitkCS0t5eg7efE4CAqMbGze7874I4Bda5gpzDvlYXLZOD3Y2QEuPgnTRZvVS6XW+ZvSUTn4na7z9njUFUEgxgchKYt8kmTxWOPg6jiaVp+2fgSPWmyeAwOoso2PAy//1TRRJIW/6TJ4nEdB1E56TvpzG98HE1NuOsuKApEERMTiMcrITXA4CAqF01DYyO2bIHFctaxR7KMlha0tkKWIQjYswep1LKVWheCwUFUHskk0mkAUBQMD8/5g+3b0dSERAJmc/6AgmI29VseDA6i5TB3SKK/FsVTVVSHA1DV/Mlp+pkmvb2YmkJv7/KXWheC5Vii0tI0NDUhnYYgIJmE05l/nUpBVTEyghs2ap/8Rb5o4u7q0r+qUg6CPAdWVYhKa+6Q5OGHTxue9PaizzoM95yiScVHho5DFaLSmjskuf32U69dpvmKJgbB4CAqoWQSZjNSKXzhC4jHcdttSKUw4JYPf6zF5muFLMNqxehopRVNLohDFaKSKExtbNiAdetw8CCeeQY/H8vYvuW36U+aCAJ6euD1lrulF4PBQVQShamNQ4dw6BDMUHcooStviOCEBpMpHxlletJk8ThUIVoahYLrGdVWE7QHV0em0NCLXbUnNHR0YGoKfX3GTQ2wx0G0eGePSvRqayoFuS/26YTv0kMZAK9f77zqexXxpMniMTiIFuuMUQkARcFPdib+7J/9tkL3Q5KucjrL2colxQVgRIulqrBYoGkAsGYNPnxMluB3Yhwo+iD4Eh4cu6TY4yBaLL3g+sgjuPNWZeP/9P/O6HD+qj4DWuSa8QqPDB2Dg2ixNA2f26Z+5pXQDUORtTkNJhM8HgQChp7+PD8GB9HiaNr0Q4P/8ErQDBU5/POmjj/6cZm351oGLMcSFa1QeX3layNobPzgYz4z1HE4m5B6+zt7qj41wB4HUVEKlde2KxMPv+NrPCoDOP4RUdkhJWeckh12e7mbuCwYHERFSCaBdDoOn/PIOAAFgh/StX/e0XsP+srdtuXE4CBaMEXZ8v3gAQwCUGF+ZHXPN9/zajDtc5S7YcuOwUF0Pskk7HZAVacfitQ/GVqrabm1pskmz9sPBf78I+baEdhXzPBkLi4AI5pfYTrjq+si978T+t33FACaq90UlmC1luibcgEYkbElk7ClY3H4rL/NAEjA4UP4jmax11ra71vhkaFjOZboTMkkkEjc9MUto2izIpOG7T/VxlswIUM01G47JcQeB9EpmobPfiR9z6t+IFYLvLZa2Ple4KkrPWNj2LR3hU5nzIvBQTRLUd5wB595NV80eWHjjtv392ow4QhefBF9feVuXiXhUIUIUFX09aGh4QNjgwAi8DbiwKWhvsLzaRyhnIE9Dlpx8hXWwutkBKFQ/oACl+tX94XVF6x77PmNhUeWouAqD7kHJgHUuYI7W4X5rxhMjmjFePfdnM2WA3KCkMtkcvfWjU7BmgNywAQcn3r/vmy2BN81tbsr+Gz2/C9mdXV1laAFS49DFVpBClt12ZREzaam78zkiyZtGG3BxDOH7aed4bpUBEtd4XW9RQCU7HTd5iYBgLixeSarnPtLKxaDg6rZGSe2iiKuW5seRdsEWn7vsHxoldCNgUYceHaNS/9MSeYyhNad27IBt9s9Zgl25jccrbfo45O5oWIknOOg6nT2ia1qWgm9LygfHQRwco2pxt+jtvVuGDXF7bBal2YuY15KvD+Q3RaNdkKJ97uHtkU7BWA6q0AUACU7A8vpny8sHkUFLwZjcFB1mntiazigtqcjPQiZ3tEAwOOpCQQgCNcCfdflP1/Samud3r8QLPXI6v87M5ZSWlsFef9knWXr6R+u2LCYi8FB1Uk/1kTT4EUk9HRoDRQA43BaRsLX3WFbzpYIrV2b+wPuGAA0d0dFAGJn9353wB0D6lzBTiMWVfiQG1UhveA681jssq/4zGoGgGYTR5rDQrujwo8ocLvd7HEQLTd9asOcTn7nEt+m40kAsFohSab29o4yN62qMDioqsixjJT2uRDDcWgms0kKwOMp9oACuiAGB1WJnz2jbNobskciADSYIvDe9nTP9bdV7QEF5cXgIMPTVO27H4p0vhYCVAD/a13Hfb+Vjl4pdHy03C2rXlwARgY3PFzzBw1/8ZpfP6Dga59J/elv9ygQjhxBSZaBEgAGBxlRfj1oIoGmJtx115o3lJ/XiC2YaEV8S7dYmNAw6COtbrd77hqwysShChmJXjQxpeVvrfW3HB0HkIE1ZJbufLr9lr3oWdJHWsuF5ViiJSbHMoG0vx0jOIp31pi/fCwwCI+mmq6es9GOzcZNd0qOQxUyCFWFz9fc0diOEQ2mXeh96ampQZNXgwmGHZUYF3scVNGSSdhFDZHIiYdDtW+pq4D/19bxvWsk8TbB4TT8qMS4GBxUofTpDHt6+Joa//qTSi0wbnJd/5x01U22h2Y/w1FJuXCoQhXq4COx0XTjHty1/qSShL0FE63a6BMvLuvzaXQu7HFQxfmXJ5IffdL/0UQCQAZWP6QfrWk/dgzgXEbFYHBQBTn6r5kXN/tu/W0MwMkrzK/fG/ibGs/nbzIFSrnRDl0EPlZPlUFREAphzpMmpkCPt2/FPWnCs2OJFkbTsGsXHn0UqgrgB6s7vvSepEDYV9kbZ5ROhUeGjpOjVAaFPYSnegbR0IBgEKqq2p1IpTb/yx53QIjHOSqpaOxx0LIq7CHcYY599R3/NcfSAI59WLznrfD3kw6hFakUK6wGwB4HLatkEuZ0cgIte9S2a46lM7Buxw/vuzH1/X9zAFAUPtJqDAwOWkaZzI2PtO3DFgcSKswPrQ434sAI2m+/HUZ/pHWl4VCFlsVs0eQS4OgqUzjnjZp7fvC0+fK9sFfFI60rDYODSuz0ooni7GgalxQIUPEiH2k1LAYHldLwMPz+/EHwTickyWQVVQugARyVGBmDg5aGfpTJqdfqOPx+yDIAiCLCYT0nzOCo5AL0NWAVvpqDwUGLdcYprV6H7M74gXEAr9cKXzwhjSsdKRsK55VxVHJ+FR4ZOlZVaLEKp7RCUWY+eddopsmJcRXmH22Wfu/E1DA6WGStPgwOWpRkEqKIDWvVMHxTaLjhl8MAIvA24sAVX+8tVFk5nVFlOFShi6SPUDJp7SuXR355PHQFVACa0zXzUFh9wbqHRdaqxuCgi5RMwp4enoBfeEsBkIDDh/Adt4i9t6Lv1vxnOJ1RrRgcdFESiZsf8DkgA5AhfrVW+vEJJ4ABR5nbVZmUeH8gNgMAzd3RThGAPOQemARQ5wrubBXO/9WViMFBC5UvuMqy2u03J8dXAyeuEn58o2TydPyVFZs4JDkXeSiQ3RaN5vNiSI52Ymhg2hWMtgrykPvxeJMBo4PBQRemT2eoaWXXpcHPvztoBt6sMa/q7Vn3Va9rdvqTQ5JzUbLTzYDbPQAAzd1REUp8um7zVgGAuLF5YL8CGC44WFWhC/unvWp7um8KDZ9/dxBABN6rT049tu5U0YTOQ8nOTGJjNBqNRqNBy9iQDAD1Fj0rBEtdWRt3sdjjoPNJJmFPRm6QQjdBARCD60uXhF85bgUrrAsmWOqaLeLs6/rprAJgOqtAFAAlOwPL6Z+fe3BsxS4GY3DQ/DQND30wdt+MH0jXAJOXOrzvSv96pX1sDHv3cjqjCIKlfnK/3CmKAJTsdL1FEFA/M5ZSWlsFef9knWXr6Z+v2LCYi8FB80kmtW7/d2YSANKw/eQT0r3PuQDgyGmPtNKCiJ3BbL8+x1HnCu4UAXR273cH3DGgzhXsNNwEBwDkiOY6cCDncuWAHKCsEjwYAHLPPZczmfRruX37yt3CqtbV1VXuJiwIexyU97NnlE1/59efKjlxubn2wR1qW++GUVOca0DpLDxXhXD0kPr9j4T+y+GICRqAEbPHpwYgCKkUBEN2ow3M7XYbYo6D5diVTdOwa9fqDzbcc3iXCVoMrp3/+cB2dUCBwEda6TwYHCtR/liTkRE0NsLvr31L/XmN2IKJNox+vMvGfYPpgjjHsbLoa0CFdOKRS/ybjicBZGANmaU7n26/ZS96OJ1BC8M5jpUlOZJRtvtciAF4Z435y8cCg/BoMEkSenvL3Tji2bFUaf5pr3r9M0H7nFOd7U/1DG43a9w3uMJUeGToGBzVT1O13X+4687XHwVUAP/jCs+DbwaOXin8ws5RCV0kTo5Wu8HBmj9ouPf1oBmqXjS5880BBcKRIxgezm+041yp58LTRWNwVK9YDI2N6O5e84byUo2dRRNaQhyqVKGx/5bcts+PRAIArFZI0hVi+y0jLJrQkmFVpaq8+fNMosm37WQMwHvrzKv7A/B4uGuGgXDlKC0vRUF39xXXNWw7GdNg2oXeO/54Cl4vU4NKgcFhbMkkoKro60NDAwYHAQyjowFTfkjOdnO5W0dVi3McRqWvAXWkB6+pCa4/md+e65tXSZ6I7drv4d7bcPfd5W4iXRSeHUsldPCR2Gjab0MaJ/HqevsXfiMl4MDr+NT/zc+KkkFVeGToOFQxIFlGS8tHv9pmQzoDaxtGX31yX9Lk0P+QRVZaBuxxGEYyCbuQgd+PkREAMJt/0x0YXuN1s8hKy47BYQCaho9/TP2zV4JNqwbX5rSjq0zhnHfPmp6fPmDum91oh4ct0nLiUKXiadq/P7DrH15p8CKyNqf944c6rLkpP6Rf/sbMjXaoXBgclSi/0Q6A4eHj9Q3XfM+vP2nShNQ7j+1RTfluBqczqFw4VKksepE1nUaHOfb4+/2X/Cp9CfCzS+xrvinJhx0SpzOoMjA4KksyCXM6OQG/Q01ARQZWH8Kx4y7p7VNTGJzOoLJjcFSSTOaGb/v3YQSAAuHN7p7r9ni50Q5VID7kVmbJJOx2QFWznqDl7wehabm1pp/ae96733vrZ83pdH5Uwi0zVgijbB3I4CgbfTojk9a+cnnk/ndCV5xUAbzzOc/7QgEeZ7Ji8elYuoBkEvb08BQavvyW/4qTagyuRhz4740DTA2qfJzjKIMnnsDd9eM3f8nvgAxAhvjF2vDeEw5wLoMMgsGxrFQVn1wvf+O4D0isBo7XWf/eLl1+d/u3raywkpEwOJZRJnPoM/6Xjo8AUGF+yhZwpzx/OrvRDiusVU+J9z+Orp2tAgB5yD0wCaDOFdQvGAznOJaFqsLnQ2PjtakRfXuuBkytfpDbc60k8lAgNlN4PTDtCkaj0e762ONxpaztujgMjtJ66XkNu3ahoQGRCDQNHR3/+2+mxm+RHvyamRvtrCBKvH/MEuxuzr/LTtdtbhIAiBubZ7JGDA4OVUpF09B/zfADWT+gAHjhMucDb0vKuJiSkLiz3I2jZSUPBbLbop2CPFS4VG/RxyeCpa5crVoUBkdpjI+fuN//9Wy+aPJTp+QddwKAguFhntK6sijxsUnMTLonAQCT/Qh2AdNZBaIAKNkZWE7/fGENGCp5GViOlsi+fblcLpdLpXIORw7IAcoqoQN7gNxzz+VMJv3a7MdoBUrtDj6b1V906a8KL2Z1dXWVp21FYo9jCehrQLV0Jmzyu7R80eS763ocMe/Vz5vifKSVziB2du93B9wxoM4V7DRgUYVLzpfCP/5IeemzIS8iAI6vNj32nieIgAqzJHFUQsUxypJz9jgWR9MQiWzZFboBKoBhdPzhXwf8d1v5SCtVNwbHxXjiCdx9NzAyAp8PirIKePtm5w8+LFld4o1OpDZxVEJVjsFRHFXFhg244Vji+nt84uyTJt+4UvrW3zo93DeYVgwuACvO2DfSTx1rm0CLCPnwJcJd2NOE1A+POLlvMK0oDI4LKOwb/LNnFHR3f05qdCGmwhxE4KldUyOmDv1POZ1BKwqHKudU2Df4Q+vV+05E7nkjBGgApj7tffA3PRu3Cv/1L/AnWzmdQUvMEGfHshx7TokEWls0DwYDCJqhAojBlf1SuDtkLXfTqGqxHGt4f/zqSHqV/+pcBsDzNY6ek1IS9n1t5W4WUQXgHMcphemMX3w3gaam931h+9W5zOtX2VI7R9e/PPEfAvZ4nEMSIoA9Dl1hOuPG96e//q7v4++MAzi5XqgJBq7yeK4CwI12iOZgcABAMgk1rQwg6Dk8CECF+VHsuOz+3oc83GiHaB4rdKhSGJUkk4Cm2cf7ptDgwSCAb6/2NuJAH/puuo2pQTS/FdfjKIxKNmzAunW47eDgNTXB9ScVAGmb61Bv+BPN1sOssBKd14oLjmQS6TQAbDkUkw75bUjjJP7tGsfvPynZ7HYbAE5nEF1I9Q9VThuVAKKIj69JTqBlFG02pNOwtWH035+cYAeDaOGqucdxxqjk4EFs/t3M85t8Pz0WA3D0SuHIA4EReNwclVAlMcTK0WoOjsKo5NAhrDqkhBHyvhbBOGA2Y8eOtb29gsnUV+Y2Ep2pwiNDV83BIYowmQBN68WuHXhUXzaevcNrifTwfFaixaieOY7CXEbhtdmMqZ7B1y5v0B82SdtcLzx+wDISZmoQLVI19DgKcxmCgGQSTifSaWy/cvyvP+AXXpYBwG6HJNkcDlu5m0pUHaohOApzGYqChx+GKS1PwOc4ksARwGpFOAyXq9xtJKoqhhyqnDEqyc9lAFZkvnZwewpNDiQUCL/2hjE1xdQgWnIGCw5NQ2MjtmyBxYJf/zr/urERE6PqPrvvV2saN0yM5NaaErcEXv67A1eHveVuL1F1MthQ5YxRSToNE7QOJSK2hUyaCgAez6pAwMHpT6JSMtgOYKoKiwX6qSXPPYe/3Trcf9wvQAEAlwuSBBsnQMnAjHFwrLF6HMkk7HakUnjkEXis49d/0X/bcRmAarObByTuF0zVoZLzosAYwTF38fjNlyTvnfZfjwSQL5qYOf1JtLyMERz61IYVmfAhnwsxAAqEl/9jz61Pc/qTqAwqtKpyxiOtGz+gfLvWN4UGF2IaTEEEGnHgsi8zNYjKo+J6HGc80jp9UPvLy3f5ah6974QKYOYTHe/ulHJ7hR/ykVYyDCXeH4jNAADqXMGdrQIgD7kHJue8N5xchZmYyAH5fzwYyELIv3E6c6lUuVtHVLzU7q7dqdNepnZ3BZ/N5ua8mNXV1VWOJhat4oYq+jJQF2IH0DiAbgGKDDEdjiMehyiWu3VExRM7o535X13BUgdAyU7XbW4SAIgbm2eySjkbd5HKHxxnTGeY08nDH8tvz3XiKiH26T1KPGXzOsvYQqKlIQ8Fstv0DKm36OMTPUmMp5xzHGdMZ5w4mBkw+Zxa7H0AzGb09NR6vS4TtxqnaiAPuQfQXeh6TGcViAKgZGdgOf2ThlgDVs7gKKwfP3pI7T0U9CICDSdqTbUPedHTA7O5jG0jWjpKvD+Q3RaNzg61BUv9zFhKaW0V5P2TdZatp3+6YsNirvIExxNP4O67IYowmzSPFulBSN+eaxgdfxSTNn3KiLPMRPOThwKxGWDAPQkgX0fp7N7vDrhjQJ0r2GnEX/flflZFVbFhA44dQ00NpqSRD/yVr/Z1BcDbNzt/8GHJ6hKdnM2gFYyn1c9veBjHjsGBRPik7/d7ZAAQRYTDlzkcnmVuChFdrOUOjjuulW3wOzEO4N3fES4dDKO9fZnbQESLtHzl2NRoBtu3W7Y2OTH+Vq35J5+QLlWmmBpERrQcPY6jv1ae2hi6/Y1BQMutNa3q9lweCPwJiyZEhlXi4NA07Nq1+puPfu4tFcAI2o/skLpD1tJ+UyIqsVIGx+AggkEoSi3wfI1jx8mwDHFfWwm/IREtj9LMccRiaGxEdzcUBaKIeHz9yxOfDojxOB9pJboAt9s9d/FoZVrqHkcyCb8fiQQACAIkCR0dAGxAX98SfyuiqrTC1nFkMvD5EIsB+SdN4PWCT5oQVaOlCA5VRTCIwUFoGkwmeDwIBPikCVEVW1xwaBoiEYRCUFUAcLkQDsNqXYqGEVHlWkRwjIzA70cmAwAOBySJM59EK8RFBUciAZ8PsgwANhskieezEq0oRZZjZRmtrWhpgSxDEDAwgAMHmBpEK82CexyZDIJBDA8DgNmMHTvQ28uiCdHKtIDgYNGEaBkVVn9V8oKOBQRHKIRIBADa2yFJLJoQlVQl50XBAoJjxw7IMiSJpxMQkW4BwSEIiMdL3xIiMozyn6tCRIbD4CCiojE4iKhoDA4iKhqDg4iKxuAgqiwrcgcwIlocQywAY4+DiIrG4CCiojE4iKhoDA4iKtqCgqPy53gXjvdSmXgvFeg8N1KqHsdF/H+3PF9yEarpXoiWBIcqK0s1heBKvpey3wiDg4iKtiqXy819zw4zEZ1fNBo9MziIqIzcbjdXjhJRdWJwEFHRGBxEVLTzzHHIQ+79G6Od4uybgUkAda7gzlZh/iuVzOjtn0uJ9wdiMwDQ3K3/fIx7Lzol3v84uvSmG/ZeTv1YCm037L0soOW5eaV2d3V1dXXtThXeBp/Nnv9FJTN6++dK7Z77Y9mdMvK96FK7u7pmG27ce6mmn8sCWj7vUEWJZzdGo0FX3ez77HTd5iYBgLixeSarzHelogmWusLreotguPbPoWSnm7Ff3+tlAN2dooHvBQCUeP+YJdjdnH9n3HsRO2d75/lfN+Pey0JaPm9wCK2tZ569VG/R+yun/hU8+0rlElp3bssG3G73mCU4+9M1UvvnULIzk9gYjUaj0WjQMjYkA4a9F0AeCmS3nd4XNuy9zJKHAtlt+m+Zce/lgi2vVeJDj/+f6dmPb+7qnH9EM51VIAqAkp2B5RxXKsTZd4R4fyC7LRrthBLvdw9ti3YKFdz+ueb56Vjqmi2F/7LVT2cVGPZeEB+bxMykexIAMNmPYJdh70X/t0Yecg+gu9D1MMS9zOuCLa8VWjt3tl7gbxEs9TNjKaW1VZD3T9ZZts53pXKcfUcKUKcnqGCpRxaV3f655vnpWOon98udoghAyU7XWwQBhr2X1p1R/Yo81J/durNVgGzYe4GS/8/TbGfdKL9jZ1tIy89TVVHi/c9adlZHVeXsQoSx2n+aws0Umm7ce8krBIdh72W22Xl66w16L1jAT4FLzomoaFwARkRFY3AQUdEYHERUNAYHERXt/wNu9YHTQAmOxwAAAABJRU5ErkJggg==\"></div>"
      ],
      "text/plain": [
       "-Graphics-"
      ]
     },
     "execution_count": 8,
     "metadata": {
      "text/html": [],
      "text/plain": []
     },
     "output_type": "execute_result"
    }
   ],
   "source": [
    "Show[ListPlot[Rover1Data[[315;;400]], PlotStyle -> Blue],\n",
    "    Plot[LSline, {x, -100, 0}, PlotStyle -> {Thickness[0.007], Red}],\n",
    "    PlotRange -> All]"
   ]
  },
  {
   "cell_type": "markdown",
   "metadata": {},
   "source": [
    "# РНК"
   ]
  },
  {
   "cell_type": "code",
   "execution_count": 9,
   "metadata": {},
   "outputs": [],
   "source": [
    "{u, s, v} = SingularValueDecomposition[Rover1LineInPark];"
   ]
  },
  {
   "cell_type": "code",
   "execution_count": 10,
   "metadata": {},
   "outputs": [
    {
     "data": {
      "text/html": [
       "<div><img alt=\"Output\" src=\"data:image/png;base64,iVBORw0KGgoAAAANSUhEUgAAAJEAAAAfCAIAAABoALjcAAAAznpUWHRSYXcgcHJvZmlsZSB0eXBlIGV4aWYAAHjabU/tbQUhDPvPFB0hJMGBcbj3OKkbdPyaA7WiqiVix/kA0vj6vNPHhGZJXqKiAUJ486adosrC4iztiQ/aZuaHn/K9/U6r/BYwtn+dfmCx1j+LRJeweQO1+R7Yi0yXn/vKr92vvdZzkckBrz9P/z+3UBTkcEZXiUCjromShKJSAjdeABsz3ir+Ig9EcAwxO6zPwQkdcXaPBKPxnl+webJ1sjGqNY5m80fPWPiYa1efj6RvW8Fax9/vK38AAAAJcEhZcwAACxMAAAsTAQCanBgAAAA8dEVYdFNvZnR3YXJlAENyZWF0ZWQgd2l0aCB0aGUgV29sZnJhbSBMYW5ndWFnZSA6IHd3dy53b2xmcmFtLmNvbVyipoUAAAAhdEVYdENyZWF0aW9uIFRpbWUAMjAyMTowMzoyOSAxNDoyNDo1N/yQxI0AAAMOSURBVGiB7Vs9luIwDJb3LJCCxwnCCWCaqWinMyU020053TamnOm23Woa7BOwJ+CliHMXbxEgsmI7MfOz+D1/FVFk65MVy44VmDEGMpLCDypolGpiOmj2C9ZisR9sqDZU9yphGxXWdBqKsj5ev2NFyJ3bW1yx8vXGeLZhSkqpngyMDSmENuMhOQCXxhhjtCgvP53QooTS7hw3kfx616HpNqRFiWS0yYfY2q3artsfpKXk3RXWHMl20AVHQGBQY5Q7rUkIDANSxbKuARmaSENolD6DbYdecIkADbXLgwi2Hhf6IbFzY1NDMQlnF1v9BPNiAqA2bPpnLTicak/GaepTuS4OC5oF3t7VOUO8vPk1Bw019Qn44/Kz2HZQv3YgfgY6nmyP5rmaMsbY+6M5bie3svW5MAXQtsSKWXOAwk2vsUDc2rAVSHPcFn7PAAD+7l7gd/vozHdP+wZg+arFacUYY+wJ1jygGTakNtPdXL6GQxbJFgDaJ4k/b0OPcbNfsBVIY4yEFV6S4tj6XZg8QE3WtPA0PM9/LS1clSQHsNKAN9toUaKEZyXFq0Irc2r6DWlRjktyMWy7rvsrjN3Qurpkt0i2Qy7QsOCYaSHGrcqouy5zk3QsOQDN+/7VFoucmm5DEQGLY+tQcTjiIB7NdoQLNC44ZpEbEGQTAD1YSNxbvM+4yDvRkKbLEFJzdPIJbMmDJbnLHGYRzXaUC1pwiwj4b2XcC8hksvYgs5hNY8a3gWwdUcx0VX07m4wbgOfZbDb9bzwygqjwC17vvDHj/jApZvgyxyw95Jilhxyz9JBjlgCa2trR45hVFTlAttqlVi0MI61SLUH3eh06bkyxWhgmllCplkZm3NlVmtVCL9Iq1YbOrshbAEKi1UIf0irV9oHXs35F1EJy1cIw0inV9r4eCMxBewqnWC30IK1SbbDmGdiFJFot9CGpUm0vKkBv+zYxSVYLQwORSqm2P5E+9q1cxtdj6Fs5WBagb3jJy/gyqBoeyE6Onl0ti/qQg3Y/UFD0Nt/M5P9YpIZ8Rpwe/gHnDSxKC/2eiwAAAABJRU5ErkJggg==\"></div>"
      ],
      "text/plain": [
       "-0.69602   0.718022\n",
       "\n",
       "0.718022   0.69602"
      ]
     },
     "execution_count": 10,
     "metadata": {
      "text/html": [],
      "text/plain": []
     },
     "output_type": "execute_result"
    }
   ],
   "source": [
    "v // MatrixForm"
   ]
  },
  {
   "cell_type": "code",
   "execution_count": 11,
   "metadata": {},
   "outputs": [
    {
     "data": {
      "text/html": [
       "<div><img alt=\"Output\" src=\"data:image/png;base64,iVBORw0KGgoAAAANSUhEUgAAAHMAAAAwCAIAAACt7dJzAAAAznpUWHRSYXcgcHJvZmlsZSB0eXBlIGV4aWYAAHjabU/bDcMgDPxnio6AH5xhHJIQqRt0/JpHU6XqSfiO8wMT2ut5hkcHUwyaLKMA0aFFC1cXOU5MplhGHDBZObr74fKrW+mbQFv+dvcNkzn/DIo8hfQXXIuuhjVIePpU531b9Vxzvg/6rLSg+Vr9/12MkUCmHpWjGYrrHFw6IXFMhhM74IWEg6Puzg1m3gbrFVJ7Ywc3u1e3AHHj6F+Qfkiqs3hkKd5KokP3mHyZbWXHR8IbFEFakzBzMPQAAAAJcEhZcwAACxMAAAsTAQCanBgAAAA8dEVYdFNvZnR3YXJlAENyZWF0ZWQgd2l0aCB0aGUgV29sZnJhbSBMYW5ndWFnZSA6IHd3dy53b2xmcmFtLmNvbVyipoUAAAAhdEVYdENyZWF0aW9uIFRpbWUAMjAyMTowMzoyOSAxNDoyNDo1N/yQxI0AAAPiSURBVHic7Zu/T/JAGMevb95ENtzkDwDSvGFwNGVxFCYmVp3KaJc3cTBxcXuXMhlYiJMJE4vlL8A4MhBNaBPjBCNO1unegcp79/Su9sddeYP3meyVPv3ytX3Ofr1qGGOkkMCPbQvYWWI4O+5oNJ3xeofXrZOboc/Xu17CmsRwxMGpCMRKqMwDJ8MxkWG7mx9c20Cm82+3axvB/jQ1M9aJPsWnTihZFgxnr66ueJ8OqQIDDI++hPlNBX99QpdrGwgJtvbm5iY8CLvBaDRqtVqc63v8x0L27wb3+vfmM6Ndva8nuetAzaAfVIZtt8c/UUK8+QzVqmWExh2tMmzbJprNRXaE4+Pj5XIJBqGz0+n08PCQra973Tcvz8uRJ3mwrtHt+jqpWadfehuq2eitf+OXT5VQA8/IuKM1kYMn51WhZRFCuq4/Pj6CQcrZ5XJZKpXYR3vd0+gLdo1h3wY+NVrmw5Mb+eGImo2WwAurXK2hfvP6l4t7DeIKFozv+9Q22RoGg8HLywuzlRBTAAnoh8QmmIMcE4UKcGp+7hM8g32WA2dlCUvB8/PzYDAgRyhnLy4u2McxpmrHpH9jhKH0CDEcmvz4NUXaCoRRpQVOaMC9eM4qYmBZFrkJ+6zAvvPdKBaL5CblbKFQyFfMTvHx8UFuUs4eHBzkK2anAHc85ezb21u+YnYZytnVarUtHbuHShFloZyVhXJWFqKdzTdgZiflTA0xhfFifnI8ZlJEPjacnZ1lewzZQsCMN2cLnlqZGtIJI2P+zSHcRAO4J9RZyQFzBJSHYQ2phLHjJX5UBNwT2Q1kB8wsYFLO1JBKGBnJl88n+PKpommaNmrhyRcZ9RrxM5i8gJkFOylnakgkjI7kvW5dayIHY+ygZtwZJOJ6ToxjIkTddvk12s1dytSQVBhIOKkjuKmyzD4rP2COcWamhmTCoHmk0fz/Kkt1No+AmYCTlDM1xBfG8o4I9LnfQrKz3xiJfxsoSJSzslDOykI5KwvlrCyUs7JQzsqCcpa7qEuRHMrZvb29rPXyX1odE/nCwGoNytnX19dsxcedilULIs32sCJ4mWYG8hAGVmtQzu7v72eqPR71jSDS9O6HD6g/+k+szUUYWK0hcvXRNpLvWOQjLKobFItFuLw2Ofkm3wmQKmy1WkWtmDs6OgqvCo9PPkurU5CDsOl0enJyQg2BKCzixZoYbC/53rYwsOAbY/wTeF8oFHzfT9twGz13Xq9oFkIIGbY72byB4M1nqQqKQq4w3/d1XYejwOnFYsF8u0kRwd3d3fv7OxiET7elUolhvyISXdfDd7mG1bviclCJjCz+AsiVJcmuCd0XAAAAAElFTkSuQmCC\"></div>"
      ],
      "text/plain": [
       "716.73   0.\n",
       "\n",
       "0.       300.78\n",
       "\n",
       "0.       0."
      ]
     },
     "execution_count": 11,
     "metadata": {
      "text/html": [],
      "text/plain": []
     },
     "output_type": "execute_result"
    }
   ],
   "source": [
    "s[[1;;3]] // MatrixForm"
   ]
  },
  {
   "cell_type": "code",
   "execution_count": 12,
   "metadata": {},
   "outputs": [
    {
     "data": {
      "text/html": [
       "<div><pre style=\"&#102;&#111;&#110;&#116;&#45;&#102;&#97;&#109;&#105;&#108;&#121;&#58;&#32;&#34;&#67;&#111;&#117;&#114;&#105;&#101;&#114;&#32;&#78;&#101;&#119;&#34;&#44;&#67;&#111;&#117;&#114;&#105;&#101;&#114;&#44;&#109;&#111;&#110;&#111;&#115;&#112;&#97;&#99;&#101;&#59;\">&#45;&#49;&#46;&#48;&#51;&#49;&#54;&#49;</pre></div>"
      ],
      "text/plain": [
       "-1.03161"
      ]
     },
     "execution_count": 12,
     "metadata": {
      "text/html": [],
      "text/plain": []
     },
     "output_type": "execute_result"
    }
   ],
   "source": [
    "a1 = - v[[2]][[1]] / v[[2]][[2]]"
   ]
  },
  {
   "cell_type": "code",
   "execution_count": 13,
   "metadata": {},
   "outputs": [
    {
     "data": {
      "text/html": [
       "<div><pre style=\"&#102;&#111;&#110;&#116;&#45;&#102;&#97;&#109;&#105;&#108;&#121;&#58;&#32;&#34;&#67;&#111;&#117;&#114;&#105;&#101;&#114;&#32;&#78;&#101;&#119;&#34;&#44;&#67;&#111;&#117;&#114;&#105;&#101;&#114;&#44;&#109;&#111;&#110;&#111;&#115;&#112;&#97;&#99;&#101;&#59;\">&#45;&#49;&#49;&#48;&#46;&#57;&#57;</pre></div>"
      ],
      "text/plain": [
       "-110.99"
      ]
     },
     "execution_count": 13,
     "metadata": {
      "text/html": [],
      "text/plain": []
     },
     "output_type": "execute_result"
    }
   ],
   "source": [
    "a2 = - Mean[Transpose[Rover1LineInPark][[1]]*a1 + Transpose[Rover1LineInPark][[2]]]"
   ]
  },
  {
   "cell_type": "code",
   "execution_count": 14,
   "metadata": {},
   "outputs": [
    {
     "data": {
      "text/html": [
       "<div><img alt=\"Output\" src=\"data:image/png;base64,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\"></div>"
      ],
      "text/plain": [
       "-Graphics-"
      ]
     },
     "execution_count": 14,
     "metadata": {
      "text/html": [],
      "text/plain": []
     },
     "output_type": "execute_result"
    }
   ],
   "source": [
    "Show[ListPlot[Rover1Data[[315;;400]], PlotStyle -> Blue],\n",
    "    Plot[- a2 - x*a1, {x, -100, 0}, PlotStyle -> {Thickness[0.007], Green}],\n",
    "    PlotRange -> All]"
   ]
  },
  {
   "cell_type": "markdown",
   "metadata": {},
   "source": [
    "# МНК и РНК"
   ]
  },
  {
   "cell_type": "code",
   "execution_count": 15,
   "metadata": {},
   "outputs": [
    {
     "data": {
      "text/html": [
       "<div><img alt=\"Output\" src=\"data:image/png;base64,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\"></div>"
      ],
      "text/plain": [
       "Legended[Legended[-Graphics-, Placed[LineLegend[{Directive[Opacity[1.], \n",
       " \n",
       ">        AbsoluteThickness[1.6], Thickness[0.005], RGBColor[1, 0, 0]]}, \n",
       " \n",
       ">      {МНК, RGBColor[1, 0, 0]}, LegendMarkers -> None, LabelStyle -> {}, \n",
       " \n",
       ">      LegendLayout -> Column], After, Identity]], \n",
       " \n",
       ">   Placed[LineLegend[{Directive[Opacity[1.], AbsoluteThickness[1.6], Thickness[0.005], \n",
       " \n",
       ">       RGBColor[0, 1, 0]]}, {РНК, RGBColor[0, 1, 0]}, LegendMarkers -> None, \n",
       " \n",
       ">     LabelStyle -> {}, LegendLayout -> Column], After, Identity]]"
      ]
     },
     "execution_count": 15,
     "metadata": {
      "text/html": [],
      "text/plain": []
     },
     "output_type": "execute_result"
    }
   ],
   "source": [
    "Show[ListPlot[Rover1Data[[315;;400]], PlotStyle -> Blue],\n",
    "    Plot[LSline, {x, -100, -10}, PlotStyle -> {Thickness[0.005], Red}, PlotLegends -> {\"МНК\", Red}],\n",
    "    Plot[- a2 - x*a1, {x, -100, -10}, PlotStyle -> {Thickness[0.005], Green}, PlotLegends -> {\"РНК\", Green}],\n",
    "    PlotRange -> {{-100, 10}, {0, 100}}, ImageSize -> 800]"
   ]
  },
  {
   "cell_type": "code",
   "execution_count": 16,
   "metadata": {},
   "outputs": [
    {
     "data": {
      "text/html": [
       "<div><pre style=\"&#102;&#111;&#110;&#116;&#45;&#102;&#97;&#109;&#105;&#108;&#121;&#58;&#32;&#34;&#67;&#111;&#117;&#114;&#105;&#101;&#114;&#32;&#78;&#101;&#119;&#34;&#44;&#67;&#111;&#117;&#114;&#105;&#101;&#114;&#44;&#109;&#111;&#110;&#111;&#115;&#112;&#97;&#99;&#101;&#59;\">&#48;&#46;&#48;&#51;&#54;&#54;&#57;&#57;&#54;</pre></div>"
      ],
      "text/plain": [
       "0.0366996"
      ]
     },
     "execution_count": 16,
     "metadata": {
      "text/html": [],
      "text/plain": []
     },
     "output_type": "execute_result"
    }
   ],
   "source": [
    "deltaAngle = - a1 - LSline[[2]][[1]]"
   ]
  },
  {
   "cell_type": "code",
   "execution_count": 17,
   "metadata": {},
   "outputs": [
    {
     "data": {
      "text/html": [
       "<div><pre style=\"&#102;&#111;&#110;&#116;&#45;&#102;&#97;&#109;&#105;&#108;&#121;&#58;&#32;&#34;&#67;&#111;&#117;&#114;&#105;&#101;&#114;&#32;&#78;&#101;&#119;&#34;&#44;&#67;&#111;&#117;&#114;&#105;&#101;&#114;&#44;&#109;&#111;&#110;&#111;&#115;&#112;&#97;&#99;&#101;&#59;\">&#123;&#50;&#44;&#32;&#54;&#44;&#32;&#57;&#46;&#56;&#51;&#57;&#57;&#56;&#125;</pre></div>"
      ],
      "text/plain": [
       "{2, 6, 9.83998}"
      ]
     },
     "execution_count": 17,
     "metadata": {
      "text/html": [],
      "text/plain": []
     },
     "output_type": "execute_result"
    }
   ],
   "source": [
    "deltaAngleInForm = {Floor[deltaAngle*180/Pi],\n",
    "                Floor[Mod[deltaAngle*180/Pi, 1]*60],\n",
    "                Mod[Mod[deltaAngle*180/Pi, 1]*60, 1]*60}"
   ]
  },
  {
   "cell_type": "markdown",
   "metadata": {},
   "source": [
    "# std МНК"
   ]
  },
  {
   "cell_type": "code",
   "execution_count": 18,
   "metadata": {},
   "outputs": [
    {
     "data": {
      "text/html": [
       "<div><pre style=\"&#102;&#111;&#110;&#116;&#45;&#102;&#97;&#109;&#105;&#108;&#121;&#58;&#32;&#34;&#67;&#111;&#117;&#114;&#105;&#101;&#114;&#32;&#78;&#101;&#119;&#34;&#44;&#67;&#111;&#117;&#114;&#105;&#101;&#114;&#44;&#109;&#111;&#110;&#111;&#115;&#112;&#97;&#99;&#101;&#59;\">&#123;&#125;</pre></div>"
      ],
      "text/plain": [
       "{}"
      ]
     },
     "execution_count": 18,
     "metadata": {
      "text/html": [],
      "text/plain": []
     },
     "output_type": "execute_result"
    }
   ],
   "source": [
    "inDistMHK = {}"
   ]
  },
  {
   "cell_type": "code",
   "execution_count": 19,
   "metadata": {},
   "outputs": [],
   "source": [
    "For[i = 1, i <= Dimensions[Rover1LineInPark][[1]], i++, \n",
    "            AppendTo[inDistMHK, {EuclideanDistance[Rover1LineInPark[[i]], \n",
    "            {Rover1LineInPark[[i]][[1]], LSline[[1]] + Rover1LineInPark[[i]][[1]]*LSline[[2]][[1]]}]}]]"
   ]
  },
  {
   "cell_type": "code",
   "execution_count": 20,
   "metadata": {},
   "outputs": [
    {
     "data": {
      "text/html": [
       "<div><pre style=\"&#102;&#111;&#110;&#116;&#45;&#102;&#97;&#109;&#105;&#108;&#121;&#58;&#32;&#34;&#67;&#111;&#117;&#114;&#105;&#101;&#114;&#32;&#78;&#101;&#119;&#34;&#44;&#67;&#111;&#117;&#114;&#105;&#101;&#114;&#44;&#109;&#111;&#110;&#111;&#115;&#112;&#97;&#99;&#101;&#59;\">&#49;&#46;&#53;&#57;&#50;&#52;&#50;</pre></div>"
      ],
      "text/plain": [
       "1.59242"
      ]
     },
     "execution_count": 20,
     "metadata": {
      "text/html": [],
      "text/plain": []
     },
     "output_type": "execute_result"
    }
   ],
   "source": [
    "Sqrt[Max[inDistMHK]]"
   ]
  },
  {
   "cell_type": "markdown",
   "metadata": {},
   "source": [
    "# std РНК"
   ]
  },
  {
   "cell_type": "code",
   "execution_count": 21,
   "metadata": {},
   "outputs": [
    {
     "data": {
      "text/html": [
       "<div><pre style=\"&#102;&#111;&#110;&#116;&#45;&#102;&#97;&#109;&#105;&#108;&#121;&#58;&#32;&#34;&#67;&#111;&#117;&#114;&#105;&#101;&#114;&#32;&#78;&#101;&#119;&#34;&#44;&#67;&#111;&#117;&#114;&#105;&#101;&#114;&#44;&#109;&#111;&#110;&#111;&#115;&#112;&#97;&#99;&#101;&#59;\">&#123;&#125;</pre></div>"
      ],
      "text/plain": [
       "{}"
      ]
     },
     "execution_count": 21,
     "metadata": {
      "text/html": [],
      "text/plain": []
     },
     "output_type": "execute_result"
    }
   ],
   "source": [
    "inDistPHK = {}"
   ]
  },
  {
   "cell_type": "code",
   "execution_count": 22,
   "metadata": {},
   "outputs": [],
   "source": [
    "For[i = 1, i <= Dimensions[Rover1LineInPark][[1]], i++, \n",
    "            AppendTo[inDistPHK, {EuclideanDistance[Rover1LineInPark[[i]], \n",
    "            {Rover1LineInPark[[i]][[1]], - a2 - Rover1LineInPark[[i]][[1]]*a1}]}]]"
   ]
  },
  {
   "cell_type": "code",
   "execution_count": 23,
   "metadata": {},
   "outputs": [
    {
     "data": {
      "text/html": [
       "<div><pre style=\"&#102;&#111;&#110;&#116;&#45;&#102;&#97;&#109;&#105;&#108;&#121;&#58;&#32;&#34;&#67;&#111;&#117;&#114;&#105;&#101;&#114;&#32;&#78;&#101;&#119;&#34;&#44;&#67;&#111;&#117;&#114;&#105;&#101;&#114;&#44;&#109;&#111;&#110;&#111;&#115;&#112;&#97;&#99;&#101;&#59;\">&#49;&#46;&#54;&#57;&#51;&#50;&#52;</pre></div>"
      ],
      "text/plain": [
       "1.69324"
      ]
     },
     "execution_count": 23,
     "metadata": {
      "text/html": [],
      "text/plain": []
     },
     "output_type": "execute_result"
    }
   ],
   "source": [
    "Sqrt[Max[inDistPHK]]"
   ]
  },
  {
   "cell_type": "code",
   "execution_count": null,
   "metadata": {},
   "outputs": [],
   "source": []
  },
  {
   "cell_type": "code",
   "execution_count": null,
   "metadata": {},
   "outputs": [],
   "source": []
  },
  {
   "cell_type": "code",
   "execution_count": 24,
   "metadata": {},
   "outputs": [],
   "source": [
    "BaseData = Import[\"BS-red2.txt\", \"Data\"];"
   ]
  },
  {
   "cell_type": "code",
   "execution_count": 25,
   "metadata": {},
   "outputs": [
    {
     "data": {
      "text/html": [
       "<div><pre style=\"&#102;&#111;&#110;&#116;&#45;&#102;&#97;&#109;&#105;&#108;&#121;&#58;&#32;&#34;&#67;&#111;&#117;&#114;&#105;&#101;&#114;&#32;&#78;&#101;&#119;&#34;&#44;&#67;&#111;&#117;&#114;&#105;&#101;&#114;&#44;&#109;&#111;&#110;&#111;&#115;&#112;&#97;&#99;&#101;&#59;\">&#123;&#49;&#50;&#53;&#54;&#44;&#32;&#50;&#125;</pre></div>"
      ],
      "text/plain": [
       "{1256, 2}"
      ]
     },
     "execution_count": 25,
     "metadata": {
      "text/html": [],
      "text/plain": []
     },
     "output_type": "execute_result"
    }
   ],
   "source": [
    "Dimensions[BaseData]"
   ]
  },
  {
   "cell_type": "code",
   "execution_count": 26,
   "metadata": {},
   "outputs": [
    {
     "data": {
      "text/html": [
       "<div><img alt=\"Output\" src=\"data:image/png;base64,iVBORw0KGgoAAAANSUhEUgAAAIEAAABSCAIAAAD8aCCGAAAAzXpUWHRSYXcgcHJvZmlsZSB0eXBlIGV4aWYAAHjabU9RDkMhCPv3FDuCAhY9jm/PJbvBjr/6NFtc1kRaKqCE/no+wm1AUgyWvaACkbBqVRpFiROTU6xXnNZi5psfsiy/0crfC/TlH7vvmCzlZ1Bcg3S8QK22GtYglemnNvNj1UsrZR+kcYOVz9f/5+qCjOTGaBLdUalLoCSBG2bHA3eAhQmnRLuTO9zZBh8V2kbjgHTfq3uA0jjHCjpO0kZWRtHK1qR26RGzFjnW7bVIeAMYW1qX1oKAwAAAAAlwSFlzAAALEwAACxMBAJqcGAAAADx0RVh0U29mdHdhcmUAQ3JlYXRlZCB3aXRoIHRoZSBXb2xmcmFtIExhbmd1YWdlIDogd3d3LndvbGZyYW0uY29tXKKmhQAAACF0RVh0Q3JlYXRpb24gVGltZQAyMDIxOjAzOjI5IDE0OjI0OjU4bC/ZHAAABCJJREFUeJztnaFT40AUxnfPgKukf0C5yTAIdGsqoWeqsEW1kpqbQdwMpjOIM61iDoeCOUPNpbhgeuBAdE7QCFAgiyqoPZG22d1s0iSEPmb6/VTz+mb3Nd++TdtvJuFCCAZI+UJdAIirgdspcc55o5cqs9fgE/QBvGxzcqnjJp49cuQgfmFSqrHaOZnzgpHE0aDX4DV2OmwXU2W6nVKF2UIIIYTNKv6ZZazXWP+9WS8quby1MfSS+/uFZLMrhWgjm5NmhQm7ftLquGHVmjITBOchAhweHgaDQgzbRVa3Te9EZ9p19aDYHsqv5WT53dSzG0cOHXMy32xmc7WmzARBn+Pj42Adeh90u91qtZpkycXgpOv1pNtpnUxjvUZl0D71lvoE935Q3P36p6RvRQkxjGymsN8XP/6tc855tzptO2O1xsz4QZ9yufz8/KzVoWtwd3e3tbWV6DPPYefXsD2ocM45r7HduhfsNSrMDlTI2N9mi516a3CzWUujQtjIBtxOiXs7h80qE82N1RozEwR9LMu6ubnRC5Gb4unpydgss85NsxcZ3jFt7t7mITWvsivEnT1k5Pll2nUWGH+WYMyMH1S5uLgYj8dyROmDy8vL7e3tGCtoSq+R5OuK26k1Wfv7Divs9wMftL9fKHzbZc2f/kZQ3FhPUAtjjIWNHFrt4N5bqO79gGnTzaqNyIwf9LEs6/z8XAnJghwcHJgWjF1XR5lp6606SWpjpr82TQtZXeDSOpYu1ObZ56G3TqBapWumcXO1pswEQQ3tPMfRAGRMs9mUD5W9KHjJBh9BLpeTDxUNVldXF1vMkvL29iYfKhqsra0ttpglRdtvFA1eXl4WWwxgTNNgNBpR1bHM4L9reqABPdCAHng48HDg4TD1/6K9vb3wH9jwcDLwcDy087yQ6wE8nEg+XgN4OHOJ6JFg58LDeb+HIzLei+DhJPdwDEToMwUeTsYejnae4+9FIDMovheBSKABPdCAHmhADzSgBxrQAw3ogQb0wMOBhwMPh8HDgYcDD4fBw4GHIwEPJyXwcODhRAIPB4QDD+fTAQ3ogQb0QAN6oAE90IAeaEAPNKAHHg48HHg4DB4OPBx4OAweDjwcCXg4KYGHAw8nEng4IBx4OJ8OaEAPNKAHGtADDeiBBvRAA3oUDfL5PFUdy4yiwcrKSkgaPJwsPRztfsqKBo+PjyGVwsPJ0sPR76cs/2jW7keuAg8nMw8n6r7vH3XPcXg4KlF7US6Xe319TfSB5wMPR2U0Gmn33lf2IsdxHMeJ6Fx4OO/3cBzHub29lSNKH5TL5aurqxgraAo8nOQezsPDg/7kLU2lo6Mj7alF8HBCMtN4OOPx+Pr6WgvqGkQ+ngu8l7Ozs8ASD3g4+Xzesiy9f0BGWJYV/PLJBZ6fTA3+s6PnP7kriLhvX6qUAAAAAElFTkSuQmCC\"></div>"
      ],
      "text/plain": [
       "1.19461   4.89888\n",
       "\n",
       "1.19461   4.89888\n",
       "\n",
       "1.19461   4.89888\n",
       "\n",
       "1.19461   4.89888\n",
       "\n",
       "1.19461   4.89888"
      ]
     },
     "execution_count": 26,
     "metadata": {
      "text/html": [],
      "text/plain": []
     },
     "output_type": "execute_result"
    }
   ],
   "source": [
    "BaseData[[36;;906]][[1;;5]] // MatrixForm"
   ]
  },
  {
   "cell_type": "code",
   "execution_count": 27,
   "metadata": {},
   "outputs": [
    {
     "data": {
      "text/html": [
       "<div><img alt=\"Output\" src=\"data:image/png;base64,iVBORw0KGgoAAAANSUhEUgAAAyAAAAHsCAIAAAClp17ZAAAAz3pUWHRSYXcgcHJvZmlsZSB0eXBlIGV4aWYAAHjadU9ZbgUhDPvnFD1CNhw4DjOPJ/UGPX6TgaqiUi0RG2dTyvz6fJePhDAVq97QAQpYty4jRKOFxUz9iQ+ESLd7+GXeS/IIrr8JzMV8nb5jD2x/BuWKhOaGXGe7YQ9SWT6P9b92vYzWzkFKB+znLP7nry6oYLeIJuSOHrqVkEGoQtXxxg1EIeMlZHfwhHu0wbNCRzYmZPpZPQs0jFeeoPlYR7BGFO3RymqPzli1ybWzzyHlG5lZWvXWcuF2AAAACXBIWXMAAAsTAAALEwEAmpwYAAAAPHRFWHRTb2Z0d2FyZQBDcmVhdGVkIHdpdGggdGhlIFdvbGZyYW0gTGFuZ3VhZ2UgOiB3d3cud29sZnJhbS5jb21coqaFAAAAIXRFWHRDcmVhdGlvbiBUaW1lADIwMjE6MDM6MjkgMTQ6MjQ6NThsL9kcAAAP+klEQVR4nO3dT05bWd7H4R+0BzXsoS1YhLukEmsgg4hRL8CDPmITRLCIRqcGXkEPoho0a0CvRHsRIHvas1apu/wOIISkyJ+6+RJi53lGto+PfcKxoo/uvZid9Xpdf1xrrfc+YCIAwNbbHTyztdZaCy4FAGA7jAbPdAQLAOBRw49gAQDwKIEFABAmsAAAwgQWAECYwAIACBNYAABhAgsAIExgAQCECSwAgDCBBQAQJrAAAMIEFgBAmMACAAgTWAAAYQILACBMYAEAhAksAIAwgQUAECawAADCvlZg7e7W3//+ld4LAOBZ7azX6wHTWmu3N3rvn3jq7m7dv8XOTv3224C3AwDYIKPBMz+dVlX117/Ww4Bbr+uHH+o//xn8pgAA374nPkX4j3+8/8ivvz7tOwIAPLcnDqzJ5GlfHwDg2/PEgXVz8/4jrsECALbd0/8W4XpdOztVVTs7NeiCegCAzTL8Ivc/wFErAOB74otGAQDCBBYAQJjAAgAIE1gAAGECCwAgTGABAIQJLACAMIEFABAmsAAAwgQWAECYwAIACBNYAABhAgsAIExgAQCECSwAgLDhgdVaa60FlwIAsB1Gg2f23oPrAADYGk4RAgCECSwAgDCBBQAQJrAAAMIEFgBAmMACAAgTWAAAYQILACBMYAEAhAksAIAwgQUAECawAADCBBYAQJjAAgAIE1gAAGECCwAgTGABAIQJLACAMIEFABAmsAAAwoYHVmuttRZcCgDAdhgNntl7D64DAGBrOEUIABAmsAAAwgQWAECYwAIACBNYAABhAgsAIExgAQCECSwAgDCBBQAQJrAAAMIEFgBAmMACAAgTWAAAYQILACBMYAEAhAksAICwUVWtLs5evb6pqjo47rPpw+HFvJ1f3t7cOzo9ORx/9QUCAGyaUS3mr5Yve59W1WLe5ouHibVaXusqAIA/ZrRaXh9UtXZeVXVw3N85gLVaVl2/aq/rkYNbAAA8arRa3lzWy95nVbW6OJsvpm87anF1ebN/3E+mvx8CAOADRuPJ3sHkrpvGk/3r5aqmb84ITme91+NDVa21+9v9/nkAAN+90Xiyf3m1mE2nVbVaXu9PHlxvtZifLV/cXoH1/pCoAgD4gFFNZ6fLs9trsPaOTk9uL3a/Davp7OXV3YGqN0MAAHzCznq9HjCtteYIFgDAo3zRKABAmMACAAgTWAAAYQILACBMYAEAhAksAIAwgQUAECawAADCBBYAQJjAAgAIE1gAAGECCwAgTGABAIQJLACAMIEFABAmsAAAwgQWAECYwAIACBseWK211lpwKQAA22E0eGbvPbgOAICt4RQhAECYwAIACBNYAABhAgsAIExgAQCECSwAgDCBBQAQJrAAAMIEFgBAmMACAAgTWAAAYQILACBMYAEAhAksAIAwgQUAECawAADCBBYAQJjAAgAIE1gAAGECCwAgTGABAIQND6zWWmstuBQAgO0wGjyz9x5cBwDA1nCKEAAgTGABAIQJLACAMIEFABAmsAAAwgQWAECYwAIACBNYAABhAgsAIExgAQCECSwAgDCBBQAQJrAAAMIEFgBAmMACAAgTWAAAYQILACBMYAEAhAksAIAwgQUAEDY8sFprrbXgUgAAtsNo8Mzee3AdAABbwylCAIAwgQUAECawAADCBBYAQJjAAgAIE1gAAGECCwAgTGABAIQJLACAMIEFABAmsAAAwgQWAECYwAIACBNYAABhAgsAIExgAQCECSwAgDCBBQAQJrAAAMIEFgBA2PDAaq211oJLAQDYDqPBM3vvwXUAAGwNpwgBAMIEFgBAmMACAAgTWAAAYQILACBMYAEAhAksAIAwgQUAECawAADCBBYAQJjAAgAIE1gAAGECCwAgTGABAIQJLACAMIEFABA2qqrVxdmr1zdVVQfHfTZ9OLyYt/PLqto7Oj05HD/HAgEANs1uLeavli9777334zqfLx4MLubn10envffj/dc/X6yebZEAAJtktFpeH1S1dl5VdXDcHxzAWi2v9356Ma6q6Y8H51erKsewAAA+abRa3lzWy95nVbW6OJsvpg9PEu5PbptqPNl7nvUBAGyc0XiydzC5S6rxZP96uarp2wNVb+6uljc1eXdma+3+du/9aywWAGATjMaT/curxWw6rarV8vrNIauqqvFk/+aXf60OD8eLq8u9yYt3Z4oqAIBHjWo6O12e3V6DtXd0ejKtqsX8bPni5HA8nR1ftVftddXe0enMBVgAAJ9jZ71eD5jWWnMECwDgUb5oFAAgTGABAIQJLACAMIEFABAmsAAAwgQWAECYwAIACBNYAABhAgsAIExgAQCECSwAgDCBBQAQJrAAAMIEFgBAmMACAAgTWAAAYQILACBMYAEAhA0PrNZaay24FACA7TAaPLP3HlwHAMDWcIoQACBMYAEAhAksAIAwgQUAECawAADCBBYAQJjAAgAIE1gAAGECCwAgTGABAIQJLACAMIEFABAmsAAAwgQWAECYwAIACBNYAABhAgsAIExgAQCECSwAgDCBBQAQNjywWmutteBSAAC2w2jwzN57cB0AAFvDKUIAgDCBBQAQJrAAAMIEFgBAmMACAAgTWAAAYQILACBMYAEAhAksAIAwgQUAECawAADCBBYAQJjAAgAIE1gAAGECCwAgTGABAIQJLACAMIEFABAmsAAAwgQWAEDY8MBqrbXWgksBANgOo8Eze+/BdQAAbA2nCAEAwgQWAECYwAIACBNYAABhAgsAIExgAQCECSwAgDCBBQAQJrAAAMIEFgBAmMACAAgTWAAAYQILACBMYAEAhAksAIAwgQUAECawAADCBBYAQJjAAgAIE1gAAGHDA6u11loLLgUAYDuMBs/svQfXAQCwNZwiBAAIE1gAAGECCwAgTGABAIQJLACAMIEFABAmsAAAwgQWAECYwAIACBNYAABhAgsAIExgAQCECSwAgDCBBQAQJrAAAMIEFgBA2KiqFvN2fnl7d+/o9ORw/Hb4I0MAADxqVLVaXn8onj4yBADA40ZVq2XV9av2uqoOjvts+mD0I0MAADxuVIury5v9434yrVpdnM0X07cd9ZEhAAA+YFTTWe93d8aT/evlqqZvzgh+ZKiqtXZ/u98/DwDguzeqxfxs+eL2MqvV8np/8s4l7h8cElUAAB8wquns5dXd0ai9o9OTab0Nq0eGAAD4hJ31ej1gWmvNESwAgEf5olEAgDCBBQAQJrAAAMIEFgBAmMACAAgTWAAAYQILACBMYAEAhAksAIAwgQUAECawAADCBBYAQJjAAgAIE1gAAGECCwAgTGABAIQJLACAMIEFABA2PLBaa6214FIAALbDaPDM3ntwHQAAW8MpQgCAMIEFABAmsAAAwgQWAECYwAIACBNYAABhAgsAIExgAQCECSwAgDCBBQAQJrAAAMIEFgBAmMACAAgTWAAAYQILACBMYAEAhAksAIAwgQUAECawAADCBBYAQNjwwGqttdaCSwEA2A6jwTN778F1AABsDacIAQDCBBYAQJjAAgAIE1gAAGECCwAgTGABAIQJLACAMIEFABAmsAAAwgQWAECYwAIACBNYAABhAgsAIExgAQCECSwAgDCBBQAQJrAAAMIEFgBAmMACAAgTWAAAYQILACBseGC11lprwaUAAGyH0eCZvffgOgAAtoZThAAAYQILACBMYAEAhAksAIAwgQUAECawAADCBBYAQJjAAgAIE1gAAGECCwAgTGABAIQJLACAMIEFABAmsAAAwgQWAECYwAIACBNYAABhAgsAIExgAQCECSwAgLDhgdVaa60FlwIAsB1Gg2f23oPrAADYGk4RAgCECSwAgDCBBQAQJrAAAMIEFgBAmMACAAgTWAAAYQILACBMYAEAhAksAIAwgQUAECawAADCBBYAQJjAAgAIE1gAAGECCwAgbFRVi3k7v7y9u3d0enI4fjv8Zuj9xwEA+JBR1Wp5/YF+WszPr49O++F4MW8/X/xFYgEAfIbdqtWy6v9etdZamy8ejq2W13s//WVcVdMfD26Wq2daIgDAZhnV4uryZv+4n0yrVhdn88V0Nn07vD+5PWg1nuw90wIBADbNqKaz3u/ujCf718tVTd+eCXxzd7W8qcm7M1tr97f7/UsAAHz3RrWYny1f3F5etVpevzlkVVU1nuzf/PKv1eHheHF1uTd58e5MUQUA8KhRTWcvr+6ORu0dnZ5Mq+6bazo7vmqv2uuqvaPTmSvcAQA+x856vR4wrbXmCBYAwKN80SgAQJjAAgAIE1gAAGECCwAgTGABAIQJLACAMIEFABAmsAAAwgQWAECYwAIACBNYAABhAgsAIExgAQCECSwAgDCBBQAQJrAAAH5nd7f+/Ofhs4MrAQDYeLu7tbNT63X9+9+1O7CUBBYAwBs//FDr9du763X96U8DXmZ4YLXWWmuDpwMAfHN+/fX9Rx721mcbDV5A733wXACAb9Hubv3vf4GX+fKXAADYEv/97/uP/PbbgJcRWAAAD6zXtbNTVXeXug8y/BQhAMB2GnTU6iFHsAAAwgQWAECYwAIACBNYAABhAgsAIExgAQCECSwAgDCBBQAQJrAAAMIEFgBAmMACAAgTWAAAYQILACBMYAEAhAks2HKttedeAsPZPthQXymw/B+x0WwfwAD+89xoX7h97wTWxn0Unm7BXvnreKI1b+IP2fZ9hVfeuAU/qU38aWzcB+PpbNwPeUNf+UsMP4LVWvs2/0kAAM9rZ71e17dafwAAm6L3fn/7LrD+qNbaw1cBAOCe3yIEAAgTWAAAYQILACBMYAEAhAms781i3uaLTw+tLs5uv4ijnV2sHj5pdXF2/8jbJ73zkh95C76Q7dtotm+j2b6N9gzbN4otnm/fYt7OL6sOfvzU0Ori59f7x/1kWncfmT6b3j3t1eubvaM3t5cve3/3OR95C76Q7dtotm+j2b6N9kzb5wjW92N1sfyx99Ojvc8a2puM729fL1e3zzr7ZXJ6fHA3Z3l9UFe3EX9ex7Ppx9+CL2T7Nprt22i2b6M92/Y5gvX9GB8ejqtWnzM0PvzbT2ev2uuqqoOD20/VbbTPxov57XNWy5vLetn7rKpWF2fzxXQ2/chb8IVs30azfRvN9m20Z9s+gcWjxocn/bCqqlYXZz9XrS5+uayby3ZZVVWXZ3X6t8newWR69+zJ/vVyVdPxh16Or8v2bTTbt9Fs30ZLbp/A4jGLebv68fbE8j9f10+n4/H4zYduMT9bvjg5HNdi//JqMZtOq2q1vN6f+A/im2H7Nprt22i2b6NFt09gfc/uPy+/M50dX939gcqD4/7YM6qms9PlWWvnVbV3dHoyfdKl8nu2b6PZvo1m+zbaV9o+f4sQACDMbxECAIQJLACAMIEFABAmsAAAwgQWAECYwAIACBNYAABhwwPr9i8dBpcCALAdhn+Tuy8aBQB4lFOEAABhAgsAIExgAQCE/T/hq4DO9QXaNwAAAABJRU5ErkJggg==\"></div>"
      ],
      "text/plain": [
       "-Graphics-"
      ]
     },
     "execution_count": 27,
     "metadata": {
      "text/html": [],
      "text/plain": []
     },
     "output_type": "execute_result"
    }
   ],
   "source": [
    "Show[ListPlot[BaseData[[36;;906]], PlotStyle -> Red], ImageSize -> 800]"
   ]
  },
  {
   "cell_type": "code",
   "execution_count": null,
   "metadata": {},
   "outputs": [],
   "source": []
  }
 ],
 "metadata": {
  "kernelspec": {
   "display_name": "Wolfram Language 12.2",
   "language": "Wolfram Language",
   "name": "wolframlanguage12.2"
  },
  "language_info": {
   "codemirror_mode": "mathematica",
   "file_extension": ".m",
   "mimetype": "application/vnd.wolfram.m",
   "name": "Wolfram Language",
   "pygments_lexer": "mathematica",
   "version": "12.0"
  }
 },
 "nbformat": 4,
 "nbformat_minor": 4
}
