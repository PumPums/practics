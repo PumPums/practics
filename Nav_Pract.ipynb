{
 "cells": [
  {
   "cell_type": "code",
   "execution_count": 1,
   "metadata": {},
   "outputs": [],
   "source": [
    "Rover1Data = Import[\"RV1-red2.txt\", \"Data\"];"
   ]
  },
  {
   "cell_type": "code",
   "execution_count": 2,
   "metadata": {},
   "outputs": [
    {
     "data": {
      "text/html": [
       "<div><pre style=\"&#102;&#111;&#110;&#116;&#45;&#102;&#97;&#109;&#105;&#108;&#121;&#58;&#32;&#34;&#67;&#111;&#117;&#114;&#105;&#101;&#114;&#32;&#78;&#101;&#119;&#34;&#44;&#67;&#111;&#117;&#114;&#105;&#101;&#114;&#44;&#109;&#111;&#110;&#111;&#115;&#112;&#97;&#99;&#101;&#59;\">&#123;&#49;&#50;&#53;&#54;&#44;&#32;&#50;&#125;</pre></div>"
      ],
      "text/plain": [
       "{1256, 2}"
      ]
     },
     "execution_count": 2,
     "metadata": {
      "text/html": [],
      "text/plain": []
     },
     "output_type": "execute_result"
    }
   ],
   "source": [
    "Dimensions[Rover1Data]"
   ]
  },
  {
   "cell_type": "code",
   "execution_count": 3,
   "metadata": {},
   "outputs": [
    {
     "data": {
      "text/html": [
       "<div><img alt=\"Output\" src=\"data:image/png;base64,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\"></div>"
      ],
      "text/plain": [
       "2.26348     -4.34219\n",
       "\n",
       "1.19462     -4.34219\n",
       "\n",
       "1.19462     -4.34219\n",
       "\n",
       "0.188623    -2.44944\n",
       "\n",
       "-0.880243   -2.44944"
      ]
     },
     "execution_count": 3,
     "metadata": {
      "text/html": [],
      "text/plain": []
     },
     "output_type": "execute_result"
    }
   ],
   "source": [
    "Rover1Data[[1;;5]] //  MatrixForm"
   ]
  },
  {
   "cell_type": "code",
   "execution_count": 4,
   "metadata": {},
   "outputs": [
    {
     "data": {
      "text/html": [
       "<div><img alt=\"Output\" src=\"data:image/png;base64,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\"></div>"
      ],
      "text/plain": [
       "-Graphics-"
      ]
     },
     "execution_count": 4,
     "metadata": {
      "text/html": [],
      "text/plain": []
     },
     "output_type": "execute_result"
    }
   ],
   "source": [
    "Show[ListPlot[Rover1Data, PlotStyle -> Red],\n",
    "    ListPlot[Rover1Data[[320;;400]], PlotStyle -> Blue],\n",
    "    PlotRange -> All]"
   ]
  },
  {
   "cell_type": "code",
   "execution_count": 5,
   "metadata": {},
   "outputs": [],
   "source": [
    "Rover1LineInPark = Rover1Data[[320;;400]];"
   ]
  },
  {
   "cell_type": "code",
   "execution_count": 6,
   "metadata": {},
   "outputs": [
    {
     "data": {
      "text/html": [
       "<div><img alt=\"Output\" src=\"data:image/png;base64,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\"></div>"
      ],
      "text/plain": [
       "-19.7422   90.2954\n",
       "\n",
       "-20.811    90.2954\n",
       "\n",
       "-20.811    88.4026\n",
       "\n",
       "-21.817    86.6212\n",
       "\n",
       "-22.8858   86.6212"
      ]
     },
     "execution_count": 6,
     "metadata": {
      "text/html": [],
      "text/plain": []
     },
     "output_type": "execute_result"
    }
   ],
   "source": [
    "Rover1LineInPark[[1;;5]] // MatrixForm"
   ]
  },
  {
   "cell_type": "markdown",
   "metadata": {},
   "source": [
    "# МНК"
   ]
  },
  {
   "cell_type": "code",
   "execution_count": 7,
   "metadata": {},
   "outputs": [
    {
     "data": {
      "text/html": [
       "<div><img alt=\"Output\" src=\"data:image/png;base64,iVBORw0KGgoAAAANSUhEUgAAAIIAAAAPCAIAAACnT4CsAAAAznpUWHRSYXcgcHJvZmlsZSB0eXBlIGV4aWYAAHjabY9bDgMhCEX/XUWXgKAXXY4z4yTdQZdfVNLGpiRy8fBQQn897/AYxpFCylpQATJLNVVuFhRatjRSnX4h9lzceaDbeTOUvwl058fOFUu5/A7yF2S8YLEkb/BBwovHtu6H13MrZR8ktFkqn6//v4syMqIm84lJFdXiEiw0QWbKihsnYIURF1M6TTtUrQ06KqSNxmHcda/uAWLgGivIOFGaqZgXsY0mbZKlTp758OxcJLwBWTtavDkU37oAAAAJcEhZcwAACxMAAAsTAQCanBgAAAA8dEVYdFNvZnR3YXJlAENyZWF0ZWQgd2l0aCB0aGUgV29sZnJhbSBMYW5ndWFnZSA6IHd3dy53b2xmcmFtLmNvbVyipoUAAAAhdEVYdENyZWF0aW9uIFRpbWUAMjAyMTowMzozMCAyMDo1OTowNWj4gtMAAAH+SURBVFiF7ZgxesIwDIWlngV6CHMCcoCu3cxID8DYA5iRHkScgBv062LfxR2CEzl5ttOpGfImYkvyLylRAI4x0qb/1st/A2wi2tqwEm1tWIX6NoTrgZn5dFc7zzVmPlxDWryfeFBmPZUyhO7JWQdsRy0Iojaw1DkgqTFiZgvdYfUWF+qpGMWScd47Q1ZiklhKl+OO2NGk94pNeWeehvoE7L005sxrjlpCmQPApFCgojus3t8KReiQzNc7Q888x5IurxhuIvKv1zB6EXgeRi1YAgCYFGKp8U/sq4USqyDFEhnncRuGi97KqVBiiWq55qcR5Z7qrgV01caKg7sVVESEAWZJ9Q3NE6jxg7bVCpVCDTnXXtH3E3ck8XF+VUOwI4kxCnWtOXy89Udefvb9dDzevPvumJn5nd5sbh2un1/2ct7BUCGEEIjIpw9tVEyEAGBSu/NjKDB97Nv802zqhUqhOpJHnzPup1ii7Fm3MjFR90ZD6DYvP8RzeS8iIs5aJyKz0QRRmxoMm0lBtuk5+fWCQnlnjBmtCm3QtRviaKAJXDbvchXeAnptUUsLQwmjNqgUQCWpIUaLH7WhFjMhj3s0DvEkPf+ISFPokTm9GeYFKHtnpak+Cgq91AaMiqgwAEpKrTX4cfVKhUoe2ZcK4zzH7T+lFWj7Fb0KbW1YhX4BtstaVQIVWLQAAAAASUVORK5CYII=\"></div>"
      ],
      "text/plain": [
       "108.397 + 0.985918 x"
      ]
     },
     "execution_count": 7,
     "metadata": {
      "text/html": [],
      "text/plain": []
     },
     "output_type": "execute_result"
    }
   ],
   "source": [
    "LSline = Fit[Rover1LineInPark, {x, 1}, x]"
   ]
  },
  {
   "cell_type": "code",
   "execution_count": 8,
   "metadata": {},
   "outputs": [
    {
     "data": {
      "text/html": [
       "<div><img alt=\"Output\" src=\"data:image/png;base64,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\"></div>"
      ],
      "text/plain": [
       "-Graphics-"
      ]
     },
     "execution_count": 8,
     "metadata": {
      "text/html": [],
      "text/plain": []
     },
     "output_type": "execute_result"
    }
   ],
   "source": [
    "Show[ListPlot[Rover1Data[[320;;400]], PlotStyle -> Blue],\n",
    "    Plot[LSline, {x, -100, 0}, PlotStyle -> {Thickness[0.007], Red}],\n",
    "    PlotRange -> All]"
   ]
  },
  {
   "cell_type": "markdown",
   "metadata": {},
   "source": [
    "# РНК"
   ]
  },
  {
   "cell_type": "code",
   "execution_count": 9,
   "metadata": {},
   "outputs": [],
   "source": [
    "{u, s, v} = SingularValueDecomposition[Rover1LineInPark];"
   ]
  },
  {
   "cell_type": "code",
   "execution_count": 10,
   "metadata": {},
   "outputs": [
    {
     "data": {
      "text/html": [
       "<div><img alt=\"Output\" src=\"data:image/png;base64,iVBORw0KGgoAAAANSUhEUgAAAJgAAAAfCAIAAACUFZMWAAAAzHpUWHRSYXcgcHJvZmlsZSB0eXBlIGV4aWYAAHjabU/bDQMhDPtnio6QBzgwDtfjpG7Q8Rse1YmqloiN84CE9n5d4dEhTCEmyygAOWKJRaqLTBOTmcqIA+Wb490PfC2/upXuBNryj903TJb8M4hkCu0vuNa4GtYglelznfdj1UvNeR+ktCHeX/9/VxMksEWPUcgMxXUOLp2QhJLhwhPwQsYpFJ/ODWbeBusVWntjhzTbq1uAunH2FbQf1uqsHlV9o+FWTVqGDzlWdiwSPmT8WsXwCmb6AAAACXBIWXMAAAsTAAALEwEAmpwYAAAAPHRFWHRTb2Z0d2FyZQBDcmVhdGVkIHdpdGggdGhlIFdvbGZyYW0gTGFuZ3VhZ2UgOiB3d3cud29sZnJhbS5jb21coqaFAAAAIXRFWHRDcmVhdGlvbiBUaW1lADIwMjE6MDM6MzAgMjA6NTk6MDbx8dNpAAADQklEQVRoge1bPXajMBAe7VkMhV9OgE8AabZym04u7WY7l+62waXdpU2VxuIEzgn8KIC7aAtsGP0giZiNwU9fFQvNz6eRRkJDCOccPKaPX3JDlWVVHwXVfkFqLPYGwWxFRKwyqRmLX5XWfRQNQnPbXivoMDQkF61dyXRrVcOlg3Xb2+JzlmmecxEsTUvuDkYBKOOcc16m0e1PB6lIMlOm0a2tfiqqw7+QNJJyNTQIF51dRluRxq6Oi0EPoxBRah9HTZTA2sOoUBxTcIqklpbSKDbgUZKHqZ+hTvTgorWrTEUHRxSSpqgLHihxElNrVUA4s+UU3P0CL+EMIFuR4GOZUrgU9pT0dwPpn7j5WaeZ4GNZHmKT3PGzzifVfndszEfL8LToyIaSoeG46O3O1me+zQNCCPn8zc9r4zhqWGer5JK+m8UaBACl2CIEsjpBqCdeCVCcSoDx8zp08KDa7450i9yND/WM2uaBYWuID2V6SQghhLzBkjbtX5sdvNdz9GXzhkOpGHKCKxeN3Wq/IAkwzjmDxLbJKqyzVQLMEn2E2SsU0mCZF+w1A5RMQNOJUQAhIVlygmlPk/JRt7bmSZlGSELIvrbNU2/fkYvWriCBtluLtjadyrC4L8cKB7JMU+cdRfBD5zyjoGwzUpcuTVdn9ORxiFAfMXImQwNw0dmV/XKblB3HPgff5WDhQPY86bR2NVNIc17QrBJGNRMQNQLclLRmFJ1K+zeW43e4yHbxskInbJWLlrWg2imQVJCF7kceo4a07ITDzrzPkdXjsZAOriiQZZ7/uDceQwGvyPk8eJgfHv2R4xdd5a7VYyKYhXP80wfySeAD+STwgXwS+EBOFVUhvGTgQOa5dKNuVzaRSuwgLEZeG2/vBnpftU6oEjsMC1HqwbVxKVx3XNFNqhI7BAuLfz9cG+++opNeTGyYViV2ABbImRHWxvEeqZad7ZhKJXYYFgAwltq48jGHYbVaMLFK7N0sWtfGUBs3FZb7HnemVYm9n4Wmi9G3/1kbV0IF8uNes3pKldihWIyiNq4uufs+h/R4EGyfQ0IcQtnrQ3OPRyAr4FU6A8lXdHFYnHwkR44MQuUsS7j/J56ngL80fxL8A1IccXWyerupAAAAAElFTkSuQmCC\"></div>"
      ],
      "text/plain": [
       "-0.731967   0.68134\n",
       "\n",
       "0.68134     0.731967"
      ]
     },
     "execution_count": 10,
     "metadata": {
      "text/html": [],
      "text/plain": []
     },
     "output_type": "execute_result"
    }
   ],
   "source": [
    "v // MatrixForm"
   ]
  },
  {
   "cell_type": "code",
   "execution_count": 11,
   "metadata": {},
   "outputs": [
    {
     "data": {
      "text/html": [
       "<div><img alt=\"Output\" src=\"data:image/png;base64,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\"></div>"
      ],
      "text/plain": [
       "695.267   0.\n",
       "\n",
       "0.        274.661\n",
       "\n",
       "0.        0."
      ]
     },
     "execution_count": 11,
     "metadata": {
      "text/html": [],
      "text/plain": []
     },
     "output_type": "execute_result"
    }
   ],
   "source": [
    "s[[1;;3]] // MatrixForm"
   ]
  },
  {
   "cell_type": "code",
   "execution_count": 12,
   "metadata": {},
   "outputs": [
    {
     "data": {
      "text/html": [
       "<div><pre style=\"&#102;&#111;&#110;&#116;&#45;&#102;&#97;&#109;&#105;&#108;&#121;&#58;&#32;&#34;&#67;&#111;&#117;&#114;&#105;&#101;&#114;&#32;&#78;&#101;&#119;&#34;&#44;&#67;&#111;&#117;&#114;&#105;&#101;&#114;&#44;&#109;&#111;&#110;&#111;&#115;&#112;&#97;&#99;&#101;&#59;\">&#45;&#48;&#46;&#57;&#51;&#48;&#56;&#51;&#51;</pre></div>"
      ],
      "text/plain": [
       "-0.930833"
      ]
     },
     "execution_count": 12,
     "metadata": {
      "text/html": [],
      "text/plain": []
     },
     "output_type": "execute_result"
    }
   ],
   "source": [
    "a1 = - v[[2]][[1]] / v[[2]][[2]]"
   ]
  },
  {
   "cell_type": "code",
   "execution_count": 13,
   "metadata": {},
   "outputs": [
    {
     "data": {
      "text/html": [
       "<div><pre style=\"&#102;&#111;&#110;&#116;&#45;&#102;&#97;&#109;&#105;&#108;&#121;&#58;&#32;&#34;&#67;&#111;&#117;&#114;&#105;&#101;&#114;&#32;&#78;&#101;&#119;&#34;&#44;&#67;&#111;&#117;&#114;&#105;&#101;&#114;&#44;&#109;&#111;&#110;&#111;&#115;&#112;&#97;&#99;&#101;&#59;\">&#45;&#49;&#48;&#53;&#46;&#51;&#48;&#50;</pre></div>"
      ],
      "text/plain": [
       "-105.302"
      ]
     },
     "execution_count": 13,
     "metadata": {
      "text/html": [],
      "text/plain": []
     },
     "output_type": "execute_result"
    }
   ],
   "source": [
    "a2 = - Mean[Transpose[Rover1LineInPark][[1]]*a1 + Transpose[Rover1LineInPark][[2]]]"
   ]
  },
  {
   "cell_type": "code",
   "execution_count": 14,
   "metadata": {},
   "outputs": [
    {
     "data": {
      "text/html": [
       "<div><img alt=\"Output\" src=\"data:image/png;base64,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\"></div>"
      ],
      "text/plain": [
       "-Graphics-"
      ]
     },
     "execution_count": 14,
     "metadata": {
      "text/html": [],
      "text/plain": []
     },
     "output_type": "execute_result"
    }
   ],
   "source": [
    "Show[ListPlot[Rover1Data[[320;;400]], PlotStyle -> Blue],\n",
    "    Plot[- a2 - x*a1, {x, -100, 0}, PlotStyle -> {Thickness[0.007], Green}],\n",
    "    PlotRange -> All]"
   ]
  },
  {
   "cell_type": "markdown",
   "metadata": {},
   "source": [
    "# МНК и РНК"
   ]
  },
  {
   "cell_type": "code",
   "execution_count": 15,
   "metadata": {},
   "outputs": [
    {
     "data": {
      "text/html": [
       "<div><img alt=\"Output\" src=\"data:image/png;base64,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\"></div>"
      ],
      "text/plain": [
       "Legended[Legended[-Graphics-, Placed[LineLegend[{Directive[Opacity[1.], \n",
       " \n",
       ">        AbsoluteThickness[1.6], Thickness[0.005], RGBColor[1, 0, 0]]}, \n",
       " \n",
       ">      {МНК, RGBColor[1, 0, 0]}, LegendMarkers -> None, LabelStyle -> {}, \n",
       " \n",
       ">      LegendLayout -> Column], After, Identity]], \n",
       " \n",
       ">   Placed[LineLegend[{Directive[Opacity[1.], AbsoluteThickness[1.6], Thickness[0.005], \n",
       " \n",
       ">       RGBColor[0, 1, 0]]}, {РНК, RGBColor[0, 1, 0]}, LegendMarkers -> None, \n",
       " \n",
       ">     LabelStyle -> {}, LegendLayout -> Column], After, Identity]]"
      ]
     },
     "execution_count": 15,
     "metadata": {
      "text/html": [],
      "text/plain": []
     },
     "output_type": "execute_result"
    }
   ],
   "source": [
    "Show[ListPlot[Rover1Data[[320;;400]], PlotStyle -> Blue],\n",
    "    Plot[LSline, {x, -100, -10}, PlotStyle -> {Thickness[0.005], Red}, PlotLegends -> {\"МНК\", Red}],\n",
    "    Plot[- a2 - x*a1, {x, -100, -10}, PlotStyle -> {Thickness[0.005], Green}, PlotLegends -> {\"РНК\", Green}],\n",
    "    PlotRange -> {{-100, 10}, {0, 100}}, ImageSize -> 800]"
   ]
  },
  {
   "cell_type": "code",
   "execution_count": 16,
   "metadata": {},
   "outputs": [
    {
     "data": {
      "text/html": [
       "<div><pre style=\"&#102;&#111;&#110;&#116;&#45;&#102;&#97;&#109;&#105;&#108;&#121;&#58;&#32;&#34;&#67;&#111;&#117;&#114;&#105;&#101;&#114;&#32;&#78;&#101;&#119;&#34;&#44;&#67;&#111;&#117;&#114;&#105;&#101;&#114;&#44;&#109;&#111;&#110;&#111;&#115;&#112;&#97;&#99;&#101;&#59;\">&#45;&#48;&#46;&#48;&#53;&#53;&#48;&#56;&#52;&#52;</pre></div>"
      ],
      "text/plain": [
       "-0.0550844"
      ]
     },
     "execution_count": 16,
     "metadata": {
      "text/html": [],
      "text/plain": []
     },
     "output_type": "execute_result"
    }
   ],
   "source": [
    "deltaAngle = - a1 - LSline[[2]][[1]]"
   ]
  },
  {
   "cell_type": "code",
   "execution_count": 17,
   "metadata": {},
   "outputs": [
    {
     "data": {
      "text/html": [
       "<div><pre style=\"&#102;&#111;&#110;&#116;&#45;&#102;&#97;&#109;&#105;&#108;&#121;&#58;&#32;&#34;&#67;&#111;&#117;&#114;&#105;&#101;&#114;&#32;&#78;&#101;&#119;&#34;&#44;&#67;&#111;&#117;&#114;&#105;&#101;&#114;&#44;&#109;&#111;&#110;&#111;&#115;&#112;&#97;&#99;&#101;&#59;\">&#123;&#45;&#52;&#44;&#32;&#53;&#48;&#44;&#32;&#51;&#56;&#46;&#48;&#50;&#50;&#54;&#125;</pre></div>"
      ],
      "text/plain": [
       "{-4, 50, 38.0226}"
      ]
     },
     "execution_count": 17,
     "metadata": {
      "text/html": [],
      "text/plain": []
     },
     "output_type": "execute_result"
    }
   ],
   "source": [
    "deltaAngleInForm = {Floor[deltaAngle*180/Pi],\n",
    "                Floor[Mod[deltaAngle*180/Pi, 1]*60],\n",
    "                Mod[Mod[deltaAngle*180/Pi, 1]*60, 1]*60}"
   ]
  },
  {
   "cell_type": "markdown",
   "metadata": {},
   "source": [
    "# std МНК"
   ]
  },
  {
   "cell_type": "code",
   "execution_count": 18,
   "metadata": {},
   "outputs": [
    {
     "data": {
      "text/html": [
       "<div><pre style=\"&#102;&#111;&#110;&#116;&#45;&#102;&#97;&#109;&#105;&#108;&#121;&#58;&#32;&#34;&#67;&#111;&#117;&#114;&#105;&#101;&#114;&#32;&#78;&#101;&#119;&#34;&#44;&#67;&#111;&#117;&#114;&#105;&#101;&#114;&#44;&#109;&#111;&#110;&#111;&#115;&#112;&#97;&#99;&#101;&#59;\">&#123;&#125;</pre></div>"
      ],
      "text/plain": [
       "{}"
      ]
     },
     "execution_count": 18,
     "metadata": {
      "text/html": [],
      "text/plain": []
     },
     "output_type": "execute_result"
    }
   ],
   "source": [
    "inDistMHK = {}"
   ]
  },
  {
   "cell_type": "code",
   "execution_count": 19,
   "metadata": {},
   "outputs": [],
   "source": [
    "For[i = 1, i <= Dimensions[Rover1LineInPark][[1]], i++, \n",
    "            AppendTo[inDistMHK, {EuclideanDistance[Rover1LineInPark[[i]], \n",
    "            {Rover1LineInPark[[i]][[1]], LSline[[1]] + Rover1LineInPark[[i]][[1]]*LSline[[2]][[1]]}]}]]"
   ]
  },
  {
   "cell_type": "code",
   "execution_count": 20,
   "metadata": {},
   "outputs": [
    {
     "data": {
      "text/html": [
       "<div><pre style=\"&#102;&#111;&#110;&#116;&#45;&#102;&#97;&#109;&#105;&#108;&#121;&#58;&#32;&#34;&#67;&#111;&#117;&#114;&#105;&#101;&#114;&#32;&#78;&#101;&#119;&#34;&#44;&#67;&#111;&#117;&#114;&#105;&#101;&#114;&#44;&#109;&#111;&#110;&#111;&#115;&#112;&#97;&#99;&#101;&#59;\">&#49;&#46;&#53;&#53;&#52;&#52;&#54;</pre></div>"
      ],
      "text/plain": [
       "1.55446"
      ]
     },
     "execution_count": 20,
     "metadata": {
      "text/html": [],
      "text/plain": []
     },
     "output_type": "execute_result"
    }
   ],
   "source": [
    "Sqrt[Max[inDistMHK]]"
   ]
  },
  {
   "cell_type": "markdown",
   "metadata": {},
   "source": [
    "# std РНК"
   ]
  },
  {
   "cell_type": "code",
   "execution_count": 21,
   "metadata": {},
   "outputs": [
    {
     "data": {
      "text/html": [
       "<div><pre style=\"&#102;&#111;&#110;&#116;&#45;&#102;&#97;&#109;&#105;&#108;&#121;&#58;&#32;&#34;&#67;&#111;&#117;&#114;&#105;&#101;&#114;&#32;&#78;&#101;&#119;&#34;&#44;&#67;&#111;&#117;&#114;&#105;&#101;&#114;&#44;&#109;&#111;&#110;&#111;&#115;&#112;&#97;&#99;&#101;&#59;\">&#123;&#125;</pre></div>"
      ],
      "text/plain": [
       "{}"
      ]
     },
     "execution_count": 21,
     "metadata": {
      "text/html": [],
      "text/plain": []
     },
     "output_type": "execute_result"
    }
   ],
   "source": [
    "inDistPHK = {}"
   ]
  },
  {
   "cell_type": "code",
   "execution_count": 22,
   "metadata": {},
   "outputs": [],
   "source": [
    "For[i = 1, i <= Dimensions[Rover1LineInPark][[1]], i++, \n",
    "            AppendTo[inDistPHK, {EuclideanDistance[Rover1LineInPark[[i]], \n",
    "            {Rover1LineInPark[[i]][[1]], - a2 - Rover1LineInPark[[i]][[1]]*a1}]}]]"
   ]
  },
  {
   "cell_type": "code",
   "execution_count": 23,
   "metadata": {},
   "outputs": [
    {
     "data": {
      "text/html": [
       "<div><pre style=\"&#102;&#111;&#110;&#116;&#45;&#102;&#97;&#109;&#105;&#108;&#121;&#58;&#32;&#34;&#67;&#111;&#117;&#114;&#105;&#101;&#114;&#32;&#78;&#101;&#119;&#34;&#44;&#67;&#111;&#117;&#114;&#105;&#101;&#114;&#44;&#109;&#111;&#110;&#111;&#115;&#112;&#97;&#99;&#101;&#59;\">&#50;&#46;&#48;&#56;&#57;&#50;&#54;</pre></div>"
      ],
      "text/plain": [
       "2.08926"
      ]
     },
     "execution_count": 23,
     "metadata": {
      "text/html": [],
      "text/plain": []
     },
     "output_type": "execute_result"
    }
   ],
   "source": [
    "Sqrt[Max[inDistPHK]]"
   ]
  },
  {
   "cell_type": "markdown",
   "metadata": {},
   "source": [
    "# Задание 2.2/2.4"
   ]
  },
  {
   "cell_type": "code",
   "execution_count": 24,
   "metadata": {},
   "outputs": [],
   "source": [
    "Rover1Data2 = Import[\"RV1-red3.txt\", \"Data\"];"
   ]
  },
  {
   "cell_type": "code",
   "execution_count": 25,
   "metadata": {},
   "outputs": [],
   "source": [
    "Rover1DataXH = Import[\"RV1-redxh.txt\", \"Data\"];"
   ]
  },
  {
   "cell_type": "code",
   "execution_count": 26,
   "metadata": {},
   "outputs": [
    {
     "data": {
      "text/html": [
       "<div><pre style=\"&#102;&#111;&#110;&#116;&#45;&#102;&#97;&#109;&#105;&#108;&#121;&#58;&#32;&#34;&#67;&#111;&#117;&#114;&#105;&#101;&#114;&#32;&#78;&#101;&#119;&#34;&#44;&#67;&#111;&#117;&#114;&#105;&#101;&#114;&#44;&#109;&#111;&#110;&#111;&#115;&#112;&#97;&#99;&#101;&#59;\">&#123;&#49;&#50;&#53;&#54;&#44;&#32;&#51;&#125;</pre></div>"
      ],
      "text/plain": [
       "{1256, 3}"
      ]
     },
     "execution_count": 26,
     "metadata": {
      "text/html": [],
      "text/plain": []
     },
     "output_type": "execute_result"
    }
   ],
   "source": [
    "Dimensions[Rover1Data2]"
   ]
  },
  {
   "cell_type": "code",
   "execution_count": 27,
   "metadata": {},
   "outputs": [
    {
     "data": {
      "text/html": [
       "<div><pre style=\"&#102;&#111;&#110;&#116;&#45;&#102;&#97;&#109;&#105;&#108;&#121;&#58;&#32;&#34;&#67;&#111;&#117;&#114;&#105;&#101;&#114;&#32;&#78;&#101;&#119;&#34;&#44;&#67;&#111;&#117;&#114;&#105;&#101;&#114;&#44;&#109;&#111;&#110;&#111;&#115;&#112;&#97;&#99;&#101;&#59;\">&#123;&#49;&#50;&#53;&#54;&#44;&#32;&#50;&#125;</pre></div>"
      ],
      "text/plain": [
       "{1256, 2}"
      ]
     },
     "execution_count": 27,
     "metadata": {
      "text/html": [],
      "text/plain": []
     },
     "output_type": "execute_result"
    }
   ],
   "source": [
    "Dimensions[Rover1DataXH]"
   ]
  },
  {
   "cell_type": "code",
   "execution_count": 28,
   "metadata": {},
   "outputs": [
    {
     "data": {
      "text/html": [
       "<div><img alt=\"Output\" src=\"data:image/png;base64,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\"></div>"
      ],
      "text/plain": [
       "2.26348     -4.34219    207.\n",
       "\n",
       "1.19462     -4.34219    207.\n",
       "\n",
       "1.19462     -4.34219    207.\n",
       "\n",
       "0.188623    -2.44944    207.\n",
       "\n",
       "-0.880243   -2.44944    207."
      ]
     },
     "execution_count": 28,
     "metadata": {
      "text/html": [],
      "text/plain": []
     },
     "output_type": "execute_result"
    }
   ],
   "source": [
    "Rover1Data2[[1;;5]] //  MatrixForm"
   ]
  },
  {
   "cell_type": "code",
   "execution_count": 29,
   "metadata": {},
   "outputs": [
    {
     "data": {
      "text/html": [
       "<div><img alt=\"Output\" src=\"data:image/png;base64,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\"></div>"
      ],
      "text/plain": [
       "2.26348     207.\n",
       "\n",
       "1.19462     207.\n",
       "\n",
       "1.19462     207.\n",
       "\n",
       "0.188623    207.\n",
       "\n",
       "-0.880243   207."
      ]
     },
     "execution_count": 29,
     "metadata": {
      "text/html": [],
      "text/plain": []
     },
     "output_type": "execute_result"
    }
   ],
   "source": [
    "Rover1DataXH[[1;;5]] //  MatrixForm"
   ]
  },
  {
   "cell_type": "code",
   "execution_count": 30,
   "metadata": {},
   "outputs": [
    {
     "data": {
      "text/html": [
       "<div><img alt=\"Output\" src=\"data:image/png;base64,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\"></div>"
      ],
      "text/plain": [
       "-Graphics3D-"
      ]
     },
     "execution_count": 30,
     "metadata": {
      "text/html": [],
      "text/plain": []
     },
     "output_type": "execute_result"
    }
   ],
   "source": [
    "Show[ListPointPlot3D[Rover1Data2, PlotStyle -> Red, AxesLabel -> {x, y, z}],\n",
    "    ListPointPlot3D[Rover1Data2[[315;;400]], PlotStyle -> Blue, AxesLabel -> {x, y, z}],\n",
    "    PlotRange -> All, AspectRatio -> 1/GoldenRatio]"
   ]
  },
  {
   "cell_type": "code",
   "execution_count": 31,
   "metadata": {},
   "outputs": [],
   "source": [
    "Rover1LineInPark3D = Rover1Data2[[320;;400]];"
   ]
  },
  {
   "cell_type": "code",
   "execution_count": 32,
   "metadata": {},
   "outputs": [
    {
     "data": {
      "text/html": [
       "<div><img alt=\"Output\" src=\"data:image/png;base64,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\"></div>"
      ],
      "text/plain": [
       "-19.7422   90.2954    212.\n",
       "\n",
       "-20.811    90.2954    212.\n",
       "\n",
       "-20.811    88.4026    212.\n",
       "\n",
       "-21.817    86.6212    211.\n",
       "\n",
       "-22.8858   86.6212    211."
      ]
     },
     "execution_count": 32,
     "metadata": {
      "text/html": [],
      "text/plain": []
     },
     "output_type": "execute_result"
    }
   ],
   "source": [
    "Rover1LineInPark3D[[1;;5]] // MatrixForm"
   ]
  },
  {
   "cell_type": "code",
   "execution_count": 33,
   "metadata": {},
   "outputs": [
    {
     "data": {
      "text/html": [
       "<div><img alt=\"Output\" src=\"data:image/png;base64,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\"></div>"
      ],
      "text/plain": [
       "-88.904    21.6005    210.\n",
       "\n",
       "-89.9729   19.8191    210.\n",
       "\n",
       "-90.9789   19.8192    210.\n",
       "\n",
       "-92.0478   17.9264    210.\n",
       "\n",
       "-92.0478   17.9264    210.\n",
       "\n",
       "-93.1167   16.0337    210."
      ]
     },
     "execution_count": 33,
     "metadata": {
      "text/html": [],
      "text/plain": []
     },
     "output_type": "execute_result"
    }
   ],
   "source": [
    "Rover1LineInPark3D[[76;;81]] // MatrixForm"
   ]
  },
  {
   "cell_type": "code",
   "execution_count": 34,
   "metadata": {},
   "outputs": [
    {
     "data": {
      "text/html": [
       "<div><pre style=\"&#102;&#111;&#110;&#116;&#45;&#102;&#97;&#109;&#105;&#108;&#121;&#58;&#32;&#34;&#67;&#111;&#117;&#114;&#105;&#101;&#114;&#32;&#78;&#101;&#119;&#34;&#44;&#67;&#111;&#117;&#114;&#105;&#101;&#114;&#44;&#109;&#111;&#110;&#111;&#115;&#112;&#97;&#99;&#101;&#59;\">&#123;&#56;&#49;&#44;&#32;&#51;&#125;</pre></div>"
      ],
      "text/plain": [
       "{81, 3}"
      ]
     },
     "execution_count": 34,
     "metadata": {
      "text/html": [],
      "text/plain": []
     },
     "output_type": "execute_result"
    }
   ],
   "source": [
    "Dimensions[Rover1LineInPark3D]"
   ]
  },
  {
   "cell_type": "code",
   "execution_count": 35,
   "metadata": {},
   "outputs": [],
   "source": [
    "Rover1LineInPark3DXH = Rover1DataXH[[320;;400]];"
   ]
  },
  {
   "cell_type": "markdown",
   "metadata": {},
   "source": [
    "### МНК"
   ]
  },
  {
   "cell_type": "code",
   "execution_count": 36,
   "metadata": {},
   "outputs": [
    {
     "data": {
      "text/html": [
       "<div><img alt=\"Output\" src=\"data:image/png;base64,iVBORw0KGgoAAAANSUhEUgAAANIAAAAPCAIAAAAeWwbkAAAAznpUWHRSYXcgcHJvZmlsZSB0eXBlIGV4aWYAAHjabVBbDgMhCPz3FD2CAg54HHfXTXqDHr/4SBubTiKDw0sM7fW8w6ODUgyS1VCA6JAihao7Ficmp1iGHbhoxdKuh3gvvbqUvwG0pR+7rphM9ttoTeA+wX2WVbAaMU091Xk/Vj5Vs70Rxw1in6f/v7MSMpKKW6GoiuK+BXedkClmxY0T8MQE/wo5nRtUvQzaM7j2wg5qume3AHbh6itwP4mrM7tl9o2GWjlzGbrRsaJjkfAGmmNa6/TBZAgAAAAJcEhZcwAACxMAAAsTAQCanBgAAAA8dEVYdFNvZnR3YXJlAENyZWF0ZWQgd2l0aCB0aGUgV29sZnJhbSBMYW5ndWFnZSA6IHd3dy53b2xmcmFtLmNvbVyipoUAAAAhdEVYdENyZWF0aW9uIFRpbWUAMjAyMTowMzozMCAyMDo1OTowOBZJ/m4AAAM4SURBVGiB7Vk7dqswEB1lLeAixyvAK4DXuHKbTpSmSefSXRpR4i4t1WssVmBWwHGBtBe9gp9AIz5xXlyEW9kzV8zc0SAGmyilYMWKn8XLsxNY8Ruxtt2KJ2BtuxVPwAsAgIx3pMIulpW9MxFCSJjB0NwyLbAzK097SchCJNAizM5KC9Vntg6kAFPMhoorekCWFQ/pteysqQI3Llpuh1KCeZQrpZQSzAOPieZjbe3AKYBGNfxzmJyCR2ln4rTzctqEX4L5WXXQlPY+a36zJiizynkk8NdEjeBBvbadNVWgxvnLxwAWRdgltAIK5gHYY1iZZn5aQcY3SHCO+uZnpV+sy2CqLbqajDCtFUccnPYLsrArH9U70hyoa07bjbn692r9rTfbybIAuvebr5egdz7LsoDtxgHIQuKmB0ahKPEj3sbMwqBgn0dH5zrHmzrdXUII+btXt75ThyjLJbEsqB87bnoQiV+v9w6b68720OpqMsVEw31EwN79ns1PFKeXIMzqgogR0d+vFwCMnV2KRcud44nm6bViymua09PR0douC91oy+vknOOt7U+I3N7cEgBXt+NmKt6QmYUBcKPEMt6RALhSikNgESKllBIARPNhMpYVflKpOt3ddg7JozN8VifJNnobTHJaTUaZGGR8vtAT0lR+IlgREIIVpNHb4pv1Wnd2Hr6w3N83fSevaXUX1m3XbH7iG4ucPwcPilKCs9nCJTi/CpX42l2HpYYwIT5fmtvEjXK4BITsYimvaU6rffUTTvPow9AhpRBCiPJ+L4UQQsjJWDMOD3/fHRNeewL7e5rfRRPXrImFiUPGb+ZRp8HzPHxdpbfFt+ttL9Xs7Ncwf7n/ziC9Ssg+om19F9bP29E5DRm+tLm2+WpOoxhzMARMTexaHszimp8VughPBquJJe2BSw9uK2odfVywDQ/q7WfYM86Z7ZYub8keY93bI9RzqQbKldKtw/KaVmy2tTDN/PT4Y9Oxte3mZ8UpjIvSu8qsCcbUrzlkWjpK3y7BvKWvFI/qRXcWVYEa5y83VXd2otb/ZFf8ALKQnF/bt6e17Vb8AOpXoHZMXv8cW/F/kYWEkKBg+g848A9zKEQmdtz7DwAAAABJRU5ErkJggg==\"></div>"
      ],
      "text/plain": [
       "250.048 + 0.362617 x - 0.351151 y"
      ]
     },
     "execution_count": 36,
     "metadata": {
      "text/html": [],
      "text/plain": []
     },
     "output_type": "execute_result"
    }
   ],
   "source": [
    "LSline3D = Fit[Rover1LineInPark3D, {x, y, 1}, {x, y}]"
   ]
  },
  {
   "cell_type": "code",
   "execution_count": 37,
   "metadata": {},
   "outputs": [
    {
     "data": {
      "text/html": [
       "<div><img alt=\"Output\" src=\"data:image/png;base64,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\"></div>"
      ],
      "text/plain": [
       "-Graphics3D-"
      ]
     },
     "execution_count": 37,
     "metadata": {
      "text/html": [],
      "text/plain": []
     },
     "output_type": "execute_result"
    }
   ],
   "source": [
    "Show[ListPointPlot3D[Rover1Data2[[320;;400]], PlotStyle -> Blue, AxesLabel -> {x, y, z}],\n",
    "    Plot3D[LSline3D, {x, -90, -10}, {y, 0, 100}, PlotStyle -> {Thickness[0.005], Red, Opacity[0.5]}],\n",
    "    PlotRange -> All, AspectRatio -> 1/GoldenRatio]"
   ]
  },
  {
   "cell_type": "markdown",
   "metadata": {},
   "source": [
    "### РНК"
   ]
  },
  {
   "cell_type": "code",
   "execution_count": 38,
   "metadata": {},
   "outputs": [],
   "source": [
    "{u3d, s3d, v3d} = SingularValueDecomposition[Rover1LineInPark3D];"
   ]
  },
  {
   "cell_type": "code",
   "execution_count": 39,
   "metadata": {},
   "outputs": [
    {
     "data": {
      "text/html": [
       "<div><img alt=\"Output\" src=\"data:image/png;base64,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\"></div>"
      ],
      "text/plain": [
       "-0.250012    -0.711436    0.656774\n",
       "\n",
       "0.2358       -0.702631    -0.671348\n",
       "\n",
       "0.939091     -0.0129779   0.343423"
      ]
     },
     "execution_count": 39,
     "metadata": {
      "text/html": [],
      "text/plain": []
     },
     "output_type": "execute_result"
    }
   ],
   "source": [
    "v3d // MatrixForm"
   ]
  },
  {
   "cell_type": "code",
   "execution_count": 40,
   "metadata": {},
   "outputs": [
    {
     "data": {
      "text/html": [
       "<div><img alt=\"Output\" src=\"data:image/png;base64,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\"></div>"
      ],
      "text/plain": [
       "2022.77   0.        0.\n",
       "\n",
       "0.        274.889   0.\n",
       "\n",
       "0.        0.        6.05597\n",
       "\n",
       "0.        0.        0."
      ]
     },
     "execution_count": 40,
     "metadata": {
      "text/html": [],
      "text/plain": []
     },
     "output_type": "execute_result"
    }
   ],
   "source": [
    "s3d[[1;;4]] // MatrixForm"
   ]
  },
  {
   "cell_type": "code",
   "execution_count": 41,
   "metadata": {},
   "outputs": [
    {
     "data": {
      "text/html": [
       "<div><pre style=\"&#102;&#111;&#110;&#116;&#45;&#102;&#97;&#109;&#105;&#108;&#121;&#58;&#32;&#34;&#67;&#111;&#117;&#114;&#105;&#101;&#114;&#32;&#78;&#101;&#119;&#34;&#44;&#67;&#111;&#117;&#114;&#105;&#101;&#114;&#44;&#109;&#111;&#110;&#111;&#115;&#112;&#97;&#99;&#101;&#59;\">&#45;&#49;&#46;&#57;&#49;&#50;&#52;&#51;</pre></div>"
      ],
      "text/plain": [
       "-1.91243"
      ]
     },
     "execution_count": 41,
     "metadata": {
      "text/html": [],
      "text/plain": []
     },
     "output_type": "execute_result"
    }
   ],
   "source": [
    "a13D = - v3d[[1]][[3]] / v3d[[3]][[3]]"
   ]
  },
  {
   "cell_type": "code",
   "execution_count": 42,
   "metadata": {},
   "outputs": [
    {
     "data": {
      "text/html": [
       "<div><pre style=\"&#102;&#111;&#110;&#116;&#45;&#102;&#97;&#109;&#105;&#108;&#121;&#58;&#32;&#34;&#67;&#111;&#117;&#114;&#105;&#101;&#114;&#32;&#78;&#101;&#119;&#34;&#44;&#67;&#111;&#117;&#114;&#105;&#101;&#114;&#44;&#109;&#111;&#110;&#111;&#115;&#112;&#97;&#99;&#101;&#59;\">&#49;&#46;&#57;&#53;&#52;&#56;&#55;</pre></div>"
      ],
      "text/plain": [
       "1.95487"
      ]
     },
     "execution_count": 42,
     "metadata": {
      "text/html": [],
      "text/plain": []
     },
     "output_type": "execute_result"
    }
   ],
   "source": [
    "a23D = - v3d[[2]][[3]] / v3d[[3]][[3]]"
   ]
  },
  {
   "cell_type": "code",
   "execution_count": 43,
   "metadata": {},
   "outputs": [
    {
     "data": {
      "text/html": [
       "<div><pre style=\"&#102;&#111;&#110;&#116;&#45;&#102;&#97;&#109;&#105;&#108;&#121;&#58;&#32;&#34;&#67;&#111;&#117;&#114;&#105;&#101;&#114;&#32;&#78;&#101;&#119;&#34;&#44;&#67;&#111;&#117;&#114;&#105;&#101;&#114;&#44;&#109;&#111;&#110;&#111;&#115;&#112;&#97;&#99;&#101;&#59;\">&#45;&#52;&#50;&#50;&#46;&#49;&#50;&#54;</pre></div>"
      ],
      "text/plain": [
       "-422.126"
      ]
     },
     "execution_count": 43,
     "metadata": {
      "text/html": [],
      "text/plain": []
     },
     "output_type": "execute_result"
    }
   ],
   "source": [
    "a33D = - Mean[Transpose[Rover1LineInPark3D][[1]]*a13D + Transpose[Rover1LineInPark3D][[2]]*a23D + Transpose[Rover1LineInPark3D][[3]]]"
   ]
  },
  {
   "cell_type": "code",
   "execution_count": 44,
   "metadata": {},
   "outputs": [
    {
     "data": {
      "text/html": [
       "<div><img alt=\"Output\" src=\"data:image/png;base64,iVBORw0KGgoAAAANSUhEUgAAAMQAAAAPCAIAAAA06/dLAAAAznpUWHRSYXcgcHJvZmlsZSB0eXBlIGV4aWYAAHjabU/bDQMhDPtnio4QkuDAONwdJ3WDjt/wUCuqWiI2zgMS2ut5h0cHRwqaLKMA5NCihauLTBOTI5URB05dubj7ge7lV7fSN4G2/GP3DZM5/w7iKaS/4FrWi7YGCU8/1nk/Vj3XnPdBQhs0f77+/y7GSIimHpXJDMV1Di6dkJiS4cYJeGHExaSnc4OZt8F6hdTe2MHN9uoWIG5cfQXpJ0p1Fo8ivtFwqyQpwy98rOxYJLwBm+ta7cIAL04AAAAJcEhZcwAACxMAAAsTAQCanBgAAAA8dEVYdFNvZnR3YXJlAENyZWF0ZWQgd2l0aCB0aGUgV29sZnJhbSBMYW5ndWFnZSA6IHd3dy53b2xmcmFtLmNvbVyipoUAAAAhdEVYdENyZWF0aW9uIFRpbWUAMjAyMTowMzozMCAyMDo1OTowOWFOzvgAAAMDSURBVGiB7Vk7kuIwEJXmLHiDKU4gTmBHRKRkcgjJZIRkm8ghZKREkyCfAE5AESDdpTfwT7JbsjCztVVbehF09e+12t3CUAAgERE/gY9/nUDE/4PYTBE/hthMET+Grpl0saCU5qX9nVJKF4X2CnHUqp1Dj3mZh3oNj4WiDWTpvpLqoFCdy6nZe/EOtY7D0EX/uA0atdSUIA4QNM1U5sl5zpkRa/3YAQCAEmS7rqqECl3M1uSkBDOFuLkuFnT/qQAAAK6b2UjCgbEw6GKREVkFkiSrj/6FVCt1u1AkPVQeR2syAW9SI4QQXksBDqnp2GZR5q05SH7cF9ogVgkJ+0zG0mhVhVKCGbFNP0MxKuzD4dAyr0KPOAIAUFL61NyxzKCdRi9uSKrgLxQildw4TslJINVxx0iSCDWX4ZCFEqzJDTuQoSPDoPv2UbXlXZxcM0E/74Qv0wBhODpz/byz1a/LYnxPqOdzargOx+9qVOtif3w1VWeh6n2QnFfqYJckPYDkxywva1s1ZfIGwkHtmPVLi7GYba6weySUUvq9HOyH8veWiK/UNtjx2/lSL5fL+cZ3m9lHNeGcJMs82c5lr0aoMBw989t2T07VEzPH94TWWmtCiGo+TEN6UOJe1XZNVvzVVJ2FavbB7pEM7xVNUIettjCBlB3FpjbbXNvRQbZJXjpZ6GJBq0UnSdZ7pnWxP/LdIPd02XSTvpzrXkP2cTO+lGDDXYYKHUDGbN9cCWYMVWtatypKSiml4FxIKV3LLmAX+NRHU8UuLv11gK9sJRhjeHI1tRZ/hVorrFcbwsIysW8w9j4bEBPKODTiyuK1TrIuB05amLmh48kbAKTw3jewEuJZoZFCUvXGAkcv1UI/Nz/epNao96WOytsO/HdjyZkQ3QBwNNOgg7l0CA11I6jk4eaG3Pf8OZsJi4Vn1UWamOqwUKa5/wyVYC9fwN+kZtDAJyY+eIPGkpFgq08h/jcXMRllTvef7c+K2EwRk1HmNCOye4EV/06JmIIyp5Rmd2G9DPkDiIqNoeaA1hMAAAAASUVORK5CYII=\"></div>"
      ],
      "text/plain": [
       "422.126 + 1.91243 x - 1.95487 y"
      ]
     },
     "execution_count": 44,
     "metadata": {
      "text/html": [],
      "text/plain": []
     },
     "output_type": "execute_result"
    }
   ],
   "source": [
    "- a23D*y - x*a13D - a33D"
   ]
  },
  {
   "cell_type": "code",
   "execution_count": 45,
   "metadata": {},
   "outputs": [
    {
     "data": {
      "text/html": [
       "<div><img alt=\"Output\" src=\"data:image/png;base64,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\"></div>"
      ],
      "text/plain": [
       "-Graphics3D-"
      ]
     },
     "execution_count": 45,
     "metadata": {
      "text/html": [],
      "text/plain": []
     },
     "output_type": "execute_result"
    }
   ],
   "source": [
    "Show[ListPointPlot3D[Rover1Data2[[320;;400]], PlotStyle -> Blue, AxesLabel -> {x, y, z}],\n",
    "    Plot3D[-a23D*y - x*a13D - a33D, {x, -90, -10}, {y, 0, 100}, PlotStyle -> {Thickness[0.005], Green, Opacity[0.5]}],\n",
    "    PlotRange -> All, AspectRatio -> 2/GoldenRatio]"
   ]
  },
  {
   "cell_type": "markdown",
   "metadata": {},
   "source": [
    "### МНК и РНК "
   ]
  },
  {
   "cell_type": "code",
   "execution_count": 46,
   "metadata": {},
   "outputs": [
    {
     "data": {
      "text/html": [
       "<div><img alt=\"Output\" src=\"data:image/png;base64,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\"></div>"
      ],
      "text/plain": [
       "-Graphics3D-"
      ]
     },
     "execution_count": 46,
     "metadata": {
      "text/html": [],
      "text/plain": []
     },
     "output_type": "execute_result"
    }
   ],
   "source": [
    "Show[ListPointPlot3D[Rover1Data2[[320;;400]], PlotStyle -> Blue, AxesLabel -> {x, y, z}],\n",
    "    Plot3D[LSline3D, {x, -90, -10}, {y, 0, 100}, PlotStyle -> {Thickness[0.005], Red, Opacity[0.5]}],\n",
    "    Plot3D[-a23D*y - x*a13D - a33D, {x, -90, -10}, {y, 0, 100}, PlotStyle -> {Thickness[0.005], Green, Opacity[0.5]}],\n",
    "    PlotRange -> All, AspectRatio -> 1/GoldenRatio]"
   ]
  },
  {
   "cell_type": "code",
   "execution_count": 47,
   "metadata": {},
   "outputs": [
    {
     "data": {
      "text/html": [
       "<div><pre style=\"&#102;&#111;&#110;&#116;&#45;&#102;&#97;&#109;&#105;&#108;&#121;&#58;&#32;&#34;&#67;&#111;&#117;&#114;&#105;&#101;&#114;&#32;&#78;&#101;&#119;&#34;&#44;&#67;&#111;&#117;&#114;&#105;&#101;&#114;&#44;&#109;&#111;&#110;&#111;&#115;&#112;&#97;&#99;&#101;&#59;\">&#49;&#48;&#52;&#46;&#52;&#49;&#54;</pre></div>"
      ],
      "text/plain": [
       "104.416"
      ]
     },
     "execution_count": 47,
     "metadata": {
      "text/html": [],
      "text/plain": []
     },
     "output_type": "execute_result"
    }
   ],
   "source": [
    "EuclideanDistance[Rover1LineInPark3D[[1]], Rover1LineInPark3D[[81]]]"
   ]
  },
  {
   "cell_type": "markdown",
   "metadata": {},
   "source": [
    "### Delta H МНК"
   ]
  },
  {
   "cell_type": "code",
   "execution_count": 48,
   "metadata": {},
   "outputs": [
    {
     "data": {
      "text/html": [
       "<div><img alt=\"Output\" src=\"data:image/png;base64,iVBORw0KGgoAAAANSUhEUgAAANIAAAAPCAIAAAAeWwbkAAAAznpUWHRSYXcgcHJvZmlsZSB0eXBlIGV4aWYAAHjabVDbDQMhDPtnio4ACTgwDnfHSd2g49c81IqqloiD8yK49nre7tEhwbuYLKMAnoglFql0sp+YHHwZduCSFQu77vy99EopfQNoSz923TBZ8m+jNUH7BPoaV8FqpDL1UOf9WPlSc94bqd8Q8+fp/+9qgoRgkTaKN0Ohnx1dEpL4ZLhxAkwM4FfEk9xgxjJYz9DaCzuk2Z7dHJTC1VfQfoJWstKqcqOhVk1aaAOVY0XHIu4NmfVa5C+KeQwAAAAJcEhZcwAACxMAAAsTAQCanBgAAAA8dEVYdFNvZnR3YXJlAENyZWF0ZWQgd2l0aCB0aGUgV29sZnJhbSBMYW5ndWFnZSA6IHd3dy53b2xmcmFtLmNvbVyipoUAAAAhdEVYdENyZWF0aW9uIFRpbWUAMjAyMTowMzozMCAyMDo1OToxMAGJRx0AAAM4SURBVGiB7Vk7dqswEB1lLeAixyvAK4DXuHKbTpSmSefSXRpR4i4t1WssVmBWwHGBtBe9gp9AIz5xXlyEW9kzV8zc0SAGmyilYMWKn8XLsxNY8Ruxtt2KJ2BtuxVPwAsAgIx3pMIulpW9MxFCSJjB0NwyLbAzK097SchCJNAizM5KC9Vntg6kAFPMhoorekCWFQ/pteysqQI3Llpuh1KCeZQrpZQSzAOPieZjbe3AKYBGNfxzmJyCR2ln4rTzctqEX4L5WXXQlPY+a36zJiizynkk8NdEjeBBvbadNVWgxvnLxwAWRdgltAIK5gHYY1iZZn5aQcY3SHCO+uZnpV+sy2CqLbqajDCtFUccnPYLsrArH9U70hyoa07bjbn692r9rTfbybIAuvebr5egdz7LsoDtxgHIQuKmB0ahKPEj3sbMwqBgn0dH5zrHmzrdXUII+btXt75ThyjLJbEsqB87bnoQiV+v9w6b68720OpqMsVEw31EwN79ns1PFKeXIMzqgogR0d+vFwCMnV2KRcud44nm6bViymua09PR0douC91oy+vknOOt7U+I3N7cEgBXt+NmKt6QmYUBcKPEMt6RALhSikNgESKllBIARPNhMpYVflKpOt3ddg7JozN8VifJNnobTHJaTUaZGGR8vtAT0lR+IlgREIIVpNHb4pv1Wnd2Hr6w3N83fSevaXUX1m3XbH7iG4ucPwcPilKCs9nCJTi/CpX42l2HpYYwIT5fmtvEjXK4BITsYimvaU6rffUTTvPow9AhpRBCiPJ+L4UQQsjJWDMOD3/fHRNeewL7e5rfRRPXrImFiUPGb+ZRp8HzPHxdpbfFt+ttL9Xs7Ncwf7n/ziC9Ssg+om19F9bP29E5DRm+tLm2+WpOoxhzMARMTexaHszimp8VughPBquJJe2BSw9uK2odfVywDQ/q7WfYM86Z7ZYub8keY93bI9RzqQbKldKtw/KaVmy2tTDN/PT4Y9Oxte3mZ8UpjIvSu8qsCcbUrzlkWjpK3y7BvKWvFI/qRXcWVYEa5y83VXd2otb/ZFf8ALKQnF/bt6e17Vb8AOpXoHZMXv8cW/F/kYWEkKBg+g848A9zKEQmdtz7DwAAAABJRU5ErkJggg==\"></div>"
      ],
      "text/plain": [
       "250.048 + 0.362617 x - 0.351151 y"
      ]
     },
     "execution_count": 48,
     "metadata": {
      "text/html": [],
      "text/plain": []
     },
     "output_type": "execute_result"
    }
   ],
   "source": [
    "LSline3D"
   ]
  },
  {
   "cell_type": "code",
   "execution_count": 49,
   "metadata": {},
   "outputs": [
    {
     "data": {
      "text/html": [
       "<div><pre style=\"&#102;&#111;&#110;&#116;&#45;&#102;&#97;&#109;&#105;&#108;&#121;&#58;&#32;&#34;&#67;&#111;&#117;&#114;&#105;&#101;&#114;&#32;&#78;&#101;&#119;&#34;&#44;&#67;&#111;&#117;&#114;&#105;&#101;&#114;&#44;&#109;&#111;&#110;&#111;&#115;&#112;&#97;&#99;&#101;&#59;\">&#50;&#49;&#49;&#46;&#49;&#56;&#49;</pre></div>"
      ],
      "text/plain": [
       "211.181"
      ]
     },
     "execution_count": 49,
     "metadata": {
      "text/html": [],
      "text/plain": []
     },
     "output_type": "execute_result"
    }
   ],
   "source": [
    "p1MHK = LSline3D[[2]][[1]]*Rover1LineInPark3D[[1]][[1]] + LSline3D[[3]][[1]]*Rover1LineInPark3D[[1]][[2]] + LSline3D[[1]]"
   ]
  },
  {
   "cell_type": "code",
   "execution_count": 50,
   "metadata": {},
   "outputs": [
    {
     "data": {
      "text/html": [
       "<div><pre style=\"&#102;&#111;&#110;&#116;&#45;&#102;&#97;&#109;&#105;&#108;&#121;&#58;&#32;&#34;&#67;&#111;&#117;&#114;&#105;&#101;&#114;&#32;&#78;&#101;&#119;&#34;&#44;&#67;&#111;&#117;&#114;&#105;&#101;&#114;&#44;&#109;&#111;&#110;&#111;&#115;&#112;&#97;&#99;&#101;&#59;\">&#50;&#50;&#50;&#46;&#48;&#57;&#54;</pre></div>"
      ],
      "text/plain": [
       "222.096"
      ]
     },
     "execution_count": 50,
     "metadata": {
      "text/html": [],
      "text/plain": []
     },
     "output_type": "execute_result"
    }
   ],
   "source": [
    "p2MHK = LSline3D[[2]][[1]]*Rover1LineInPark3D[[81]][[1]] + LSline3D[[2]][[1]]*Rover1LineInPark3D[[81]][[2]] + LSline3D[[1]]"
   ]
  },
  {
   "cell_type": "code",
   "execution_count": 51,
   "metadata": {},
   "outputs": [
    {
     "data": {
      "text/html": [
       "<div><pre style=\"&#102;&#111;&#110;&#116;&#45;&#102;&#97;&#109;&#105;&#108;&#121;&#58;&#32;&#34;&#67;&#111;&#117;&#114;&#105;&#101;&#114;&#32;&#78;&#101;&#119;&#34;&#44;&#67;&#111;&#117;&#114;&#105;&#101;&#114;&#44;&#109;&#111;&#110;&#111;&#115;&#112;&#97;&#99;&#101;&#59;\">&#49;&#48;&#46;&#57;&#49;&#52;&#53;</pre></div>"
      ],
      "text/plain": [
       "10.9145"
      ]
     },
     "execution_count": 51,
     "metadata": {
      "text/html": [],
      "text/plain": []
     },
     "output_type": "execute_result"
    }
   ],
   "source": [
    "deltaHMHK = p2MHK - p1MHK"
   ]
  },
  {
   "cell_type": "markdown",
   "metadata": {},
   "source": [
    "### Delta H РНК"
   ]
  },
  {
   "cell_type": "code",
   "execution_count": 52,
   "metadata": {},
   "outputs": [
    {
     "data": {
      "text/html": [
       "<div><img alt=\"Output\" src=\"data:image/png;base64,iVBORw0KGgoAAAANSUhEUgAAAMQAAAAPCAIAAAA06/dLAAAAz3pUWHRSYXcgcHJvZmlsZSB0eXBlIGV4aWYAAHjabU/trQMhDPvPFB0hJODAONyVk7pBx685UCueniVi43xAQn+/rvAY0CghZS+ogBCppqqNosjE5Cj1jjfOtHJx94Ncy2+08i+Bvvxj9x2TtfwdpFPYeIHa1ou+BplOP7Z5P1a9tlL2QSYbUvl+/f+7uSIjemJMKu6o1CVQkpBVsuPCCbAw4qmSTnKHO9vgo8LaaBzQ7nt1DzAaz7GCjROtkY3RjBvdbrNslTHSOVb2XiR8AJttWuUVAI40AAAACXBIWXMAAAsTAAALEwEAmpwYAAAAPHRFWHRTb2Z0d2FyZQBDcmVhdGVkIHdpdGggdGhlIFdvbGZyYW0gTGFuZ3VhZ2UgOiB3d3cud29sZnJhbS5jb21coqaFAAAAIXRFWHRDcmVhdGlvbiBUaW1lADIwMjE6MDM6MzAgMjA6NTk6MTABiUcdAAADA0lEQVRoge1ZO5LiMBCV5ix4gylOIE5gR0SkZHIIyWSEZJvIIWSkRJMgnwBOQBEg3aU38E+yW7Iws7VVW3oRdPXvtdrdwlAAIBERP4GPf51AxP+D2EwRP4bYTBE/hq6ZdLGglOal/Z1SSheF9gpx1KqdQ495mYd6DY+Fog1k6b6S6qBQncup2XvxDrWOw9BF/7gNGrXUlCAOEDTNVObJec6ZEWv92AEAgBJku66qhApdzNbkpAQzhbi5LhZ0/6kAAACum9lIwoGxMOhikRFZBZIkq4/+hVQrdbtQJD1UHkdrMgFvUiOEEF5LAQ6p6dhmUeatOUh+3BfaIFYJCftMxtJoVYVSghmxTT9DMSrsw+HQMq9CjzgCAFBS+tTcscygnUYvbkiq4C8UIpXcOE7JSSDVccdIkgg1l+GQhRKsyQ07kKEjw6D79lG15V2cXDNBP++EL9MAYTg6c/28s9Wvy2J8T6jnc2q4DsfvalTrYn98NVVnoep9kJxX6mCXJD2A5McsL2tbNWXyBsJB7Zj1S4uxmG2usHsklFL6vRzsh/L3loiv1DbY8dv5Ui+Xy/nGd5vZRzXhnCTLPNnOZa9GqDAcPfPbdk9O1RMzx/eE1lprQohqPkxDelDiXtV2TVb81VSdhWr2we6RDO8VTVCHrbYwgZQdxaY221zb0UG2SV46WehiQatFJ0nWe6Z1sT/y3SD3dNl0k76c615D9nEzvpRgw12GCh1AxmzfXAlmDFVrWrcqSkoppeBcSCldyy5gF/jUR1PFLi79dYCvbCUYY3hyNbUWf4VaK6xXG8LCMrFvMPY+GxATyjg04sritU6yLgdOWpi5oePJGwCk8N43sBLiWaGRQlL1xgJHL9VCPzc/3qTWqPeljsrbDvx3Y8mZEN0AcDTToIO5dAgNdSOo5OHmhtz3/DmbCYuFZ9VFmpjqsFCmuf8MlWAvX8DfpGbQwCcmPniDxpKRYKtPIf43FzEZZU73n+3PithMEZNR5jQjsnuBFf9OiZiCMqeUZndhvQz5A4iKjaHmgNYTAAAAAElFTkSuQmCC\"></div>"
      ],
      "text/plain": [
       "422.126 + 1.91243 x - 1.95487 y"
      ]
     },
     "execution_count": 52,
     "metadata": {
      "text/html": [],
      "text/plain": []
     },
     "output_type": "execute_result"
    }
   ],
   "source": [
    "-a23D*y - x*a13D - a33D"
   ]
  },
  {
   "cell_type": "code",
   "execution_count": 53,
   "metadata": {},
   "outputs": [
    {
     "data": {
      "text/html": [
       "<div><pre style=\"&#102;&#111;&#110;&#116;&#45;&#102;&#97;&#109;&#105;&#108;&#121;&#58;&#32;&#34;&#67;&#111;&#117;&#114;&#105;&#101;&#114;&#32;&#78;&#101;&#119;&#34;&#44;&#67;&#111;&#117;&#114;&#105;&#101;&#114;&#44;&#109;&#111;&#110;&#111;&#115;&#112;&#97;&#99;&#101;&#59;\">&#50;&#48;&#55;&#46;&#56;&#53;&#53;</pre></div>"
      ],
      "text/plain": [
       "207.855"
      ]
     },
     "execution_count": 53,
     "metadata": {
      "text/html": [],
      "text/plain": []
     },
     "output_type": "execute_result"
    }
   ],
   "source": [
    "p1PHK = -a23D*Rover1LineInPark3D[[1]][[2]] - Rover1LineInPark3D[[1]][[1]]*a13D - a33D"
   ]
  },
  {
   "cell_type": "code",
   "execution_count": 54,
   "metadata": {},
   "outputs": [
    {
     "data": {
      "text/html": [
       "<div><pre style=\"&#102;&#111;&#110;&#116;&#45;&#102;&#97;&#109;&#105;&#108;&#121;&#58;&#32;&#34;&#67;&#111;&#117;&#114;&#105;&#101;&#114;&#32;&#78;&#101;&#119;&#34;&#44;&#67;&#111;&#117;&#114;&#105;&#101;&#114;&#44;&#109;&#111;&#110;&#111;&#115;&#112;&#97;&#99;&#101;&#59;\">&#50;&#49;&#50;&#46;&#55;&#48;&#51;</pre></div>"
      ],
      "text/plain": [
       "212.703"
      ]
     },
     "execution_count": 54,
     "metadata": {
      "text/html": [],
      "text/plain": []
     },
     "output_type": "execute_result"
    }
   ],
   "source": [
    "p2PHK = -a23D*Rover1LineInPark3D[[81]][[2]] - Rover1LineInPark3D[[81]][[1]]*a13D - a33D"
   ]
  },
  {
   "cell_type": "code",
   "execution_count": 55,
   "metadata": {},
   "outputs": [
    {
     "data": {
      "text/html": [
       "<div><pre style=\"&#102;&#111;&#110;&#116;&#45;&#102;&#97;&#109;&#105;&#108;&#121;&#58;&#32;&#34;&#67;&#111;&#117;&#114;&#105;&#101;&#114;&#32;&#78;&#101;&#119;&#34;&#44;&#67;&#111;&#117;&#114;&#105;&#101;&#114;&#44;&#109;&#111;&#110;&#111;&#115;&#112;&#97;&#99;&#101;&#59;\">&#52;&#46;&#56;&#52;&#56;&#49;&#56;</pre></div>"
      ],
      "text/plain": [
       "4.84818"
      ]
     },
     "execution_count": 55,
     "metadata": {
      "text/html": [],
      "text/plain": []
     },
     "output_type": "execute_result"
    }
   ],
   "source": [
    "deltaHPHK = p2PHK - p1PHK"
   ]
  },
  {
   "cell_type": "markdown",
   "metadata": {},
   "source": [
    "### График"
   ]
  },
  {
   "cell_type": "code",
   "execution_count": 56,
   "metadata": {},
   "outputs": [
    {
     "data": {
      "text/html": [
       "<div><img alt=\"Output\" src=\"data:image/png;base64,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\"></div>"
      ],
      "text/plain": [
       "422.126 - 1.95487 (105.302 + 0.930833 x) + 1.91243 x"
      ]
     },
     "execution_count": 56,
     "metadata": {
      "text/html": [],
      "text/plain": []
     },
     "output_type": "execute_result"
    }
   ],
   "source": [
    "-a23D*(- a2 - x*a1) - x*a13D - a33D"
   ]
  },
  {
   "cell_type": "code",
   "execution_count": 57,
   "metadata": {},
   "outputs": [
    {
     "data": {
      "text/html": [
       "<div><img alt=\"Output\" src=\"data:image/png;base64,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\"></div>"
      ],
      "text/plain": [
       "250.048 - 0.351151 (108.397 + 0.985918 x) + 0.362617 x"
      ]
     },
     "execution_count": 57,
     "metadata": {
      "text/html": [],
      "text/plain": []
     },
     "output_type": "execute_result"
    }
   ],
   "source": [
    "LSline3D[[1]] + LSline3D[[2]][[1]]*x + LSline3D[[3]][[1]]*(LSline[[1]] + LSline[[2]][[1]]*x)"
   ]
  },
  {
   "cell_type": "code",
   "execution_count": 58,
   "metadata": {},
   "outputs": [
    {
     "data": {
      "text/html": [
       "<div><pre style=\"&#102;&#111;&#110;&#116;&#45;&#102;&#97;&#109;&#105;&#108;&#121;&#58;&#32;&#34;&#67;&#111;&#117;&#114;&#105;&#101;&#114;&#32;&#78;&#101;&#119;&#34;&#44;&#67;&#111;&#117;&#114;&#105;&#101;&#114;&#44;&#109;&#111;&#110;&#111;&#115;&#112;&#97;&#99;&#101;&#59;\">&#50;&#49;&#49;&#46;&#57;&#56;&#52;</pre></div>"
      ],
      "text/plain": [
       "211.984"
      ]
     },
     "execution_count": 58,
     "metadata": {
      "text/html": [],
      "text/plain": []
     },
     "output_type": "execute_result"
    }
   ],
   "source": [
    "at1 = LSline3D[[1]] + LSline3D[[3]][[1]]*LSline[[1]]"
   ]
  },
  {
   "cell_type": "code",
   "execution_count": 59,
   "metadata": {},
   "outputs": [
    {
     "data": {
      "text/html": [
       "<div><pre style=\"&#102;&#111;&#110;&#116;&#45;&#102;&#97;&#109;&#105;&#108;&#121;&#58;&#32;&#34;&#67;&#111;&#117;&#114;&#105;&#101;&#114;&#32;&#78;&#101;&#119;&#34;&#44;&#67;&#111;&#117;&#114;&#105;&#101;&#114;&#44;&#109;&#111;&#110;&#111;&#115;&#112;&#97;&#99;&#101;&#59;\">&#48;&#46;&#48;&#49;&#54;&#52;&#49;&#49;&#56;</pre></div>"
      ],
      "text/plain": [
       "0.0164118"
      ]
     },
     "execution_count": 59,
     "metadata": {
      "text/html": [],
      "text/plain": []
     },
     "output_type": "execute_result"
    }
   ],
   "source": [
    "at1 = LSline3D[[2]][[1]] + LSline3D[[3]][[1]]*LSline[[2]][[1]]"
   ]
  },
  {
   "cell_type": "code",
   "execution_count": 60,
   "metadata": {},
   "outputs": [
    {
     "data": {
      "text/html": [
       "<div><img alt=\"Output\" src=\"data:image/png;base64,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\"></div>"
      ],
      "text/plain": [
       "Legended[Legended[-Graphics-, Placed[LineLegend[{Directive[Opacity[1.], \n",
       " \n",
       ">        AbsoluteThickness[1.6], Thickness[0.005], RGBColor[1, 0, 0]]}, \n",
       " \n",
       ">      {МНК, RGBColor[1, 0, 0]}, LegendMarkers -> None, LabelStyle -> {}, \n",
       " \n",
       ">      LegendLayout -> Column], After, Identity]], \n",
       " \n",
       ">   Placed[LineLegend[{Directive[Opacity[1.], AbsoluteThickness[1.6], Thickness[0.005], \n",
       " \n",
       ">       RGBColor[0, 1, 0]]}, {РНК, RGBColor[0, 1, 0]}, LegendMarkers -> None, \n",
       " \n",
       ">     LabelStyle -> {}, LegendLayout -> Column], After, Identity]]"
      ]
     },
     "execution_count": 60,
     "metadata": {
      "text/html": [],
      "text/plain": []
     },
     "output_type": "execute_result"
    }
   ],
   "source": [
    "Show[ListPlot[Rover1DataXH[[320;;400]], PlotStyle -> Blue],\n",
    "     Plot[211.984 + 0.0164118*x, {x, -100, -10}, PlotStyle -> {Thickness[0.005], Red}, PlotLegends -> {\"МНК\", Red}],\n",
    "     Plot[-a23D*(-a2 - x*a1) - x*a13D - a33D, {x, -100, -10}, PlotStyle -> {Thickness[0.005], Green}, PlotLegends -> {\"РНК\", Green}],\n",
    "    PlotRange -> All, ImageSize -> 800]"
   ]
  },
  {
   "cell_type": "markdown",
   "metadata": {},
   "source": [
    "##### Угол наклона по МНК"
   ]
  },
  {
   "cell_type": "code",
   "execution_count": 61,
   "metadata": {},
   "outputs": [
    {
     "data": {
      "text/html": [
       "<div><pre style=\"&#102;&#111;&#110;&#116;&#45;&#102;&#97;&#109;&#105;&#108;&#121;&#58;&#32;&#34;&#67;&#111;&#117;&#114;&#105;&#101;&#114;&#32;&#78;&#101;&#119;&#34;&#44;&#67;&#111;&#117;&#114;&#105;&#101;&#114;&#44;&#109;&#111;&#110;&#111;&#115;&#112;&#97;&#99;&#101;&#59;\">&#48;&#46;&#48;&#49;&#54;&#52;&#49;&#49;&#56;</pre></div>"
      ],
      "text/plain": [
       "0.0164118"
      ]
     },
     "execution_count": 61,
     "metadata": {
      "text/html": [],
      "text/plain": []
     },
     "output_type": "execute_result"
    }
   ],
   "source": [
    "at1"
   ]
  },
  {
   "cell_type": "code",
   "execution_count": 62,
   "metadata": {},
   "outputs": [
    {
     "data": {
      "text/html": [
       "<div><pre style=\"&#102;&#111;&#110;&#116;&#45;&#102;&#97;&#109;&#105;&#108;&#121;&#58;&#32;&#34;&#67;&#111;&#117;&#114;&#105;&#101;&#114;&#32;&#78;&#101;&#119;&#34;&#44;&#67;&#111;&#117;&#114;&#105;&#101;&#114;&#44;&#109;&#111;&#110;&#111;&#115;&#112;&#97;&#99;&#101;&#59;\">&#123;&#48;&#44;&#32;&#53;&#54;&#44;&#32;&#50;&#53;&#46;&#49;&#54;&#56;&#52;&#125;</pre></div>"
      ],
      "text/plain": [
       "{0, 56, 25.1684}"
      ]
     },
     "execution_count": 62,
     "metadata": {
      "text/html": [],
      "text/plain": []
     },
     "output_type": "execute_result"
    }
   ],
   "source": [
    "deltaAngleInFormHMHK = {Floor[at1*180/Pi],\n",
    "                Floor[Mod[at1*180/Pi, 1]*60],\n",
    "                Mod[Mod[at1*180/Pi, 1]*60, 1]*60}"
   ]
  },
  {
   "cell_type": "markdown",
   "metadata": {},
   "source": [
    "##### Угол наклона по РНК"
   ]
  },
  {
   "cell_type": "code",
   "execution_count": 63,
   "metadata": {},
   "outputs": [
    {
     "data": {
      "text/html": [
       "<div><pre style=\"&#102;&#111;&#110;&#116;&#45;&#102;&#97;&#109;&#105;&#108;&#121;&#58;&#32;&#34;&#67;&#111;&#117;&#114;&#105;&#101;&#114;&#32;&#78;&#101;&#119;&#34;&#44;&#67;&#111;&#117;&#114;&#105;&#101;&#114;&#44;&#109;&#111;&#110;&#111;&#115;&#112;&#97;&#99;&#101;&#59;\">&#48;&#46;&#48;&#57;&#50;&#55;&#55;&#51;&#53;</pre></div>"
      ],
      "text/plain": [
       "0.0927735"
      ]
     },
     "execution_count": 63,
     "metadata": {
      "text/html": [],
      "text/plain": []
     },
     "output_type": "execute_result"
    }
   ],
   "source": [
    "ar1 = a23D*a1-a13D"
   ]
  },
  {
   "cell_type": "code",
   "execution_count": 64,
   "metadata": {},
   "outputs": [
    {
     "data": {
      "text/html": [
       "<div><pre style=\"&#102;&#111;&#110;&#116;&#45;&#102;&#97;&#109;&#105;&#108;&#121;&#58;&#32;&#34;&#67;&#111;&#117;&#114;&#105;&#101;&#114;&#32;&#78;&#101;&#119;&#34;&#44;&#67;&#111;&#117;&#114;&#105;&#101;&#114;&#44;&#109;&#111;&#110;&#111;&#115;&#112;&#97;&#99;&#101;&#59;\">&#123;&#53;&#44;&#32;&#49;&#56;&#44;&#32;&#53;&#53;&#46;&#57;&#48;&#55;&#51;&#125;</pre></div>"
      ],
      "text/plain": [
       "{5, 18, 55.9073}"
      ]
     },
     "execution_count": 64,
     "metadata": {
      "text/html": [],
      "text/plain": []
     },
     "output_type": "execute_result"
    }
   ],
   "source": [
    "deltaAngleInFormHPHK = {Floor[ar1*180/Pi],\n",
    "                Floor[Mod[ar1*180/Pi, 1]*60],\n",
    "                Mod[Mod[ar1*180/Pi, 1]*60, 1]*60}"
   ]
  }
 ],
 "metadata": {
  "kernelspec": {
   "display_name": "Wolfram Language 12.2",
   "language": "Wolfram Language",
   "name": "wolframlanguage12.2"
  },
  "language_info": {
   "codemirror_mode": "mathematica",
   "file_extension": ".m",
   "mimetype": "application/vnd.wolfram.m",
   "name": "Wolfram Language",
   "pygments_lexer": "mathematica",
   "version": "12.0"
  }
 },
 "nbformat": 4,
 "nbformat_minor": 4
}
