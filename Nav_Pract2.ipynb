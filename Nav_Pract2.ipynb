{
 "cells": [
  {
   "cell_type": "code",
   "execution_count": 1,
   "metadata": {},
   "outputs": [],
   "source": [
    "Rover1Data = Import[\"RV1-red2.txt\", \"Data\"];"
   ]
  },
  {
   "cell_type": "code",
   "execution_count": 2,
   "metadata": {},
   "outputs": [
    {
     "data": {
      "text/html": [
       "<div><pre style=\"&#102;&#111;&#110;&#116;&#45;&#102;&#97;&#109;&#105;&#108;&#121;&#58;&#32;&#34;&#67;&#111;&#117;&#114;&#105;&#101;&#114;&#32;&#78;&#101;&#119;&#34;&#44;&#67;&#111;&#117;&#114;&#105;&#101;&#114;&#44;&#109;&#111;&#110;&#111;&#115;&#112;&#97;&#99;&#101;&#59;\">&#123;&#49;&#50;&#53;&#54;&#44;&#32;&#50;&#125;</pre></div>"
      ],
      "text/plain": [
       "{1256, 2}"
      ]
     },
     "execution_count": 2,
     "metadata": {
      "text/html": [],
      "text/plain": []
     },
     "output_type": "execute_result"
    }
   ],
   "source": [
    "Dimensions[Rover1Data]"
   ]
  },
  {
   "cell_type": "code",
   "execution_count": 3,
   "metadata": {},
   "outputs": [
    {
     "data": {
      "text/html": [
       "<div><img alt=\"Output\" src=\"data:image/png;base64,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\"></div>"
      ],
      "text/plain": [
       "2.26348     -4.34219\n",
       "\n",
       "1.19462     -4.34219\n",
       "\n",
       "1.19462     -4.34219\n",
       "\n",
       "0.188623    -2.44944\n",
       "\n",
       "-0.880243   -2.44944"
      ]
     },
     "execution_count": 3,
     "metadata": {
      "text/html": [],
      "text/plain": []
     },
     "output_type": "execute_result"
    }
   ],
   "source": [
    "Rover1Data[[1;;5]] //  MatrixForm"
   ]
  },
  {
   "cell_type": "code",
   "execution_count": 4,
   "metadata": {},
   "outputs": [
    {
     "data": {
      "text/html": [
       "<div><img alt=\"Output\" src=\"data:image/png;base64,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\"></div>"
      ],
      "text/plain": [
       "-Graphics-"
      ]
     },
     "execution_count": 4,
     "metadata": {
      "text/html": [],
      "text/plain": []
     },
     "output_type": "execute_result"
    }
   ],
   "source": [
    "Show[ListPlot[Rover1Data, PlotStyle -> Red],\n",
    "    ListPlot[Rover1Data[[320;;400]], PlotStyle -> Blue],\n",
    "    PlotRange -> All]"
   ]
  },
  {
   "cell_type": "code",
   "execution_count": 5,
   "metadata": {},
   "outputs": [],
   "source": [
    "Rover1LineInPark = Rover1Data[[320;;400]];"
   ]
  },
  {
   "cell_type": "code",
   "execution_count": 6,
   "metadata": {},
   "outputs": [
    {
     "data": {
      "text/html": [
       "<div><img alt=\"Output\" src=\"data:image/png;base64,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\"></div>"
      ],
      "text/plain": [
       "-19.7422   90.2954\n",
       "\n",
       "-20.811    90.2954\n",
       "\n",
       "-20.811    88.4026\n",
       "\n",
       "-21.817    86.6212\n",
       "\n",
       "-22.8858   86.6212"
      ]
     },
     "execution_count": 6,
     "metadata": {
      "text/html": [],
      "text/plain": []
     },
     "output_type": "execute_result"
    }
   ],
   "source": [
    "Rover1LineInPark[[1;;5]] // MatrixForm"
   ]
  },
  {
   "cell_type": "markdown",
   "metadata": {},
   "source": [
    "# МНК"
   ]
  },
  {
   "cell_type": "code",
   "execution_count": 7,
   "metadata": {},
   "outputs": [
    {
     "data": {
      "text/html": [
       "<div><img alt=\"Output\" src=\"data:image/png;base64,iVBORw0KGgoAAAANSUhEUgAAAIIAAAAPCAIAAACnT4CsAAAAy3pUWHRSYXcgcHJvZmlsZSB0eXBlIGV4aWYAAHjabU9bDgMhCPz3FD0CAg56HLd1k96gxy+upI1NJ5GB4SVpvJ5nuk1wpqTFKhpADm3auLtTaWFxpnbZJXHk8q4nOkPvLpVvAiP0Y9cNi7n+DooNMje4LxoNMUh46bmv+Ih67rXug4Q2aP18/X8sxijIpm6VyQzN/ZrcdUJhKoYTd8ALMx5MenceMPM22KyQPhsneNhePRLEhcc8QebL0p3FrYhfFIpKuazyEdnrkPQGWR9auwxGnaoAAAAJcEhZcwAACxMAAAsTAQCanBgAAAA8dEVYdFNvZnR3YXJlAENyZWF0ZWQgd2l0aCB0aGUgV29sZnJhbSBMYW5ndWFnZSA6IHd3dy53b2xmcmFtLmNvbVyipoUAAAAhdEVYdENyZWF0aW9uIFRpbWUAMjAyMTowMzozMCAyMTo0NTo0NKpS6v0AAAH+SURBVFiF7ZgxesIwDIWlngV6CHMCcoCu3cxID8DYA5iRHkScgBv062LfxR2CEzl5ttOpGfImYkvyLylRAI4x0qb/1st/A2wi2tqwEm1tWIX6NoTrgZn5dFc7zzVmPlxDWryfeFBmPZUyhO7JWQdsRy0Iojaw1DkgqTFiZgvdYfUWF+qpGMWScd47Q1ZiklhKl+OO2NGk94pNeWeehvoE7L005sxrjlpCmQPApFCgojus3t8KReiQzNc7Q888x5IurxhuIvKv1zB6EXgeRi1YAgCYFGKp8U/sq4USqyDFEhnncRuGi97KqVBiiWq55qcR5Z7qrgV01caKg7sVVESEAWZJ9Q3NE6jxg7bVCpVCDTnXXtH3E3ck8XF+VUOwI4kxCnWtOXy89Udefvb9dDzevPvumJn5nd5sbh2un1/2ct7BUCGEEIjIpw9tVEyEAGBSu/NjKDB97Nv802zqhUqhOpJHnzPup1ii7Fm3MjFR90ZD6DYvP8RzeS8iIs5aJyKz0QRRmxoMm0lBtuk5+fWCQnlnjBmtCm3QtRviaKAJXDbvchXeAnptUUsLQwmjNqgUQCWpIUaLH7WhFjMhj3s0DvEkPf+ISFPokTm9GeYFKHtnpak+Cgq91AaMiqgwAEpKrTX4cfVKhUoe2ZcK4zzH7T+lFWj7Fb0KbW1YhX4BtstaVQIVWLQAAAAASUVORK5CYII=\"></div>"
      ],
      "text/plain": [
       "108.397 + 0.985918 x"
      ]
     },
     "execution_count": 7,
     "metadata": {
      "text/html": [],
      "text/plain": []
     },
     "output_type": "execute_result"
    }
   ],
   "source": [
    "LSline = Fit[Rover1LineInPark, {x, 1}, x]"
   ]
  },
  {
   "cell_type": "code",
   "execution_count": 8,
   "metadata": {},
   "outputs": [
    {
     "data": {
      "text/html": [
       "<div><img alt=\"Output\" src=\"data:image/png;base64,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\"></div>"
      ],
      "text/plain": [
       "-Graphics-"
      ]
     },
     "execution_count": 8,
     "metadata": {
      "text/html": [],
      "text/plain": []
     },
     "output_type": "execute_result"
    }
   ],
   "source": [
    "Show[ListPlot[Rover1Data[[320;;400]], PlotStyle -> Blue],\n",
    "    Plot[LSline, {x, -100, 0}, PlotStyle -> {Thickness[0.007], Red}],\n",
    "    PlotRange -> All]"
   ]
  },
  {
   "cell_type": "markdown",
   "metadata": {},
   "source": [
    "# РНК"
   ]
  },
  {
   "cell_type": "code",
   "execution_count": 9,
   "metadata": {},
   "outputs": [],
   "source": [
    "{u, s, v} = SingularValueDecomposition[Rover1LineInPark];"
   ]
  },
  {
   "cell_type": "code",
   "execution_count": 10,
   "metadata": {},
   "outputs": [
    {
     "data": {
      "text/html": [
       "<div><img alt=\"Output\" src=\"data:image/png;base64,iVBORw0KGgoAAAANSUhEUgAAAJgAAAAfCAIAAACUFZMWAAAAy3pUWHRSYXcgcHJvZmlsZSB0eXBlIGV4aWYAAHjabU/bDQMhDPtnio4QkuDAOFyPk7pBx294VCeqWiI2zgMS2vt1hUcHRwqaLKMA5NCihauLTBOTI5URB8o3F3c/xGv51a10J9CWf+y+YTLnn0HEU0h/wbXoaliDhKcf67wfq55rzvsgoQ16f/3/XYyREE09KpMZiuscXDohMSXDhSfghREnkz6dG8y8DdYrpPbGDm62V7cAcePsK0g/UaqzeBTxjZajkkZUPlZ2LBI+ZNBaw4MIufYAAAAJcEhZcwAACxMAAAsTAQCanBgAAAA8dEVYdFNvZnR3YXJlAENyZWF0ZWQgd2l0aCB0aGUgV29sZnJhbSBMYW5ndWFnZSA6IHd3dy53b2xmcmFtLmNvbVyipoUAAAAhdEVYdENyZWF0aW9uIFRpbWUAMjAyMTowMzozMCAyMTo0NTo0NKpS6v0AAANCSURBVGiB7Vs9dqMwEB7tWQyFX06ATwBptnKbTi7tZjuX7rbBpd2lTZXG4gTOCfwogLtoC2wY/SCJmI3BT18VC83Pp5FGQkMI5xw8po9fckOVZVUfBdV+QWos9gbBbEVErDKpGYtfldZ9FA1Cc9teK+gwNCQXrV3JdGtVw6WDddvb4nOWaZ5zESxNS+4ORgEo45xzXqbR7U8HqUgyU6bRra1+KqrDv5A0knI1NAgXnV1GW5HGro6LQQ+jEFFqH0dNlMDaw6hQHFNwiqSWltIoNuBRkoepn6FO9OCitatMRQdHFJKmqAseKHESU2tVQDiz5RTc/QIv4QwgW5HgY5lSuBT2lPR3A+mfuPlZp5ngY1keYpPc8bPOJ9V+d2zMR8vwtOjIhpKh4bjo7c7WZ77NA0II+fzNz2vjOGpYZ6vkkr6bxRoEAKXYIgSyOkGoJ14JUJxKgPHzOnTwoNrvjnSL3I0P9Yza5oFha4gPZXpJCCGEvMGSNu1fmx2813P0ZfOGQ6kYcoIrF43dar8gCTDOOYPEtskqrLNVAswSfYTZKxTSYJkX7DUDlExA04lRACEhWXKCaU+T8lG3tuZJmUZIQsi+ts1Tb9+Ri9auIIG2W4u2Np3KsLgvxwoHskxT5x1F8EPnPKOgbDNSly5NV2f05HGIUB8xciZDA3DR2ZX9cpuUHcc+B9/lYOFA9jzptHY1U0hzXtCsEkY1ExA1AtyUtGYUnUr7N5bjd7jIdvGyQidslYuWtaDaKZBUkIXuRx6jhrTshMPOvM+R1eOxkA6uKJBlnv+4Nx5DAa/I+Tx4mB8e/ZHjF13lrtVjIpiFc/zTB/JJ4AP5JPCBfBL4QE4VVSG8ZOBA5rl0o25XNpFK7CAsRl4bb+8Gel+1TqgSOwwLUerBtXEpXHdc0U2qEjsEC4t/P1wb776ik15MbJhWJXYAFsiZEdbG8R6plp3tmEoldhgWADCW2rjyMYdhtVowsUrs3Sxa18ZQGzcVlvsed6ZVib2fhaaL0bf/WRtXQgXy416zekqV2KFYjKI2ri65+z6H9HgQbJ9DQhxC2etDc49HICvgVToDyVd0cVicfCRHjgxC5SxLuP8nnqeAvzR/EvwDUhxxdbJ6u6kAAAAASUVORK5CYII=\"></div>"
      ],
      "text/plain": [
       "-0.731967   0.68134\n",
       "\n",
       "0.68134     0.731967"
      ]
     },
     "execution_count": 10,
     "metadata": {
      "text/html": [],
      "text/plain": []
     },
     "output_type": "execute_result"
    }
   ],
   "source": [
    "v // MatrixForm"
   ]
  },
  {
   "cell_type": "code",
   "execution_count": 11,
   "metadata": {},
   "outputs": [
    {
     "data": {
      "text/html": [
       "<div><img alt=\"Output\" src=\"data:image/png;base64,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\"></div>"
      ],
      "text/plain": [
       "695.267   0.\n",
       "\n",
       "0.        274.661\n",
       "\n",
       "0.        0."
      ]
     },
     "execution_count": 11,
     "metadata": {
      "text/html": [],
      "text/plain": []
     },
     "output_type": "execute_result"
    }
   ],
   "source": [
    "s[[1;;3]] // MatrixForm"
   ]
  },
  {
   "cell_type": "code",
   "execution_count": 12,
   "metadata": {},
   "outputs": [
    {
     "data": {
      "text/html": [
       "<div><pre style=\"&#102;&#111;&#110;&#116;&#45;&#102;&#97;&#109;&#105;&#108;&#121;&#58;&#32;&#34;&#67;&#111;&#117;&#114;&#105;&#101;&#114;&#32;&#78;&#101;&#119;&#34;&#44;&#67;&#111;&#117;&#114;&#105;&#101;&#114;&#44;&#109;&#111;&#110;&#111;&#115;&#112;&#97;&#99;&#101;&#59;\">&#45;&#48;&#46;&#57;&#51;&#48;&#56;&#51;&#51;</pre></div>"
      ],
      "text/plain": [
       "-0.930833"
      ]
     },
     "execution_count": 12,
     "metadata": {
      "text/html": [],
      "text/plain": []
     },
     "output_type": "execute_result"
    }
   ],
   "source": [
    "a1 = - v[[2]][[1]] / v[[2]][[2]]"
   ]
  },
  {
   "cell_type": "code",
   "execution_count": 13,
   "metadata": {},
   "outputs": [
    {
     "data": {
      "text/html": [
       "<div><pre style=\"&#102;&#111;&#110;&#116;&#45;&#102;&#97;&#109;&#105;&#108;&#121;&#58;&#32;&#34;&#67;&#111;&#117;&#114;&#105;&#101;&#114;&#32;&#78;&#101;&#119;&#34;&#44;&#67;&#111;&#117;&#114;&#105;&#101;&#114;&#44;&#109;&#111;&#110;&#111;&#115;&#112;&#97;&#99;&#101;&#59;\">&#45;&#49;&#48;&#53;&#46;&#51;&#48;&#50;</pre></div>"
      ],
      "text/plain": [
       "-105.302"
      ]
     },
     "execution_count": 13,
     "metadata": {
      "text/html": [],
      "text/plain": []
     },
     "output_type": "execute_result"
    }
   ],
   "source": [
    "a2 = - Mean[Transpose[Rover1LineInPark][[1]]*a1 + Transpose[Rover1LineInPark][[2]]]"
   ]
  },
  {
   "cell_type": "code",
   "execution_count": 14,
   "metadata": {},
   "outputs": [
    {
     "data": {
      "text/html": [
       "<div><img alt=\"Output\" src=\"data:image/png;base64,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\"></div>"
      ],
      "text/plain": [
       "-Graphics-"
      ]
     },
     "execution_count": 14,
     "metadata": {
      "text/html": [],
      "text/plain": []
     },
     "output_type": "execute_result"
    }
   ],
   "source": [
    "Show[ListPlot[Rover1Data[[320;;400]], PlotStyle -> Blue],\n",
    "    Plot[- a2 - x*a1, {x, -100, 0}, PlotStyle -> {Thickness[0.007], Green}],\n",
    "    PlotRange -> All]"
   ]
  },
  {
   "cell_type": "markdown",
   "metadata": {},
   "source": [
    "# МНК и РНК"
   ]
  },
  {
   "cell_type": "code",
   "execution_count": 15,
   "metadata": {},
   "outputs": [
    {
     "data": {
      "text/html": [
       "<div><img alt=\"Output\" src=\"data:image/png;base64,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\"></div>"
      ],
      "text/plain": [
       "Legended[Legended[-Graphics-, Placed[LineLegend[{Directive[Opacity[1.], \n",
       " \n",
       ">        AbsoluteThickness[1.6], Thickness[0.005], RGBColor[1, 0, 0]]}, \n",
       " \n",
       ">      {МНК, RGBColor[1, 0, 0]}, LegendMarkers -> None, LabelStyle -> {}, \n",
       " \n",
       ">      LegendLayout -> Column], After, Identity]], \n",
       " \n",
       ">   Placed[LineLegend[{Directive[Opacity[1.], AbsoluteThickness[1.6], Thickness[0.005], \n",
       " \n",
       ">       RGBColor[0, 1, 0]]}, {РНК, RGBColor[0, 1, 0]}, LegendMarkers -> None, \n",
       " \n",
       ">     LabelStyle -> {}, LegendLayout -> Column], After, Identity]]"
      ]
     },
     "execution_count": 15,
     "metadata": {
      "text/html": [],
      "text/plain": []
     },
     "output_type": "execute_result"
    }
   ],
   "source": [
    "Show[ListPlot[Rover1Data[[320;;400]], PlotStyle -> Blue],\n",
    "    Plot[LSline, {x, -100, -10}, PlotStyle -> {Thickness[0.005], Red}, PlotLegends -> {\"МНК\", Red}],\n",
    "    Plot[- a2 - x*a1, {x, -100, -10}, PlotStyle -> {Thickness[0.005], Green}, PlotLegends -> {\"РНК\", Green}],\n",
    "    PlotRange -> {{-100, 10}, {0, 100}}, ImageSize -> 800]"
   ]
  },
  {
   "cell_type": "code",
   "execution_count": 16,
   "metadata": {},
   "outputs": [
    {
     "data": {
      "text/html": [
       "<div><pre style=\"&#102;&#111;&#110;&#116;&#45;&#102;&#97;&#109;&#105;&#108;&#121;&#58;&#32;&#34;&#67;&#111;&#117;&#114;&#105;&#101;&#114;&#32;&#78;&#101;&#119;&#34;&#44;&#67;&#111;&#117;&#114;&#105;&#101;&#114;&#44;&#109;&#111;&#110;&#111;&#115;&#112;&#97;&#99;&#101;&#59;\">&#45;&#48;&#46;&#48;&#53;&#53;&#48;&#56;&#52;&#52;</pre></div>"
      ],
      "text/plain": [
       "-0.0550844"
      ]
     },
     "execution_count": 16,
     "metadata": {
      "text/html": [],
      "text/plain": []
     },
     "output_type": "execute_result"
    }
   ],
   "source": [
    "deltaAngle = - a1 - LSline[[2]][[1]]"
   ]
  },
  {
   "cell_type": "code",
   "execution_count": 17,
   "metadata": {},
   "outputs": [
    {
     "data": {
      "text/html": [
       "<div><pre style=\"&#102;&#111;&#110;&#116;&#45;&#102;&#97;&#109;&#105;&#108;&#121;&#58;&#32;&#34;&#67;&#111;&#117;&#114;&#105;&#101;&#114;&#32;&#78;&#101;&#119;&#34;&#44;&#67;&#111;&#117;&#114;&#105;&#101;&#114;&#44;&#109;&#111;&#110;&#111;&#115;&#112;&#97;&#99;&#101;&#59;\">&#123;&#45;&#52;&#44;&#32;&#53;&#48;&#44;&#32;&#51;&#56;&#46;&#48;&#50;&#50;&#54;&#125;</pre></div>"
      ],
      "text/plain": [
       "{-4, 50, 38.0226}"
      ]
     },
     "execution_count": 17,
     "metadata": {
      "text/html": [],
      "text/plain": []
     },
     "output_type": "execute_result"
    }
   ],
   "source": [
    "deltaAngleInForm = {Floor[deltaAngle*180/Pi],\n",
    "                Floor[Mod[deltaAngle*180/Pi, 1]*60],\n",
    "                Mod[Mod[deltaAngle*180/Pi, 1]*60, 1]*60}"
   ]
  },
  {
   "cell_type": "markdown",
   "metadata": {},
   "source": [
    "# std МНК"
   ]
  },
  {
   "cell_type": "code",
   "execution_count": 18,
   "metadata": {},
   "outputs": [
    {
     "data": {
      "text/html": [
       "<div><pre style=\"&#102;&#111;&#110;&#116;&#45;&#102;&#97;&#109;&#105;&#108;&#121;&#58;&#32;&#34;&#67;&#111;&#117;&#114;&#105;&#101;&#114;&#32;&#78;&#101;&#119;&#34;&#44;&#67;&#111;&#117;&#114;&#105;&#101;&#114;&#44;&#109;&#111;&#110;&#111;&#115;&#112;&#97;&#99;&#101;&#59;\">&#123;&#125;</pre></div>"
      ],
      "text/plain": [
       "{}"
      ]
     },
     "execution_count": 18,
     "metadata": {
      "text/html": [],
      "text/plain": []
     },
     "output_type": "execute_result"
    }
   ],
   "source": [
    "inDistMHK = {}"
   ]
  },
  {
   "cell_type": "code",
   "execution_count": 19,
   "metadata": {},
   "outputs": [],
   "source": [
    "For[i = 1, i <= Dimensions[Rover1LineInPark][[1]], i++, \n",
    "            AppendTo[inDistMHK, {EuclideanDistance[Rover1LineInPark[[i]], \n",
    "            {Rover1LineInPark[[i]][[1]], LSline[[1]] + Rover1LineInPark[[i]][[1]]*LSline[[2]][[1]]}]}]]"
   ]
  },
  {
   "cell_type": "code",
   "execution_count": 20,
   "metadata": {},
   "outputs": [
    {
     "data": {
      "text/html": [
       "<div><pre style=\"&#102;&#111;&#110;&#116;&#45;&#102;&#97;&#109;&#105;&#108;&#121;&#58;&#32;&#34;&#67;&#111;&#117;&#114;&#105;&#101;&#114;&#32;&#78;&#101;&#119;&#34;&#44;&#67;&#111;&#117;&#114;&#105;&#101;&#114;&#44;&#109;&#111;&#110;&#111;&#115;&#112;&#97;&#99;&#101;&#59;\">&#49;&#46;&#53;&#53;&#52;&#52;&#54;</pre></div>"
      ],
      "text/plain": [
       "1.55446"
      ]
     },
     "execution_count": 20,
     "metadata": {
      "text/html": [],
      "text/plain": []
     },
     "output_type": "execute_result"
    }
   ],
   "source": [
    "Sqrt[Max[inDistMHK]]"
   ]
  },
  {
   "cell_type": "markdown",
   "metadata": {},
   "source": [
    "# std РНК"
   ]
  },
  {
   "cell_type": "code",
   "execution_count": 21,
   "metadata": {},
   "outputs": [
    {
     "data": {
      "text/html": [
       "<div><pre style=\"&#102;&#111;&#110;&#116;&#45;&#102;&#97;&#109;&#105;&#108;&#121;&#58;&#32;&#34;&#67;&#111;&#117;&#114;&#105;&#101;&#114;&#32;&#78;&#101;&#119;&#34;&#44;&#67;&#111;&#117;&#114;&#105;&#101;&#114;&#44;&#109;&#111;&#110;&#111;&#115;&#112;&#97;&#99;&#101;&#59;\">&#123;&#125;</pre></div>"
      ],
      "text/plain": [
       "{}"
      ]
     },
     "execution_count": 21,
     "metadata": {
      "text/html": [],
      "text/plain": []
     },
     "output_type": "execute_result"
    }
   ],
   "source": [
    "inDistPHK = {}"
   ]
  },
  {
   "cell_type": "code",
   "execution_count": 22,
   "metadata": {},
   "outputs": [],
   "source": [
    "For[i = 1, i <= Dimensions[Rover1LineInPark][[1]], i++, \n",
    "            AppendTo[inDistPHK, {EuclideanDistance[Rover1LineInPark[[i]], \n",
    "            {Rover1LineInPark[[i]][[1]], - a2 - Rover1LineInPark[[i]][[1]]*a1}]}]]"
   ]
  },
  {
   "cell_type": "code",
   "execution_count": 23,
   "metadata": {},
   "outputs": [
    {
     "data": {
      "text/html": [
       "<div><pre style=\"&#102;&#111;&#110;&#116;&#45;&#102;&#97;&#109;&#105;&#108;&#121;&#58;&#32;&#34;&#67;&#111;&#117;&#114;&#105;&#101;&#114;&#32;&#78;&#101;&#119;&#34;&#44;&#67;&#111;&#117;&#114;&#105;&#101;&#114;&#44;&#109;&#111;&#110;&#111;&#115;&#112;&#97;&#99;&#101;&#59;\">&#50;&#46;&#48;&#56;&#57;&#50;&#54;</pre></div>"
      ],
      "text/plain": [
       "2.08926"
      ]
     },
     "execution_count": 23,
     "metadata": {
      "text/html": [],
      "text/plain": []
     },
     "output_type": "execute_result"
    }
   ],
   "source": [
    "Sqrt[Max[inDistPHK]]"
   ]
  },
  {
   "cell_type": "markdown",
   "metadata": {},
   "source": [
    "# Задание 2.2/2.4"
   ]
  },
  {
   "cell_type": "code",
   "execution_count": 24,
   "metadata": {},
   "outputs": [],
   "source": [
    "Rover1Data2 = Import[\"RV1-red3.txt\", \"Data\"];"
   ]
  },
  {
   "cell_type": "code",
   "execution_count": 25,
   "metadata": {},
   "outputs": [],
   "source": [
    "Rover1DataXH = Import[\"RV1-redxh.txt\", \"Data\"];"
   ]
  },
  {
   "cell_type": "code",
   "execution_count": 26,
   "metadata": {},
   "outputs": [
    {
     "data": {
      "text/html": [
       "<div><pre style=\"&#102;&#111;&#110;&#116;&#45;&#102;&#97;&#109;&#105;&#108;&#121;&#58;&#32;&#34;&#67;&#111;&#117;&#114;&#105;&#101;&#114;&#32;&#78;&#101;&#119;&#34;&#44;&#67;&#111;&#117;&#114;&#105;&#101;&#114;&#44;&#109;&#111;&#110;&#111;&#115;&#112;&#97;&#99;&#101;&#59;\">&#123;&#49;&#50;&#53;&#54;&#44;&#32;&#51;&#125;</pre></div>"
      ],
      "text/plain": [
       "{1256, 3}"
      ]
     },
     "execution_count": 26,
     "metadata": {
      "text/html": [],
      "text/plain": []
     },
     "output_type": "execute_result"
    }
   ],
   "source": [
    "Dimensions[Rover1Data2]"
   ]
  },
  {
   "cell_type": "code",
   "execution_count": 27,
   "metadata": {},
   "outputs": [
    {
     "data": {
      "text/html": [
       "<div><pre style=\"&#102;&#111;&#110;&#116;&#45;&#102;&#97;&#109;&#105;&#108;&#121;&#58;&#32;&#34;&#67;&#111;&#117;&#114;&#105;&#101;&#114;&#32;&#78;&#101;&#119;&#34;&#44;&#67;&#111;&#117;&#114;&#105;&#101;&#114;&#44;&#109;&#111;&#110;&#111;&#115;&#112;&#97;&#99;&#101;&#59;\">&#123;&#49;&#50;&#53;&#54;&#44;&#32;&#50;&#125;</pre></div>"
      ],
      "text/plain": [
       "{1256, 2}"
      ]
     },
     "execution_count": 27,
     "metadata": {
      "text/html": [],
      "text/plain": []
     },
     "output_type": "execute_result"
    }
   ],
   "source": [
    "Dimensions[Rover1DataXH]"
   ]
  },
  {
   "cell_type": "code",
   "execution_count": 28,
   "metadata": {},
   "outputs": [
    {
     "data": {
      "text/html": [
       "<div><img alt=\"Output\" src=\"data:image/png;base64,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\"></div>"
      ],
      "text/plain": [
       "2.26348     -4.34219    207.\n",
       "\n",
       "1.19462     -4.34219    207.\n",
       "\n",
       "1.19462     -4.34219    207.\n",
       "\n",
       "0.188623    -2.44944    207.\n",
       "\n",
       "-0.880243   -2.44944    207."
      ]
     },
     "execution_count": 28,
     "metadata": {
      "text/html": [],
      "text/plain": []
     },
     "output_type": "execute_result"
    }
   ],
   "source": [
    "Rover1Data2[[1;;5]] //  MatrixForm"
   ]
  },
  {
   "cell_type": "code",
   "execution_count": 29,
   "metadata": {},
   "outputs": [
    {
     "data": {
      "text/html": [
       "<div><img alt=\"Output\" src=\"data:image/png;base64,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\"></div>"
      ],
      "text/plain": [
       "2.26348     207.\n",
       "\n",
       "1.19462     207.\n",
       "\n",
       "1.19462     207.\n",
       "\n",
       "0.188623    207.\n",
       "\n",
       "-0.880243   207."
      ]
     },
     "execution_count": 29,
     "metadata": {
      "text/html": [],
      "text/plain": []
     },
     "output_type": "execute_result"
    }
   ],
   "source": [
    "Rover1DataXH[[1;;5]] //  MatrixForm"
   ]
  },
  {
   "cell_type": "code",
   "execution_count": 30,
   "metadata": {},
   "outputs": [
    {
     "data": {
      "text/html": [
       "<div><img alt=\"Output\" src=\"data:image/png;base64,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\"></div>"
      ],
      "text/plain": [
       "-Graphics3D-"
      ]
     },
     "execution_count": 30,
     "metadata": {
      "text/html": [],
      "text/plain": []
     },
     "output_type": "execute_result"
    }
   ],
   "source": [
    "Show[ListPointPlot3D[Rover1Data2, PlotStyle -> Red, AxesLabel -> {x, y, z}],\n",
    "    ListPointPlot3D[Rover1Data2[[315;;400]], PlotStyle -> Blue, AxesLabel -> {x, y, z}],\n",
    "    PlotRange -> All, AspectRatio -> 1/GoldenRatio]"
   ]
  },
  {
   "cell_type": "code",
   "execution_count": 31,
   "metadata": {},
   "outputs": [],
   "source": [
    "Rover1LineInPark3D = Rover1Data2[[320;;400]];"
   ]
  },
  {
   "cell_type": "code",
   "execution_count": 32,
   "metadata": {},
   "outputs": [
    {
     "data": {
      "text/html": [
       "<div><img alt=\"Output\" src=\"data:image/png;base64,iVBORw0KGgoAAAANSUhEUgAAAK8AAABSCAIAAACt/BPlAAAAzHpUWHRSYXcgcHJvZmlsZSB0eXBlIGV4aWYAAHjabU9BDgMhCLz7ij5BAQd9jrvrJv1Bn19U0samk8jgMKCE/nre4TFAKQbJWlCBaJAqlZolJS4sTrHOONFur6VdD5lcbyblbwHd9WPXFYup/AyKPojHC5azeIMPYlp6aut+uJ9aKfsgjhukfL7+/85KyEgqFoWiKqrlJVhqBNswK26cgBkTLopyGneoWht0OLiNxgHqurt7AJtwjRV4nMTNmC0y20auCOcZQYdX5yLhDaHCWusNrgaLAAAACXBIWXMAAAsTAAALEwEAmpwYAAAAPHRFWHRTb2Z0d2FyZQBDcmVhdGVkIHdpdGggdGhlIFdvbGZyYW0gTGFuZ3VhZ2UgOiB3d3cud29sZnJhbS5jb21coqaFAAAAIXRFWHRDcmVhdGlvbiBUaW1lADIwMjE6MDM6MzAgMjE6NDU6NDZEXIvRAAAH4ElEQVR4nO2dr28bSxDH9x5pmWHzB9iRVQUEX0ioHWJkmqJzWUyeVFApxFJBiI2qmERlVUhNeoYuiVvWAquVcie1rIEpcov2gXO8v2b3Zs93+fE6H+bxemZ2b25vc/fNXsA5ZwTBGGPsn7tOgLhHbF4N6WgvCIKgN5Vs016wQjHriGZA68yvsKziBEGwN0qdRlREKRTeCdgS8CnamWOg98s3HDjgvuNgYcNqmPaCQ/YmGYZqZm0Wc8455zFrO9JrnXJBHLHwaUM4bpzvRMJtOjr8+pJzznkyZP3DzCdotAMnNu01+juZNemeNxyHCQpn72wU3/TstCUPmNovZ7pA76AB9x0HB9zg+PjYNDpJhqHU+ThSP4TDpICLcJioNi59aZpBo9nGTExKMBvjPC9qOLizlszd/cKEW2H3gBkHzjnnr1+/No363DCZTDqdTuHaWjGeZGdYOhqMUT+YnvTZ8N/VOTTttRfDN0d1uGl6uWBRp4UwYhJLLxdsZ7vO2LQXNM67w4gtLvNPLSWcpbPjtj51u/uFDVdSy/39/aurK82oV8OXL192d3fNKAruOK3TZLjIhuKQdSNEZuloMI5eroZp2muz+MI2Ztm8ftrKN/okNu0FbRbzi6NtRLZKONhn/ehifRazfnb1cfcLGa6slow1m81Pnz7pVnmi+PnzJziBJEmsoM/89okLMykmw1BcTbQrImOMqTO57g005rNOLI60CG5frnDgr1e9c/XLPxwQqcA4vHv3brlcyhalGs7Ozr5//+7j0Jrc2q50OY6YkbL9Sqe4LbMUlMSkhYOWipGtM5zR2bUP3YpdN9jD6R6sLaEBX/Pt27ezszPZolTDixcv8nM0o0lEMZfPb6h+VSM8huK7VWPj1Ipii9GFJTFhVjLRs4XDgT6lpkDncNUAh4MG3D4Oueti7YhvWA3Ew6bf78sflVWkucgk/t/UajX5o1INjx8/vt1kiDvmz58/8kelGp48eXK7yRB3jHY1UKrh169ft5sMcb9QquH6+vqu8iDuA/REmxBQNRACqgZCUF41bKhGkZUvhsQF0ovgBCPWKKR2ASirGizSDKyQZNpba0Z4HI0Ho5RZlB2gEZsjqV1ykG9MPnv2rIS7nbISBCskkR5X6PoY65NB76dVpHYx0I54+euGteDCR0hSP7rgL782giAIJh1eRAWAg9QuTnyrIU/2YggucEKSdLQXZDNuzNqbXfvskNolD79qSNNEQT1oN4d0lU59e4eN24OnCT+VZwrQ7/vzeZR1o3UaR/P+SYEVIoL1Ubo4YFk6Hklmmap9BH0qEQ+6IVtcpuloML6ZLhr9ORu3UQs+M9zmLV04riJeQIILtJBEVjnoiofy1g3qz0ntwo0jXlI12AQXSCGJ6uDGDkppQKN3lqR2yaimGoiHSeV/UxAPF6oGQkDVQAioGggBVQMhoGogBFQNhICqgRD8tWoX6fdwaCsbbTqzjoV5MkdqlwrVLrYogNHlQ5WrgH2E5SfpaC8YPF3dqM5/mklqF16l2gWO4ggN9k2Vq+T2UTwJw25zA4cltUvZgFE8Qptyldw+CvlJerkIu9vv9wpM6KR2qQIwCjq0Xa5i7aM2GvP+gL3JTuEd/IR+i2oXvyuFe5MX/Sk7ftsU5UttsivvSgFGcYXWf6wTDhN7H/XRSIahdKFQ9JTulCvb24VX90T7AahdwCiO0FapiBwd7iM0GtrmJPlrCFK7SL8tX+0CRoGNYJLyN5AKRl1PukaD1C7E/YPULoQVqgZCQNVACKgaCAFVAyGgaiAEVA2EgKqBEFSsdsErU5BqF+fLj/KxCVvwIhSzZXWaFI8h3UABJFGx2gWrTEGrXRwvP8oHFrbgRShQy+o0KXjPmyiAVBz3KQuCl2aobXzULli/iCh4EUpey8o0KTjPRZ7k3Z7axYcCahfl5UfFo+BFKHktq9OkbKhhwVO52gXp1lftorz8aMMoeBGKo2V1mpTNNSxoKtzbxcev594u6ejQe2KwRwnX6rZWJ5p/TeweLC2r24GlnB1b0PhVQ73eUpAVgqO9Rn8Hm/e0ZyyAbwSF6eUib204PenPvScGS5T6QZfdlEU6GoyVd3IqSVpa4jvuN0T+7QGAcXbiWFN4gJdmSM0LqV2wwqHcNMFNW3LULmbLMjQpGw+pxzhrkNqFEJDahbBC1UAIqBoIAVUDIaBqIARUDYSAqoEQKNWwtbV1V3kQ9wGlGh49euTtoIotXQCj5d1AntuykNpFQ387suPOFIJkGJr3i0EjiPyfymv1AGgEH96DLR3A7fF3uqGWYGfBd9Tgh8XXc9FX4nB+fHwsf1SqQXvjuh+ggiNH1oHfbMWq7/DRrJDaRUc74qW9VR1UZOTJNPw2WzHeDeSrkSG1i452xJVqqNVqv3//BvMpInLJl2ngN1uB3g3krZEhtYvC9fV1rVZTTPJEMZvNZrOZOZ/4beliNxp+C222omzEgdmWJS8ccssVe8vqdmDBey5wpZjNZp8/f5Ytytywv7//4cMHs4h8RS5WmQZW5OJSvkxP+vOwe1DPbwlBahfBjx8/dnd3FZNWL69evVoul9jqAhUZPluNoDdbkWzSCWrblgWT71+udlkulx8/ftSMAedcdnR1dTWZTJ4/f86I/zVv377tdDquVSRjbGtrq9ls3mJWxN3QbDbNPyH1uYH4m6GnVoTgP3sV3mLXiFiUAAAAAElFTkSuQmCC\"></div>"
      ],
      "text/plain": [
       "-19.7422   90.2954    212.\n",
       "\n",
       "-20.811    90.2954    212.\n",
       "\n",
       "-20.811    88.4026    212.\n",
       "\n",
       "-21.817    86.6212    211.\n",
       "\n",
       "-22.8858   86.6212    211."
      ]
     },
     "execution_count": 32,
     "metadata": {
      "text/html": [],
      "text/plain": []
     },
     "output_type": "execute_result"
    }
   ],
   "source": [
    "Rover1LineInPark3D[[1;;5]] // MatrixForm"
   ]
  },
  {
   "cell_type": "code",
   "execution_count": 33,
   "metadata": {},
   "outputs": [
    {
     "data": {
      "text/html": [
       "<div><img alt=\"Output\" src=\"data:image/png;base64,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\"></div>"
      ],
      "text/plain": [
       "-88.904    21.6005    210.\n",
       "\n",
       "-89.9729   19.8191    210.\n",
       "\n",
       "-90.9789   19.8192    210.\n",
       "\n",
       "-92.0478   17.9264    210.\n",
       "\n",
       "-92.0478   17.9264    210.\n",
       "\n",
       "-93.1167   16.0337    210."
      ]
     },
     "execution_count": 33,
     "metadata": {
      "text/html": [],
      "text/plain": []
     },
     "output_type": "execute_result"
    }
   ],
   "source": [
    "Rover1LineInPark3D[[76;;81]] // MatrixForm"
   ]
  },
  {
   "cell_type": "code",
   "execution_count": 34,
   "metadata": {},
   "outputs": [
    {
     "data": {
      "text/html": [
       "<div><pre style=\"&#102;&#111;&#110;&#116;&#45;&#102;&#97;&#109;&#105;&#108;&#121;&#58;&#32;&#34;&#67;&#111;&#117;&#114;&#105;&#101;&#114;&#32;&#78;&#101;&#119;&#34;&#44;&#67;&#111;&#117;&#114;&#105;&#101;&#114;&#44;&#109;&#111;&#110;&#111;&#115;&#112;&#97;&#99;&#101;&#59;\">&#123;&#56;&#49;&#44;&#32;&#51;&#125;</pre></div>"
      ],
      "text/plain": [
       "{81, 3}"
      ]
     },
     "execution_count": 34,
     "metadata": {
      "text/html": [],
      "text/plain": []
     },
     "output_type": "execute_result"
    }
   ],
   "source": [
    "Dimensions[Rover1LineInPark3D]"
   ]
  },
  {
   "cell_type": "code",
   "execution_count": 35,
   "metadata": {},
   "outputs": [],
   "source": [
    "Rover1LineInPark3DXH = Rover1DataXH[[320;;400]];"
   ]
  },
  {
   "cell_type": "markdown",
   "metadata": {},
   "source": [
    "### МНК"
   ]
  },
  {
   "cell_type": "code",
   "execution_count": 36,
   "metadata": {},
   "outputs": [
    {
     "data": {
      "text/html": [
       "<div><img alt=\"Output\" src=\"data:image/png;base64,iVBORw0KGgoAAAANSUhEUgAAANIAAAAPCAIAAAAeWwbkAAAAzHpUWHRSYXcgcHJvZmlsZSB0eXBlIGV4aWYAAHjabVBbDgMhCPz3FD2CAg56HHfXTXqDHr+opI1NJ5HB4SWG/nre4TFAKQbJWlCBaJAqlZo5JS4sTrFOO3GRx9Kuh3i73kzK3wC668euKxZT+W3kE3hMMJ/FC7wR09JTW/fD86mVsjfiuEHK5+n/76yEjKRiViiqoppfgrlGyBSz4sYJWGKCfYWcxh2qVgYdGdxG4QB13bN7AJtwjRV4nMTNmM0y20auCOdpQYdH5yLhDZo3WulZzIT6AAAACXBIWXMAAAsTAAALEwEAmpwYAAAAPHRFWHRTb2Z0d2FyZQBDcmVhdGVkIHdpdGggdGhlIFdvbGZyYW0gTGFuZ3VhZ2UgOiB3d3cud29sZnJhbS5jb21coqaFAAAAIXRFWHRDcmVhdGlvbiBUaW1lADIwMjE6MDM6MzAgMjE6NDU6NDZEXIvRAAADOElEQVRoge1ZO3arMBAdZS3gIscrwCuA17hym06Upknn0l0aUeIuLdVrLFZgVsBxgbQXvYKfQCM+cV5chFvZM1fM3NEgBpsopWDFip/Fy7MTWPEbsbbdiidgbbsVT8ALAICMd6TCLpaVvTMRQkiYwdDcMi2wMytPe0nIQiTQIszOSgvVZ7YOpABTzIaKK3pAlhUP6bXsrKkCNy5abodSgnmUK6WUEswDj4nmY23twCmARjX8c5icgkdpZ+K083LahF+C+Vl10JT2Pmt+syYos8p5JPDXRI3gQb22nTVVoMb5y8cAFkXYJbQCCuYB2GNYmWZ+WkHGN0hwjvrmZ6VfrMtgqi26mowwrRVHHJz2C7KwKx/VO9IcqGtO2425+vdq/a0328myALr3m6+XoHc+y7KA7cYByELipgdGoSjxI97GzMKgYJ9HR+c6x5s63V1CCPm7V7e+U4coyyWxLKgfO256EIlfr/cOm+vO9tDqajLFRMN9RMDe/Z7NTxSnlyDM6oKIEdHfrxcAjJ1dikXLneOJ5um1YsprmtPT0dHaLgvdaMvr5Jzjre1PiNze3BIAV7fjZirekJmFAXCjxDLekQC4UopDYBEipZQSAETzYTKWFX5SqTrd3XYOyaMzfFYnyTZ6G0xyWk1GmRhkfL7QE9JUfiJYERCCFaTR2+Kb9Vp3dh6+sNzfN30nr2l1F9Zt12x+4huLnD8HD4pSgrPZwiU4vwqV+Npdh6WGMCE+X5rbxI1yuASE7GIpr2lOq331E07z6MPQIaUQQojyfi+FEELIyVgzDg9/3x0TXnsC+3ua30UT16yJhYlDxm/mUafB8zx8XaW3xbfrbS/V7OzXMH+5/84gvUrIPqJtfRfWz9vROQ0ZvrS5tvlqTqMYczAETE3sWh7M4pqfFboITwariSXtgUsPbitqHX1csA0P6u1n2DPOme2WLm/JHmPd2yPUc6kGypXSrcPymlZstrUwzfz0+GPTsbXt5mfFKYyL0rvKrAnG1K85ZFo6St8uwbylrxSP6kV3FlWBGucvN1V3dqLW/2RX/ACykJxf27ente1W/ADqV6B2TF7/HFvxf5GFhJCgYPoPOPAPcyhEJnbc+w8AAAAASUVORK5CYII=\"></div>"
      ],
      "text/plain": [
       "250.048 + 0.362617 x - 0.351151 y"
      ]
     },
     "execution_count": 36,
     "metadata": {
      "text/html": [],
      "text/plain": []
     },
     "output_type": "execute_result"
    }
   ],
   "source": [
    "LSline3D = Fit[Rover1LineInPark3D, {x, y, 1}, {x, y}]"
   ]
  },
  {
   "cell_type": "code",
   "execution_count": 37,
   "metadata": {},
   "outputs": [
    {
     "data": {
      "text/html": [
       "<div><img alt=\"Output\" src=\"data:image/png;base64,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\"></div>"
      ],
      "text/plain": [
       "-Graphics3D-"
      ]
     },
     "execution_count": 37,
     "metadata": {
      "text/html": [],
      "text/plain": []
     },
     "output_type": "execute_result"
    }
   ],
   "source": [
    "Show[ListPointPlot3D[Rover1Data2[[320;;400]], PlotStyle -> Blue, AxesLabel -> {x, y, z}],\n",
    "    Plot3D[LSline3D, {x, -90, -10}, {y, 0, 100}, PlotStyle -> {Thickness[0.005], Red, Opacity[0.5]}],\n",
    "    PlotRange -> All, AspectRatio -> 1/GoldenRatio]"
   ]
  },
  {
   "cell_type": "markdown",
   "metadata": {},
   "source": [
    "### РНК"
   ]
  },
  {
   "cell_type": "code",
   "execution_count": 38,
   "metadata": {},
   "outputs": [],
   "source": [
    "{u3d, s3d, v3d} = SingularValueDecomposition[Rover1LineInPark3D];"
   ]
  },
  {
   "cell_type": "code",
   "execution_count": 39,
   "metadata": {},
   "outputs": [
    {
     "data": {
      "text/html": [
       "<div><img alt=\"Output\" src=\"data:image/png;base64,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\"></div>"
      ],
      "text/plain": [
       "-0.250012    -0.711436    0.656774\n",
       "\n",
       "0.2358       -0.702631    -0.671348\n",
       "\n",
       "0.939091     -0.0129779   0.343423"
      ]
     },
     "execution_count": 39,
     "metadata": {
      "text/html": [],
      "text/plain": []
     },
     "output_type": "execute_result"
    }
   ],
   "source": [
    "v3d // MatrixForm"
   ]
  },
  {
   "cell_type": "code",
   "execution_count": 40,
   "metadata": {},
   "outputs": [
    {
     "data": {
      "text/html": [
       "<div><img alt=\"Output\" src=\"data:image/png;base64,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\"></div>"
      ],
      "text/plain": [
       "2022.77   0.        0.\n",
       "\n",
       "0.        274.889   0.\n",
       "\n",
       "0.        0.        6.05597\n",
       "\n",
       "0.        0.        0."
      ]
     },
     "execution_count": 40,
     "metadata": {
      "text/html": [],
      "text/plain": []
     },
     "output_type": "execute_result"
    }
   ],
   "source": [
    "s3d[[1;;4]] // MatrixForm"
   ]
  },
  {
   "cell_type": "code",
   "execution_count": 41,
   "metadata": {},
   "outputs": [
    {
     "data": {
      "text/html": [
       "<div><pre style=\"&#102;&#111;&#110;&#116;&#45;&#102;&#97;&#109;&#105;&#108;&#121;&#58;&#32;&#34;&#67;&#111;&#117;&#114;&#105;&#101;&#114;&#32;&#78;&#101;&#119;&#34;&#44;&#67;&#111;&#117;&#114;&#105;&#101;&#114;&#44;&#109;&#111;&#110;&#111;&#115;&#112;&#97;&#99;&#101;&#59;\">&#49;&#46;&#57;&#49;&#50;&#52;&#51;</pre></div>"
      ],
      "text/plain": [
       "1.91243"
      ]
     },
     "execution_count": 41,
     "metadata": {
      "text/html": [],
      "text/plain": []
     },
     "output_type": "execute_result"
    }
   ],
   "source": [
    "a13D = v3d[[1]][[3]] / v3d[[3]][[3]]"
   ]
  },
  {
   "cell_type": "code",
   "execution_count": 42,
   "metadata": {},
   "outputs": [
    {
     "data": {
      "text/html": [
       "<div><pre style=\"&#102;&#111;&#110;&#116;&#45;&#102;&#97;&#109;&#105;&#108;&#121;&#58;&#32;&#34;&#67;&#111;&#117;&#114;&#105;&#101;&#114;&#32;&#78;&#101;&#119;&#34;&#44;&#67;&#111;&#117;&#114;&#105;&#101;&#114;&#44;&#109;&#111;&#110;&#111;&#115;&#112;&#97;&#99;&#101;&#59;\">&#45;&#49;&#46;&#57;&#53;&#52;&#56;&#55;</pre></div>"
      ],
      "text/plain": [
       "-1.95487"
      ]
     },
     "execution_count": 42,
     "metadata": {
      "text/html": [],
      "text/plain": []
     },
     "output_type": "execute_result"
    }
   ],
   "source": [
    "a23D = v3d[[2]][[3]] / v3d[[3]][[3]]"
   ]
  },
  {
   "cell_type": "code",
   "execution_count": 43,
   "metadata": {},
   "outputs": [
    {
     "data": {
      "text/html": [
       "<div><pre style=\"&#102;&#111;&#110;&#116;&#45;&#102;&#97;&#109;&#105;&#108;&#121;&#58;&#32;&#34;&#67;&#111;&#117;&#114;&#105;&#101;&#114;&#32;&#78;&#101;&#119;&#34;&#44;&#67;&#111;&#117;&#114;&#105;&#101;&#114;&#44;&#109;&#111;&#110;&#111;&#115;&#112;&#97;&#99;&#101;&#59;\">&#45;&#48;&#46;&#48;&#48;&#50;&#55;&#54;&#56;&#55;&#55;</pre></div>"
      ],
      "text/plain": [
       "-0.00276877"
      ]
     },
     "execution_count": 43,
     "metadata": {
      "text/html": [],
      "text/plain": []
     },
     "output_type": "execute_result"
    }
   ],
   "source": [
    "a33D = Mean[Transpose[Rover1LineInPark3D][[1]]*a13D + Transpose[Rover1LineInPark3D][[2]]*a23D + Transpose[Rover1LineInPark3D][[3]]]"
   ]
  },
  {
   "cell_type": "code",
   "execution_count": 44,
   "metadata": {},
   "outputs": [
    {
     "data": {
      "text/html": [
       "<div><pre style=\"&#102;&#111;&#110;&#116;&#45;&#102;&#97;&#109;&#105;&#108;&#121;&#58;&#32;&#34;&#67;&#111;&#117;&#114;&#105;&#101;&#114;&#32;&#78;&#101;&#119;&#34;&#44;&#67;&#111;&#117;&#114;&#105;&#101;&#114;&#44;&#109;&#111;&#110;&#111;&#115;&#112;&#97;&#99;&#101;&#59;\">&#45;&#52;&#50;&#50;&#46;&#49;&#50;&#54;</pre></div>"
      ],
      "text/plain": [
       "-422.126"
      ]
     },
     "execution_count": 44,
     "metadata": {
      "text/html": [],
      "text/plain": []
     },
     "output_type": "execute_result"
    }
   ],
   "source": [
    "a33D1 = - Mean[-Transpose[Rover1LineInPark3D][[1]]*a13D - Transpose[Rover1LineInPark3D][[2]]*a23D + Transpose[Rover1LineInPark3D][[3]]]"
   ]
  },
  {
   "cell_type": "code",
   "execution_count": 45,
   "metadata": {},
   "outputs": [
    {
     "data": {
      "text/html": [
       "<div><img alt=\"Output\" src=\"data:image/png;base64,iVBORw0KGgoAAAANSUhEUgAAANkAAAAPCAIAAADmu/0TAAAAzHpUWHRSYXcgcHJvZmlsZSB0eXBlIGV4aWYAAHjabU/bDQMhDPtnio4QkuDAONwdJ3WDjt/wUCuqWiI2zgMS2ut5h0cHRwqaLKMA5NCihauLTBOTI5URB66ycnH3A93Lr26lbwJt+cfuGyZz/h3EU0h/wbXoaliDhKcf67wfq55rzvsgoQ2aP1//fxdjJERTj8pkhuI6B5dOSEzJcOMEvDDiYtLTucHM22C9Qmpv7OBme3ULEDeuvoL0E6U6i0cR32g5KmlE42NlxyLhDaSWWvFNbTlwAAAACXBIWXMAAAsTAAALEwEAmpwYAAAAPHRFWHRTb2Z0d2FyZQBDcmVhdGVkIHdpdGggdGhlIFdvbGZyYW0gTGFuZ3VhZ2UgOiB3d3cud29sZnJhbS5jb21coqaFAAAAIXRFWHRDcmVhdGlvbiBUaW1lADIwMjE6MDM6MzAgMjE6NDU6NDczW7tHAAADJ0lEQVRoge1ZPbrqIBAdXItavM8V4ApMZWV7O1LG5naWdq/BUrvbWt1GsgJdQb5bSPbCK8gPkIEk+u6nBadScobMYQZmUKKUgoiIN8Dk1Q5ERFSIuRjxLoi5GPEumAAAlIcl0VgeyiAdZQ4czFNiI81rcvOomcAkax5qHphzBCpf+23b15lczNy/pPpJQzYU9C3+I3hGWquhO4WjYmi8wlBKMAAmlFJKSU7rjxhQJjooOTXGKJfIVNUoRhCsdaNlouZ9g73QVj3Ka0drSvsq1NwvXzCgjGHv8izUM3hSmt/QVfFYvFyASZOcAvj9Rpm95kauNjBUol4accGeo4s0YMkDGGBtLrjrVjBsbpxwMjIqmLGegoEnnlKIUJgfluYz7KoYHS9741XfJuW9gMV8CpCnZHbecAbFHS8VKLPXvLwXwNYrux783QL/XFWP6WZ+WdpVappd1e5nRggh32t1zaY+857B/43Tt64z5WF/GmZhys/TpOBfjpimmM3OG3m0/V8dlWCnRDcjScGluxIa8n4fqQOBR9opcfsHTMXoeE2zHbudL3rO8nK+sV02ndQvIAkIdc3mfT6jTK95ns62C2EvcXnYn9iu9fe23cOX3nCL7cehBN2NJCCUUgISp49yzf2DzUMLfQK9WB0lL3RoPmDDhpiY8vM0AYEl0+qoT4fdz6zbU9Uv9djWiuRvSJtm1+bggu0szb0qRscLYLWuk7G8nKtU1YXALLOhGt1l+s0lp0jBd9oiyanxraoV1jR2jUe7qmCrJaWwgNNGVniXjpjb8nX/YgPpkhEVklNKcecqaZwx/nvSmsGqLiMqxsarFcal0R+AtQROb2f1K8rDxM3xRES6R0NH47cpwBaDNZ/44EhgEXDlW2R7gbHc9PrkSY5Q0x/cbYIHrwVPSqvp7igWuM4E4dAIRjlvW1Wo7ZGtitxFUGZ3sLN/Qpdqg4weI88cigMgGOoqIr91yt2vjrlPvjGPeSPxHJN2CkhOfXcXby4+Kc2QgZ/XD8Wr42DDJyr+Hx3xKuQp2f9pbmQxFyNeherG29xs43+AES9AnhJCkoJbv2L9A9IwCOjLumX2AAAAAElFTkSuQmCC\"></div>"
      ],
      "text/plain": [
       "0.00276877 - 1.91243 x + 1.95487 y"
      ]
     },
     "execution_count": 45,
     "metadata": {
      "text/html": [],
      "text/plain": []
     },
     "output_type": "execute_result"
    }
   ],
   "source": [
    "- a23D*y - x*a13D - a33D"
   ]
  },
  {
   "cell_type": "code",
   "execution_count": 46,
   "metadata": {},
   "outputs": [
    {
     "data": {
      "text/html": [
       "<div><img alt=\"Output\" src=\"data:image/png;base64,iVBORw0KGgoAAAANSUhEUgAAAWgAAAGaCAIAAACt3U6QAAAAy3pUWHRSYXcgcHJvZmlsZSB0eXBlIGV4aWYAAHjadU/bDQMhDPtnio6QFw6Mw/Wo1A06fsNBpVKploiNcYKS+uv5SLcBYUqWvaACFLBqVVqIQhOTmepVL6AsxbufapuSB+evhj6Zj913TJbyM4hkCh0/hFZbDWuQyvS5zfux8tJK2QcpbbDPWvznri7IYLeoJuSOGrqkkEHIQtnxwB2IIOMUsntwh3u0wUdC22gckO57uidoGOdYQcdhbcEaVTU2Wo5pvmqRY71ei6Q3Z59ayVN7twEAAAAJcEhZcwAACxMAAAsTAQCanBgAAAA8dEVYdFNvZnR3YXJlAENyZWF0ZWQgd2l0aCB0aGUgV29sZnJhbSBMYW5ndWFnZSA6IHd3dy53b2xmcmFtLmNvbVyipoUAAAAhdEVYdENyZWF0aW9uIFRpbWUAMjAyMTowMzozMCAyMTo0NTo0OKPkptYAACAASURBVHic7H17fBPXmfbrK7aMb4wTJED22AGRcIlFyKV2qC1wuiW7sKXNhmyy2ci0bBLaX9M22W+TELqYLSWbbku+Nt+vhDQbUDelG9i028a7hSYykkkQbUiQAiZBBHtsObEBj/F1ZCxfvj+OGMZz0zkzI1sGPT/+MPLo9Rlpznve877P+5yU8fFxSGI6IxQK7dy5k+M4ALDZbBUVFZWVlVM9qCSucaQkHce0BsdxO3fuDIVCs2bNeuCBB9xudzAYBICampqKigqr1TrVA0zi2kTScUxv7Nq1q62tbdmyZT6f78UXXwSAUCjk9/sbGho4jksGIEnECUnHMY3x1ltvNTQ0PP7448FgsKGhATkOHn6/PxmAJBEnpE/1AJLQiKNHj9bX1zudzoULF7a3t0svsNvtdrudD0DcbrfVal21alUyAElCP5KOY1oiFAodOHCgpqYmphewWq1Wq3Xt2rUoAHG5XC6XKxmAJKETSccx/cBx3M9//nO73b5mzRrhi+rvQgEIy7JHjx5NBiBJ6EQyxzHNwHGcy+ViWfbJJ580mUzoxaNHj7pcrt27d+PbSWZAktCDZMQxzVBfXx8MBoVegwfHcdIXlSAbgFRUVNTU1Bg95CSuQaRO9QCSIIDb7Xa73U6nUxQdKPmLurq6lc+t9Hg8SgYpilq7du2LL764adOm7Ozs/fv3P/bYY/v37z9z5oyxI0/iGkMy4pg2CIVC9fX1a9assdvtmG/xRrzVW6r3eve6trr2bNujciUfgPj9/nfeeScZgCShjrS6urqpHkMSscGy7AsvvGC329evXy/9bWdn5/Hjx6urq4Whx4atG8o3lwNAAV1QsKJgW902Oo2maVrlr5hMprKysnvuucdqtYbD4YMHD9bX14fD4fT09KKiIqPvKYlpjGRydBqA47hdu3aFw2HZ1AYAnDlzZufOnTt27KAoCr3i8Xj2Du2lq2nhZYyXSfGlqIceQvABSHd3dzIASUKIZMQxDbBv375gMPjUU0/l5+fLXsCyrM/nq6io4C/Ytmcb/TAtugw/9EBIBiBJKCGZ40h0uN1uv9/vdDr5aCImPB7PeIViIImyHp46D/6agTIga9asSWZAkkBIRhwJDb/ff+DAgTVr1qjTtMLhcGNjY1VVFYo4ZMMNIQroAlgBru2ugpQCnNADIRmAJMEjGXEkLkKhkMvlwl/YEXlUPdwQouSZkmdrn/2y58uki0cyAEkiGXEkKDiOe/nll00mk9PpzMjIUL94ZGTE7XZXVFQUFRXFDDd4BPcE79p2l4bQAyEZgFzPSEYcCQqXyzU4OPj9738fnwwKJOGGECXPlJBmPYSQDUDKy8vXrl2rwVoS0wLJiCMR4Xa7fT7fxo0bLRYLzvXhcNjtdtvt9mffetb+CBY9LLgnaNtg4/+rLeshhCgAcbvd9fX17e3teXl5yQDk2kOSx5FwQB1rTqcTv2+V47jvfe97KSkp5hfNONezJ1gAoJbJlGkYL1ObVetwOLDHqzgkn8/Hc0CSAcg1hqTjSCwg5eGKigpZhqgSkOP4IOsD20IbZadkPYIQonBDBFKemDr8fn8gEDh69CgA2O32VatWLVy40BDLSUwhko4jgcBx3A9+8IPi4mKn00mU2uA4rqqqqvxX5dZiK3uCZf2sil9QCTeE8G73bv3SVv2hBz9CUQBSU1NDdI9JJBSSjiNRICu0gY856+fc+4N7rcXRrtngnqBS6KEebgjx4c8+pDjKqNADIRmAXBtIJkcTBb/97W8DgcCmTZs0pBLr6uo6HB0URRUWFqJXqGVUuDPcfrBd5DvYE6zJbDJZsBxT/+n+m759Ez5FHQdms9lut69du9ZkMp04caKhoSEQCPT29lqt1phV5yQSB8mIIyHgdrv379+/adMm/JZ5IVY+t7Lf3r9o0aKysjLRr0ShB364IbzS2KyHEMkAZJoi6TimHighumrVKm11h7q6OngaDh46aFtgkzoOAOCzHpjZDQSpizE26yGC2+1OZkCmEZKOY4rBsuz27dvtdrvT6dTwdr59/uChg2WlZTabYjQR3BMEAA3hhhCMl6GP0fHb3iYDkOmCZI5jKsFx3KuvvpqRkbFx40ZtO3yeYP7puU8LCwvVO2jDnWEAwElwsH5WNjDRzxNThzQDcvTo0XA4nMyAJBqSjmMqEVNoQx0ej8dv8RfQBQDQ1tqWl5+n4jjaD7bbNthkM6YixMyDFKwo8Jzz+F/3x2nbAgA8CXV0dNTtdh86dChJQk0oJLcqUwZEynY6ndoSogCwYeuGkmdK0M8N7gaz2bxo8SLZK0XZDZViLRDVax/48Mknn4yf++DBZ0BmzZpVWVmZzIBMOZKOY2rg9/tdLteaNWs0t6KLxAEbvY1FRUVKjkPqC5R4YvheAzmj/r7+uGY9hEhmQBIHSccxBdDGKxdBGG4AQKO3Mb8gv7y8XHqlSjFFGnpoq9e2/mtrPIq1ShAGIMuWLaupqcGXR0vCECRzHJMNIqENJXg8noYLDf2n+/k539rampWVZTbLNLm1H2y33it/SpuIJ0YUbgiJZERSpvohzIA0Nja63e729vZIJJI8jG7SkIw4Jhu7du1qa2sjFdoQgQ83+JDB5/OZTCZpxIHpC5Ad9SaXmGbjxxNTRzIAmXwkI45JBanQhiyExRQ+ZAgXhWEc5sydI7pYqbAqArWMaj/YDnj0MCXeOqmKulFIBiCTj2TEMXnQILQhi5XPrazeUi168Z1t75gWmir/doJl/K0HfzHOW2JeM1WhB0IyAJkEJCOOSUIoFPr3f//3qqqq1atX67FTV1dHb6alr3fndI9eGjVFJgQCmOEGCHwBtYxCHFMlnhhOm9xUhR4IyQBkEpCMOCYDHMft3LmToihSoQ0pZMMNADj+/vHISMSWZePzFBrCDf6/KqIeRAnU1iOthjfmkyIZgMQDSccRd+gU2hAC9bPJIhAIcBxXUVEBBmU6Qa5Yq61NrvVfW50rnZPAE1PBmTNnjh07xnNAysvLdW4Yr3OkTvUArn3U19cHg0H9sQYAeCNenMtsG2ysn9X5t+BKRxzauSDg733YEyxlj15Z8kzJ3qG9U7spXrhwodPp3L179/r169va2lwu17PPPrt//36WNeCDug6RjDjiC51CG0KohBsAEAgEent6q6qr0H/5TGdMCVLMbCjvBTR35UNihB4IyQBEJ5IRRxwRCoXq6+tramr0ew2IFW5kpF/lkvGTVhoyaEPUzmtBDeGGEIkQeiBIA5Dvfe97yQAEH8mqSrzAsuwLL7xgt9v/7u/+Tr81pWIKj4sXL/b19ZWWlcLEDYXJYlIplOBnOsOdYZ7rEbMxX4WrGu/GfFKgEozNZhsZGUmWYPCRdBxxgX6hDSE8Ho/H7EGMLyVcvHhxYGCgtKxU1hcoSpBi5yyQL1CyM8EmTr02/o35RCgqKhLqgBw7dqyhoaGvr89sNifbcGWRzHHEBS6Xy+/3P/nkk4YsXBu2brg8+7J6aBAMBttD7eWzykE1DSF0K6SNsKJeOP0q6uwJduDQwNQWa2WRzIDERDLiMB5ut7uxsdHpdBrS9I0I5jetuykGL4tlu7q7ss5mKe0REPhtS7gzjC93Lt16oNAj3BkWWSBSUW8/2G64irohkAYg6DztZADCIxlxGAz9QhsiCNvn1XhZwWCzp/mOO+7AbDbxPeFbc2QNzgBUuBvS8WiLYqaWoh4TyQBEimTEYSRYln3ppZcqKiqMOidV2M8GqpnO3t7eC+4L5Q/L6HFIEe4MW++16s90isZDGm7wZqeWoh4TyQBEimTEYRgQrxwA9DNEeYjUenhIo4CT/3uylWld802sIIKPC4w6LxLZAWwVdSWzCR56ICQDEEhGHAbi1Vdf7erqeuaZZ4zyGqJwQwiTxSSqboT+JzRQOqByPAIPYVygXqwF1XBDNB4gUVFXMpvgoQdCMgCBZMRhFJDy8OOPP26gCqZSuCEEz+m8cP7CuZFza9bEjjhk0xCyoYeGzpSYIQym2Xgf4GIgrs8AJBlxGICjR4/u27fvoYceWrZsmVE2VcINIVB1I/hasGhd0fnz50tLS9PS0lSuV0pD8KGHcD5jhhtRy36WWkbFDGEwzSKe2Jv/901TxJSwoQeCMAAJBoONjY3XQwCSdBx6YZTQhggbfrHB/ggWUR1xOj97+7OB/oH5y+erOw71SSua8xrkPHg7KjwxAtZZU/vJ3JOJwxNTR1lZWVVVlc1mS0lJueZJqMmtii4YKLQhhHo/mwho0nZ2dB7/7fH5mfNv3niz0pVxynQCSWO+tnpt4nTH4QPJRIZCIQCoqam5xnRAkhGHdiChja6urieeeMLYoHTb29voKhrnSn7rMTAw8Dn3uf2v7S2vtyi5BvxMJ7WMCr4WNFmwaqsqvkDKEyMluaOfE42ijoNrOwBJdsdqBxLa+OY3v2ms16irq5PV+JIFPw8zMqMdMaibHi3XE65U6FiVRXBPsOKlqCYQ5luUwB+8AISiZCLQ1TQ8DRu2bvB4PDqHNJkQtuGyLOtyuR577LFroA03GXFoBCqjbNy40fDDxHb+aaflLiwNdGGmMxwOt7e3W63WGTNmyKYY4pTpxPEFQjt65DzgSuhR0J4QnbVEuMYCkGTEoQXGCm0IUVdXV/LFEsx1XiXsp5ZRwtCDNNwQTlqjRD0AgLJT+u3Q1fTeob0btm7QP57JxzUTgCQjDmKwLPvTn/50yZIlhghtiLDt7W23PHBLzHUeJNN7ZGSktbW1pKRkxowZ/ItXT13pDJOGG8JXZIu10jHENIsa80lvTYppwRNTBwpA7Hb7NNUBSUYcZOA4bu/evTk5Offff7/hxjds3cBnN7St85FIRPQKtYxCsYY06yELlUmrlD0hNWtUCFO9pXrnn3ZO09ADwWq1TtMAJOk4yHDgwIH29nZji68IHo9nvGJCaZzfbkgvlk7v9PR0Jcs8lVPbnBdCOOf1ZDpFOykhiMzOzJ1Z8kzJyudWTq+MqRQ1NTVbtmzZsmVLZWWl2+3evHnzT37yE8RGTUwkHQcB3G633+93Op3xiCddh110NS19Xc86D4LshrC6oQScSavizkjN6gw9+Fur3lI9fbMeQggDEABI5AAkmePAxZkzZ/bt27dmzZp4dCKoE8wxz5Q/d+6cebZ5Zu5M4YvCYkrMKgnB6Qd+lrJT6hqCOGavk8Z8UpSVlVVWVtrt9oyMDLfb7Xa7g8EgACROBiTJHMUCy7Lbt2+vqKhAS4HhwOlnA9WTliKRyKFDh25ffrvZYuZfVKKKyraiaTv5LeYJDPh0VRDsqmJCpTF/unTH4QOFush3JAgJNRlxxAbHcS+99JLJZHI6nfqVh6XA7GcD1TPlx8bGzp07d8MNN+Tn5/MvKnE3ZEMPbZ0pMeWL8emqSrdGZDbRVNQNQQIGIMkcR2y4XK7BwcFNmzbFqdlRKbuhBMwUQ0zuxiRkOon4I4Cd0IlpNnEOcDEQVqt1/fr1CZIBSUYcMYBalTZu3Bgn744fboDqmfJpaWnBYNA828xHHDhLvYGcTln5Yny6Kp/dwDmBAb8x/xoLPRASIQBJRhxqOHr06P79+++//37DeeU8SMMNHrIlichIlMdButSDEcVaUeGGaAzCjZJKCEOKy7MvX3uhB8LUBiDJiEMRcRLaEKKurq7gGaxYA+SWelGqormlmaKowsJCIO9MsW2wxVznZccggnBIiCqKPwbRn1YKPUjpqjetuwmFHutWrsN81/TClAQgyYhDHqhlft68eThifJrx5vtv6jcic6a8ps4UA9d52wYbUvQgHYMIOockNHtt8MRUMMkBSDLikAEvtPHUU0/FT/2trq5u0c8WxWzcQFBfZtE6f+bfzxSWF1IUpaERlv+vSoqBiGSBohjMu1Mv6AiHRBpuCM3SVbTnnOd3//G7azX0QOADkLy8vEOHDsUpAEnyOGSwf/9+n89n1AGOSlj53ErUmWLUGQUHDx3MD+RTN1DqxAohVOahUeJdMe8O3yxyQzqJHgDg3e7d+qWt00gTSA/8fj/vOwzkgCQjDjHiJ7QhhPD0eaPOKGhrbTPfZYZQVIUUZxjqjfnCKolmTqeBdFUw4gQGuG5CDwSz2RyPACSZ45iA+AltiOCNeEWvKPWhESUs+pr6KDtuXiDmUi+skhBNbymU7o5064HZ3hLzQ6Or6Ws+6yGE1Wpdu3bt7t27N23aBIIMCJJE1YDkVuUqWJb98Y9/fPPNNzudzrj+IRUtYj2nsTZ6G1OPpa54eoWSKRHwLfu+7aNuo/A3FEpXGnXWLMSiuuObZbxM98+7f//73+NcfM0gFAr5/f76+noAsNlsFRUVpB1YyYgjCo7j9u/fHyehDRGk4QYPPcpdo8xoZlmmkikRiJZ66jbKEPEu0ZD0ZDqNEvUYbh6+7Y3bpp2UqU7oD0CSEUcUk5MQBex+Ng1nFLy99e0bv3Zjebn43GnZNKG2pT5mSxumWaPOmpUdkrZuvWuyOw4TKABpaGjgOM5ms+Fs1ZMRB8AVXnmchDaEkKr1KIFX7sJEcE9w5uqZsr+SKnFoXuqNWudJdclUMix6hiT8HKapirohQAHIiy++uGnTpq6urjfeeCMm+yPpOODMmTP19fVr1qyJd0IUCAnmPBUCn/4UGRZLByJoZlJJ90pEumRqlrEznTEhvDs93XpwjXbH4cNutxcXF3d3d3d1dalfeb07DpZlX3755YqKipqamnj/LfxwAwQzFmd2Yc4WdI3v2z7NmQWhKaN0yWKaIro79kPcISnlj67n0APtWQCgqKhI/crr2nFwHLdr1y6KouLKK+dBGm6QNn1lpMfWCqGWUdRtFOacV0/Nijya/kynfqo7ANi+juvR1AvM12fo0dDQgH7Izs5Wv/K6dhzxFtoQQlu4IYRS6CGcsXx3rBLQxZgTNSZ3Q9sOSPbulCRRNfgjo9wQH3rotDNdwLKs3+9HcyHmjLh+HQei0NXW1k6OCtvOnTu1hRtCqAsF86dA4iCmdjF+JZi0pS3m3Wmb88IBx7w7fH9U8kxJxQMV18O2xe12A4DNZps1a1bMi69Tx4GENtasWRNXXjkPj8cz65uzDNkgwMT8gmgCKCVHEUQXq09UUqqogZ21wNNVtSp6gHHNvuwJ9vbv3H5tqKirgGVZn8+3atUqwEhwwPXpOEKh0IEDB1DDz+T8RZTdwKVLY8xYWVM4OQ5MU2QzdmIeV32iEp3AoJPnDgp3p2H7c81T1NEZLmhG4OzcrzvHMTlCG0LU1dXxjK+YyyD+M83PKP1HtElHRTRjRXlcMO6gWXxTRHeHD5EDvWYOcBGB47iGhoZVq1aZTKa2tjaczfv15TiQ15i0hCgCfj+bBohMjYyM6DelLdzgYdQpbYjoYfgOSM/2B67R7jiU3SBqV7m+HEd9fX0wGPzmN785aV6jrq6OPw5WCNmVWRtX2qgj2nhTvid82sINIXSSu4TTO6Yp/LuzbbD5nvBpG5IQKPS4Noq1fLiBAo3u7u558+bFfNd15DiQHOMk8MqFwO9n0wNkqvd/eofPDRtgCp8Kobp6G9jSpuHcSSXYvo7r0dQHfM3wxIThBmKaJ3McVzFpQhtCKIUbQvDLqbZwQwhqnQFUCCHRI355XG2Q9bMaBFYNdNnTnSfGcdzRo0ftdjsKNziOAwz2F1wnjoNl2Z///Od2uz1OBzgqQSXcEAI9x/hcaTWUGFYWjTm78GeshoY9JU8ndUOaKy/qHg3/7uhqOnhjcJqGHm63u7u7G1Vh4YrjSJZjASZXaEMInHCDR3BPsOKlCswJrzSv0tPT0Q/CjKnOQEYlj0taeYmHR9Om5y41JTtgIn80HUMPPtzgN+/4kujXvuNACVGn0zlpCVEA8Hg8zBcY0nfpj+pHItGqipFlUTlTeogeBjbsBV8L6iR6gG7qGj/gaZf18Pv9wnADAMLhMAAky7GTJ7QhAlE/m3Cq6CF6iAhgCUv0MDD0SISGPRFQ6DEtfEdDQ4PdbheSp1mWxeGbw7XtOCZTaEMIon42WeghekQiE1jnxuYmNZgiatjTsPUwKo9rYMMeXU0nPk/M7/eHQiFhuAEA4XA4JycH5+3XrOOYTKENETSHG0JoIHpkZGTIXoxTyySjQnzbp4dDJTQlmqjaMp0xb3DyG/YSnyfmdrtF4QYAcByHU1KBa9VxcBy3d+/eSRPaEMLj8bAmFnNZJuJB6ISBpqjbCFT/1KG5pU02j5toDXsJS1H3+/3BYFAUbgAAy7I4JRW4Vh0HOsBxMnnlV//0YddtT9yG+eQR8SD0Ez1wFD0wLWMmXxOhpY0IhudxEzP0cLvdNptN2ho+ODh4/UYcSGjjgQcemByhDSGE2Y2YTx4RDwKf6CHKcciamhyiB5k1Iu1i5Y9OOirNjFUDb3DJXy3Z+aedCRJ6oHBDdguPyTeHa89x8EIbk5wQRRBlN9T33kQLLA7RAwn5jIyMxJwqQqdmCNFD9h41tLQpmZJerP7RTUJKmLRZ7rYnbkuQ0MPtdlutVukEweebwzXmOCZfaEMIpWKKfqK00BQYx84wqvtjkqMYzI9Oww2qJKqlprRtrKa8O+7MmTOy2Q24QhvFxLXjOCZfaEOEbW9vUyqm6CRKYxI9UFWF2ceQchD0Ez1AHxVCdHEMMjjhjDXkDDqYuADoyeNOLU+soaFh1qxZsvE4chyYjKdrxHFMidCGEDEJ5sJVS1u4IYQeooesqWsyikGfM+aocDwd/1npz+NOCUUdnX5wzz33yM4RfL45XDOOA/HKa2trp8RrAHY/m4byARHRA96FuffPJbVs4OEmAEBK9IjZ0iYcleZMp7GbKfZDVn8ed/JDDxRuVFRUyP4Wn28O14bj4IU2Jkd5WAqifjYiRbwYpiZOeFRPaTrVFGrDPTpYCAOjGET0iF+njDaoxFakW4+KlyowRxVzkZi00AOdflBZWam0uHIch8k3h2vAcUyJ0IYImOEGApEiHn78/Mmrn3z4sw+pr1AmkynwUaDB3dDc3ExqWWmWamhpw9xr4FjmTRGdQad0g/K5avKth4Ep4ckJPZBgj0rdoLu7G5NvDtPdcXAcNyVCG0IQhRtSRTz95QMAoJZRYxVjw58O33777bffcXtVVRVVRJ0+fbq+vv5002mibLl+JjjRIdX4lm0bbKilDXMY6qbUR6UC0ZeibopoY3V59uX4dcfxpx+o7OXx+eYwrR0HSohOvtCGCKThhkgRD4woHzQ3Nzf/R/PyHy9veb2FPcHm5eWVl5dXVVVZrdbmluaGhgaR+8A5uoUfmFHaxTgXx7SMS8mNZVnoHzXnTaSmMI0oIX7dccLTD5SAzzeHae04pkRoQwTN4QYPxeAZe1JxHBc8GywoLDBbzMIJj9zHmjVrFi1ahNzH8fePo8w5jkvSxgQnOqRam2WceAHTcjToM0J7TabirqlkGw+KuvD0A5XL8PnmMH0dx1QJbQjh8XiCNxKEuypPsx6ix+mm02lH0+568i70X6knKisrQ+6jr6/P5/M1vt44ahnFHLNRTHCQ3KOeQCYGJZew2o0vzqwem4hGpadka2x3HObpB93d3fhdGtPScUyV0IYIrsMu/Bg1ZjysjejR3Nzc1d11w403iHrqpQmUsrKyVTWrbl9+O3eGOzdyrtHbiFN8MZYJPkH1T3cgo/Tha7BsLC+GdNuiJOphSOiBwo2Kigp1p4BC0WvZcUyh0IYQPMHcQAIVEBI9+vr6gmeD+YF8+7dkHKhsAiWjM+OOr91RUVGRX5Af+CiAsqdK9vkH2vAGf4jbBoEIwhkbs+47+aIeYEToEbOYgkCUQYdp5zimUGhDBGE/W0xuIlH6DZPoEYlE/Cf8+Xn5hbMKFU0pSP5RFCXMnioVX0QPtIEVBNbPop49nIsxNwgGnt6SUKIeKPTQVqwVnX6gfiVg881h2jkOl8vV3t4+VbxyHrL9bEY9KEKih8plZ4NnuSEuJ5Bz88ab1Q1eJUpPXDNR9nTVqlU2mw1lTwOBgPrKk7DaQpPQDouPeIgza+OJ+Xw+kRyxEoj45jC9HAcS2nA6nZMvtCGCkjig7INCtgZOJHoozavOjs7mlmbbAlvWjCwcs/zph9I102Qy2Ww2lD1lu1hUfOns6IwfE1x4ccyphW85ruLMmgMZY4u1RAe4cBz3zjvvCE8/UAER3xymkeM4evRoIiREIZYWsc5GL5zdQSQS8X/kt1qtI94RIpdU8TM1RQ+UPUXFl+MfHG9lWlWyp8Yev2B8AmWaRDEaSkv4oYf09AMVEPHNYbo4DiS0MeUJUQQcLWKN5CI8okfAH8hMz1y0aBHRsIXlA5XJgNyHpcUyc/VMRF1Xch/amOBKU0V2YNpKtjhObQpFPfRTcjEp6tLTD1RAxDeHaeE4plxoQwj8ow801A5iEj3YE2xzc3Pn+c5Fixa1vN6ibbrirPC5M3MrKioQdZ0vvsiKEpIuyyr3KJ2l8Tu9RYOoR6JFMeqhh+zpByog4ptD4juOKRfaEEFFrUcKotoBDkv68uXLH//i47LSMrPFjDkGfiSieaIS0vNrpoi6fujQIWnxhT3B2r4eO5XLXxxznb9K9DBItWQym3SJevZ0qrqDIPSQXq8kR6wEIr45JL7jmHKhDSGICOY8cNsrYq2BkUikdbw1d3Vuqi/VkN0B5mSQpa739fWJho3VC0vCBCc63pFog6AtlYsla0jSsxd8zRjuj5QnhuSIiSJ0Ir45JLjjmHKhDRGI+tmIagc4i08oFOrt6128ZDGqv+JHzji7A5zygZC63tjY6PP5Pj74MX6rKBEokuMdYyKhirU88FVLYj4eIp4YabgBAN3d3deI40gEoQ0htIUbPHSSixBJtKy0jKKoIJGQDN7uANMaCKjrYS58znOuqW+CbpDKbWpY5zEHhmOZH5jmyrHUlOgeNVjGVS3BCGR4ivobb7yhdPqBon1CvjkkrOPghTYSISGKoDncD1RtzQAAIABJREFUEEI2sxBzbvMkUZvtqk0DnzneGv4OyGwxl88qX/TlRYi6fvDQQSF13djQQ095WwQbiepfTFOQeFFM9Zbq3x/6/XjaONFyi/JWRNmAtClUalcCSoiOjIxs3LgxEVIbAFBXVzdsGcbcvrInWJPZZLLIj9xkMYU7w+0H23lr7QfbrfeqUXTOfHKmq7tr+W3LZ8yYIXJJ1DJKZA1/JFKEz4dRkwXOW9oPts//6nyz2Ww2m0dGRlpbW4PB4EhkJGdmTkZGhsliopZRwT1BPpNClJQRDRuZkh0Y0T2yJ6JuVOkTI7LM3yMAhDvDRMMQXSw0JTJC9NGd+9m5nL6cggcLdvxiB51G0zSN867Ozk6fz7d69er8/HzMP5SIEUciCG2I4I148UlKZE2iscINRBJdfMvivLw8dWsaRjLh4itKOUC4+kmp63zxRRuzS6kXVnZgGkq2xgZrGlK5KqoloC/0yGAzUgtTs5ZmEXXHER3FhJBwjiMRhDZE4LMbOKxEoh5KiPV0IpJoWWmZtdgKsQTBdaYS+ZHgzCvpSITU9c7OTp66TtwqSnK8ox5MfrEW05Tme7zovpjRm5FzZ05qdiqQdMeR8s0h0RxHgghtCOHxeJgvMPx/Yzdfk8u3qFhDJNEFtgU4dkQzQSdpVTN3W0Rdb/Q29vX2GRivCW9TZ6bTwFRuxUsVmPeIY5m/R6JhcO9yqYWpJseEwAGHok7KN4eEchwJIrQhgpRgrvK0kXKW1BXPeZIoEukhqh0YsjtQ8pI4I+GLLxCCzszOBndDdk02GNRFYnjGFBKvvYUiPMBltHs0vTedDzeEiElRJ+WbQ+I4jsQR2hBChWAuXx8hzykoWUNKohpIonBFSEaPwjAPnbsDs8VsjpirHo5S132f+VqYlk9e/UTpeqIFFkiY4Oo+XeQiDZE1lK+7E1q2fR3XqYV2h9JnpIvCDSFUQg9SvjkkjuM4cOBAIghtiKDez6bnaQM5FRneWiQSCQQCpiwTv0khnVH8uzSMRArNuwP0mQip650ZnZ+aP333hXc/P/Y5phEV4CcXJl/WUHZg2lK5sqaEGO0ezbiYkVMlE24IoRR6cBxHxDcHgHSiq+MEt9vt9/sTQWhDCJx+NvS9BvcEKTvFy3PiQKkRFlkLF4V7M3srKypFSqKYELKk0dhUHlb8PlG+XogP4WeC3Ed5eXlzc/NpOP3hhx+eefvM8u8s56tF2pIywq9A6TbJVP9OsOyHLOjWCcYZmFGmwn8KA4BKuCGE9Knu6uoirUVMfcSROEIbIuC0zyOQFg5AnQb+11RHR8fc0bnaZpR0bKAa62rI5upMB0Sp66sXjVeON+5obHwdSzZZPAYSWUPSdR61JhqiQW1gKlfpHsfCY71v9+Z/KV893ODReqTV4XAIXxkaGppmW5WEEtoQAr99ngdlx12QVRbASCTSdKqpaFnRHMscbTk22doBKEwqDR2o+Pk/9XkSzZ5+5/bLQ5cD9YHDrsP4hzZgCpfowZSQXxkGvB5gmNimJqTDPBwAZN+FO/OrM8SdExzHkQb7U+k4EkpoQwT8cAOuPMf4D67KAoiURMvt5dpkcpSgNDZt2VwDp6jZYv7Sxi8tumXR4KuD50bOiajriiPBEC7hX9Fclo454YncbswTarwecLnA4wWXC958sWugf7nSlUKnNhYe6z/cn1GakTYrDWcYjJcRhRsa2F8wtY4joYQ2hKirqyt5pgT/eulpqWpbA+WnLdQWam5ptt9q51MbpOue+iTRuYrK7g6U7pRouuYX5Ff8rKK4vXhW3ywV1XVM6KFjyQqXaG5NFF2s/vl7+F6odx3s/7v1rWee2maqU7LGO7Wu/+waGxkr+FoB5jCk+5Suri4gZH/BFDqOt956K3GENkQgOw5W7rRUIN9vcxzX9HGTqP4qZBbhD0kFwlVUJ0MMjGNMos/k1sdvvWn+TfRntJS6LgRpL6xONSCIz7ZFxhO964A2GgBghQdWeODpOni6zutRszb/b+ePnRsbGhnKnJuJOQDpPmU6RRxut7u+vv7+++9PEKENIUjb55WoU/JbA+Vw43TTaRWSKM7WAN8RaPBESv5Ov1KOyNqSx5bAeyClrmuwxpP6Ma9XGTaRcIkUou89s+wvPD90CL+CbaY6eM8Bv66FF+pyL7EDhdGLmVa1RNvQyaHxgfG8r+Rhbhul+xTQxDeHKXEcvNBGzMMspwRvvv8m/tYdZ2uAI06LTnIst5cL668i4wauewiGZHMR9IxNtnwQ3BPM780XUddDbSFt2dwpzJh6tztcq2vf/Jul/X3RnIX3lyWue2tP/e99v/7WvkO1l9kTrPeXJXC3B4oZdMHMQG7/FcdRXZ2iZHksPDboGYzkR26ouQGT/JriS5E6DgAg5ZvD5DuOBBTaEKKuru6+/7oPDCIgw8RgXsnLCEV6YlpTChY0LPL42X6y0+11a4WCYIry1PWMzIzAR4H3f/M+R+HmPvjPxMDuRCK2O8OA53WaaaQBwHVvrXe7AwA8La1oGwLFzLH9z7tW157ZcxZWeODBvej1kiqGpsdpetzpBJW2+OFPh0c+H4lQEX5gEMuplaTIZO7a29tJ+eYwyXocCSi0IcK2t7fRVbRUMkMWmHNVKLUgNYhIomkpaUtvXZqWdjUxrh42ByXCDUSJOqFxFakLDcapZVRgR4BaRmEqU6jcpvBzu3HBjVarNetC1mjOaHN3MxL+KCgsEH5i6sOO+Z3GVEURWT7ZM+vjA7MvzhiWzm3GSwdet7c20oFLLT3WgGXOKx0dj0JvAXOE9v7QAQBQzEAbDe85AGB4eM7AZzWWkT8O0GkAYGkOPvBTm92eYrenFKhmPC+5Ll1OvVz6TCn/ioqoBwB4t3v3/mCv1I7P5wOMs+xFmNSIIwGFNoQQZjeMJQVEbco1VrS0tPT29dqX2YlIonoaYWNaE4F0M4/aK4ztQEPWhs4O3Xn/neqq6yrD1tydyDDgco27XOM8w8LjgVN9Ra1jzJk9wW03124z1aFoAtDe5N5azw6HZ4eDeX4DvOsAALAy/E4EQjQAQDETjTvu9sDdnhkrbV8YCy7J6yqhsT6WoZNDwnBDCKVvk06XN62Bbw6TSTlPQKENEbwRbzVMSItGCcgnZNZbbVsDduIRTSzLopMcRSI9mIUDtLyQDkP2LUbxo/miY/zY7hOo66dPN7c0m2ebbQvFn6ES0Hcq+hBU2gUYBlwuAEgBAOZ1B51Gm827O8psANBfSPW/8pLF8spA7nLkKRybPcwYA3d7AADec0AbnXuJHfjoKVhzElZ4eJuOakHxdYUHAKofAZq2BfcEAa+uOuAdyJifMZojT5mT/TZl9ymgiW8OkxZxIKGNVatWJRqvnMeGrRtkiymGVByFzSP8ohclic4qKisr02zZtsHm+7ZPf06BtwY62FMxrYmgk+0uVV3nqesxe2FjhpMoqelaXev9JX311RUeZpRpbU2J1k0B4Om6jkc+h7s9FssrAODZ4WD2OaL1VAAAmDnzg/7+5WhXguCohmoHbN0KjmpAuQxH9dVcBk6cO3RyKPJppC/Sh8929273qiQlSPnmMDmOgxfaWLt27ST8OQ3APA5WWylOCvTeQH0AkURFvyU1jq+yj2Ncj6OcErY7yp6W31oe5sKBjwLR4guGS+L9mnTYXg94Rj1MxV6mYi/TOuFduYvfHCjvv7rvAACA/oNPdXQ8arG8kpv7AbTR0X/Ca9po5CaQ10CodoDTmeJ0pvCvqNymEAPegfQ56SMFI+o3CIJHd0nBEqVruru7NTSXxn2rkphCGyK4DrvoZ2j1a1S2LeqQnascxXX6Oi2jlowva+l/5cGz3Y1qxARBoMt+yKJzGAyxJhqbtmZiJWvWYqu12NrZ0Xn+wvnAR4GUYMpI08iixWrH66KsxJK/ejP4WtC2wcZ4ae/zDqaRpqsYqPQAMNHrJvqImZdYtE/ZuhW8HmBaxxkmBZ6uA4AOgNxAvyXwwV98//NWBjzFey3NwY4yG0Ad8hfVoFhbBRCz3ZW+0KFPhyKfRlIrU6kFuF90ZlnmfVn3yf9RTewvmISqyr59+4LB4FNPPYUvoDzJ8Hg8fou/gI69uUSZ+cCOgH0zwYZLuvpxHHf8g+P0rXT5mnJRDpxUl1xYC6CWUeHOcLgzrPR2IuPUMqr9D+3h82FMT6Qey1ASNXaifYqo5KF0pzNzZ5rN5qGGobx783jV9e7ArU2/vt21ujZlHOgqBl25zVTHHKGZI/THB2av+RXbfrDd31gQ7DRBMdPzrr3nXXt0c1HMAIDTCXY79PaO9/SkIHYW2lzQNNjtKQ4HpACgwGTYPFz0lb45LWeXf5VyOKDLz6aXzrKXi2MKnHuU/dAAoP83/WORsb4ZffP+ah7mpxd4PVD3jTrZX7Es29jYWFVVlVh6HIkptCECTrjBg7pywhjm2i47nYQkUVEgo1PUQ5p/nXA9oXHb123a8q+yEGZzDWG7K91p1owsW7ltwYIF7e3twWAwWPd0/+nlAHA1f9k6zucvZ8784P/d/RJdxbCmNy1zXukos13NR7znAAD64cM0nQIANJ0S3BPsqLY96hD9Qah2QLUDvB4ooYGmUwCiRI/b11HUMrUoIyZEKfDhz4aHTg3lP5Tf29SLb0RKM+eBalIaqipxzHEkrNCGEKTt80HBCWPaKrVSkiifCNCpIcZbI2W7qxtPWLb7qf+579ff2vfKTXM+/Fnu1YtPsJSd8m53/FvRj35t35fr/3F/Yb+Ql+nZ4WB+tTKav7zyItNI95++r6PMZvEM5+Z+cPVvvOdwOifMfJXYodoxIccJBrHdQfAVcF4utTD1s48+w3e7sjRzHmirkkDJ0YQV2hBBQ/s8+hkniSh9GpRIomi2+57w4Y9c3RHgs91xjE8y253x0jwtQvEaBjxegLs9HRl/4fmh45Wb5rhW1zJeGt2mZ0f07dEfBKXQKNpoALBYXkEJC/QKTY93ODLhwb25j34bnq6DB/c6Xt7Dv2PK2e7jA+ODxwdz7swZTyNY6qTtsEKEw2GTyaQhxxGXrUoiC20IQRpuiEJ9UiYFf5JjaWmp9LfsCbbiZxXoB5wZHnPfIQzmtcmvi6wp3ayGGaWS/PP+ssTzHzQAeLxR0sSX98rcZitzxR28UNcPdH//cgu88sevQ0fHPvoNZsKl7zmkjsNa3EzZB843d0LZ1dIpCi5crlnsiW5Lc7CjDEqqBLdJstETst1VNo9Ry3gfYObFzNEZox2fdQCW8kYUKvsUAGhvb9eWRoiL40BCG08++WRiMkR5EGU3lL5dtKpIJ4D0WUEiPZXL5JVE+ecy5nOmMhgRhNQpnTkFBNmb1ZyXEeZ3vNsdzLt09bMeTwsDK1oBAH5dy7TRly2lrtV/4Ty4V2iE8dLMvzqAgWiqAgAA+IIo07gcHtzLUy0cf99S/Qh4q/fynKt5Y3OXrzsZei+Uu4jqGIq+6HTyP6SAk2IYavhwMPcSBbRhVSqlvBjOBzjaPRp+P5xTldPb2YviNZzPnPEytY5alQs06JsjGF9Veeutt44fP75x40aLxWKsZWNRV1c3+uVRbfULEWSz36KtQWdHZ9PppptvvtlsljnuQFjvUO84iDkYWYQ7wyrWiIyLbpa0DHTk2bRudq13h6OXKaCrGFSoen3F/FN/uK+ntSDwqyvpsN4CCNEW0/6Ojkd7Wgu8P3S0HqELrD0FdA8A/HTRd3taC6C3AE7Z4cG98Ff/jRKZubkfDA/Poaj6orKyniVeKGboqpavOHsBgKYBlT+qHbDqq/1ms3nog6EbVmbk5BzPzWVXreyfOy9H6NALCibcKWk2V/qZqNS8cHaRnIeLtEYKnAXdp7qt91pxOowAoPc/e7+74bsqFzQ2NhYVFWnIQhrsONxu929/+9uHHnpo2bJlBpqNB7a9ve1G240qxUshYk4P9TOWI5GI75hv7ty5t9xyi+zblUpx8s8ZecnWtsGG07aHaVzo2lg/S9AbdoJ9u+6hoLuyp7WAOUK3HqF7mYLsuy68++v7LKb9KSkwPDwHQjScskN+D/zVf+fmfjAwsBx6CwCgp7WgN1Rgf9jv3e5gjtBXjfYV0GtP9PSkWEb+2NHx6PDwnIGB5fc+/pyjGu79W5PdPiG1SdPAd471nuxdvHqxzWbLyYkEzwZbWlr6evsKCguE7kO9QVEJSp5XttEOxyWNhcd6ftmTU5UzMDTAfzuyy5UIBe8VqCQ4AOCtt96yWq2LFy9WH4AURiZHE1xoQwjUz4bPksQ/f1g2GYZOcly0SJ6PpLQ1UBpeXIVC8Y3jr8CIvr3NVHf8pzP7b71a42Aaac8Oh2tRHTy4t+ORzwEAEbcBAN5zRPVseHI3AOpPL/kiI9yhOB5mnM6UrW97YIUHNYw5NntiZnOF01VIXW9oaBBS1xHQB2hIblhb8yQvRyw9i0fFmjrNXCcMy3EkuNCGCHw/G06Ckyj5Jy03opMcb19+u1L/q8oWV7o91pnm1Mx/VTIu2m97tztQIcOx2VO9xYNe5GscrUdKocMhnPZRtNFQzPT3L+/vX26xvNLR8SgALM5nj6Xa4Om6KIMbgKbHAYCuZmimhbmS0azeAgDAnmDv+y5FLbtqmTR1XVZWVlZWFmoLnT17NvBRoKWlpbS0FJ31LZQLjWkN5wvCyZjyGAuPDTYO5lTlKMkRK32nSu2wQnR3d8+bh0skE8KYrUriC20IUVdXR2+mha+o7xhJEwroOUPbFo7jPjzxIV1Cl5bJVFIAb2sg3LZoGIzoeVJRpiDayTNe2v2UteGn3x8YWH7+nT8VlvSaLCbX6trob4/Q3h86UsbBu8PR01oAqPbZ8SgAQIhGuw8ezn/zF5b0wIrDPUu8A4WU5ZYf0TQsvPPj+75L0TT0wqWevFa6qqX671vRRsNuT6FpsNth3bqoBaWPRfabVfnM8/PzS8tK83LzRkZHgmeDzS3NY2NjEIpGfziZBcwvCG2CfN/2We+1qn/7g+8MRloj+evzL31ySWnYst9pzH0Ky7Jut7uyslI276YOYyIOJLSR+GUUBGn7PCgvAqQrvLAO98mrn1zIumCymlSOm8csSfC1VW2DkVrT3NvCeGkAoKuZP359GDkCppFm4PmmP3xQ8kVGdHE01kA1juaJv3u6LvpDG01XMzRANaQwDLQyDIDN0vIm+iUd5WICgDhbgQnpNxvzMzdbzGaLubS0tKWlJfhaEFbASNMIXUqbTCaiYCEm+AZFJWtj4bHBPw/OWDojbVYa+zu1YYu+U+927+EfHlb/64g2qq2qYoDjcLvdbrd706ZNCSu0IYSKFrFscEtUaxQhc1Um9w5nPmXOqFbYpBAdzLGMYv0sIiMastEQzQHp48v7CP4V1+palGgAAMtdm6HMwxO0+/uXtx4By/0PdZTZ4IU60d+yzHml4719wlecTmhlAACqHVftowYQAAi2KNa5pcBp+eUnFVzJWcQEEv5IO5aWWpra3NLc3NJcVlpGl9IqblcDlV59S8V5uLFLY6Zq3PWY/07V6RtR41r55qA/Ocpx3DvvvGO32xOZVy5EzKMPhNkmzeEG8CRRR5n9W3alvJqGNCc+2x1TDQjdL+OlW7wThF5cq2td99a67q3lT/fwbnfwXgMAOv60A0ITmsf7+5fPyPwHS3NwAmsbYOu/MyU00M/s5dOijs0emo62eKiMXA+1X4qof3wtSPSZW+60LFq8SKq6rp9NKzqOR5rjROFG1pKszLmZ+C6JWkZllmWqb1KiA2C1f7B6HUcwGOzu7vb7/T/5yU/0jGNyoKTWIwL/vGpQmkEQkUSNbR7BLwbJAtU4hJxu3xs7fN/xNf3hb3gJPMZLC32ElAAeLX9cSVvyqH649VGXzXlwr8XyCqpx0H93mD3B3r6Ocv4zs/Vtj+PlvVu5Oj5vGhMxb5Zoked7FDGvFz4ASPhDqLrOUZwwF65TpVnqiYZODo1dGst2EG8l1GnmPLQdjICgNzna29vr8/nWr19/6tSp+vr69vb2srKyxMx04LfPAwBKQwLJpkD4BJ/55ExXd9fy25bzH4WUl0GmjjsxnxeTJIYGg3yEsJ3ctbrW/7pdSKOAcfDucGRmdiDq1Kk/3Of9oaM3VIAymlGkgP1hP4xDgOmBYia3hx0enjM8PAf9kt61tWeJFwDoqhbHtwNoSMu/03/53B+/8Vq//a9bhXcaMzchzVyq36wGlWZM9pSs8cLCQpQ97evva2FaOjs6b7jthvO/OQ+ElBZZfye6055f9WSWZObekys7EhXQPhrHcRw/fry3t/eee+7BNCuEXsdhMpkOHTr05S9/+YEHHjCZTCdOnKivrw+Hw2azOdHcx7Y92+iHafzr+eII4HEu+a9WiSQqTH3r0d3gIXRGvI+AcSige1g/W//sU/7X7QAg8hH825H7CPzKjgiX/f3LBwaWWyyvDAws72ktQPr9kN8DxcxXnvMX0D0FdE9KMQMlLWm+AZaNirnRVYzzxwGahnVPMPa/nqCWNX8lFdwTRCVb/QxdeXou4ccojNpisqdUYpmZuTOtVitFUcPDw8GzQTaHHekeGTg6YP1LAp10pT+Nxtb5n51p7Wm563PTZ6UTVruYdfPX0RjZ48bGxpGRkaqqqphXSqHXcUQikUOHDlmtVlQGv+eee0wmE2qoD4fDpaWlROLd8QNRuAETVULV1XFE1yOSKF1C2xbKfNP8khLuDOusqvIGw53hI8+mvfvyRgBAjuDy2UOzV90l6yOi7qCvQFgQpb7yj+xfsCjNiXxHSgpUrr8MJUzBrYx9bavd0YOupGmwjnfnWEzDw3N6WgvoKqb6WU8B3aMk5I8SuuFOXDUglTsFCT0X4hy1xVzkTSaT2Ww2m81jY2OfH/w8vCp84bcX0tPTc+flqrwLx7jJYhr9YPTy6GUoA5PFRBRuqMj2iHD8+HGTyXTHHXdgWhZCr+PIyMhoaGgwmUx8cpR3H/X19YcOHQqHwxoIrYZDQ7jBf1U4x6zw15/48MRIZGTZbcvUj/wgah6RXXCiqYofOkxm07sn51tG/hilbAOMdje/+/I34Om6aN8n0uPnsdQPp+y848jN/cBy1/CiLw8zTPTKgYHltnt8N82vr6ktQowJIdoPti95PNf+sN/xnMf+sB81j6iAKHDDTOjy1vTIiPHWZBcG/FhmxowZZrMZQjD7jtmhlFDHJx2fHfxs9h2zVZbMmLc5dHJo0D1Y9A9FkeFI+8F2opANc58CAL/5zW8sFou2soYBBLDjx483NTUdPXrUZDLxFdmysjIkTXzo0KH6+nqTyaRHy1snNIcbPKRrnez1zc3NLUxLeXm5uk4iUfMIABz/6czPTt3j3eHgu7wYL/27x6PkJ+YIDcXMwNqTMzpnzBgKU1R9lGcFVw7+ETgOx98z1Y8whcWXmEu96HWKqv/7/2VpGugqpnBpC3Opl65qqfiHCzetS5O9X20nP2EGbpjGkTX9Go4IsguDhlhm7qK5NpstnUrvye0J7gmyOSyMg+yTEPM2ew70pM1Ky1udh5wjfsimdOqSLNxut7ZGFTCEx5GdnW21Wq1W64EDB+x2uzC1sXbt2pqamgMHDuzfvx+dMj0lbSxE7fMqUGcWcByHRHqEx81Loa67iyRzAYBewaDSQ3BP8Nj+KAOCaax1bPaUfJFpFXZ5QTRS6C+kckMwZ06UoOncwtDV4PV4PD+8ctl7DmSTpltLqlpbGU/XiS6HIwWAgiiHorX6kat5Cun96iE+UaqyhqTGKSM0HCdY06H2LCT7RKnrC0JNv2hiLWzL4qvU9ejFsYov6PSDwm8U8q/gU1pwaOY8NPPNwZCIo729va2t7amnnqqqqpImRDMyMhDLIxwO19fXBwKB9PT0yaSKeTyeNw6+MX/dfMzrYz5hotUJXR+JRE6cOJGWklZuL1ffpPBLGdprnPrf+z4+MNt2jw8txahhHKUkUKbT/ZR1YGA5/3aUqmBaAZb4oZiBFIDeAse3/M5/ZlKKmY4MHzvHSqW/m5Lfc++OIKB28keYlGKGrmKcv/DwdgoKgKYh/ZMY66rofjUfNIlgYH0ELfLWe604gQymcf5mSVl/UuP5+fnzV81P6UsZODbQBm3tofbISAQVPmPGMj0HelKzUvO/lg+CHRNONhcwaOZXx6yDbw6GOI7m5uazZ8+uXr1aZVOXn5+P3Ed3d/cku48Nv9hQs7NGaZchReyUmGDbwn+v586d6zzfeccdd8jWkhgvHXjd7lpdm5f7geWuYfSU820dw8NzPj4wu6/p5Hv/U9OT14p8AQAwR+gLDX+esWpBz1+6YIVHeKgP9BbAQ3uhmIGlfljhqX6EQY6A6mjPrbAur02780sfC6cTz8gkvVnh/eqfTgiy2xbNZSasDBS28WgLyRM+yojjb6kyquSLJUMNQ6kpqW19bUh1faRl5Mbbb1SyNvTp0ODBwdy1uRlzM2Cil4mZzSXap2jWN0cwwHGwLHv8+PGampqYBRTkPmw22+nTpxsbG4PB4MKFC+NateX72TBL90T8PFQcGTV9cTT3XNPpJtsCm9ls9m53eHc4fvfoOiF74qf/YGdaAUJ0f9Ophp9+v/UIHWju6bn7v2GFB3V8DQ/PaW+6J7vr7ZQVnuE7gryPyM39oP3o30RznELHAbD1bU8KAE2DszaqMYGmxy0VpoICrOlEujUIvhY0WXDntvpclQ4vrvURUuPoYlytlljOd/bts7OGs9I/SZ9VPqv5P5p7lvSMREZyZubIzhd0+kH+1/JTMlJkjauEHilHU9atXAd46Ozs9Pl8a9eu1TYBDdDjQH8YsdBwsHDhwi1btmzatKmrq2vz5s27du2KH+VUSDDXz19GvRs8BgpneX5J/2b90l/95TdS2hwo++sZ9TCjDNzt8exwICImwwDS1M5d9CbadDCNNBx1RK0ImJcdHY+i00bRf/l20q1bwem8QtlGkhMv7wEtP00XAAAgAElEQVQQU7aJxBpIEdwTRIczYdIuY04n4fAMkXc3SlEZGcek5+JrOC55bEn6n9NtC21C6rroyUenH8x0zEzNTgXVHkWpegMonw4rP3J9k86AiCMSiTQ2NmZnZy9cuBD/XWazGVVt48cZk7bPq6/D/PfEeOme1gJhodH1L/TvttsDjQWt+66WNt56vr1j2Y0zMjtMo8c/efX5aBwBPcJaBnOE7j1J91j9AED9KZ3nTfW0Fjie80SPF7ySqgCAZz/6o212ONT/+sDak7mX2AE6zfHcYbq8t6AA7NU9dBVTeCtT/QhjrxYfq6G0wiuVM0jTnGg64cgaqgxGCjS84GtBdMY90WCkr8sWv7TdKWAEMqBJw7GwsHBx5eL09PTz58+3tLR0dnSmpqai4kt/ff8YN5a/XjHcEEI0NqJ9CgAEg8Gmpqb169fjv0UIAxxHRkbGoUOHgsFgIBDIy8sjyrXElTO27e1tdBUtelH0NHg90Pq6g2dbUssol2vc+/vCwFu09z9oxyMMetfvPD2oO6vnJB34uaP1CH3uw3MXs4aHs03Dn1YO+L5hsbzS21ZwoeEvo9uKNpr3BT2tBfTDh0dbuocXXhi2XUBcTChmnP/MOBxAVzGBS9FUBf3wYbs9xWQxLf8qNeNNX+EmWuQjUCJDlm2l8gTLuksNmUh+8sSsrRJNJ5PFFD4fxh8PTi+scEbpTOiqZyVJiSR8GX7+qvki6no6lz7+9nhOZc6MW2YAiVALGhs+fQOhqampq6tLG98cjHIc9fX1lZWV+fn5fX19GsrC8eCMScMNIdAn/vIL4eB5EzPOBJiey3sv37VtttcD/kAK5PcAAPzvOqSRG40jAOCkHU7ZAaCntSDts1PsF0YBAIoZWOEZ6F8+Y75vRmbH8MIL0ReX+qOn/qzwfOc7KShtyfRc8RrfZ9D8LyiIiug6a0EokBk+H87tYVG2IubN4kuiop9JF2GpI1CP3Sa5f0QKfkYBgDZOuhBKLB79UduNC27kqevc29yM3hmdX+i8cc6NQCgIdKj20Mb7N+LQzHkcO3YsHA5r45uDUQpgDQ0NixYtWr9+vZ4JbyxnTDbcgCsFDrqKef+MqeOTMNXRPtB0H/y6drS7uf7ZpxjmyiHDJ+1QzECI7mktKEgtQHsN5CNghSd38ZvD2abb1n3U3596+XI2+tWweXjGjR/ft7D9vu9Sra3jPT1RL+CohtxL0bSlwwHonyhqEH3j/FzCJIlhPmR8pEDGAVfwSkqRvOatAc79ktZHGtY3xJTYwjQuvVn9URu6WZPJdEPmDalvpw4uGjw3dg6n+CLCZ6c+w6SZ8/D5fACgmVdljOM4fvz4yMiINtK7CAsXLqypqenv7z948GBDQ0NeXp6Gqi0KN3gfwb/u+hfau6kWqdoxR+jhO4IDhZRl5I+5i9/sKLNFAw3kOIoZ3k30WP1OZ/TMYWSH6mjPWJmeXxC49945t9xi4n/14OOmm1ZSwT3BmtoiXozfbtciPijaZhsyl0BT1y/OaQnCbYue6RTzfkk/SUgBk9mEWR+JaVwPq0U2auNvFp1+MO9b8xYuXpienh50B3vGe/pArLquBNJ9CgAcOnRIM98cjHIcLS0tvb29RrFCNXDG6urGt20DhgGHI8Xj8XjMnt/90u59nWbepb3/FK2MMgx4/T3RE0NRs8Z7DgBIKWYyh8Ip+T3DCy9AMSPyEQBA0+MORwrq2ujtHR9t6b5hfka2+eyC+TeUlJQUFEQlMNeti8YR/NKEKqOkDAXZbbZRtUbQ0fWrBOG2Rf8mCFTvV8MmCKcyjW+cn+3B14KGEN6pZdTZV8/CBzDTMRNlNwoLC+EUzL5n9vnz54NngyyrSF1HwG+HFeIPf/iDZr45iCjnjz32GPph9+7d+K8AQHZ2dnt7u7YRKMFqtTqdzlWrVjU0NLhcroaGhlWrVsn6ppQUQIKUHg94veN0lQv+lmbGGVjBQBsNbbXRY8pf3gPQCjCREPGeY+acVzrKbLmXWEtzcMaqBTSdQtMpDANe7zjDpND0eHV11Ikg/ctPIhcvLb4UGY4ssF09O0b0rQlV+fSID8oa1GOHLx9iyp1j/kVKcGSchsFIIXu/mm8fh1FOZNy2web70If/FvUrLXMt/cH+jraOBXBVm1ZFdV2E1iOtjh86MEfOQw/fHISO47HHHhN6h927d+O8gn7Ozs7mOG7//v2aqztK4N2Hy+VyuVxINMhqtdbVjQOAw5Eiut7j8YLHSZ8bh3legAk+wvP4BnrXVoZJiWrnttEAkHuJvf2rs/oLwOOllq+jLC1BABsoa+SyJ9jLsy/39vVWVsif5MiDmqhziQk1GqKcOKWGhAJ/PRWreYQUlJ1i/QRnL6i7VJzZrgLpfRmoM8yeYG1ft2mIsKSInn7whRzL1yzoZoUfi7XYai22dnZ0nr9wPvBR4OzZs/Os82y2CX8RR15UPH6WhSsMLG246jiEEQQp0D7C7Xb7fL7HH3+ciNCBaX/Lli1+v/+NN97Yvn17f7+9vn59fz+1bRs4HOMT5nbxXrDWMkdK4UEvAMCDe6Ovv+sAgGq6lC5hPN4rKQyAmc3B29bZAK4wqRwxuolCR0Od8zttC2x5eXmYgzdQXhhI+p1kRiJZ4dUnpzavZKwz4iMjQwI3WecLOk6rwfk61I2jw5ZyHDnA3+yHLGyYcM0E1fVgMBgMItlkk8mEo2Yu80c5jvQtIoiZo4899pgwlCDCpk2bRN2xBsLjgf/+7/Lnn3/+ttvWA4QefHBzRcX+3FzW40lxOPgT5z1wN8AKDzy4d+tWcAgd8QoP/fBhupqpdgD/q9xL7H3flScgyrItz79//tLMS0WzijDLPUJ5YZwwHnO+8SPUXL9QMohvSsY44ZFxROx+AAi+RrAPUp+r0uFpFpcFDMaqinHh6QfoFUpZFRWprq9ataqstKy5pbmhoeF002nLqJYTmpHj0NMsJnYcu3fvRlsSIitoBNnZ2U6nMx6ta3V14ytXwrZtKSkp0NGx6te/3uHzradpP3If//Vf3YcPg8MxDsV7oZgGiPqFagc4ndGfhakK9KutW2FNuWK+CuQehbMNZy+bL5fbyzGHLSw0ynKENSOa1f+QYKqrzyXpLeukgRsrUA4AFT+rwKfPx3QEevjpstlrbez+8J/DotMPkHEVayaTSai6HnwnuGvXrjNnzhD9Xf1NHlcdB6mzEAKd6WJ4fpTHtm0pwp8djvGTJ2uQ+1i61L158+YLF/Zv3er9wgPDjmpwOq92cCAN/q1bwekUK1nFnEiiqf7xwY97cnvst9oxia1S++rPloaJWvGSkXNJ9PTrWYR5g6AwObV5JaO6Ufjhofv1fdtnyMZK1leq3OlYeGzAM4BOP1CypnKzZWVlab60F154oa2tbefOndu3bz969CjmUPXomyNMyHGIKiY4ryCYTCaTyaR/44SJw4dTPB7weMYdjhqHo+att96qr68HgLu/POfzliDtwHoIcPbM/A42e2F2s7e57OEYIj0x7avUMrTt4TGLI6QGjcrpKuVQNCcslJIUOIORhW2DLQhBgoRurPUG/9S46OkHf3f19AOR8ZjpYTqdrqmpqamp8fv9brdbvfgoBMdxs2bNUr9GHSnj4+Oxr8LA9u3bUQXEEGsirFw57vFEg46tW8fr6sTFlD/+8Y8H3j+Q2paamp3KUVxeTZ76c4CWBfxn5aP6j0YsIw6nAz/cULEvTfURjQckcyNm7pA0G4IWOvy3xLQvHKHOm+VfVJpORDfLBwiYvgzTOD88lesv/uhi+qz0wo2FwnfJXqz4/b4AQh7WmTNnjh07huKOmpoalRKny+UKhUJbtmyJeSNKMIYABgDvv/++3++P08EItbUpAOMpKeB0gtRrAMDG1zYufXrpjKUzxsPj8DGMtY1dPH6xsLJQeiUCEWmqM9zZ8acOc4557hfmYr5F3b6UrK3zKGn9gt0TLr4iroVJEsOZS0KWpP5zs0GZn65NEAiz61dpMFJQsVRRh04OcY0cOv0gpnHZ4UnbYYuKihBzcmRkpLGxUaXpXCffHAx0HO3t7b29vadPn3a73fFQNnc4UmprU6TEDRD0s6XlpWUtzZqxdMZ4/zh8DH2evvS8dKSkJATRs9XX1+f/vX/uorn2h+24XVh49oWdI2SNWHHuoOcntpJB8XiwvRL/9OvvlAEFfroerxSzWYbok+S7fkHumek50JM5J3rYUnQksR4b0dehRDNHcllIoae+vt7tdkuPSdPJNwdDhHx4DA0N7d69e82aNW63+3vf+96kpTxEx8Fmzs0seKiA+j9U5qzM3n29558/P/zZsPAC/AcdneSY3pG+aPUiwK4UEE0kIDzNVN2+Sj5SG2Ia1HDuIWXXeAijLPSIFanURzRYE0HlrF8kRyw62xGz6xcNm/EyMZtTampqdu/evX79+ra2ts2bN//kJz/hs6eDg4PaDqnnYVjE0dnZ6ff7165du3DhwsrKyry8PMNpYLJQap9Py0vLuTsnY27G0IkhzsONtI9k0pmp2alE4caZT850nei6+a6bZ5VGM0kxGx9IQ2XUqIp5TgKOfZ0d9NLr1cN4DSu89V6reifb1YtJYjdDRIZ5g9L7NVAVlT/9AGcwIqCvw/2P7h899yOcYSDNCoqi/H7/sWPHUOfXsWPH7rjjDj3d54ZFHKi0g6IMiqJqamqMsqwO9dPns5ZmmbebU29PHQwOXviXC32/6ev+czfmFO3s6GxuaS7oLyheUSx8XX1RIq1i8oVGzGUT077hNArSWqMshNfj3DJR7GbbYGM/ZPFvOSZJDETEFh31aeFXPPTpUOTTyMzqmcILSP37fXfcRzSAysrK559/ftOmTRRFuVwuk8mkM+Iw2HFM8oH1dXV1OKfPz3549rwfzRuaM9R3rG/mxzP7ftM32j2q/pZIJHL69OkbwzcuWLVA9gLZ517nRIJYuwwi+9QyCm2w8aH++MqQxDR5Sf6/xvIyUP8IYLtLUmILEWQ/SfTKxT0X0+ekZy3NIrXJA2efIoTb7UYT0263b9q0ac2aNRzH6UlwgOGOA2VrJw3q4YYIpf9UGgqHUm9PHWyMRh8qFwf8AQDI61Ur6+pflJTkhTGvx4HhjFXNc0nW66ncsjZCveFZHjQGo0hiObk56YPpA6kDwhdJ15vWI634joNl2f3792/evHn//v3IfQQCAf2tIYblOJCAIGrCifehBwjq4oBSBPcE7Zvtl0cvp9nTTGbTQMPAwMGBlPGUzAVi3h46ybEso6zopiL1Pa3sGSuY41EpjsgmFDTbxy00EioMk57AqJINkc8paPXCOLesrT5CUAxSuBidfjDne3POvn4WtBbjiWR7TCYTqrA0NDQcPHgwGAy2tLQ89NBD2o5T4WFkVQUdPd3V1bV//34DzcrC4/EwX2A0vBF9nZ93fj77+dnZd2b3H+o//+x57s9XC0D8SY7jbeOYD0p0EdYXbogMgjShoMM+1j6IxH6cFnbeIOkiLNtED0ZneTBDLSWvhE4/yLkzJzU7VfM2zbvdq2Gxr6mpefHFF9evX9/e3m61WqWFC2HHyWNXoPKKkY4D7Vaef/55w1U5pHAddtHVNP71wu8Shcef/uenqGo7Y+mM3n29F390kfszF4lEAoGAKctEcRTRg4suNiozB5KZqSd7whtUy+mST9SKlyr0zyWlEervlAFl76bZK+lMynBeLrUw1eS4KjuqYSNJdDqsCDabjeO48nJxl6bIR+y+AvS69BUw1nHweVo9zTM48Hg84xV6mfLoO+u/0I/cR8a8jN59vRf/7SKchMVLFvee6iVd3omeKsyiPT8zjQpnlKa65okap4Wd6C0qjkA2KWNIfYR0MKPdo5dPXkbhhtgmCbGF6NQlEfx+v8lkElU8tcloGOk4rFZrW1ubgQaVoCfcEIKf6ogzlvloZjgcpk/TI6+MFBYr0tWlkEpRYF6PA6MUcUQGdXXQS3qxQNVjkqY5IQ4kMfURqhmX+3BUQi2lwYT/FAYAPtwQAj/00LZPQeA4DrXAifKP2sR3DI44hoaGDDQoC4/Hw5oMW9/47ywSiTRdbLrwlxcKv1EYuRQZeWvk0quXYlZtEaRVRvUAXkv4QDKRYk5U0ZOqP5zRU21RH2Fsni72IYzIoLZijfR1Imc02j062DiYUyUON4SDwblfPfsUn8/HcZxRiuIG5ziQ8qiBNqVwHXaVfLEE/wHFeVBsG2x/2vkn7gy3ePHituNt8340L/+h/OHPhlHVVt19KK1IYJAUBYKBVGgexk51MIgkJppLUoMiEHk9UpKYOqTeTelhUwk3RMMDVWekZ5/i8/nsdrtRaQSDqyoAgBpVSCWJMIGyG4an9Ds7OnsW98ydNzdyLoJeMd1pmr11dt5X88Inw+ruQ4W2LDvVSZd30kWJVI0i0UhiMQ3qAU8SwzSIueqAqneLyhFLwg1ZqIRaevYpfr8/FAqtWrUq5pUoAyqUEJW+AqLjEXQCiQY6nc6zZ88aaFYI12EX/QwNeIIugPfFRyIR/0f+stKyRYsXiZ6nnOqcnOqcQe9g32/70Hef97WJ/QWxllObDm1hJYMa1EZj2jTQIKVDnVyJJKZkUMO+A12P8/Dgg7qi3yP7WyRHnH2XmOKtMgCbnD6TBjVzHj6fT7YKy0OY6ZBmPaSvGF9VCYfDTqczHh1udXV1Jc9MCNXUV2DMIDngD2SmZy6wLRDaFF6QU51j+b+WvK/mDTYOdny3Y+APV2l/OMupcEXS33IGhrIthYVGnG0Lvn1thEtSbosexE5FERL8+XcJX0fhhlCOmMgg/y2T0syFCIVCfr9fWoXVA4O3KnEljMoSzFWeJ5xZ3dzc3Hm+c9GiRRkZGeqzKKc6R8QZw3+wDN9bKQ1Sp0EwdGbGu8ffKJKYUf2KsgZRuCGUI44axxi8cNtCRDMXQbYKqxOpjwmg31xWVlacZDhU+tlkH1CcL4YniUqVRGVnUWp2qpAzNvTGUHYEt8VQaUVSQczlXTRI4rhdjiQGKhMpkUhiGrgtMQ3qsSNbkkenH2TelCmVI8YfPPpMNO9TlKqwOpGKCGGg70AmHkVFRcGgkesqD/V+NunXH/OL4UmiaJMifWqVZhEifaSvTc+Ym8FTTjHvIqFWdSVJvmlBEiN9C04TvXCEOqu26DO8+NbFsUtjOffmkI5WhP6+fs3hhtvtNrAKyyMVtFLHZIEcx/bt243tr8dsn+e/fpy1saWlpbev175M7bgDlWzCpbZLN377Rur/UACA3IdIZ0wE/kHEnOr4D662Si3pRIo3SYzYPiG3BaeJXn2EpJj/t/PHPx6P5Edkwo14tsOKgHphDSdzpxroNeBKfnRwcHDz5s0G+g789nkKT4yPZdnmlmb+JEf1WSrDWb7yxWfOzbzhn24o/EbhWHiM/TcWkzMWD1IGoKNb8ZtlCCdSvEliGsKZ+LHOgkacDjH86fD4pfEb//5G6QhJb1bzPgW/CkuKaMRhSIIDALKzs00mE681ZIhNzHBDCNvX1aZlJBJpOtWEf5IjSHs3J37xWUuzZm+drcIZk32w1GaRpuUdf80kZVsmGklMKoBkLLcFAEjpLVL0/6E/a0lW1vwsnTs1PfSNmFVYzUjl+94MMWe1WjmO068vJASRWg9cmdUqT/zZ4FluiONPcsR8qoQ2ZZ9yfM4YD6VHSvPyjtssQ8q29OutXwihnyQmFUCC+BStsAYj9zwMnRwa+XyElyMWjpA0e0JKM0fKPSzLxqMKy8PIcixc2aoYuEnZsHUDUbgRcy0KtYWaW5rxT3IUwbbB5ntCTeUspzoHuQ9eZ4x4FunuoDc8TEAwtrA6ab0teprosZpl5LzegHcgY35G1vyr+oCa96ekNHOO49xuN5L8MrwKy0PeceAoecgWcRF51KiKrIb2efW1iOO4po+bhPVXDSXMip9VQKzIU8gZyw3kCjljUogeekM66FUYCtpIYvhTPd4kMXXCJUgL8/E8iV4W6PQDkRwxAnJh+AY17FOsVis6pSQYDBpeheUh4zhwlDxktT14NDQ0GBJ0kLbPx1S1PN10WkgS1QAiYcuc6pyBJQOyOmNS8M+ohhY4WcSpLw4SppysZNDYu1Y3KPvIDXgHlOSIEecdf4R62mFB31lt6pBxHHryHYg86vf7UaSkY2AGhBtC2DbYjv3kWNeJrnJ7Ob9J0cOYwnxAx9PGpTpjShejwROl5XBIYkGM9k0lxJskhrrO8LctmPZ5g4Zw/EF52yJ95NDpBzmOGNwNzFvW3A4bpyosD7Uch7ZKLUVRlZWVa9as0TEqAIA3338zNy839nVXoP5I9fX19SzpKbqhCHQoDUmfEvWvn38K+cPlojpjCu6DvXL2VzzChHiQxDCvx7GPGcuQEi7ZDw2uB8X8GMOecGphqulOuRN8Jz6iMQ1qrqfErwrLQ9FxaOZ3ZGdncxy3du1aPcqjHo+nf2k/kDzuKo9UJBJpamoyZZnK15SD1uS2kmPCj9559wEKnDHhLDI2m8BPdZ1pVyFU6C3aYDhJDGIV5kntixI90s8fyRHn3iu/4JFyWzTTN+JXheWhmBzVvGGxWq36Exwou4G/X1WfQkKSqOY9MOmJrUpDUuKMyS5HhldGWD/JWWeEknx6pEYQjCWJTf4peUiOmPSwJVmDmtthURW2oqJCw3vxIaPHwac/0X9FGVChtofwFR7Z2dk6HYcou8Evldpy4yKS6IRfncB9EHHWIiIRiqylWVlLs7g/c/1/6L/wLxdyqnK6L3YveGxC1pZXeZB1QNoiJmQT/8ZjAlMYhQg2OTUK/QYNHCS1TIbtHpUjVhDsiVmVF42w9Uir44cODWNDvbBT4DhkYw0cbQ8EJCDIcZzmOhCv1sND/UlS+UpUSKJETyfmaca8TbhSeFOH6U6T6U7ToHdwwDMw89LMvt/05ThyhMINpP4I5xbU/REPUral79s+JK6FCdKJpDPNGdPBaXAroiWt/2A/YOgDKkH0XWvbp8SpF1YKgwlgcEVA8Lnnnjt69KiGt0vVehC01e1EJFEE0n4zDYIuMZtlhMipzukt7hVyxkQXxKPlzHCSGHVbvAqrkyneo8EgALAnWPVwg9RgcE9Q2z4lTr2wUhjvOFAFaN68eS6Xa/v27aTuQ4VgLpueUFkocEiiOCkPLYIuJDk5BBWdMYhDyxmo7tU174Mw80f4jk8bvUXFvjxJTIcmEPpgQ7tDoBxuEH2e1DKq47MObY4j3lVYHvFyHBUVFVu2bMnOzna5XH6/H/O9OP1smIuGlCSKEO9+MyDPyQmHJNUZ4y+L2SyjAUbxr0THTca8cQ3HTRLRW9TtS78dnZpAhTcXZvdlh/PClz65pNmIENr2KZNQheURr61KOBy2Wq1PPfWU0+m02XB9LWY/G79UqjhyUpKoYf1mhI2bUoh0xkSkD9sGW/A1snkeM5sgChMMaZaB60kqEekDWh+zgtxdk36emukbk1CF5WG84wAAk8nEt6tUVlZi5mmI2uejq5ACvae5ubmrewJJFCHe/WZA3ripUrWV5YyxhAL/mDC8WUZl26I5zYk51YnoLaC7WYY//SBtVprsXZN+ntpo5pNTheURF8dBUVR7ezvpuzS0z1e8VCF9NPv6+pCSqIadnuiL1xNuKNkkgpQz1u3rRul3QxguQhjeLANxCBPi0dtC3UbpGaT09AOdd62NZj45VVge8XIcwWCQKC2qQa0HQfQlRSIR/wl/fl5+aWmp6EqiKRQkl4GCWM0y0ocJc0hCztjM4EyeMxanaWl4swwIwgT9+yANXWcx7eNvW0T2kRyx9PQD3gtPzj5l0qqwPOLlODiOQ1UVTDIYabghfF6F3zqqvy5evFib3AYPDUyhmI+Izk111tKs3uJekc6Yuk1tadS4hgmG7INUBqlHAwkwYhmRfc7DjV0ak55+AFccnLp6ixRE+xQ+ITBpVVgecXEcSEBwy5YtFEUhaR91kKr1SIG+yw9e+kCJJKq5M8WQZhnROLU1yyBIdcYKSgqUxqmZA47bckZyskxCNe/JgpQ5gsKNrCVZUjniq4P8Otlqgb9P4TjuBz/4wa5du1iWnbQqLI+4OA4kIEhR1KZNm2LGThra52WnXN6SvN5FvXkn8/CVRFXA624YTkzQPIXEVVuBzlhGS4ZMTi7OLWegqYpJpKgc07eKPkyd7FIEfHrL0MmhsUtjvD6g0vX4eRmifYrJZLrnnnva2to2b948aVVYHnFxHAiYmxRD1HoAIOAPAEDFP1ZoTiUo/QnDiQlwhZCuczsg4oyZ8816uAnELWeaHJPh2U2YuhTsoGcQyRHjGMQZJCl9o6am5vnnn7darZNWheURr4gDjBMQFEF2PghPctSZjZP9E4anEvjOEcwppOL7eM7YYONgfjB/5OyIsSQxoxguQqY/li8muQXbBhvrZ4nUN9TtxxykSI4Yx776U6StHTYUCoVCoUkrpvCIV44DAAKBAM7Fe7btgReA8TI4F8t+2dKTHHVl4xSeJ5VVSPOfMGrnL+SMjR0dK7xY+Pmezw25a4Q4hQmgGnNp2AfJluf12BcOUuS7B7wD6uGGEr0FFD5JbacuTXIVlke8CGAmk8ntdm/fvv3MmTMxr6+rq6vNqsXxHdIvQ3SSIw9+ThpYUpVdhfRHNDGXX/yqLc8ZK0ot+uyZz87v///tnX9sW9eV56/8Q5Fo1z/43Nqe6CWyE1DeJLXpAJuG3J2E1cuiU0Bqi+5aQbd/UOoCdpWdLmIZMxi7zMaulbi7WDuDBIjgxcxK/KPBhELRwuIAzXbJWC1Aehs0ptvB2KKz8Q+yU9sRlfoHH+koovaPa10/vx/33XvffeQjdT8oCod6vO/xxzu855zvOec62yUZcRhNsFK4gOZ0W2A7Ysx2A7+g6UUyyMzrn4VFuBXjkCQJKs3T6TTJ8ZFIZLBj8MqPr2COMf3yFQqFm7duPvmUZf6Vrnj30jEAACAASURBVHUNgRXQu0I8djQc5c/tD7ffuHtD+iup3d9ey9SuHbmGn01pdUmmMN+WVu+S1V3kJMxJ4gPSVjzrYlLG6Qe06+suks1PqX8WFuGW4UAZWfIGgpFIZPzIOMZ2GL98eJEorbbH9BSmoF8hLgEU3Zr645miFUgzBuaB7WxKhvlMtNdjuybgZDchtj4gg9wD3eqY6QdU62svks1PqX8WFuGW4di0aRPMqtC+Kmg7jG6L8f7BiETvPeVBbQ9HVQLQyHv4hhKcVzpof3s7vtyxZXTL+v+4vpwv3/jRjT+98yeS0bYkUIVmSLYPThQuVu+qG25LYCjwyT98YjX9gAF4kQx+Sj1rYY24uONgbiA4fmTcGPIw3j94kaixdQ1wQZUA+25QuEJkAbn79WY8kiO+Z3xd/72r+mfV6j9XjbMpme9Sl25LhpAHXukPiNvBWqE9vvpRdVV51Z0Vd5zHpBB//MMfGWTm9ayFNeKi4XCSjoUhj+nRezp04/1z7Y/XrESi955i3VHa/Hj6WxR+P5jLHDCgNXmlhAAA2/562+p/v7r6Z1WrPmOkp3iw9Qawe+20dxEXhcsDC3IVrcLpB4/+50cBv7AuQzksrIVt1HYDuGc4oJSDoQMYIhKJvP/a+zDkobt/5ufnc7/LybJsJRLFN4DiUuOgha3MwXZNhlCCbQObbX+97fau20gzdmX0CoPsXbcm4JoZ4ahw0YI+dydVdnD6wdrI2hWdKzjaI4ZyWJiF5TjanRYXdxzw/+PxeCqVYl4Hhjx0n/S53Ln2Ve1PPPGE1bPw9w+XUJzu++pGLQagdAcIb4nAUOAPH/+h/Tvtnc90ts+2286m1GJ6l2K0Usyulou1LTTtYMGD3yU4/aDzGVwFPe0Oi6EctoFZWIS7O46+vr7h4WGH6pTxI+PS/5ZQyEMrEjU9nuTLqvudZKs3M4K5z5lPQeEKUU05awc37t5Y1b+KZDYl83U6lL3b2k1aw4S6b5A/BXGvHfEz+nbEDmvtGPyUBmZhES7WqgAAisViMBh0bheRQswoEjVCnlJl/k3DWAFemUXtKdwQSsE1P736KclsSuMlYdasZwksm2Ei38dpDVP5dBlYtCPW7rlod1gMfkoDs7AIIsOhnUe/bwnMI2BJPMqxXCUSiXyn7TvpvWmjSFQL7ScXGApkf5Dl2PMKmN0/znc0tmaOLTkC17SdTclwnSX6AUgYsX+jSvKRYVqYW6h8UMFPPwjQt4Nl8FMam4VF2BsOnY04uQQa+KZ7BMHWQBDDZ5999ueP/Pmm/7MJ06SHpdD7abowPqEqwcl33eoUHDOgxjm1VrMp7x1PWXLm5JKs1nQYTTBm6Mk/o8r/rQCCYUu0w2UY5BuNzcIibAyHkyGynZ2duVyOOauiY2ZmJp1O9/X1Jf5Hwqoojjml6sYeGyx912l74dquCQxmzuGORvvz2/Hljs2vbkZ9xpBmjKWzVpAxmkBynQxYDZexDUuhdsT4YUslyuEyDDLzhmdhETaGg9lqAABkWfb5fFQNBK1QVXVycjIQCCiKAqyL4hymVEk+b9pblCHkUYdQAqb1BvxP1Gfs7sW7UPTR9lkb7VmoftIJ31gn0QQrbO2RsR2xKbTDZchl5vF4HP4ANzwLi3AxOAozsrFYbNeuXQ4DOclkslQqactedAox4GC7oX2EuxoyP54PvRUCLoQ20T3JKyUEDC9f22ds7fm15Jox7WfB/S0F9R0uA7cbnf+6U9eOmOQiAfZzJ/RTYKAwHo/v37+/4VlYhIuGA7YsliSpv7/fyTq5XC6VSkWjUZ310SrEgLPthhbMHoH5FnWjBSGgLBhB4F+F8eWveX6NVjNGYj6MfQMA9hZiMPq0kSkSHhD7L70EuN1YE1mDfy6twoXcT/H5fNFoFHbwbXgWFkFnOGAEFAK9GOMjCGgXHToppVIpHo8rimK1PYMKsQ/f/ND5dgPBK+RRtxaEbmRqdSIXbZ8xKs0YWhOn92fKqpJ/TLRif7Sm1fQDKkx/imjLYWVZLpfLDc/CIlaRHKS1CMaoh1UcBL5ChxnZRCLR0dHR19eHOWb8yPjp06cnbk1IgNt7Ku2WpN2S1rgwbDeQehoRGArcUz2b3ScOWxCSXB7hKdDL1x4M+4z5nvep0+rNd26WT5fXRNb4ntFvm/EiF7gml72h7joxaxo/CPya8CkAgMpvKlbTD2ivU5efps2n5HK5ubm5wcFBh1fCC3ddFUDcyMeUVCqVz+cHBwdtnTpjyAMPbYED4bJa6tmCkPxSnbfesJpNSb4mePDn17ncg5fo7v4pcqXAUODi3128/cvb+OkHEKoMfelsiUG+kUqlvJCFRbhoOODdnsvl9u3bx5CULRQKyWQyFAoRvlm6kAcv4BeCIaVK0oLwgeN5tCAE2PuHLRNhmlW10owx6P1poe3lyZx/eXjnw4t3FufUOYbnWgE/I1qZeaFQyOfzXsjCItyVnPv9fkVRwuEwTMrmcjnCJ6qqmkgkJEnCOylG8D3EINSF3vRfdMIWhNo9ApfgLv5S2XY0mPCEUTM295s5Kr1/nt+oWqtIJHO9DJx+8Nh/eQz/0TPUy9DKzL2ThUW4azhgHzAYE+7s7CwUCoRPTKVSxWIxGo0yZJ6o2qaTAFOqVCkMwi8r2iNwySVDOAq0CYUJSDN29/LdtefXkvcZY0hR2Rp9Xm6LdvoB3g2kNUy0fooXamGNuG44YHBUluUDBw5A+ZYtSCQKS2wZwLRNd6J6II0jULYgBPS13rY4F2ibrgms70nfM75bj93SasZszQd6o9zLCjEHUHTTDxyKVrXQ+ileqIU14q7h6Ozs1JarkJhMnUiUGZK26SQYU6rA7geNOqVKX+tNcj84/O21EiYA7P2jm02JF314cM4mvCTT6Qema9IapsvTl6NfjVJdUiaT8U4WFuG64QAAkHsoYEkkGo3SvbmmGNums6VUjS0IASaO4KAFIXeFJbpUjupSq1CC9hS62ZQkmjH3RC4Mbylm+oHDj4lWvgGzsJ4Ki0LcNRxw+vTo6GgikSBRgmUyGSgS5ejOOQl5MBR6O4lxEu4RqKzAvUulFGgTjgXBXypeM2aq9wce6EJoO/3AyXXSyje8loVF1GPHoShKNpudnZ3FH1wqlSYnJzEiUWZgyOO9wfc4plQBpyoM3f3jRp1u6Wwp9KbJLG7cU8jGggA0Z9PC0GhnU5KIPjAWuQ56f8id6Tu20w/gmrRJetpyWA9mYRGuB0cBALt27XrjjTdsrSaJSJSZSCRybPgYuUIMEKdUgeaHl4tHgClwILwq/VNyJbgm4C3Qvn+pWENj1IxdT1zHnMINi0y4ZvWj6vxH87aVKRAYmSK/TgY/xWtZWEQ9dhwk7XzIRaLM0CrEaKe6MVwSXp0NzHwBJ+pSwt9e2lMEhgKlD+3nbGo1Y7VMrfbLGqbPmO7lcymix5tO+FnA6Qckw5ZQCzXMmjqo/BRvZmER7hoOwgaCUCTa29tbB1/OalKcDtqUKsPGlWRZ8OCX0rm6FLjZOoBkTagZqzxaMe0zpuUBV4jTfBm86YTTD4ztiM1PoZkTSGKOaf0UOBvAa1lYhLuGAwAgSdK5c+cwB0CRaFdXl8P8Kzmmk+J0sLUgpIsjkKmztV9Kj7cOAGS/vfnx/Pb92037jBnXdJJVtfqr0XTCzwJOP7DtD0i4po62bBuV4chkMoFAwGtZWITrhgMKRjGTmZLJZLFYHBgYqOeWDF8U5ySlCojzf1TTDNj2CHVoHaA9BT46Y8TYZ8xy9xGUuLfeAJqXX8qVNjy6wXT6gSmm3xC820IlM/dsFhbhuuGQZdnv98uyPDU1ZfwrbNLjRCTKDCbkUY+pbvTd2GEXT7arMgXT9soJeOtpPAWJZozKzBFumnQvn7AdMcTqG2K1RSKRmauqOjY2Bn9fPZuFRbhuOAAA1Wo1Go2+9NJLusdVVX333XfD4XDdnBQjxqI452UjJBtsZttEvkdgaB3AMZRgdalWp7DSjKFTcKzB0QKDU/7H/STtiMnX1G27SGTmlUoFABCPxw8ePOjZLCzCdcPR1dWFylV0f4rH4wCAPXv2uH0NeHQKMY5xBI4p1fxSzyuXbh54CueRVwTbpRo1Y8bWAXhXiK0LYe2j2ud3PyfcbpDr/dHLJ/FTJEkaHh4eGRkBAHg2C4tw3XDAyIUxsZJKpXK53IsvvuiFbBMqiuNYpQr4pVSNy9qrs+lrvcFS2yuO6C6V5JbTacbWzKzRacbwoQSG97ZtoW0xv7j+363/6B8+onoiHmQ6qcphZVmuVquezcIi6pFVAYZylVKplEwm3RCJMoOK4vhWqXKJQVqps3E/vEy2iWqPQO4KAfqCESj6uBO4s2bnGqPklOPOKz+e3/rwVgBA51c63SgXCgwFtl7aSn68x7OwiDoZjhMnTiQSCbTvmJiYYGjS4zaRSOTUqVNUBbUMKVVe9WZ8e16hq3K11o72qhY7FzGzKa2yqlSnaFto004/sDVzDOWwe/fuJT/e41lYRJ1clUAgkEqlkskkWGrSs2fPHm9uxqiK4uqQUsXcDFY/vM5dIWC3S2J2hRh0LpjZlHqBKX1wd/3K9QCAjq/cl4ryLReikpl7PwuLqEdWxefzBQKBkydP9vX11VMkygymD5CW+qRUbW8G53sE46+orS/Aln9xonOxmk3p5D6f++3c4tXF9sfade2ILbsQ0u9oqGTm3s/CIuphOLTTp+PxeD1FosyQtE2vQ0qV8JuqvSE5tt6wMklOlO8Of89NNWNI8k97Vav+tKr2aW3N181L2oxmjvYTp5KZe7kW1kg9DAcsdQOaSY7edFJ04Ivi6pNSJf+mMt+Q+Bdiukdw6AqRvAN482eqGaOd7Xbx7y6ura3FTz9waOao/JRsNuv9LCyiHoZDluV8Pt9AkagTrIri6pBSpYXtemxfiHOf39QKOH8HdJqxDfMbqC515e2VqB0xBmTmGIoYyf0UVVWz2az3s7CIOu04oJxWlmXvOylGjEVxLHt1+jFCbE6HSyYJ7RH4ukLA7D6nenuhZuyzjZ8t/PPC9YPXO+eJsqqlsyXfLZ+2HbHtpUpP09XLUPkpzZKFRdRpxwEA8Pl8hUJhZmamDmfkDgx5OFGX0o4RYgDdb+QxSCorwFioirUCpm4L7du7onPF3UfuavuMdT3ZBbDvwM3TNxc/XbTdbhghfweoymGbJQuLqFNw1O/3S5I0MjLSFBFjU5BCjMt2A2Hl8DP8sGvvNzdaEAKm9r8kVsDhLgm+V7o+Y7Vf1j6/+LnVO7B6drVVO2LMKajKf8nLYZsoC4uo047jxRdfLJfLUAZWhzO6BGqbzmW7ocVt/8IUNttE1fOKHLRLcugKIfPR5murZWobP9l48e2LumM++fknq8qrMO2ICS8VcwyVzLyJsrCIehgOAEAwGDx27FhfX18qlcL05mgKTp06RdU2vT4pVaunNMQk2V6V1bIAAC4N2dsfbt/0l5ugZmxtfu3VV6/O/vp+r+zqB1XbdsT4U9hu6MinLjVXFhZRJ8MB6e/vj8VisizH4/GxsTHdwIRMJkM1gaWBECrEILQpVb43ObBKqTou53PDJAEAYEN28uMxby/SjD204qH5n85fOXJlYW6h+lF1VXkVYTtizCnw1pPcT2muLCyiroYDACDLcjQajUajV69ePXToEPJcCoXC5OQk+VTqhkM4KY5Bms1Qomr7w27SvpRH9wCbQlUHDdk5miSkGesAHTd+dGP2f86u2LjC9wyfrKfppZL7KU2XhUXU23BAwuHwsWPHBgYGUqnUwYMHM5lMsyhKtRgnxRmpQ5UqIQ4rSq1sk6uzqWyvltwVQpqxlZ+tBI9RXAnhbCrtpVr5KcaZZE2XhUU0xnBAFEWJxWI7duyIx+OFQkFRlKazu4C4bToh2pQq4a8u1Q87s5aJZFnus6m4G9BqRxUAANop/EHC2VToUjHTYcfGxnQBvqbLwiIaaTjAkucyPDzs9/vHxsaaNOdi1TbdYUqVUI7BMAaFZNkHTtGg2VSAdyO1udwcAGD9v1oP3EkM5cfzv33rt1byjb6+vnK5HI/Hjx8/XigUmjELi1hJnjRyjy1btrzwwgs+ny+ZTKbT6XXr1jWXLB0A0N3dvaG4IT4R736uGz3oXCfm2+qrXKsUf1G0Wqd0tuTb4vNtpdip5cfzwUNB/LI6ir8oyl+3/0S0V8tQPmv1QqTdUuVapXKtovsr4VVpmfvtXPtse+fTnet2rZN2S9B2YN49WvMn7ZaeuPSEleGA33NZlj/44IP33nvv448/3rRp07e//W2ql+ARGrzj0KIoyuuvvx4MBuPx+OjoqNEhtB3s1Fh0RXG8Uqr4HTtzHIF7DFK3LN/uAVz0bKWzpQ2PbwAAgCW9KFt3MgwkMnMkTdBtN/Zp0D3C6/I44iHDAQCQJCkajY6MjJTLZW3OBRKPx01nLHgKviEPBK+bXLe9J7lz2JwOqp49JOhnUzGlbNbvWA8A0LYyb1TbnkqlYszCnlwCALBv3z70nx60Hd4yHJCenh6Uc9m/fz+aNJHL5QIBniE9l4Ahj/btlsXaptjen8ab3GEMBeKSOJ3qx5z8hSADyrbVqlVqxgc5qv4Jy2GNWVhoGjy7vzDiRcMBURTljTfeQJ4LbG7cLLJcXVEcLxze5AwTVZ3oxNw1SR/SbWe0VmBl50rTZR3u6cjLYU2zsF7eXxjxruEAAPh8vmg0GovFyuWyqqpwYk2zQKgQg5D/uKGbnMt2Q4t5szxOPXv4TkIp5Uqht+gEpvfAfoO0igyWvsfE5bDGLCx0T5oITxsOiCzL0HPJZDLIc8EAzbkXIFGIsREYCpQ+5BxEAMbev5ymzODdFmbbxCB1ga5KW2eb1ZH3LR39VRHKzE2zsE2xy9DStri42OhrIEVV1cnJyUwmI8vy8PCwqWwG9lL//ve/7ymn5vDhw5efvdz9fLfpX+FXnzZ5if5N+ETyHQqMIMD7h1etnXZZ5gtD6wDNqyZ599Ap1N+oN9+5ufVv7QedZH+QDXwvQP6hTI9Ov//a+yRHHj9+vFKpxGIx3ePIdqDdh/ER79AEOw6E1nMx5lzA0pynUCjkKasB7IrimOUebjXdYJVsMvTsce5wUb0JixWin8n8eD70VgjQZGoJy2ExtbDalIrVI96hmQwHBHku2pwLJJFIdHR0eG3OE8Qq5OGwLRDhTc5wFvREioPd79ljCj6SorNN5GOlqUwSoZ+STqebsRbWSPMZDogu51IqlWC+dnBw0LMFL6YhDy5dCO0DkKy1dsDNMv/6TOrVsqguAtIuHAAQy+QIy2FVVc3lcs1YC2ukWQ0HMHguzZKvdU8hBixuGyebGvJfXbaePXWe1Guq49BhfCG2JonQT+FbC6sVmHJZkIomNhwQ5LlAUU1T9BZDRXF8o49Wt43DTY0bVapwWelpia5nj+NJvbVqjdxV0S0LLEwSphxWhxu1sFBgynFBQprecEB0nov3O4nBkMel6Ut8l3XpJgd23hCz00EV8vDmpF5CmXlT18IaaRHDATSeCwBgdHTU+xX6kUgk+26WSuVBuEPR3jZ825cCK2/Icc8eNyIpxl5qi+pim89SxAGY2koTysxTqVQgEODoSkONaaNyLq1jOCCyLMdiMZhz2bdvn85zUVXVa2Vy9Q95OIFXAlj3w06yLFutnRSk84ZI0ApMCWXmMAsbCoX4XkkDaTXDAVEU5eTJk+FwWOe5pFKpdDrtNUfGqg+QDu+0L9Xt2HnV2tUhU7tQXVjZYVKocu+qiN9htCyhn+JGFraB2w3QqoYDovNcZmZm0ul0b2+vB7sEkRTFead9KXBHjgGsN0oOE7faZTGuCkMvNRI/xY0sbMMl6q1sOIDGc8lmsydOnOjo6PBsP2R8UZyTlKp77UsBAAw9e/A7FFO3xXlPdvj0u8W7ThbRQeinuNGRuOGKUq8bDmMTJIa2SDDnEg6H5+bmTpw44TVXBYEpinOYUnWpfem9QTD0DpHtsg43SqYWUNotrepcdfPjm6ZPYXC4MOWwhUIBtbBr3o7EGDxtOIxNkJy0RdJ6LvF43Nia0COMHxmnmhRHiEuFLYDSGyLf1KCNEt8GAhuf2MjLycLIzNPpNCynSqVSrZSFRXjacHAHeS65XO7QoUPeKcDXoSuKq0/7UidnofCGaDY1fGc4AABAFazoXMEl5YSXmUej0YGBgbNnzyYSCb5ZWI/gacMBtxUQjh4d9FwURUkkEqOjo7rxcVNTU16Qn1L1AaKiznFNh0i7pdKHJY4CUxgc1e2/GIymrcxcUZSXXnoJANBKWVjEqkZfwH2KxeL58+fhvzdv3rxz506tveCefBoYGAiFQnCKbTgc7uvrkySpVCrBzAvHEzETiUQikcg3vvGNp999muqJJMPH7tWYabpaOCnShUi7JbxnwbapgRXuFP1EzLp+QGqVGuriA/sSMAR3ISTlsC1TC2vEQ4ajq6urq6urnmeEnksmk4G7jL6+vmKx6LXMy6lTp4ZeHVoMLVr1ATKCuXMQupuc5CkkZ0F3I3cvA01dYE6vmFa4sUVhSdr2tFItrBGvdwCrW1skGMcCACiKMjAwwHFlLpw+fXqiOkFiO2j7iaGfXIYWZJinGG9y5kZnVItgbNbC3MKNH93Y+J82dny5Q/cUKShRmc4rP74yfmQcf8zU1FQ6nY7FYi2WT4F4aMdhitE6uJS+hp5LMplMpVKVSgV6Lm6ciI1IJAJOgyOjR56P2SiOaPcOgaEAbJNHdT22ZzHxhnhsamy9ITaoNkqXpy8PfnUQf4yqqi2ZhUV4OjhaZ2Ar02g0euHChUOHDnmtqkU3KY4j0tMS8HBhi3FZq/guPlKzUFkA4P4YN4hOYEoSNiaRmefz+ZbMwiKE4dATDofhhL5kMqmbLe4F8G3TmVOqVDc5wzCH7A+yHDuPAIskjnOBKUluiERmzr0W1msIw2FOf39/LBaTZTkej+vUYqqqjo2NzczMNOra3FOIuVfYIj0tNXxHA4Ojto188MuSyMxbrxbWiDAclsiyHI1GkeeCGnxks9l8nv/dRYVp23QWhaVhb+/K/KSlp3AXmGqNHeFTtGPcrN4xjDdE4qe0cBYWIQyHDdBzgQ0+RkdH4dwWL0xg4KIQM93bc5+fhIY5kO9oaAWmRCOUKAcBmr4Ptn5Ka2dhEcJwEKEoCvRcEomEqqoe2YVqi+KYByCY4nZhiyv9vuxG2+nGuBF2MAWa94HET3GjFtaDCMNBCvJc/H4/YWvC+tTRwZDHlV9fod0I2Ja3c5mfxNA03KHAFH8kinEQbmq074PtdNiWz8IihOGgQ+u5HDx4EJ9zmZiYqE8d3eHDh0e+MsI9XApc2yA0ZAYd4Rg3U+CytjLzls/CIlaSDJIR6Ni+fXswGLx9+3Yymczn8z09PUaHNpVK/epXv/ra1762adOmOlxSd3f3huKG+ES8+7lukuOpUqqVaxX4P98Wn28rheteOluyeopvq+9eqciDP/uYpxCeBS4LT6E9bP7K/PyV+bUvrGU7yz/94z9NHJ3AH/OTn/xEkqT+/n7yZZsUseNgBHouIyMjs7OzxkG2qqomk8lwOFzPGKqLCjHW+UkMTcN5jbYDhh2Ndowbw1lsy2GXQxYWIQyHI3p6ekwH2UIPpSFTbEnapjNEUhnmJxHiXj2+zm0hGeOGwdZPSafTfr+/tbOwCOGqcGD79u3hcPjWrVvJZPLcuXPr1q37+c9/3tvb26jv0Le++q0NxQ2n/9/pDd0bTA8o/qIof52uYzMSmJp6AZinkCzu2+qrXKsUf1FkqGexDfGiC757/m7tdm3Nv1nDEHydHp3G+ymqqr7zzjvPPffcU089RbVykyJ2HHyQJAkNsh0bG1NVtbG1+VDlMT06zX1ldzcI/8vFHU2tyr7jsPVTlkkWFiEMB0/QIFsAwA9/+MPG1rlYhTycC0xJciJsupLA91xM4tyauYUf42aF7XTY5ZOFRQjDwR/dINvGdkXGF8URgpmfRP4UW9A0WUC8o6HKDX1B/kLljxUGu2klMz9+/DgMii+fLCxCGA5XQINsy+WyMedSZ7RFcVxaBCJcKopzT7e6dttaW4GpESuZeSAQgEHxZDLZ2rWwRkRw1EXWr1//wgsv+Hy+ZDKZTqfXrVunHSKnqurPfvazLVu21KGoIRKJwHDpnfN3aMOi+EiqabiUzRvSCiusVB6Yp9hSzpQX5he++M0vAgAq1yqET7w8fflbj3+ru7vb+Keenp5wOHzt2rV8Pt/X1+fBCYHuIXYcrmPluaRSqWw2q6pqfS4Dhksfuv4Q95W5hEutyu0wIQ9ab2hRXazMVWC5HSDe0eDLYSVJ8vl8yycLixCGox4YPRdVVdPpdCgUqufPFGZSnBWEewftrci33I5jEqdWqYGlknryUl18OSyshQ2Hw61dC2tEGI76gXIu0DFWVbVRCjFX+wAxh0UxKwPDBoHBG1qcX+z80gONA20rcWzLYZdbFhYhDAcFfAfZAgAaNcjWtA+QEYa9A0l5OwNcupN9/tnnPlm/LzAVpyPw5bDLMAuLEIaDFI6DbLWeC2GFPndIFGJsewdY3k5uOximyVJdEqLt8zZTHQfGKuFl5sswC4sQhoMCvvMotZ7Lvn376q8Wc70ozp1mXwAAttbHK2orUBcf05V1Vgk/HRYsg47EGIThoIBtf4EHeS4w52L0XNw2KFZFcQ4Fpu61Pna1OxnQ7JXwMvNlVQtrRBgOc4rF4i+X+N3vfufquZDnAgCAngvK0ZZKpcnJSbcnvIwfGScJedhiWt6Ody7YzFPgewEqq1Q6W5KekABli3O8n7KsamGNeH2SW6No1CDbVCoFh1FGo9FwOJxIJOozy1Y3KY5jStU40s0hqIKWfJpsKVd67JuP3QA3SNaHQo+f/oef/v4ff291zDLpSIzB67NjPUXdBtnG4/FMJuP3++fm5qAF4bg4CzS9twAADEtJREFUnqFXhx79m0e59BbVUjpbMpbMM0yTNZ6IZJH8eP6xbz5240c3Nv7lxo7HOzBHIvDTYVt7LiwJYsdBQd0G2Uaj0d7e3ng8Pjc3VywWVVWt2y/b+JHxoVeHwGbOy5oOZ+XSfcN2mizcPd2b/0gGfjrscs7CIkSMw6NAz2VgYCCbze7fv78+TY8h40fGAzcCVCEPQtfGvdbHmJVh5IVwjBsELzNfzllYhDAcngbmXBRFSSQSpjkXlyBUiCHIU6ooc8Fl7pzpypgVtGPcMOBl5ss5C4sQhqMJGBgYQDkX3SBbiBuVclwmxZmCWh/TPtHWPBkztffNE/EYN7zMHGZhG9vezQsIw9EcIM8FDrLVeS7JZPL48ePcT0pYFMewd5B2S7DZl4Ors17ZLFOrG+OGAe+nwCxsIED3elsPYTiaCUVRjh07hjyXXC4HACiVStls1r2vMknbdFpQsy/ykAdVhthJMAXjpyzbWlgjwnA0H9Bz6ezsHBsbi8fjddB6YBRiDhUf5FXztIUzgaFAKXf/2uAYN9vgKN5PWba1sEaE4WhKZFk+cOBANBq9cOFCLpd75JFH3P4NtCqKY5mfRN/62AloZZKUCqYcVmRhtQjD0cTAQbaKouRyudHRUberWngVxTG0PmZOwaCVtWPcMGBk5iILq0UYjqYHei6SJMXjcdOci5bjx487rHzRhjwY7mcMfFUeWvMUGArM5mYX521E0sZy2JmZGZQCF1lYLcJwtAKyLA8PD0PPBdNUPZfL5fN552FUJ0VxeFtjGvLgUjjj7/GD1TbBFGM57JkzZ2AKHL51IguLEIajdYCeS19fXyqVMvVcUqlUMBjk8psJQx53bt9xvpQOY8jDeRgFAFCr1qD6C+MQGf2UaDQKU+BjY2MiC6tFGI5Wo7+/PxaLybKs81wymUw+n+fookcikZGvjFCFPAj3Ds57eZjamjZfG2Zlq7Y9iqK88sorAACRhdUiDEcLIstyNBrVei6wqTqv7QaCtm06bbOv/HgeFs6zXuB9FtX7AQ7TYApGvpFKpXw+n8jCahGGo2WBngtsTXj06NFCoeBSU3WX2qaDpZAHLVZhlJUd9wtVdMEUjHxDZGFNEYajxVEUJRaL7dixAwCQTCZdGmRLUhTnJAXjXOWxUF3QdSrWBlMwMnORhTVFGI7WB3ouw8PDV69edW+QrRtFcdDWUIU8rMIoWlcFgVbG+ykiC2tEGI7lQjAYRJ7LwYMH3VCLYUIezlOqhCoPTBhlRYf5t719e7vVdmNmZkZkYU0RhmN5oSjK66+/vmPHDt0gW46YFsVxSak6GQcJq2NNwfgpZ86cEVlYU4ThWHZIkhSNRkdGRtAgW+1fM5kMHE/p5BRc2qab2hp8YQt+X2NVq2Llp4haWAzCcCxTenp6tINsoecCs7aBQMD5raItiuOrTMeEPHD7mqr5w5ipS6IWFoNoVrysURQlFApNTk7G4/F0Or1r165CobBnzx4ui0cikUgkwtb62NbWkM9GgNQqNdP5j1ZTl0QWFo/YcSx3tINsk8mk3+/nm0EYPzIulSX3VB4o5GFra0zbf1mVw4osLB5hOFoHONdW+2/yUZVokO3c3BzyXHjx1l+9xWVSnBHCXh5WkVG8nyKysBiE4WgRtKOw4b8ZxtzCpurBYJB7zgWGPAhtB1VMhETlYdX+y8pPEVlYW4ThaAW0VsMhWs+Fr1rMvbbpCNpMrZWfIrKwtgjD4SJax8HVs3AfKIc8F23ORUupVIKtkqkgKYpjlophVB73xrh1PvCglZ8isrAkiKyKiyBPgeONXSwWz58/D/+9efPmnTt3ggcNE0cjpcu5DA8PoxRDMpm8cOEC26z28SPjhw8fvvzs5e7nu41/ZZgLiWwNfhykzlWxkm+ILCwJwnC4Dt/tQFdXV1dXl9X6cPfB0XZAz6W3t/ftt98+dOiQoigDAwNwu+Ek43D48OHTp09PTE+Y2g5atLbGdEgtDI5qx7hdnr48GBk0LgWzsMFgUGRh8QjD4SLoNnZpNrUVWtvB5dTQc0mlUolEIpvNdnV1OR/IEIlEwGkQ/3H80b+5H2jgJRWzVXlc+fWVyGsR4+MwC/vss886v4bWpm1x0aaDq4ANY5qjsdfDBVVVJycnM5mM3+9/6aWXZFl2vubQq0PIdrB1MwdLeVmrP1V/X/307z/90n/90kr/0qbjvwHTAAcciHfgwAGqa1iGiOCoW2gtRWtYDaDJuQAARkdHueRcHE6Kw8jMkcpDN//Rqm2PyMKSIwyHgBptzmXfvn3O1WKwKO69wfc4lrRAoMrj+unrQBMc1ZbDasv5RBaWnJVWyjmBAM/27dsVRbl9+3YymTx37ty2bdvWr1/PvFp3d/fjX3w8PhHvfq6b/FmErk375+13L9z9wl984d65st3IcLz55psXL16EPtc777zz3HPPPfXUU7QXvwwRhkPAzurVq4PBYDAYPHfuXDKZrFQq27ZtW716NTpgZmYmnU4/+eSTJKt1d3cPKoPx0fiGf7uB8AII23zMX5mfvzL/L4V/AQB88PcfTByd0P41k8kkk8lLly7dunXru9/9rpBvkCBcFYFTZFmOxWKmarEzZ86cPXuWqrsHeciDXCoG5z/CvYlOZo6G0eTzeZGFJUcYDgEfFEU5efJkOByGdS6FQqFQKGQyGQYJJmEfIPKuYqjITdotmcrMoasisrDkCB2HgCdQLQZthyzLfr+fLUkBVR68FGK1ag1GRqdHp99/7X3jAaIWlhax4xBwBnkupVJpbm4um82yrYMviqMtaYFdfEzLYUUWlgFhOASuACv0FUVJJBLQc7F9ivEYXNt0mu7HaDaCqZ8isrAMCMMhcJGBgQGkFtMOsjWiquqJEyempqaMf+IyKW5lx0rTclhYdyNqYWkRhkPgLtBzQYNsYe2pEXxNqm5SHK0yHY5xMy2HhTkgUQtLizAcgnoAs57Ic9H18oDd1UOhECYbqm2bzkD5WtkoMxe1sMwIwyGoH9BzkSRpbGxM67mkUilVVUOhEP7pkUjk/dfeZ+ghtqgu3vzkptFwiFpYZoThENQVWZaHh4eR5zI1NYV+9glrbcePjD90/SGqkEetUuta0WV8XGRhmRGGQ9AAkF4zmUwePXqUdhAB7aS4herC9u3bdQ+KLKwThOEQNIz+/v5YLPbII48AAM6cOUPVVJ0q5FGr1B59VJ+IFVlYJwjDIWgkOs+FqsEHechjJVipy7aKLKxDhOEQNB7kuaRSqdHRUaoGH7Zt0+GupLPzgR7nIgvrEGE4BF4Bei6yLMfj8bGxMXLPBa8Q617RrXtEZGGdIwyHwEPIshyNRqPR6NWrV009l6mpKVN1qU4hpqULdAEAtC6JyMI6RxgOgeeAngts8KH1XOBOYW5uzvRZpkVx06PTL7/8su7IVCoVDAZFFtYJwnAIPIqiKMhzOX78OAxn4hO3xqK47lXdsI0QinHALKyt2EyARxgOgXeBnsvw8PDs7CxUi5HoxLQhD1QOi1wVkYXlgmjkI3Ad43QoqnlRsK0pHAdVrVZhVzH8U+CkuKG/GLo0fWlmZgY9jmbQiSysUxYFAjfZu3ev7t/GRwiZnZ2dmJjYu3fv0aNHZ2dnCZ914cKFvXv3wuNPnTr18ssvkz9XYIVwVQTuwnEYlSRJ0Wh0ZGSkXC7bqsXGxsbgAZVKBT4isrAcEa6KoE7wmoPZ09OjHWS7Z88eU88lEAjAA4LBIACgs7NTZGE5IgyHgCfFYvH8+fPw35s3b965cyf8N/fpuYqihEKhycnJeDyeTqeHh4d1+4hSqRSLxdLpNMzmlkolkYXliDAcAp50dXV1dekL2F2auQ0H2fb29r799tuHDh1SFGVgYAD+aWZmBpbMR6NRv9+fTCZHR0cBAMPDw9wvY3kiptUL3AUlUCDQglBlVUiAnovP54Oey9jY2NWrV1955RWfz5dKpZLJpCRJ5XIZPsLljMscYTgELYKqqpOTk5lMRpblUqnU29vb398PAJiamkqn0wAA9AiEu/FaVghXRdAiaD0XVVWRMr1Sqaiq6vP5tDFUrffkkifV2gjDIWgpZFlGOZdcLrdnzx6YjhVZWL4IwyFoQbQ5F/iIyMLyRRgOQWuCPJdEIhEKhUQWli/CcAhaGVmWDxw40OiraEFEVkWwTBFZFScIwyEQCKgRRW4CgYAaYTgEAgE1wnAIBAJq/j+qyWWZfeh5+QAAAABJRU5ErkJggg==\"></div>"
      ],
      "text/plain": [
       "-Graphics3D-"
      ]
     },
     "execution_count": 46,
     "metadata": {
      "text/html": [],
      "text/plain": []
     },
     "output_type": "execute_result"
    }
   ],
   "source": [
    "Show[ListPointPlot3D[Rover1Data2[[320;;400]], PlotStyle -> Blue, AxesLabel -> {x, y, z}],\n",
    "    Plot3D[-a23D*y - x*a13D - a33D, {x, -90, -10}, {y, 0, 100}, PlotStyle -> {Thickness[0.005], Green, Opacity[0.5]}],\n",
    "    PlotRange -> All, AspectRatio -> 2/GoldenRatio]"
   ]
  },
  {
   "cell_type": "markdown",
   "metadata": {},
   "source": [
    "### МНК и РНК "
   ]
  },
  {
   "cell_type": "code",
   "execution_count": 47,
   "metadata": {},
   "outputs": [
    {
     "data": {
      "text/html": [
       "<div><img alt=\"Output\" src=\"data:image/png;base64,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\"></div>"
      ],
      "text/plain": [
       "-Graphics3D-"
      ]
     },
     "execution_count": 47,
     "metadata": {
      "text/html": [],
      "text/plain": []
     },
     "output_type": "execute_result"
    }
   ],
   "source": [
    "Show[ListPointPlot3D[Rover1Data2[[320;;400]], PlotStyle -> Blue, AxesLabel -> {x, y, z}],\n",
    "    Plot3D[LSline3D, {x, -90, -10}, {y, 0, 100}, PlotStyle -> {Thickness[0.005], Red, Opacity[0.5]}],\n",
    "    Plot3D[-a23D*y - x*a13D - a33D, {x, -90, -10}, {y, 0, 100}, PlotStyle -> {Thickness[0.005], Green, Opacity[0.5]}],\n",
    "    PlotRange -> All, AspectRatio -> 1/GoldenRatio]"
   ]
  },
  {
   "cell_type": "code",
   "execution_count": 48,
   "metadata": {},
   "outputs": [
    {
     "data": {
      "text/html": [
       "<div><pre style=\"&#102;&#111;&#110;&#116;&#45;&#102;&#97;&#109;&#105;&#108;&#121;&#58;&#32;&#34;&#67;&#111;&#117;&#114;&#105;&#101;&#114;&#32;&#78;&#101;&#119;&#34;&#44;&#67;&#111;&#117;&#114;&#105;&#101;&#114;&#44;&#109;&#111;&#110;&#111;&#115;&#112;&#97;&#99;&#101;&#59;\">&#49;&#48;&#52;&#46;&#52;&#49;&#54;</pre></div>"
      ],
      "text/plain": [
       "104.416"
      ]
     },
     "execution_count": 48,
     "metadata": {
      "text/html": [],
      "text/plain": []
     },
     "output_type": "execute_result"
    }
   ],
   "source": [
    "EuclideanDistance[Rover1LineInPark3D[[1]], Rover1LineInPark3D[[81]]]"
   ]
  },
  {
   "cell_type": "markdown",
   "metadata": {},
   "source": [
    "### Delta H МНК"
   ]
  },
  {
   "cell_type": "code",
   "execution_count": 49,
   "metadata": {},
   "outputs": [
    {
     "data": {
      "text/html": [
       "<div><img alt=\"Output\" src=\"data:image/png;base64,iVBORw0KGgoAAAANSUhEUgAAANIAAAAPCAIAAAAeWwbkAAAAzHpUWHRSYXcgcHJvZmlsZSB0eXBlIGV4aWYAAHjabVBbDgMhCPz3FD2CAg56HHfXTXqDHr+opI1NJ5HB4SWG/nre4TFAKQbJWlCBaJAqlZo5JS4sTrFOO3GRx9Kuh3i73kzK3wC668euKxZT+W3kE3hMMJ/FC7wR09JTW/fD86mVsjfiuEHK5+n/76yEjKRiViiqoppfgrlGyBSz4sYJWGKCfYWcxh2qVgYdGdxG4QB13bN7AJtwjRV4nMTNmM0y20auCOdpCx0enYuEN5pXWuufgaW7AAAACXBIWXMAAAsTAAALEwEAmpwYAAAAPHRFWHRTb2Z0d2FyZQBDcmVhdGVkIHdpdGggdGhlIFdvbGZyYW0gTGFuZ3VhZ2UgOiB3d3cud29sZnJhbS5jb21coqaFAAAAIXRFWHRDcmVhdGlvbiBUaW1lADIwMjE6MDM6MzAgMjE6NDU6NDij5KbWAAADOElEQVRoge1ZO3arMBAdZS3gIscrwCuA17hym06Upknn0l0aUeIuLdVrLFZgVsBxgbQXvYKfQCM+cV5chFvZM1fM3NEgBpsopWDFip/Fy7MTWPEbsbbdiidgbbsVT8ALAICMd6TCLpaVvTMRQkiYwdDcMi2wMytPe0nIQiTQIszOSgvVZ7YOpABTzIaKK3pAlhUP6bXsrKkCNy5abodSgnmUK6WUEswDj4nmY23twCmARjX8c5icgkdpZ+K083LahF+C+Vl10JT2Pmt+syYos8p5JPDXRI3gQb22nTVVoMb5y8cAFkXYJbQCCuYB2GNYmWZ+WkHGN0hwjvrmZ6VfrMtgqi26mowwrRVHHJz2C7KwKx/VO9IcqGtO2425+vdq/a0328myALr3m6+XoHc+y7KA7cYByELipgdGoSjxI97GzMKgYJ9HR+c6x5s63V1CCPm7V7e+U4coyyWxLKgfO256EIlfr/cOm+vO9tDqajLFRMN9RMDe/Z7NTxSnlyDM6oKIEdHfrxcAjJ1dikXLneOJ5um1YsprmtPT0dHaLgvdaMvr5Jzjre1PiNze3BIAV7fjZirekJmFAXCjxDLekQC4UopDYBEipZQSAETzYTKWFX5SqTrd3XYOyaMzfFYnyTZ6G0xyWk1GmRhkfL7QE9JUfiJYERCCFaTR2+Kb9Vp3dh6+sNzfN30nr2l1F9Zt12x+4huLnD8HD4pSgrPZwiU4vwqV+Npdh6WGMCE+X5rbxI1yuASE7GIpr2lOq331E07z6MPQIaUQQojyfi+FEELIyVgzDg9/3x0TXnsC+3ua30UT16yJhYlDxm/mUafB8zx8XaW3xbfrbS/V7OzXMH+5/84gvUrIPqJtfRfWz9vROQ0ZvrS5tvlqTqMYczAETE3sWh7M4pqfFboITwariSXtgUsPbitqHX1csA0P6u1n2DPOme2WLm/JHmPd2yPUc6kGypXSrcPymlZstrUwzfz0+GPTsbXt5mfFKYyL0rvKrAnG1K85ZFo6St8uwbylrxSP6kV3FlWBGucvN1V3dqLW/2RX/ACykJxf27ente1W/ADqV6B2TF7/HFvxf5GFhJCgYPoPOPAPcyhEJnbc+w8AAAAASUVORK5CYII=\"></div>"
      ],
      "text/plain": [
       "250.048 + 0.362617 x - 0.351151 y"
      ]
     },
     "execution_count": 49,
     "metadata": {
      "text/html": [],
      "text/plain": []
     },
     "output_type": "execute_result"
    }
   ],
   "source": [
    "LSline3D"
   ]
  },
  {
   "cell_type": "code",
   "execution_count": 50,
   "metadata": {},
   "outputs": [
    {
     "data": {
      "text/html": [
       "<div><pre style=\"&#102;&#111;&#110;&#116;&#45;&#102;&#97;&#109;&#105;&#108;&#121;&#58;&#32;&#34;&#67;&#111;&#117;&#114;&#105;&#101;&#114;&#32;&#78;&#101;&#119;&#34;&#44;&#67;&#111;&#117;&#114;&#105;&#101;&#114;&#44;&#109;&#111;&#110;&#111;&#115;&#112;&#97;&#99;&#101;&#59;\">&#50;&#49;&#49;&#46;&#49;&#56;&#49;</pre></div>"
      ],
      "text/plain": [
       "211.181"
      ]
     },
     "execution_count": 50,
     "metadata": {
      "text/html": [],
      "text/plain": []
     },
     "output_type": "execute_result"
    }
   ],
   "source": [
    "p1MHK = LSline3D[[2]][[1]]*Rover1LineInPark3D[[1]][[1]] + LSline3D[[3]][[1]]*Rover1LineInPark3D[[1]][[2]] + LSline3D[[1]]"
   ]
  },
  {
   "cell_type": "code",
   "execution_count": 51,
   "metadata": {},
   "outputs": [
    {
     "data": {
      "text/html": [
       "<div><pre style=\"&#102;&#111;&#110;&#116;&#45;&#102;&#97;&#109;&#105;&#108;&#121;&#58;&#32;&#34;&#67;&#111;&#117;&#114;&#105;&#101;&#114;&#32;&#78;&#101;&#119;&#34;&#44;&#67;&#111;&#117;&#114;&#105;&#101;&#114;&#44;&#109;&#111;&#110;&#111;&#115;&#112;&#97;&#99;&#101;&#59;\">&#50;&#50;&#50;&#46;&#48;&#57;&#54;</pre></div>"
      ],
      "text/plain": [
       "222.096"
      ]
     },
     "execution_count": 51,
     "metadata": {
      "text/html": [],
      "text/plain": []
     },
     "output_type": "execute_result"
    }
   ],
   "source": [
    "p2MHK = LSline3D[[2]][[1]]*Rover1LineInPark3D[[81]][[1]] + LSline3D[[2]][[1]]*Rover1LineInPark3D[[81]][[2]] + LSline3D[[1]]"
   ]
  },
  {
   "cell_type": "code",
   "execution_count": 52,
   "metadata": {},
   "outputs": [
    {
     "data": {
      "text/html": [
       "<div><pre style=\"&#102;&#111;&#110;&#116;&#45;&#102;&#97;&#109;&#105;&#108;&#121;&#58;&#32;&#34;&#67;&#111;&#117;&#114;&#105;&#101;&#114;&#32;&#78;&#101;&#119;&#34;&#44;&#67;&#111;&#117;&#114;&#105;&#101;&#114;&#44;&#109;&#111;&#110;&#111;&#115;&#112;&#97;&#99;&#101;&#59;\">&#49;&#48;&#46;&#57;&#49;&#52;&#53;</pre></div>"
      ],
      "text/plain": [
       "10.9145"
      ]
     },
     "execution_count": 52,
     "metadata": {
      "text/html": [],
      "text/plain": []
     },
     "output_type": "execute_result"
    }
   ],
   "source": [
    "deltaHMHK = p2MHK - p1MHK"
   ]
  },
  {
   "cell_type": "markdown",
   "metadata": {},
   "source": [
    "### Delta H РНК"
   ]
  },
  {
   "cell_type": "code",
   "execution_count": 53,
   "metadata": {},
   "outputs": [
    {
     "data": {
      "text/html": [
       "<div><img alt=\"Output\" src=\"data:image/png;base64,iVBORw0KGgoAAAANSUhEUgAAANkAAAAPCAIAAADmu/0TAAAAzHpUWHRSYXcgcHJvZmlsZSB0eXBlIGV4aWYAAHjabU/bDQMhDPtnio4QkuDAONwdJ3WDjt/wUCuqWiI2zgMS2ut5h0cHRwqaLKMA5NCihauLTBOTI5URB66ycnH3A93Lr26lbwJt+cfuGyZz/h3EU0h/wbXoaliDhKcf67wfq55rzvsgoQ2aP1//fxdjJERTj8pkhuI6B5dOSEzJcOMEvDDiYtLTucHM22C9Qmpv7OBme3ULEDeuvoL0E6U6i0cR32g5KmnEzMfKjkXCG6SmWvIIWcAqAAAACXBIWXMAAAsTAAALEwEAmpwYAAAAPHRFWHRTb2Z0d2FyZQBDcmVhdGVkIHdpdGggdGhlIFdvbGZyYW0gTGFuZ3VhZ2UgOiB3d3cud29sZnJhbS5jb21coqaFAAAAIXRFWHRDcmVhdGlvbiBUaW1lADIwMjE6MDM6MzAgMjE6NDU6NDij5KbWAAADJ0lEQVRoge1ZPbrqIBAdXItavM8V4ApMZWV7O1LG5naWdq/BUrvbWt1GsgJdQb5bSPbCK8gPkIEk+u6nBadScobMYQZmUKKUgoiIN8Dk1Q5ERFSIuRjxLoi5GPEumAAAlIcl0VgeyiAdZQ4czFNiI81rcvOomcAkax5qHphzBCpf+23b15lczNy/pPpJQzYU9C3+I3hGWquhO4WjYmi8wlBKMAAmlFJKSU7rjxhQJjooOTXGKJfIVNUoRhCsdaNlouZ9g73QVj3Ka0drSvsq1NwvXzCgjGHv8izUM3hSmt/QVfFYvFyASZOcAvj9Rpm95kauNjBUol4accGeo4s0YMkDGGBtLrjrVjBsbpxwMjIqmLGegoEnnlKIUJgfluYz7KoYHS9741XfJuW9gMV8CpCnZHbecAbFHS8VKLPXvLwXwNYrux783QL/XFWP6WZ+WdpVappd1e5nRggh32t1zaY+857B/43Tt64z5WF/GmZhys/TpOBfjpimmM3OG3m0/V8dlWCnRDcjScGluxIa8n4fqQOBR9opcfsHTMXoeE2zHbudL3rO8nK+sV02ndQvIAkIdc3mfT6jTK95ns62C2EvcXnYn9iu9fe23cOX3nCL7cehBN2NJCCUUgISp49yzf2DzUMLfQK9WB0lL3RoPmDDhpiY8vM0AYEl0+qoT4fdz6zbU9Uv9djWiuRvSJtm1+bggu0szb0qRscLYLWuk7G8nKtU1YXALLOhGt1l+s0lp0jBd9oiyanxraoV1jR2jUe7qmCrJaWwgNNGVniXjpjb8nX/YgPpkhEVklNKcecqaZwx/nvSmsGqLiMqxsarFcal0R+AtQROb2f1K8rDxM3xRES6R0NH47cpwBaDNZ/44EhgEXDlW2R7gbHc9PrkSY5Q0x/cbYIHrwVPSqvp7igWuM4E4dAIRjlvW1Wo7ZGtitxFUGZ3sLN/Qpdqg4weI88cigMgGOoqIr91yt2vjrlPvjGPeSPxHJN2CkhOfXcXby4+Kc2QgZ/XD8Wr42DDJyr+Hx3xKuQp2f9pbmQxFyNeherG29xs43+AES9AnhJCkoJbv2L9A9IwCOjLumX2AAAAAElFTkSuQmCC\"></div>"
      ],
      "text/plain": [
       "0.00276877 - 1.91243 x + 1.95487 y"
      ]
     },
     "execution_count": 53,
     "metadata": {
      "text/html": [],
      "text/plain": []
     },
     "output_type": "execute_result"
    }
   ],
   "source": [
    "-a23D*y - x*a13D - a33D"
   ]
  },
  {
   "cell_type": "code",
   "execution_count": 54,
   "metadata": {},
   "outputs": [
    {
     "data": {
      "text/html": [
       "<div><pre style=\"&#102;&#111;&#110;&#116;&#45;&#102;&#97;&#109;&#105;&#108;&#121;&#58;&#32;&#34;&#67;&#111;&#117;&#114;&#105;&#101;&#114;&#32;&#78;&#101;&#119;&#34;&#44;&#67;&#111;&#117;&#114;&#105;&#101;&#114;&#44;&#109;&#111;&#110;&#111;&#115;&#112;&#97;&#99;&#101;&#59;\">&#50;&#49;&#52;&#46;&#50;&#55;&#52;</pre></div>"
      ],
      "text/plain": [
       "214.274"
      ]
     },
     "execution_count": 54,
     "metadata": {
      "text/html": [],
      "text/plain": []
     },
     "output_type": "execute_result"
    }
   ],
   "source": [
    "p1PHK = -a23D*Rover1LineInPark3D[[1]][[2]] - Rover1LineInPark3D[[1]][[1]]*a13D - a33D"
   ]
  },
  {
   "cell_type": "code",
   "execution_count": 55,
   "metadata": {},
   "outputs": [
    {
     "data": {
      "text/html": [
       "<div><pre style=\"&#102;&#111;&#110;&#116;&#45;&#102;&#97;&#109;&#105;&#108;&#121;&#58;&#32;&#34;&#67;&#111;&#117;&#114;&#105;&#101;&#114;&#32;&#78;&#101;&#119;&#34;&#44;&#67;&#111;&#117;&#114;&#105;&#101;&#114;&#44;&#109;&#111;&#110;&#111;&#115;&#112;&#97;&#99;&#101;&#59;\">&#50;&#48;&#57;&#46;&#52;&#50;&#54;</pre></div>"
      ],
      "text/plain": [
       "209.426"
      ]
     },
     "execution_count": 55,
     "metadata": {
      "text/html": [],
      "text/plain": []
     },
     "output_type": "execute_result"
    }
   ],
   "source": [
    "p2PHK = -a23D*Rover1LineInPark3D[[81]][[2]] - Rover1LineInPark3D[[81]][[1]]*a13D - a33D"
   ]
  },
  {
   "cell_type": "code",
   "execution_count": 56,
   "metadata": {},
   "outputs": [
    {
     "data": {
      "text/html": [
       "<div><pre style=\"&#102;&#111;&#110;&#116;&#45;&#102;&#97;&#109;&#105;&#108;&#121;&#58;&#32;&#34;&#67;&#111;&#117;&#114;&#105;&#101;&#114;&#32;&#78;&#101;&#119;&#34;&#44;&#67;&#111;&#117;&#114;&#105;&#101;&#114;&#44;&#109;&#111;&#110;&#111;&#115;&#112;&#97;&#99;&#101;&#59;\">&#45;&#52;&#46;&#56;&#52;&#56;&#49;&#56;</pre></div>"
      ],
      "text/plain": [
       "-4.84818"
      ]
     },
     "execution_count": 56,
     "metadata": {
      "text/html": [],
      "text/plain": []
     },
     "output_type": "execute_result"
    }
   ],
   "source": [
    "deltaHPHK = p2PHK - p1PHK"
   ]
  },
  {
   "cell_type": "markdown",
   "metadata": {},
   "source": [
    "### График"
   ]
  },
  {
   "cell_type": "code",
   "execution_count": 57,
   "metadata": {},
   "outputs": [
    {
     "data": {
      "text/html": [
       "<div><img alt=\"Output\" src=\"data:image/png;base64,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\"></div>"
      ],
      "text/plain": [
       "0.00276877 + 1.95487 (105.302 + 0.930833 x) - 1.91243 x"
      ]
     },
     "execution_count": 57,
     "metadata": {
      "text/html": [],
      "text/plain": []
     },
     "output_type": "execute_result"
    }
   ],
   "source": [
    "-a23D*(- a2 - x*a1) - x*a13D - a33D"
   ]
  },
  {
   "cell_type": "code",
   "execution_count": 58,
   "metadata": {},
   "outputs": [
    {
     "data": {
      "text/html": [
       "<div><img alt=\"Output\" src=\"data:image/png;base64,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\"></div>"
      ],
      "text/plain": [
       "250.048 - 0.351151 (108.397 + 0.985918 x) + 0.362617 x"
      ]
     },
     "execution_count": 58,
     "metadata": {
      "text/html": [],
      "text/plain": []
     },
     "output_type": "execute_result"
    }
   ],
   "source": [
    "LSline3D[[1]] + LSline3D[[2]][[1]]*x + LSline3D[[3]][[1]]*(LSline[[1]] + LSline[[2]][[1]]*x)"
   ]
  },
  {
   "cell_type": "code",
   "execution_count": 59,
   "metadata": {},
   "outputs": [
    {
     "data": {
      "text/html": [
       "<div><pre style=\"&#102;&#111;&#110;&#116;&#45;&#102;&#97;&#109;&#105;&#108;&#121;&#58;&#32;&#34;&#67;&#111;&#117;&#114;&#105;&#101;&#114;&#32;&#78;&#101;&#119;&#34;&#44;&#67;&#111;&#117;&#114;&#105;&#101;&#114;&#44;&#109;&#111;&#110;&#111;&#115;&#112;&#97;&#99;&#101;&#59;\">&#50;&#49;&#49;&#46;&#57;&#56;&#52;</pre></div>"
      ],
      "text/plain": [
       "211.984"
      ]
     },
     "execution_count": 59,
     "metadata": {
      "text/html": [],
      "text/plain": []
     },
     "output_type": "execute_result"
    }
   ],
   "source": [
    "at1 = LSline3D[[1]] + LSline3D[[3]][[1]]*LSline[[1]]"
   ]
  },
  {
   "cell_type": "code",
   "execution_count": 60,
   "metadata": {},
   "outputs": [
    {
     "data": {
      "text/html": [
       "<div><pre style=\"&#102;&#111;&#110;&#116;&#45;&#102;&#97;&#109;&#105;&#108;&#121;&#58;&#32;&#34;&#67;&#111;&#117;&#114;&#105;&#101;&#114;&#32;&#78;&#101;&#119;&#34;&#44;&#67;&#111;&#117;&#114;&#105;&#101;&#114;&#44;&#109;&#111;&#110;&#111;&#115;&#112;&#97;&#99;&#101;&#59;\">&#48;&#46;&#48;&#49;&#54;&#52;&#49;&#49;&#56;</pre></div>"
      ],
      "text/plain": [
       "0.0164118"
      ]
     },
     "execution_count": 60,
     "metadata": {
      "text/html": [],
      "text/plain": []
     },
     "output_type": "execute_result"
    }
   ],
   "source": [
    "at1 = LSline3D[[2]][[1]] + LSline3D[[3]][[1]]*LSline[[2]][[1]]"
   ]
  },
  {
   "cell_type": "code",
   "execution_count": 61,
   "metadata": {},
   "outputs": [
    {
     "data": {
      "text/html": [
       "<div><img alt=\"Output\" src=\"data:image/png;base64,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\"></div>"
      ],
      "text/plain": [
       "Legended[Legended[-Graphics-, Placed[LineLegend[{Directive[Opacity[1.], \n",
       " \n",
       ">        AbsoluteThickness[1.6], Thickness[0.005], RGBColor[1, 0, 0]]}, \n",
       " \n",
       ">      {МНК, RGBColor[1, 0, 0]}, LegendMarkers -> None, LabelStyle -> {}, \n",
       " \n",
       ">      LegendLayout -> Column], After, Identity]], \n",
       " \n",
       ">   Placed[LineLegend[{Directive[Opacity[1.], AbsoluteThickness[1.6], Thickness[0.005], \n",
       " \n",
       ">       RGBColor[0, 1, 0]]}, {РНК, RGBColor[0, 1, 0]}, LegendMarkers -> None, \n",
       " \n",
       ">     LabelStyle -> {}, LegendLayout -> Column], After, Identity]]"
      ]
     },
     "execution_count": 61,
     "metadata": {
      "text/html": [],
      "text/plain": []
     },
     "output_type": "execute_result"
    }
   ],
   "source": [
    "Show[ListPlot[Rover1DataXH[[320;;400]], PlotStyle -> Blue],\n",
    "     Plot[211.984 + 0.0164118*x, {x, -100, -10}, PlotStyle -> {Thickness[0.005], Red}, PlotLegends -> {\"МНК\", Red}],\n",
    "     Plot[-a23D*(108.397 + 0.985918*x) - x*a13D - a33D, {x, -100, -10}, PlotStyle -> {Thickness[0.005], Green}, PlotLegends -> {\"РНК\", Green}],\n",
    "    PlotRange -> All, ImageSize -> 800]"
   ]
  },
  {
   "cell_type": "code",
   "execution_count": 62,
   "metadata": {},
   "outputs": [
    {
     "data": {
      "text/html": [
       "<div><img alt=\"Output\" src=\"data:image/png;base64,iVBORw0KGgoAAAANSUhEUgAAAIIAAAAPCAIAAACnT4CsAAAAy3pUWHRSYXcgcHJvZmlsZSB0eXBlIGV4aWYAAHjabU9bDgMhCPz3FD0CAg56HLd1k96gxy+upI1NJ5GB4SVpvJ5nuk1wpqTFKhpADm3auLtTaWFxpnbZJXHk8q4nOkPvLpVvAiP0Y9cNi7n+DooNMje4LxoNMUh46bmv+Ih67rXug4Q2aP18/X8sxijIpm6VyQzN/ZrcdUJhKoYTd8ALMx5MenceMPM22KyQPhsneNhePRLEhcc8QebL0p3FrYhfFIpKuWzjI7LXIekNWW9awI508VsAAAAJcEhZcwAACxMAAAsTAQCanBgAAAA8dEVYdFNvZnR3YXJlAENyZWF0ZWQgd2l0aCB0aGUgV29sZnJhbSBMYW5ndWFnZSA6IHd3dy53b2xmcmFtLmNvbVyipoUAAAAhdEVYdENyZWF0aW9uIFRpbWUAMjAyMTowMzozMCAyMTo0NTo0OdTjlkAAAAIlSURBVFiF7Vg9esIwDJV7FmDoxwnMCRKWTl27mREO0LFbFzPSI3SvOQGcgI8h8l3cIT+WE9lJWMiQNxH5+fkpClJAOOdgxrPx8mwDMwDmMkwEcxkmgbIM9rgRQojdmaxUMSHE5mjboQ67jfOu4TXbWc1IcBSGK3hb3v0Iq4TaCLDbec0EnDMKpEbUEpRxNYyC+tKvtDiDgFqC1JjSJLGKOQqsbMxKvVomPc6qUV6c2c/6H5gUcB6DU1BLqDw9WoYmC0aTgOTOCRnDZtMrS5lshkOthmVi73jnbCZoFDFpFIDUyJehuShZujq0tFSit8RGhcSIZk8aRE+zJ/bKho7II+6JI6xW1MBne3s82HbSVDM1os87kYNxl/2qCiz2lyZ5OCyTwwGyU0n9vC/DRhxq+oXlYW1OGSdlrbUWALD+0G+Vd4T6lgshhPiAdzXaqj1uRA7GOWcgJz2f3c5rtpzkYC77BcTelBarNfzkX6/oThmALW6wXi0CwvZdwq0YMnyyNwW3wqY06/xiRUBExOJ+LxARMTy012pArp+jyxYYYtqq/fu9qvJByU5GXQ/fZ357fxAAAKT0vSUyG2jz41p21dLCryDfUbwSr4lapkaC1+GbUspq1FVkcKat0k2sADcwkkGvAr6L1aC3pyxbLUNmQyjdmY1EkzK7mnTc0NO7iJaBtcq68rxHrIZm6YztECOafjFIX2oUbv5PaQKYf0VPAnMZJoF/n3V5nq9bisoAAAAASUVORK5CYII=\"></div>"
      ],
      "text/plain": [
       "105.302 + 0.930833 x"
      ]
     },
     "execution_count": 62,
     "metadata": {
      "text/html": [],
      "text/plain": []
     },
     "output_type": "execute_result"
    }
   ],
   "source": [
    "-a2 - x*a1"
   ]
  },
  {
   "cell_type": "markdown",
   "metadata": {},
   "source": [
    "##### Угол наклона по МНК"
   ]
  },
  {
   "cell_type": "code",
   "execution_count": 63,
   "metadata": {},
   "outputs": [
    {
     "data": {
      "text/html": [
       "<div><pre style=\"&#102;&#111;&#110;&#116;&#45;&#102;&#97;&#109;&#105;&#108;&#121;&#58;&#32;&#34;&#67;&#111;&#117;&#114;&#105;&#101;&#114;&#32;&#78;&#101;&#119;&#34;&#44;&#67;&#111;&#117;&#114;&#105;&#101;&#114;&#44;&#109;&#111;&#110;&#111;&#115;&#112;&#97;&#99;&#101;&#59;\">&#48;&#46;&#48;&#49;&#54;&#52;&#49;&#49;&#56;</pre></div>"
      ],
      "text/plain": [
       "0.0164118"
      ]
     },
     "execution_count": 63,
     "metadata": {
      "text/html": [],
      "text/plain": []
     },
     "output_type": "execute_result"
    }
   ],
   "source": [
    "at1"
   ]
  },
  {
   "cell_type": "code",
   "execution_count": 64,
   "metadata": {},
   "outputs": [
    {
     "data": {
      "text/html": [
       "<div><pre style=\"&#102;&#111;&#110;&#116;&#45;&#102;&#97;&#109;&#105;&#108;&#121;&#58;&#32;&#34;&#67;&#111;&#117;&#114;&#105;&#101;&#114;&#32;&#78;&#101;&#119;&#34;&#44;&#67;&#111;&#117;&#114;&#105;&#101;&#114;&#44;&#109;&#111;&#110;&#111;&#115;&#112;&#97;&#99;&#101;&#59;\">&#123;&#48;&#44;&#32;&#53;&#54;&#44;&#32;&#50;&#53;&#46;&#49;&#54;&#56;&#52;&#125;</pre></div>"
      ],
      "text/plain": [
       "{0, 56, 25.1684}"
      ]
     },
     "execution_count": 64,
     "metadata": {
      "text/html": [],
      "text/plain": []
     },
     "output_type": "execute_result"
    }
   ],
   "source": [
    "deltaAngleInFormHMHK = {Floor[at1*180/Pi],\n",
    "                Floor[Mod[at1*180/Pi, 1]*60],\n",
    "                Mod[Mod[at1*180/Pi, 1]*60, 1]*60}"
   ]
  },
  {
   "cell_type": "markdown",
   "metadata": {},
   "source": [
    "##### Угол наклона по РНК"
   ]
  },
  {
   "cell_type": "code",
   "execution_count": 65,
   "metadata": {},
   "outputs": [
    {
     "data": {
      "text/html": [
       "<div><pre style=\"&#102;&#111;&#110;&#116;&#45;&#102;&#97;&#109;&#105;&#108;&#121;&#58;&#32;&#34;&#67;&#111;&#117;&#114;&#105;&#101;&#114;&#32;&#78;&#101;&#119;&#34;&#44;&#67;&#111;&#117;&#114;&#105;&#101;&#114;&#44;&#109;&#111;&#110;&#111;&#115;&#112;&#97;&#99;&#101;&#59;\">&#48;&#46;&#48;&#49;&#52;&#57;&#49;&#48;&#49;</pre></div>"
      ],
      "text/plain": [
       "0.0149101"
      ]
     },
     "execution_count": 65,
     "metadata": {
      "text/html": [],
      "text/plain": []
     },
     "output_type": "execute_result"
    }
   ],
   "source": [
    "ar1 = -a23D*0.985918-a13D"
   ]
  },
  {
   "cell_type": "code",
   "execution_count": 66,
   "metadata": {},
   "outputs": [
    {
     "data": {
      "text/html": [
       "<div><pre style=\"&#102;&#111;&#110;&#116;&#45;&#102;&#97;&#109;&#105;&#108;&#121;&#58;&#32;&#34;&#67;&#111;&#117;&#114;&#105;&#101;&#114;&#32;&#78;&#101;&#119;&#34;&#44;&#67;&#111;&#117;&#114;&#105;&#101;&#114;&#44;&#109;&#111;&#110;&#111;&#115;&#112;&#97;&#99;&#101;&#59;\">&#123;&#48;&#44;&#32;&#53;&#49;&#44;&#32;&#49;&#53;&#46;&#52;&#51;&#56;&#49;&#125;</pre></div>"
      ],
      "text/plain": [
       "{0, 51, 15.4381}"
      ]
     },
     "execution_count": 66,
     "metadata": {
      "text/html": [],
      "text/plain": []
     },
     "output_type": "execute_result"
    }
   ],
   "source": [
    "deltaAngleInFormHPHK = {Floor[ar1*180/Pi],\n",
    "                Floor[Mod[ar1*180/Pi, 1]*60],\n",
    "                Mod[Mod[ar1*180/Pi, 1]*60, 1]*60}"
   ]
  },
  {
   "cell_type": "code",
   "execution_count": null,
   "metadata": {},
   "outputs": [],
   "source": []
  }
 ],
 "metadata": {
  "kernelspec": {
   "display_name": "Wolfram Language 12.2",
   "language": "Wolfram Language",
   "name": "wolframlanguage12.2"
  },
  "language_info": {
   "codemirror_mode": "mathematica",
   "file_extension": ".m",
   "mimetype": "application/vnd.wolfram.m",
   "name": "Wolfram Language",
   "pygments_lexer": "mathematica",
   "version": "12.0"
  }
 },
 "nbformat": 4,
 "nbformat_minor": 4
}
