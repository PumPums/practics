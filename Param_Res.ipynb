{
 "cells": [
  {
   "cell_type": "code",
   "execution_count": 2,
   "metadata": {},
   "outputs": [],
   "source": [
    "data = {{2, -31, -23}, {1.9, -40, -22}, {1.8, -64, 10}, {1.7, -74, 12}, {1.6, -88, 24}, {1.5, -77, 35}, {1.4, -96, 40}, {1.3, -105, 38}, {1.2, -93, 62}, {1.1, -120, 48}, {1.0, -105, 73},\n",
    "     {0.9, -112, 69}, {0.8, -119, 69}, {0.7, -81, 10}, {0.8, -68, -13}, {0.9, -36, -11}, {1.0, -49, -35}, {1.1, -22, -13}, {1.2, -74, -65}, {1.3, -21, -14}, {1.4, -49, -40}, {1.5, -36, -21}, {1.6, -38, -21}, {1.7, -47, -20}, {1.8, -64, 9}};"
   ]
  },
  {
   "cell_type": "code",
   "execution_count": 3,
   "metadata": {},
   "outputs": [
    {
     "data": {
      "text/html": [
       "<div><img alt=\"Output\" src=\"data:image/png;base64,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\"></div>"
      ],
      "text/plain": [
       "2      -31    -23\n",
       "\n",
       "1.9    -40    -22\n",
       "\n",
       "1.8    -64    10\n",
       "\n",
       "1.7    -74    12\n",
       "\n",
       "1.6    -88    24\n",
       "\n",
       "1.5    -77    35\n",
       "\n",
       "1.4    -96    40\n",
       "\n",
       "1.3    -105   38\n",
       "\n",
       "1.2    -93    62\n",
       "\n",
       "1.1    -120   48\n",
       "\n",
       "1.     -105   73\n",
       "\n",
       "0.9    -112   69\n",
       "\n",
       "0.8    -119   69\n",
       "\n",
       "0.7    -81    10\n",
       "\n",
       "0.8    -68    -13\n",
       "\n",
       "0.9    -36    -11\n",
       "\n",
       "1.     -49    -35\n",
       "\n",
       "1.1    -22    -13\n",
       "\n",
       "1.2    -74    -65\n",
       "\n",
       "1.3    -21    -14\n",
       "\n",
       "1.4    -49    -40\n",
       "\n",
       "1.5    -36    -21\n",
       "\n",
       "1.6    -38    -21\n",
       "\n",
       "1.7    -47    -20\n",
       "\n",
       "1.8    -64    9"
      ]
     },
     "execution_count": 3,
     "metadata": {
      "text/html": [],
      "text/plain": []
     },
     "output_type": "execute_result"
    }
   ],
   "source": [
    "data // MatrixForm"
   ]
  },
  {
   "cell_type": "code",
   "execution_count": 4,
   "metadata": {},
   "outputs": [
    {
     "data": {
      "text/html": [
       "<div><pre style=\"&#102;&#111;&#110;&#116;&#45;&#102;&#97;&#109;&#105;&#108;&#121;&#58;&#32;&#34;&#67;&#111;&#117;&#114;&#105;&#101;&#114;&#32;&#78;&#101;&#119;&#34;&#44;&#67;&#111;&#117;&#114;&#105;&#101;&#114;&#44;&#109;&#111;&#110;&#111;&#115;&#112;&#97;&#99;&#101;&#59;\">&#50;&#53;</pre></div>"
      ],
      "text/plain": [
       "25"
      ]
     },
     "execution_count": 4,
     "metadata": {
      "text/html": [],
      "text/plain": []
     },
     "output_type": "execute_result"
    }
   ],
   "source": [
    "Length[data]"
   ]
  },
  {
   "cell_type": "code",
   "execution_count": 5,
   "metadata": {},
   "outputs": [
    {
     "data": {
      "text/html": [
       "<div><pre style=\"&#102;&#111;&#110;&#116;&#45;&#102;&#97;&#109;&#105;&#108;&#121;&#58;&#32;&#34;&#67;&#111;&#117;&#114;&#105;&#101;&#114;&#32;&#78;&#101;&#119;&#34;&#44;&#67;&#111;&#117;&#114;&#105;&#101;&#114;&#44;&#109;&#111;&#110;&#111;&#115;&#112;&#97;&#99;&#101;&#59;\">&#123;&#125;</pre></div>"
      ],
      "text/plain": [
       "{}"
      ]
     },
     "execution_count": 5,
     "metadata": {
      "text/html": [],
      "text/plain": []
     },
     "output_type": "execute_result"
    }
   ],
   "source": [
    "newData = {}"
   ]
  },
  {
   "cell_type": "code",
   "execution_count": 6,
   "metadata": {},
   "outputs": [],
   "source": [
    "For[i = 1, i <= Length[data], i++, AppendTo[newData, {data[[i]][[1]], ((data[[i]][[3]]-data[[i]][[2]])/2)^2}]]; "
   ]
  },
  {
   "cell_type": "code",
   "execution_count": 7,
   "metadata": {},
   "outputs": [
    {
     "data": {
      "text/html": [
       "<div><img alt=\"Output\" src=\"data:image/png;base64,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\"></div>"
      ],
      "text/plain": [
       "\n",
       "\n",
       "2       16\n",
       "\n",
       "\n",
       "\n",
       "1.9     81\n",
       "\n",
       "\n",
       "\n",
       "1.8     1369\n",
       "\n",
       "\n",
       "\n",
       "1.7     1849\n",
       "\n",
       "\n",
       "\n",
       "1.6     3136\n",
       "\n",
       "\n",
       "\n",
       "1.5     3136\n",
       "\n",
       "\n",
       "\n",
       "1.4     4624\n",
       "\n",
       "        20449\n",
       "        -----\n",
       "1.3       4\n",
       "\n",
       "        24025\n",
       "        -----\n",
       "1.2       4\n",
       "\n",
       "\n",
       "\n",
       "1.1     7056\n",
       "\n",
       "\n",
       "\n",
       "1.      7921\n",
       "\n",
       "        32761\n",
       "        -----\n",
       "0.9       4\n",
       "\n",
       "\n",
       "\n",
       "0.8     8836\n",
       "\n",
       "        8281\n",
       "        ----\n",
       "0.7      4\n",
       "\n",
       "        3025\n",
       "        ----\n",
       "0.8      4\n",
       "\n",
       "        625\n",
       "        ---\n",
       "0.9      4\n",
       "\n",
       "\n",
       "\n",
       "1.      49\n",
       "\n",
       "        81\n",
       "        --\n",
       "1.1     4\n",
       "\n",
       "        81\n",
       "        --\n",
       "1.2     4\n",
       "\n",
       "        49\n",
       "        --\n",
       "1.3     4\n",
       "\n",
       "        81\n",
       "        --\n",
       "1.4     4\n",
       "\n",
       "        225\n",
       "        ---\n",
       "1.5      4\n",
       "\n",
       "        289\n",
       "        ---\n",
       "1.6      4\n",
       "\n",
       "        729\n",
       "        ---\n",
       "1.7      4\n",
       "\n",
       "        5329\n",
       "        ----\n",
       "1.8      4"
      ]
     },
     "execution_count": 7,
     "metadata": {
      "text/html": [],
      "text/plain": []
     },
     "output_type": "execute_result"
    }
   ],
   "source": [
    "newData // MatrixForm"
   ]
  },
  {
   "cell_type": "code",
   "execution_count": 8,
   "metadata": {},
   "outputs": [],
   "source": [
    "line1 = Fit[newData[[1;;13]], {x, 1}, x];"
   ]
  },
  {
   "cell_type": "code",
   "execution_count": 9,
   "metadata": {},
   "outputs": [],
   "source": [
    "line2 = Fit[newData[[14;;17]], {x^2, x, 1}, x];"
   ]
  },
  {
   "cell_type": "code",
   "execution_count": 10,
   "metadata": {},
   "outputs": [],
   "source": [
    "line3 = Fit[newData[[18;;20]], {x, 1}, x];"
   ]
  },
  {
   "cell_type": "code",
   "execution_count": 11,
   "metadata": {},
   "outputs": [],
   "source": [
    "line4 = Fit[newData[[19;;25]], {x^20, x, 1}, x];"
   ]
  },
  {
   "cell_type": "code",
   "execution_count": 12,
   "metadata": {},
   "outputs": [],
   "source": [
    "line5 = Fit[newData[[13;;14]], {x, 1}, x];"
   ]
  },
  {
   "cell_type": "code",
   "execution_count": 17,
   "metadata": {},
   "outputs": [
    {
     "data": {
      "text/html": [
       "<div><img alt=\"Output\" src=\"data:image/png;base64,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\"></div>"
      ],
      "text/plain": [
       "-Graphics-"
      ]
     },
     "execution_count": 17,
     "metadata": {
      "text/html": [],
      "text/plain": []
     },
     "output_type": "execute_result"
    }
   ],
   "source": [
    "Show[ListPlot[newData[[1;;13]], PlotStyle -> Blue],\n",
    "         Plot[line1, {x, 0.8, 2}, PlotStyle -> {Thickness[0.006], Green}],\n",
    "         Plot[line2, {x, 0.7, 1}, PlotStyle -> {Thickness[0.006], Orange}],\n",
    "         Plot[line3, {x, 1, 1.5}, PlotStyle -> {Thickness[0.006], Grey}],\n",
    "         Plot[line4, {x, 1.5, 1.8}, PlotStyle -> {Thickness[0.006], Purple}],\n",
    "         Plot[line5, {x, 0.7, 0.8}, PlotStyle -> {Thickness[0.006], Yellow}],\n",
    "     ListPlot[newData[[14;;25]], PlotStyle -> Red], \n",
    "     PlotRange -> All, AxesOrigin -> {0.5, 0},\n",
    "     AxesLabel -> {Style[w, Medium, Bold], Style[B, Medium, Bold]}, ImageSize -> 800]"
   ]
  },
  {
   "cell_type": "code",
   "execution_count": null,
   "metadata": {},
   "outputs": [],
   "source": []
  }
 ],
 "metadata": {
  "kernelspec": {
   "display_name": "Wolfram Language 12.2",
   "language": "Wolfram Language",
   "name": "wolframlanguage12.2"
  },
  "language_info": {
   "codemirror_mode": "mathematica",
   "file_extension": ".m",
   "mimetype": "application/vnd.wolfram.m",
   "name": "Wolfram Language",
   "pygments_lexer": "mathematica",
   "version": "12.0"
  }
 },
 "nbformat": 4,
 "nbformat_minor": 4
}
