{
 "cells": [
  {
   "cell_type": "markdown",
   "metadata": {},
   "source": [
    "# Угол 90"
   ]
  },
  {
   "cell_type": "code",
   "execution_count": 1,
   "metadata": {},
   "outputs": [],
   "source": [
    "angle90Table = Table[{{36, 11.7}, {27, 5.9}, {18, 2.4},{9, 0.8}, {7.5, 0.6}, {6, 0.4}, {4.5, 0.2}, {3, 0.1}, {1.5, 0.05}, {1.25, 0.03}}];"
   ]
  },
  {
   "cell_type": "code",
   "execution_count": 2,
   "metadata": {},
   "outputs": [],
   "source": [
    "angle90TableCorr = Table[{{18, 2.4},{9, 0.8}, {7.5, 0.6}, {6, 0.4}, {4.5, 0.2}, {3, 0.1}, {1.5, 0.05}, {1.25, 0.03}}];"
   ]
  },
  {
   "cell_type": "markdown",
   "metadata": {},
   "source": [
    "### Линейная регрессия"
   ]
  },
  {
   "cell_type": "code",
   "execution_count": 3,
   "metadata": {},
   "outputs": [
    {
     "data": {
      "text/html": [
       "<div><img alt=\"Output\" src=\"data:image/png;base64,iVBORw0KGgoAAAANSUhEUgAAAJEAAAAPCAIAAABr1rpHAAAAzHpUWHRSYXcgcHJvZmlsZSB0eXBlIGV4aWYAAHjabY9hDsMgCIX/e4odAUEfehzb2mQ32PEHara47CXy4BNoDf31vMPDxZFCylpQATKlmio3SwpNTY9URxyqy63eeKB78WYofy/QFz92rpjO5XcRz0T8C5ZLWgNrkfDksc36WP3cStkXCW1K5fPr/2tRRkbUZDExqaJaXoKlZshMWXHjBKwx4mJKp3mHqo1BvUOaD7q4697dA8TA5U8QP1GauVhk8VGnTsogkY91Ox4S3lkYWrgB7+PsAAAACXBIWXMAAAsTAAALEwEAmpwYAAAAPHRFWHRTb2Z0d2FyZQBDcmVhdGVkIHdpdGggdGhlIFdvbGZyYW0gTGFuZ3VhZ2UgOiB3d3cud29sZnJhbS5jb21coqaFAAAAIXRFWHRDcmVhdGlvbiBUaW1lADIwMjE6MDM6MjUgMjA6MDg6MjEKWNjZAAACnklEQVRYhe1YMZKjMBAc9i3g4MovkF8Amzhy6kyEJrnMobNN5BCyTR1tsuIF+AUuB4i/aAMhIcQg8N1VXVFFR3bTI00zkkZFIKWEFYvC2/9OYMXLWGu2PKw1Wx6matZcd4HC7tr4hGUaBEPlMNzSKaTleHjHKtU4OR+zHRnpcBr1wOIxpe20fdDN7aqNeDIpAJA+cApAuZRSSsGI/umHYAQIE+1PK7olnfFdtlPaMxohSr6A+Y7U6JiIUyCUunk4Sk67f2j2mOV58NbMeimCEYBZRcPzst6VX9mRtmuTCkoiSXCO8i87GuY4VkuHsQrRTYo69i49Tq0kOQUgTPjOxqZ+wHYTApRpEN0OjMKj9mzcdntHt4PIY2Qouu+z5UcG7HfsCy++9JlyKUwcSjoQdf0PHCEo0+TBPk/hpDA8VfL8jIIgCL72suoiiqR/CDb1gxw23zv8aIxzyWmRpGU7tahOoapZ04ObZZAAl9VpM5FlnKvVcH5GTgso0yjb8n4hm+uloGfL/CA8zgV7KINHOFCtQsgetAWBeHnRERKZAK9mVEy1rgS4lJJDoksRniqzDSGL9Fu6Zxf4VDtpmx3dhqYtm6nfAKBpRA86JtxsoUguv4TMY2uNTiHe28tX5+5W7NjbZHi4sVi9g5kcJbuBlZf6+ax7Xv7KkUn6UuhtEmV3KJLxK0PzfbtTtUzjnNN79tG/yITvB2LeEjE7N97T+1Mg4xFCuj/e09w6ap2G1DtnR4MEI6gK625IuAbapL2dm7ORJ686GruoTPUzOzss07Y1OYGopzbl7pm/ZrpTq8UgXNp17Ai72BbjmWHhVrzT2wfkAKM1+yNHyHTO/RVR2u610uLsyS0auaP2dwBhIpDr98alYf0OsjysNVsefgD8JXuxG4FI1gAAAABJRU5ErkJggg==\"></div>"
      ],
      "text/plain": [
       "-0.327399 + 0.141856 x"
      ]
     },
     "execution_count": 3,
     "metadata": {
      "text/html": [],
      "text/plain": []
     },
     "output_type": "execute_result"
    }
   ],
   "source": [
    "angle90Line = Fit[angle90TableCorr, {1, x}, x]"
   ]
  },
  {
   "cell_type": "markdown",
   "metadata": {},
   "source": [
    "### МНК"
   ]
  },
  {
   "cell_type": "code",
   "execution_count": 4,
   "metadata": {},
   "outputs": [],
   "source": [
    "angle90List = {{18, 2.4},{9, 0.8}, {7.5, 0.6}, {6, 0.4}, {4.5, 0.2}, {3, 0.1}, {1.5, 0.05}, {1.25, 0.03}};"
   ]
  },
  {
   "cell_type": "code",
   "execution_count": 5,
   "metadata": {},
   "outputs": [],
   "source": [
    "angle90ListH = {{18, 1}, {9, 1}, {7.5, 1}, {6, 1}, {4.5, 1}, {3, 1}, {1.5, 1}, {1.25, 1}};"
   ]
  },
  {
   "cell_type": "code",
   "execution_count": 6,
   "metadata": {},
   "outputs": [],
   "source": [
    "angle90ListZ = {{2.4}, {0.8}, {0.6}, {0.4}, {0.2}, {0.1}, {0.05}, {0.03}};"
   ]
  },
  {
   "cell_type": "code",
   "execution_count": 7,
   "metadata": {},
   "outputs": [],
   "source": [
    "angle90ListHT = Transpose[angle90ListH];"
   ]
  },
  {
   "cell_type": "code",
   "execution_count": 8,
   "metadata": {},
   "outputs": [
    {
     "data": {
      "text/html": [
       "<div><img alt=\"Output\" src=\"data:image/png;base64,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\"></div>"
      ],
      "text/plain": [
       "18     1\n",
       "\n",
       "9      1\n",
       "\n",
       "7.5    1\n",
       "\n",
       "6      1\n",
       "\n",
       "4.5    1\n",
       "\n",
       "3      1\n",
       "\n",
       "1.5    1\n",
       "\n",
       "1.25   1"
      ]
     },
     "execution_count": 8,
     "metadata": {
      "text/html": [],
      "text/plain": []
     },
     "output_type": "execute_result"
    }
   ],
   "source": [
    "MatrixForm[angle90ListH]"
   ]
  },
  {
   "cell_type": "code",
   "execution_count": 9,
   "metadata": {},
   "outputs": [
    {
     "data": {
      "text/html": [
       "<div><img alt=\"Output\" src=\"data:image/png;base64,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\"></div>"
      ],
      "text/plain": [
       "2.4\n",
       "\n",
       "0.8\n",
       "\n",
       "0.6\n",
       "\n",
       "0.4\n",
       "\n",
       "0.2\n",
       "\n",
       "0.1\n",
       "\n",
       "0.05\n",
       "\n",
       "0.03"
      ]
     },
     "execution_count": 9,
     "metadata": {
      "text/html": [],
      "text/plain": []
     },
     "output_type": "execute_result"
    }
   ],
   "source": [
    "MatrixForm[angle90ListZ]"
   ]
  },
  {
   "cell_type": "code",
   "execution_count": 10,
   "metadata": {},
   "outputs": [
    {
     "data": {
      "text/html": [
       "<div><pre style=\"&#102;&#111;&#110;&#116;&#45;&#102;&#97;&#109;&#105;&#108;&#121;&#58;&#32;&#34;&#67;&#111;&#117;&#114;&#105;&#101;&#114;&#32;&#78;&#101;&#119;&#34;&#44;&#67;&#111;&#117;&#114;&#105;&#101;&#114;&#44;&#109;&#111;&#110;&#111;&#115;&#112;&#97;&#99;&#101;&#59;\">&#123;&#123;&#48;&#46;&#49;&#52;&#49;&#56;&#53;&#54;&#125;&#44;&#32;&#123;&#45;&#48;&#46;&#51;&#50;&#55;&#51;&#57;&#57;&#125;&#125;</pre></div>"
      ],
      "text/plain": [
       "{{0.141856}, {-0.327399}}"
      ]
     },
     "execution_count": 10,
     "metadata": {
      "text/html": [],
      "text/plain": []
     },
     "output_type": "execute_result"
    }
   ],
   "source": [
    "angle90LSe = Inverse[(angle90ListHT.angle90ListH)].angle90ListHT.angle90ListZ"
   ]
  },
  {
   "cell_type": "markdown",
   "metadata": {},
   "source": [
    "##### А в линейной регрессии было: "
   ]
  },
  {
   "cell_type": "code",
   "execution_count": 11,
   "metadata": {},
   "outputs": [
    {
     "data": {
      "text/html": [
       "<div><img alt=\"Output\" src=\"data:image/png;base64,iVBORw0KGgoAAAANSUhEUgAAAJEAAAAPCAIAAABr1rpHAAAAzHpUWHRSYXcgcHJvZmlsZSB0eXBlIGV4aWYAAHjabY9hDsMgCIX/e4odAUEfehzb2mQ32PEHara47CXy4BNoDf31vMPDxZFCylpQATKlmio3SwpNTY9URxyqy63eeKB78WYofy/QFz92rpjO5XcRz0T8C5ZLWgNrkfDksc36WP3cStkXCW1K5fPr/2tRRkbUZDExqaJaXoKlZshMWXHjBKwx4mJKp3mHqo1BvUOaD7q4697dA8TA5U8QP1GauVhk8VGnTsogkY91Ox4S3lkYWrgB7+PsAAAACXBIWXMAAAsTAAALEwEAmpwYAAAAPHRFWHRTb2Z0d2FyZQBDcmVhdGVkIHdpdGggdGhlIFdvbGZyYW0gTGFuZ3VhZ2UgOiB3d3cud29sZnJhbS5jb21coqaFAAAAIXRFWHRDcmVhdGlvbiBUaW1lADIwMjE6MDM6MjUgMjA6MDg6MjEKWNjZAAACnklEQVRYhe1YMZKjMBAc9i3g4MovkF8Amzhy6kyEJrnMobNN5BCyTR1tsuIF+AUuB4i/aAMhIcQg8N1VXVFFR3bTI00zkkZFIKWEFYvC2/9OYMXLWGu2PKw1Wx6matZcd4HC7tr4hGUaBEPlMNzSKaTleHjHKtU4OR+zHRnpcBr1wOIxpe20fdDN7aqNeDIpAJA+cApAuZRSSsGI/umHYAQIE+1PK7olnfFdtlPaMxohSr6A+Y7U6JiIUyCUunk4Sk67f2j2mOV58NbMeimCEYBZRcPzst6VX9mRtmuTCkoiSXCO8i87GuY4VkuHsQrRTYo69i49Tq0kOQUgTPjOxqZ+wHYTApRpEN0OjMKj9mzcdntHt4PIY2Qouu+z5UcG7HfsCy++9JlyKUwcSjoQdf0PHCEo0+TBPk/hpDA8VfL8jIIgCL72suoiiqR/CDb1gxw23zv8aIxzyWmRpGU7tahOoapZ04ObZZAAl9VpM5FlnKvVcH5GTgso0yjb8n4hm+uloGfL/CA8zgV7KINHOFCtQsgetAWBeHnRERKZAK9mVEy1rgS4lJJDoksRniqzDSGL9Fu6Zxf4VDtpmx3dhqYtm6nfAKBpRA86JtxsoUguv4TMY2uNTiHe28tX5+5W7NjbZHi4sVi9g5kcJbuBlZf6+ax7Xv7KkUn6UuhtEmV3KJLxK0PzfbtTtUzjnNN79tG/yITvB2LeEjE7N97T+1Mg4xFCuj/e09w6ap2G1DtnR4MEI6gK625IuAbapL2dm7ORJ686GruoTPUzOzss07Y1OYGopzbl7pm/ZrpTq8UgXNp17Ai72BbjmWHhVrzT2wfkAKM1+yNHyHTO/RVR2u610uLsyS0auaP2dwBhIpDr98alYf0OsjysNVsefgD8JXuxG4FI1gAAAABJRU5ErkJggg==\"></div>"
      ],
      "text/plain": [
       "-0.327399 + 0.141856 x"
      ]
     },
     "execution_count": 11,
     "metadata": {
      "text/html": [],
      "text/plain": []
     },
     "output_type": "execute_result"
    }
   ],
   "source": [
    "angle90Line\n",
    "(* Во втором случае посчитаем только регрессию *)"
   ]
  },
  {
   "cell_type": "markdown",
   "metadata": {},
   "source": [
    "##### Приближение полиномом первой степени (a*x+b), b=0"
   ]
  },
  {
   "cell_type": "code",
   "execution_count": 13,
   "metadata": {},
   "outputs": [
    {
     "data": {
      "text/html": [
       "<div><img alt=\"Output\" src=\"data:image/png;base64,iVBORw0KGgoAAAANSUhEUgAAAEIAAAAPCAIAAADf8I4NAAAAzXpUWHRSYXcgcHJvZmlsZSB0eXBlIGV4aWYAAHjabY9bDgMhCEX/XUWXIKAXXY4z4yTdQZdfUNPGpjcR8PBQQn897/BwMcWQshZUIJpSTZWbBSVOTU+xDjuUeOVo5yHeizdD+ZtAX/zYuWJ6Lr+D1gviL1gsaTWsQcKTU5v3Y9VzK2UfJHFTKp+v/7+LMjJIk1nbUxXV4hIsNIfMMStunIAVEi6O6TTfoWptUK+Q5o0u7rpX9wAxcPkK4oekmRezLN7q1EkZhPhY2bFIeANTL1q0RXSP5gAAAAlwSFlzAAALEwAACxMBAJqcGAAAADx0RVh0U29mdHdhcmUAQ3JlYXRlZCB3aXRoIHRoZSBXb2xmcmFtIExhbmd1YWdlIDogd3d3LndvbGZyYW0uY29tXKKmhQAAACF0RVh0Q3JlYXRpb24gVGltZQAyMDIxOjAzOjI1IDIwOjA4OjIxCljY2QAAAYBJREFUSIntVjFywyAQPPQWyUVGL8AvEGlSuXUHpfSAlH4AKq3OrR8AL1BeoElh9JdLAbHBAikZZyZOxlue7vZYbo8RQUT4+8h++wA/g4eMe0IGADC2a2Kxbsf5fJcq9FIwwnkJBdnp7vZL2CspQ4uiKRUiIprNsZip0oJs4WAk/UIwwcltEBH3lTvq9v3VJkpotp4QLYpjyQPaNFBxoNI4Ihp0isNIOs0Jg3HOaKEHxb3mliJWorh3SMUBqDTZeBqgXOUAWpDiuJEchtOCsRYxw9mxpHvH0wD8pXKTYIM81HmMvdqj4h0T2qWZvs7dimtBGCjs69WNCjxMOPO6P88Omiv3Whtap2nBQPVxEU6JkQMj5JyW5asSOrZ7MrivvHu8CYuc+fOGelMf2zVhoNy6jO2u+5xa0bxBx+JPD6Xe3gRGDtx55cLv7MYMp+/oy/KkViaxTo7eSOpo4MxkFTruS4OJLA9cpYJRTu81i8WC8hkZkzug0hB8/FPdD/6JjA/qkE5hxeyQJAAAAABJRU5ErkJggg==\"></div>"
      ],
      "text/plain": [
       "0.110524 x"
      ]
     },
     "execution_count": 13,
     "metadata": {
      "text/html": [],
      "text/plain": []
     },
     "output_type": "execute_result"
    }
   ],
   "source": [
    "angle90SqAp = Fit[angle90TableCorr, {x}, x]"
   ]
  },
  {
   "cell_type": "code",
   "execution_count": 14,
   "metadata": {},
   "outputs": [
    {
     "data": {
      "text/html": [
       "<div><img alt=\"Output\" src=\"data:image/png;base64,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\"></div>"
      ],
      "text/plain": [
       "-Graphics-"
      ]
     },
     "execution_count": 14,
     "metadata": {
      "text/html": [],
      "text/plain": []
     },
     "output_type": "execute_result"
    }
   ],
   "source": [
    "Show[ListPlot[angle90Table, PlotStyle -> Red],\n",
    "    Plot[angle90SqAp, {x, 0, 36}, PlotStyle -> Green],\n",
    "    Plot[angle90Line, {x, 0, 36}], PlotRange -> All]"
   ]
  },
  {
   "cell_type": "code",
   "execution_count": 15,
   "metadata": {},
   "outputs": [
    {
     "data": {
      "text/html": [
       "<div><img alt=\"Output\" src=\"data:image/png;base64,iVBORw0KGgoAAAANSUhEUgAAAWgAAADcCAIAAADSq6xVAAAAzXpUWHRSYXcgcHJvZmlsZSB0eXBlIGV4aWYAAHjadU/trQMhDPvPFB0hH+DAONwdlbpBx29yUKk86VkiNiYOShrv1zM9AsKUcrGKBpAjt9yku6g0MZmp3fUG6lK8++k6p+DuVvkJjOUfu2+YLPXPIJIpNH5wrXkF1iCV6XOf92P1S691H6S0IX/X4n/uaoICtuw1C5mhua7JpROKUDE8cQLeyLiE8uk8YOYxWHRoj2BAhu3dI0HduGIFjcPandWraETDDafejsixXu9F0gekFFrvIOaodAAAAAlwSFlzAAALEwAACxMBAJqcGAAAADx0RVh0U29mdHdhcmUAQ3JlYXRlZCB3aXRoIHRoZSBXb2xmcmFtIExhbmd1YWdlIDogd3d3LndvbGZyYW0uY29tXKKmhQAAACF0RVh0Q3JlYXRpb24gVGltZQAyMDIxOjAzOjI1IDIwOjA4OjIyk1GJYwAAD/xJREFUeJzt3V1sW+d9x/F/HKdRDJumHEM+siiRlVlbLlqHFWBLWwu/ZGhQOoCiFSiarkANEJtP1JuiN60xrFKli3WXuRPoASw8YECHDZiWAaaDArODYYCEYs5JLmYZlQzSPjKPPNmhWdWWYyPuxSPRtPgiP9Thy6G+nytKMcmHkPLT8/I///PS06dP5YWZphmPx1/83wNoSdt0n2CapmmatRgKAK/YrvsEZhwAtGccAEBwANBGcADQRnAA0Fa8OeokJ8amFkREpGt4fDRq1HtIAJpdUXBYF6cCI/HRiIhYCfOiFY1FGjAsAM2sKDgisfhaUhidXXUeDQBPKL/HYSXGMkNMNwAUK10AZiXMSRmJl4qNwrJRisGAran05mhmKB4vM9cgLACsDw4rMTa1IDJpzogI5yoASlkfHJFYPB5ryEgAeAYFYAC0ERwAtBEcALQRHAC0ERwAtBEcALTRcxSANnqOAtDGUgWANoIDgDaCA4A2ggOANoIDgDaCA4A2ggOANoIDgDYqRwFoo3IUgDaWKgC0ERwAtBEcALQRHAC0ERwAtBEcALQRHAC0ERwAtBEcALRRcg5AGyXnALSxVAGgjeAAoI3gAKCN4ACgjeAAoI3gAKCN4ACgjeAAoI3KUQDaqBwFoI2lCgBt2jMOAFvTtEynJPV/K7+faPsFwQGghCtyJSWplKRmZOZe6uUH9o6v3Dm60w6+vBKRnzHjAFAQEx/JRylJ5Zxtf+ac3nv74Jecr3bYx46GXvt6YH/3wV3hN9v3+l+T8ksVK2Fe7Y/HIvUcO4C6WBcTKUn9xfLbATuyezE4kD7Xa3+xf++uoOHr3e8PHvEdCPiLX6FUcFgJc3JGZKC/5uMHUFsrsjIt07Mym5a02qRISeqknAw9ObDPPjyU/ttHi2237c9FJBzwd+/zHT6+50Cg/ZXtGxybFAeHk8z0x+OnkxMXa/NBANTKupiYldmsZAdlsE/6ghL8sf0Lcdrv33457eQyS8v+QHsouKfniC982r9756tab1QcHEY0aog4bn0SADVSOSbGZOz1pdAfnS/duH3/ppO7lrr7eaAtaLxyqMf/1rFQj+HbzFtrb44Wlo1SDAbUzYYx0Sd9ry23p53c/EL2evrevzi53TtvBg1f7/7d/Qc7zv1owMXBUDkKNKMXiQlDDBGZTd2ds7Of3s7+p3Pt8ZMvgoavt8s/fDzcY/h2tL1So+FxHAs03ovHhIjcdHJzdvbDO0tz9txNJ3c49PqBgP+bRwJ/9ZZPnZXWQbngMKKjsfqMANhqspK1xLLESktaPViRlXIxISJL2Ydz9mf/fef6vJ29lrrbY/jCAX93h+9Uf88mtyqqxowDqC1HnFmZnZbpRVlUMSEiEYlEJBKU4DvyTkQifnmuVuLByuNP7f+fX8jeWMjO2dkdbdvDgfbujl3Dx8PublVUjeAA3JSPibSk1QO/+Pukb1AGy8WEMpu6m3ZyN27fn7M/e7DyJBzw93b5v30sNPJdf+22KqpGcADVqxATb8gb35fvD8pgm7SVfO5NJ5d2cjduZ9NObt7OHg693mP4vnGw43tvHqrbVkXVCA7gRW0mJkTk/vKjOTt7czF3PX1vzv6sc+9OVdb9rSOBkmXdzYzgAErbZEyIyOMnX8zbn11L37u1mJuzs7JW1j18PPwiZd2VXLok09PS1yfvvlv9i2wCwQGIuBETijorVQuQzNJyONB+KLjnm0cCZ05/Tbesu6xLlyQaffZlI7LjpadPn774v86XjVIGBk9T13qV28JUD14kJmTtrPTWnT8UnpX27vcHDV+tzkp/8AP5zW9WH3/nO5JM1uRdKqJyFK1PxcQVuZKWtHoQklBIQrqzCSW/ALmxkE07uVe2b6v3WenAwLPgOHGiHu9YhKUKWk25mDghJ07IiTNy5rJc1n3NeTurTkDm7OxS9oFagHz7WCho+FxbgLy4996TlRX58EMZHJT33qv3u4tIFUsVZhxoKrMym190rIsJ9eCknKziZdUCJH9d6YGAX52AhAP+zr073f4Q3sOMA15iieWIMy3T1+W6yos+6QtJaEAGqp5NKA9WHs/Z2XXFmrW4rrQ1EBxoXtMy7YhjifWJfJKSlCVWRCKGGAMy8I68ozYpNvP6+WLNtJO7v/yoyYs1mwrBgWahGtvNyuyMzKgHgzJoiPGGvHFGzoQkFJHN9sAtV6w5fDzMAkQLwYHGKO6XOyiDIQkdkkM/kZ+EJNQnfZt/l1Yq1mwqBAfqoTgmTsrJkITUVeRqF9OVN3K5WLPRBZpNi+CA++oWE8q8nVUlWIVnpS4UazZBgWbTonIUm1UhJtQDd2NCSp2VqhIsl89Km6BAs2lROQo9dZ5NKA9WHt90cqpYs35npU1QoNm0WKqgkobEhFK4ALm//Cho+FSxZv3OSpugQLNpUTmKVcX9ch1xar3oKJRZWs63wJq3s7VagMANzDi2qHy/3EVZ3LCtdo2sK9bcvfNVdROQgbe+yllpkyM4toTittqy1i93n+yrT0wo3uqsiXIIjhZU3JOmTdoqt9WuHU931kQ5BIfnudW6yi1L2YcqKdTuJsWaLYng8JjiZhOGGA2MCXn+rFQ1tlFJoVesSY2mpxAcTU0dbbjbk8YV5c5Kq2xsQ42m11A52kTyPWkKm00YYmyyJ40rMkvLc3b21p0/1OSslBpNr6FytGFKxoTqSeNKs4lNur/8KO3k5hey19P30k5u985XwwF/d8eumpyVUqPpNSxV6qTJY2J1kKm7+db+j598ETR8vV3+4ePhHsNX27NSajS9hsrRmqgQE+pBM8SErN0E5Nad3JydvenkDodeP7DW2p+zUlTAjMMFlliqsV2+w10TziaU4rPScMDf3eE71d9Tq5uAoBURHNqKYyIikZCEXOxw56J1jW2qPCsFnkdwbMBbMaHUqrENsIbgeI4XY0IKristbGxzqGfP23/ey3WlqIUtHRwejQkpuK40f1aqrivduLENBZpwwxYKjsLu++puHV6JCUWdlaoSrPx1pXpnpRRowiUtWzla2LpKXQaW776v7tbR5DEhZc5Kuzt2hQPtVZ6VUqAJl7RC5Wi+dZUjTskOd+oysEYPc2M1PyulQBMu8d5SpbjDXb51lepJU+sOdy6q91kpBZpwSbNXjlaIiaAE1YP6tK7SVmYbsuRZac8+Xzjg56wUXtF0M47CvYmGNMJ0R8E2ZObzben+b3FWilbS4OCo3H3fMzHxvAcrj+f+7bfzp354PfT1tNG7+9rnwZ13an4TEKCO6hccatHh/k06qipMcH3Ntf6stHew98Z/DF/+5x7nxo6xv5Pv/tDF91qnZa485IN4SK2CQ7XVLt6bqD4mSgZE4woTSp6VPuvBu7Ii2+blwwV59222IeFRFRLQnX37rGSvyJX35f2fyk9Pyal2af+yfHlcxj+RT+6Z98Zk7GP5+KE8vCyXfy2//qX8Uk00Kgx3/bdUQIyPP1eJICIXLoiIefZs/nHtmKb5v7OL//pf1//hn2b++u8v/eMHn966k+vu8P3N0JELo6fP/Wjge28eGvza/tUKi7Y2OXfOPHhQfvUr8Wu0vSnx2d1WxVvU5ylVqMPAWuaDVPeUcqqZcVS4SUdx931TTBca3hWGwoULz2YWtSxMWNeDV0T+51Ob60oBqXAcW5+gBeA58Xi82es4Vq2syPvvr1Yu/fznWpP/ykr24O3dvzto+DgrBcppujqO0tra5Nw5OXdu869U1x68QIvySHBsTuFZaV178AItqjWDI3+/0tJnpQA2p0WC4/7yozk7e3Mxdz19r/B+pfTgBWrBq8GhritVNwGZs7MiEg74u/f5NjordZITY1MLIiLSNTw+GvVeQfvznOTEeTnr6c/x7EcyMBKPNXuTlMqshDk5Ix7/3bIS5tX+tZ9EuU/kpeAoLNbMLC2HA+0HAn69HrzWxanASHw0IiJWwrxoRb39i2olxqYWuoYbPYzNsBJjmaF4fPUnkrC8HB1WYtIeHo9HDSthnk9+w4vRsZoTA/1rX5b7RE0dHIWNba6l7vYYvs02tonE4mu/l0Znl4tDbQAnOfFB5/jIwPlMo0eyCU7GHhAxzUkRkYGRuHdTQ57/lQp0ei81xElm+uPx08mJi6tfZ+yuo6cNEYn0D0xedUSaNDgqNLZx+bpS9YcuuvE/bFbqA8QMK9HokWyKk1mYkaF4PCYiTnIiYUU8POMwoqNDCdM0pWt4fNSLH8OIRg0Rp/BbawG4/u+sdnCoilIXy8Dm7ayaVqSdnFqA1PomIFbCnBRvL6ed5AczsjBjzoiIyMyEeHVJbXR2DXRG1h4H7IwjEU9+EFGbNZmheDwmTnLCTAx5+jdszdpPxMksSGfB9xvQc3Qp+1C1wFILkAMBf9DwHerZ89axUO1PQNZ+uB7/kRrR0dXpkpWYyJz2aGqIiNEZmLlqxSIREXEyticn+AW61PiNzoB4eQG5xugMLHzwsRONGtbVma7O0wX/qR5LlfxNQG4sZOfs7I627eFAe3fHLvcXIBuxEmNTCyKTq3+pPb333SIisfHMhNrj8OoEf40RPXt0YsycEvH+ds2qSGzkqjlmTol0DY/HCv9XqdW1KiVvAnKgyx8O+CnWBLzOtRnHBo1tALSQ6oNj3VaFC2elADxCOzj+/aPfq+tKG7hVAaCxqplxcF0psMVpB8dfnvhKLcYBwENonAlAm3ZwmKZJO1Jgi2uFu9UDqDOWKgC0ERwAtBEcALQRHAC0ERwAtBEcALQRHAC0ERwAtFE5CkAblaMAtLFUAaCN4ACgjeAAoI3gAKCN4ACgjeAAoI3gAKCN4ACgjcpRANqoHAWgjaUKAG0EBwBtBAcAbQQHAG3lgsNKmAmrriMB4BmlgsNKmObkTN2HAsArioPDSWb64/Hx4a4GjAaAJxQHhxGNRhowEADesd1JJs7/zl79KnD0bCxqVHxCYdkoxWDA1rTdiMZGoxpPICwAcBwLQFu5a1WM6GisrgMB4B3MOABoIzgAaCM4AGgjOABoIzgAaCM4AGgjOABoo1kxAG00KwagjaUKAG0EBwBtBAcAbQQHAG0EBwBtBAcAbQQHAG0EBwBtVI4C0EblKABtLFUAaCM4AGgjOABoIzgAaCM4AGgjOABoIzgAaCM4AGijchSANipHAWhjqQJAG8EBQBvBAUAbwQFAG8EBQBvBAUAbwQFAG8EBQBuVowC0UTkKQBtLFQDaCA4A2ggOANoIDgDaijdHneTE2NSCiIh0DY+PRo16DwlAsysKDuviVGAkPhoRESthXrSisUgDhgWgmRUFRyQWX0sKo7OrzqMB4Anl9zisxFhmiOkGgGLbnWTi/O/s1a8CR8/GooaIlTAnZSReKjYKy0YpBgO2ppeePn36/Hec5MRYZqhkaIhpmoQFgPV7HFZibGpBZNKcERHOVQCUsj44IrF4PNaQkQDwDArAAGgr3uMAgA0w4wCg7U8iL40Wb2LAdgAAAABJRU5ErkJggg==\"></div>"
      ],
      "text/plain": [
       "-Graphics-"
      ]
     },
     "execution_count": 15,
     "metadata": {
      "text/html": [],
      "text/plain": []
     },
     "output_type": "execute_result"
    }
   ],
   "source": [
    "Show[ListPlot[angle90Table, PlotStyle -> Red],\n",
    "    Plot[angle90SqAp, {x, 0, 36}, PlotStyle -> Green],\n",
    "    Plot[angle90Line, {x, 0, 36}], PlotRange -> {{0, 10}, {-2, 2}}]"
   ]
  },
  {
   "cell_type": "markdown",
   "metadata": {},
   "source": [
    "# Угол 30"
   ]
  },
  {
   "cell_type": "code",
   "execution_count": 16,
   "metadata": {},
   "outputs": [],
   "source": [
    " angle30Table = Table[{{36, 11.8}, {27, 11.5}, {18, 11.5},{9, 11.6}, {7.5, 11.8}, {6, 11.8}, {4.5, 11.8}, {3, 8.7}, {1.5, 4.2}, {1.25, 3.4}, {1, 2.7}, {0.75, 2}, {0.5, 1.4}, {0.25, 0.7}, {0.2, 0.5}}];"
   ]
  },
  {
   "cell_type": "code",
   "execution_count": 17,
   "metadata": {},
   "outputs": [],
   "source": [
    " angle30TableCorr = Table[{{3, 8.7}, {1.5, 4.2}, {1.25, 3.4}, {1, 2.7}, {0.75, 2}, {0.5, 1.4}, {0.25, 0.7}, {0.2, 0.5}}];"
   ]
  },
  {
   "cell_type": "markdown",
   "metadata": {},
   "source": [
    "### МНК"
   ]
  },
  {
   "cell_type": "code",
   "execution_count": 18,
   "metadata": {},
   "outputs": [
    {
     "data": {
      "text/html": [
       "<div><img alt=\"Output\" src=\"data:image/png;base64,iVBORw0KGgoAAAANSUhEUgAAAIoAAAAPCAIAAAC0mMBYAAAAzXpUWHRSYXcgcHJvZmlsZSB0eXBlIGV4aWYAAHjabY/rDcMgDIT/M0VHMDaczTikJVI36Pi1A2pF1ZOwL58fgTRezzPdQpwplaqGBpCrtNK4uzGamjlTu+JEfdXyzhOdi3dH9VvAWPzYuWJmtt9FPI3EH9xLWQNrkfDked3kWP3czfZFQpuKfa7+/1uUUZG1eCxMqmjuLbn1hMpUFSfugDdmPJjK3fOAqo9Bo0N6DIZ46N49EsTBI54gcbJ0z+KRJUaDBrGLMB+rej0kvQGeXlro3XsBCwAAAAlwSFlzAAALEwAACxMBAJqcGAAAADx0RVh0U29mdHdhcmUAQ3JlYXRlZCB3aXRoIHRoZSBXb2xmcmFtIExhbmd1YWdlIDogd3d3LndvbGZyYW0uY29tXKKmhQAAACF0RVh0Q3JlYXRpb24gVGltZQAyMDIxOjAzOjI1IDIwOjA4OjIyk1GJYwAAAi9JREFUWIXtWCGW5CAQLfYsmRb7+gT0CTprRrVtR2TarBvZbgyRHTd21ZohJ8icoF+LFHdhBckEEiDVaiPyFYGifn0KCl6YMQY2rBU//ncAG1LY0rNqbOlZNZbSo6sDszhUmmRaNITpTTHtnlt+2wzoPY/9HhUVdEVhIrJMuvYETApKAAhljDEGJR+aEUsucWKEkjuzucRZm0xk/fujQ98zCIcUNgwQ0WXStaeQTI+jHyUHSOVnpmnmqh8JLeoS0ehXCWcsnh9UanENnC0RHo0SUWQGO5MbSglHuBIAXGKquOnuDvtdBtAU7OXPSQq4d8vHMepKvB5ti592nwf3fC8RNe8XkL+P/Vf919YVXV3rGB92HT2kGChEBJ9p7SOON6NEnRcNQFPkd4ltmdn0aA++96ZgOSjTljtaiAE0xctlr25D2F+XK3zYPbK/nL+DjBHp6lqLtzLrNaC854wxxs5wEgGyQQIGtERDmmOZiOaTpn1CmoNqywzs00Br9DDMyXZ7qPPrTzS3o7PFn4OuDiwHZZyoufwYFvtVfD0wSaSrs3t0ALKytee//QXziHot3ePReVoWQgohTUTxSdE+B+d8/IjV3mnNnVRVr1BGizJKnrhHnIsyShS/IJK3rJKxkVBICUVBIopMunY/Bi7RGUunZ7ipbd5x2j1NlwOh3LlOp+fT8RAkCmgY7VLvlFh6YiEFFAWJyDKf0j769h5IXCIz2z+3FWP7a7BqbOlZNf4B4kYFDxmjmAAAAAAASUVORK5CYII=\"></div>"
      ],
      "text/plain": [
       "-0.126079 + 2.91226 x"
      ]
     },
     "execution_count": 18,
     "metadata": {
      "text/html": [],
      "text/plain": []
     },
     "output_type": "execute_result"
    }
   ],
   "source": [
    "angle30Line = Fit[angle30TableCorr, {1, x}, x]"
   ]
  },
  {
   "cell_type": "markdown",
   "metadata": {},
   "source": [
    "##### Приближение полиномом первой степени (a*x+b), b=0"
   ]
  },
  {
   "cell_type": "code",
   "execution_count": 19,
   "metadata": {},
   "outputs": [
    {
     "data": {
      "text/html": [
       "<div><img alt=\"Output\" src=\"data:image/png;base64,iVBORw0KGgoAAAANSUhEUgAAADsAAAAPCAIAAADVrCBfAAAAzXpUWHRSYXcgcHJvZmlsZSB0eXBlIGV4aWYAAHjabY/rDcMgDIT/M0VHMDacYRySEKkbdPzagFpR9aT4zOcHIfTX8w4PF0cKKWtBBciUaqrcLCk0NT1SHXFIjlWLOw90L94M5W8BffFj54rpXH4X8brJb7Bc0hpYi4Qnj22ej9XPrZR9kdCmVD6//v8sysiImiwmJlVUy0uw1AyZKStunIA1RlxM6TTvULUxqHdI80EXd927e4AYuPwJ4l+UZi4WWXzUqZMyCPOxquMh4Q2YdVrkN0WI/QAAAAlwSFlzAAALEwAACxMBAJqcGAAAADx0RVh0U29mdHdhcmUAQ3JlYXRlZCB3aXRoIHRoZSBXb2xmcmFtIExhbmd1YWdlIDogd3d3LndvbGZyYW0uY29tXKKmhQAAACF0RVh0Q3JlYXRpb24gVGltZQAyMDIxOjAzOjI1IDIwOjA4OjIyk1GJYwAAAQBJREFUSIntVsENwyAMvHQsdx+yjrsMHcbdxX2EgAMG1EdURco9z3dwJraURVVxKTz+HeBn3InPxwMAPq/nsuH5+gzl73XJWN8NZ+yF3XUd0rcPoCpMIaqqqjCBWLSHGJCUqjE00mIXpqzMQpd07UOgjlQytTBn9q7c3La1LHVJ137IY7sEsWDiaRADgKqvxJUMpnNhQk7ckq69vi9E0yLaWh/ClCSp387pu3SLwfk5XXIaILn2Cuosk8B2jlvDeFZmpGtXFSYiOiTuxj2M0XE13DUZbuOM7AROZLGgfKodOeJWsa1YrV0I1INYhMbukq7dFu0bgVgWvf8rzsb1En8B02+pDbV3OGEAAAAASUVORK5CYII=\"></div>"
      ],
      "text/plain": [
       "2.83993 x"
      ]
     },
     "execution_count": 19,
     "metadata": {
      "text/html": [],
      "text/plain": []
     },
     "output_type": "execute_result"
    }
   ],
   "source": [
    "angle30SqAp = Fit[angle30TableCorr, {x}, x]"
   ]
  },
  {
   "cell_type": "code",
   "execution_count": 20,
   "metadata": {},
   "outputs": [
    {
     "data": {
      "text/html": [
       "<div><img alt=\"Output\" src=\"data:image/png;base64,iVBORw0KGgoAAAANSUhEUgAAAWgAAADiCAIAAADs28qIAAAAzHpUWHRSYXcgcHJvZmlsZSB0eXBlIGV4aWYAAHjadU/bDQMhDPtnio6QBzgwDtejUjfo+E0OKpVKtURsTByUNF7PR7oFhCnlYhUNIEduuUl3UWliMlO76gXUpXj305ApuLtVvgJj+cfuGyZL/RlEa5DGD641r8AapDJ97vN+rH7pte6DlDbkz1r8564mKGDLXrOQGZrrmlw6oQgVwwN3wBsZp1C+Ow+YeQwWHdojGJBhe/dIUDfOWEHjsHZn9Soa0XDDqZcjcqzXa5H0BmIVWr80Z78pAAAACXBIWXMAAAsTAAALEwEAmpwYAAAAPHRFWHRTb2Z0d2FyZQBDcmVhdGVkIHdpdGggdGhlIFdvbGZyYW0gTGFuZ3VhZ2UgOiB3d3cud29sZnJhbS5jb21coqaFAAAAIXRFWHRDcmVhdGlvbiBUaW1lADIwMjE6MDM6MjUgMjA6MDg6MjKTUYljAAAZ90lEQVR4nO3df3hT9b0H8PdY1aJVulkfTkzEqt0oysVQxloqIjhlbZ01cwMZbuAyl6x4GXbqgCktLWoLUwvTWdNpBJ2A8njNuNCWuhUuAm0RktgVWqSVwFJysHBv6u2F1la4fxw4piUt/ZHmnCTv17PnWTgckk8O9cP5nM/3xzfOnTuHITCbzRaLZSjvQEQhZ8TQ38JsNpvN5qG/DxGFiqihvwXvOIgiTQDuOIgo0jBxENGAMXEQ0YAxcRDRgDFxENGAMXEQ0YAxcRDRgDFxENGAceQoEflX29hSXXfc729x5CgR9dTa1vH65loAj2ZO8HtCABIHEYWNzq6zW3Y37frEPT9j/ISE63o7jYmDiM6rbWzZVHkoaezowgV3XRbV13MMJg4igudk26bKQ51dZxc8qNfExVzyfDlxOK1me5LFqL/wi+IaAFpDXk664P8IEYUBqTaxHzphmPadSYmj5eMixKVYehfuegSPXPynRgCA02qW0oLEaS12G/IsFkuWzlZSJvo9QkShr7axZVnJLgA5xlQ5a7SjfTVWz8CM3rIGgBGAWOZJsljyDNrzh0SPWzt5ogBAn5Tc7BH9HSGikNba1vHi+o8/3Ot6cu7kH9/1HfmJRjnKp2DKURytQlVvWQNAFCCkpwtAt2yg00jViKDR9nqEiEJRZ9fZbdVHttuP9eibuODKQhaADdiQiMS+38T/w1G3R4ReAERPMzS9HJH5jv7imA4iNattbFlfUT8psVvfxAvvSqzciI3FKE5DWn/ex0/iEDS65s0OMT1dcNprtJoMf0d8MVkQqZ/nZNv6inoAT86dHBc7Uj7+Gl5bgzXzMf8IjvT/3fzdceiNWXZzrtkGaA15RsHvESIKEZ1dZ207D9c2tsy6e6xvbVKN6mxk66Hfju0CBvaf9Te4PQJRGKuuO76p8tCMpDE/TLlJrk2kVmsDGopQlIKUQbwtB4ARhSfPybZ1pQdGxVyRY0wdFXOFdFBqta7DusVY/CbeHPSbM3EQhRu5Nnl45rjE+Gvl4+UoX4qlaUirQlUsYofyEUwcRGGltrFlXWndjKQxOcZUuTZpQEM2stG/Vmt/MHEQhYmT3jPrSusA+NYmUqvVBlsRivrZau0PJg6ikCfNN6k54Jk7c5xv30RutdajPrCfGIDEIQ0AY2+FSBHSmK7k2zQrTFPl2mQordb+4ApgRKFKrk18x3QNvdXaHyxViEJPb7VJIQqH3mrtD65yThRi9jeckObCrzBNlbNGOcrHYVwrWvue1RoovOMgChnSfJPLokb0qE2ykNWO9g/wQUBarf3BxEEUAk63d27d81mP+SbtaJdqkyIUGWAIZjwsVYjUrrrueL61auTlUTnGVDlr2GCbiIkA6lEf5KwB3nEQqZk832TpvGR5TJcTzmxkxyK2DGXxiFckMCYOIjWSapP9DSceybhNnm/ihTcPeTuwowhF0zFdwfBYqhCpjlybFC6YJmeN1Vg9ERNvxI0OOJTNGuDIUSJV8VublKM8G9lpSHPAMcRZrYHCkaNEquB3Lry8gHAwW639wWccRMrb33BifcVB37nwUqv1Xbwb2FmtgcLEQaQkeUyX71x4G2zZyJ6P+Q44ohGtbIR+MXEQKcPvGsLSijvRiK5C1XDMag0UJg4iBVxcm0it1nKUq7M26YGJgyio/NYm0oo7ZpgDvuLOMGHiIAoSeUyX71z44V5xZ5gwcRAFQ3XdcdvOxqkTtIULpklHRIjZyHbBNawr7gyTAGzIJL3gaA4iv46JX6wtrbsu9sq5M8dJtYm8uUkucudgjtIBDgYHgBENl9PtnbadjfWuU49kjL9Fd37EZwA3N1EQSxWiYfGR0711z2czkm5YYZoqHQn45iYKYuIgCjCpNrk+LkaebyJtblKO8gIUqL/V2h9MHEQB47c2WYu1K7FyPuZXoUqdw0AHgYmDKDAurk2kVmsiEkOr1dof/hOH02ourgGgNeTlpAv+jxCR5OLaJKRbrf3hbyEfp7XYbcizWCxZOltJmej3CBEBp9s711fU/2Vz7cMzb300c8KomCukWa0zMOMBPFCFqrDMGvCfOASNVn6t0wiA6HFrJ08UAOiTkps9TBxEAD5yuvOtVddeE73CNFV6oiEtICxtbhKiAzT6yV+pIqTnZFrNZjO0hrwcvXRMp5HqE9+kQhShmtzedyoO+tYm8qxWBRcQDiY/iUMsy8/1ZFosRohl+WZrpsUoAG6PCL0AiJ5maLqfLw8eBQeDUbg73d65qfLQUfGLh2feKt1lhNas1kDx/3BUK91fCBodPNL/N292iOnpgtNeo9VkdD+ZyYIixLbqIxV7Xfel3jI/Y7x0ZDVWr8GaRVgUKrNaA8VP4hDSTZPzc802AEjOsugB6I1ZdnOu2QZoDXlGNlUo0jS5vWtL68bFX7vCNPXK6MsA7MCObGRPx3T1LCAcTAGY5MY7DgpjrW0dmyoPHT/Z9kjG+DHCNbiwV6sX3iIU6aFXOkBlcAAYUa+2VR/Zbv/Xfak3P5o5AYru1ao23JCJyI8mt3dZya5TX7TnGKfcqdcBsME2DuOg0F6tasM7DqJu5Nrk15kTpNpE3qtV5QsIBxMTB9HXetQmXniXYmk1qhXfq1VtWKoQAf5qE2mv1ttxuxr2alUb7h1Lke7i2mQHdmQhS1V7taoNlw6kiFa571jFXpdcm7jgyka2F1617dWqNnzGQRFKmm9yo3BNjnHKldGXyXu1FqCATZNLYuKgiHPxfJON2LgUS9W8V6vaMHFQZKncd2zrniZ5vonUahUgsNU6IEwcFCnk2kSabyLNat2BHWy1DgITB4W/i2sTea9WBxxKRxeSmDgozPWoTUJ0r1a1YeKgsNWjNhEhLsXSBjSE6wLCwcTEQWFIHtMl1SbtaC/Ei+uwbjEWv4k3lY4uHHDkKIWbHvNNylGejWwDDCG9V6vacOQohQ95nS5pTJe8V2uELCAcTCxVKBz0mG/ihXcFVtpgi6gFhIOJiYNCXo/aRN6rNdIWEA4mJg4KYT1qkzDeq1VtmDgoJPWoTUSITyDPCSdbrcHBhXwo9GyrPlLwVs3YMd/OMaaOEa6R9mq9HbeH8V6tasM7DgolPWoTtlqVwsRBoaFHbSK3WrnijiICsCGT9IKjOWj4yH2TO/U6L7wrsbIc5QUoYKtVKRwARqrWozaRZrXOx/wqVHHFHQWxVCGVam3rWF9R3+I9LdUmnNWqKkwcpEZbdjXtqm02TEtIGX+9CPFnMLvgYqtVPdiOJXVpcJ1a8urOM1925Rin6Md/uxCFUzDlATzAVquq8I6D1EKqTVrbOhbNTtLExcit1nrU83GG2vhPHGJZfq6tGQCSsyxGPQCn1VxcA0BryMtJZ4FJAdXZdXZb9ZHt9mOz7h6bMv76BjQYOatV3fwlDqc115NpsZzPF1anxQhrsduQZ0kXnFZzSdlEpg4KnNrGlk2VhyYkXFe44K7/i/piKZZyVqv6+UkcosedDJjNxQCQnGXRQyxzaydnCAD0ScnFdhF8qE0BcNJ7Zn3Fwc6uswse1GviYjirNYT4TRzNNci0WIwAxLJ8q1OfAeg0Uq4QNNrgBkjhqLPr7JbdTTUHPLPuHjspcXQ1qh/krNaQ4idxCBptskZ/4bXO7REBuD0i9AIgepqh6X6+PHgUHAxG/VDb2LK+oj75Ns0K09RTUZ9nIYuzWkOO38Shq7E7jXo9ANHj1mkEAbrmzQ4xPV1w2mu0mozu5zNZUD+d9J5ZV1oH4Mm5k+NiRxaicB3WLcKiYhQrHRoNjL+Ho3pjnidfesahNeTl6AEYs+zmXLMN0BryjLyVpIGSa5O5M8dNSLiOs1pDXQAmufGOg/om1yY/uuOWpqhPpVmtRSjirNbQxQFgNIx8a5Oo2I4cPM1ZreGBiYOGRY/ahLNawwwTBwWeb99kd9TOichOQQpbreGEiYMCybc26YptnY2feOF9E2/qoVc6NAokJg4KDN/a5LsJV0ut1iIUGWBQOjQKvABMqzebzb5jwCgC1Ta2LCvZBWCFaepnCbsnYiKAetQza4QrLh1IQ+Jbm5yMPZqJ+6IRzVmtYY+lCg2Sb20yJuGyPPyhHOWc1RohuAIYDYZvbbIn4f0pmHIjbqxHPbNGhOAdBw1Ma1vHutK6zq6zT86d3Bj7yTTM4wLCEYiJg/pLXqdr7sxbtYnnFsLIBYQjFksV6pfaxpZ8654zX3YVLrjrw8Q3Z2AGFxCOZLzjoEuQa5MFD+o/ids1AQbOaiUmDupVj9okC79oRzv3aiVw71jqjbyGcNq0G16MWsVhoOSLA8CoJ9/apCbu79+H4SE8xM1NyBdLFfqab23yzUTPXNwfi1gOA6WLMXHQedJc+EmJo5cu0D8Xlb8DO4pQNB3TlY6L1IiJg7rNN/lrrGUy1izCIgccSsdF6sXEEdE6u87adh7e33Bi7sxx/51w4F6kTsd0BxxstVLfmDgi1/6GE+srDs5IGvPvpu8sjDJxxR3qPyaOSOQ52ba+ov6yqBGLjZNejXlpIVutNEBMHJFFqk1qG1tm3T32s4TdyfiptFcrW600IEwcEUSuTQzGmEVRs2MRW4UqzmqlQeDI0Ygg1yY/zhjzUszzbLXSEHHkaJjzrU0qE96ZxlYrBQJLlXAm1ybTjV0PRU1LQxpbrRQQTBzhSa5Nfmm8YVnMk154OauVAoiJI9zItckDd9/0fsIrs2ArQAFbrRRYfa0AJpbl55eJ0munVdo+RT5AalRdd3zJq/818vKoccbmWQlTR2GUAw5mDQq43u84nNZcW7PWcP51sduQZ0kXnFZzSdnEnHR28NTGc7JtXemBUTFX/MQ46omYn8cjnq1WGj69JA6xLH+zJi8rucQDAKLHrZ2cIQDQJyUX20Xw51FFTrd32nY21ja2ZGZo3o5/qQTVxSjmUqA0rPyWKk5rriez+22FTiP9StBogxEW9dNHTne+teraa6KFBfZfxWfejtsdcDBr0HDzc8chlm2uQXONuQYAUJOPPBPg9ojQC4DoaYam+/m+G8dyTEfQHBO/WFtad31cTMq804/HZKQhjQsIU9D4SRxCeo4lHQDgtOZ7MnLSBTh1zZsdYnq64LTXaDUZ3c9nsgiy0+2dW/d8VtvY8sOMa1/U/YELCFPw9a8dqzdm2c25ZhugNeQZ+YBDQdV1x207G1MmjP6m6e+/xrtstZIiAjBXhXccwSH3Ta6ceWh5zJL5mL8ESzirlRTBAWAhQKpN9jecmJpxxYvx2QIEtlpJWUwcaifVJt+bcG3Hgg+WcVYrqQMTh3rJtUncvNqnYl7krFZSDyYONZJrE31GZ178I5zVSmrDxKE6Um1y24QrDy0oquGsVlIlJg4VOSZ+sb6iPiYm6ty8fzwf8x5braRaAUgc0shRNmWHQppvUu86pZnp+WP8780wO+Bgq5VUi0sHKu8jp3vrns++mzRil2kZW60UEliqKEmabxIXd/mZeVtfjqlgq5VCBROHMuTaZGTGgT/qChdh0Rq2Wil0MHEoQKpNbkjq2GL6PfdqpVDExBFUUm1yTRw+nfdaTYyHe7VSiGLiCBKpNjngajmbsXeD7g22WimkMXEEg1SbxCadXG96Yj7ms9VKoY6JY3hJtUl03Jf75r1wXczVbLVSeOAAsOEi1SZ1rs9PZWzbqytjq5XCCQeADQupNhmR9NkGU95iLLaw1UrhhaVKgEm1yYi4ttJ5z/wg5g62WiksMXEEzPn9TVxiY8bGU7pP38NbnNVK4YqJIzAq9x3btvfIl0kHbaZVRSgygOUbhTMmjqFqcnvfqTh4VjhVNm/FgzEZ9ahnq5XCHhPH4J1u79xUeahBPOGYaR2pO70Z78UjXumgiIKBiWOQKvcd+889h9tTnTsyXi9GMVutFFGYOAZMqk1aBdcW07OPRZuKUa90RETBxsQxAFJt8k/RXTXz1e/rbvkYe9hqpcgUgJ3cpBdhPwysct+xzXs+PZ5a2fK9qiIUcVYrRTKOHL20Jrf37Yq6U0JjuWnVH6OfN+B5pSMiUhhLlb60tnXYdh52iK7dM1+5T5fyT9jZaiUCE0cftlUf2WZvcn2/4lzG4U14ja1WIhkThx9Nbu8bpZ+ciq/fbbS8EF2QhlVKR0SkLn4Th1iWn2trBgBoDXk56QLgtJqLa3x+HaZa2zo2VR5ynGyqznzlF8L9nNVK5Je/xOEstemyLDl6AE6rudSZboS12G3Is6QLTqu5pGximKaObdVHttoP1aVuGpt5+Va8wxV3iHrjL3HojZYLrUZBowUgetzayRkCAH1ScrFdRLj9J9Xk9v6l1NEc7zhurHgpupCtVqK+9fmMw2nN9WRa0iF6oNNIuULKJOGjta1jY+VBx8mm3ZlrnhYem4NypSMiCgG9Jg6n1VyMLIvx/L+9bo8IvQCInmZoup8pjwFDqI3p2FZ9ZIu9wZm6YWqm9mN8yFYrUT/1+nDUk2nxKVh0zZsdYnq64LTXaDUZ3c8OrWQhaXJ7XyvddzT+4zZj9dvRa9hqJRoQP4nDac21NQPF5hoA5/soxiy7OddsA7SGPGNIP+Bobet4p/Kf9pONBzPfyhF+m4alSkdEFHoCMFclhO44tlUfsdnr6lI33ae/9XE8ztqEaHAiZQBYg+tUcek+V0LVt43HN0WvYquVaCjCP3G0tnVYKxyOtvqjs99fGfdMClKUjogo5IV54rDtOrSl9kDttPW/G//TOdiidDhEYSJsE0eD69TLpdWHE7enGEe9Ev1XPs4gCqAwTBytbR2vV+7d723omL27JG45W61EARduicNWfXCz/eDh1M1PZ85Nw1qlwyEKT+GzdGCT2/tC6Y4j8TX3TtM8Ef1bZYMhCm/hsHRga1vHyxW7ar1N38psWitks9VKNNxCvlTZsMtZVtsgTvt7/vhHU2BSOhyiiBDCiWNfY7OlYu/RxN3zjJN/Hv260uEQRZARSgcwGK1tHU+//cGzu/8a+4Md7939zM+jH+rrbJcLhYVwOi/9vsNxZjiJzG8NfnF/X/zc0JhMpiG+w0BZP6p6uOidzPVTjsTjHHBuw4a+znY4zgHn/xf8M8NJZH7rc/zi/r94KN1x7HMd/dWr72/60vaza7f9bW5VvAsAsG5dX3/GZvv6dfDPDCeR+a3BLw7AzxcPjWccrW0dz1WUNra59bO7/hy3PLp8B/DW+d+7666+/mSKz8yU4J8ZTiLzW4NfHICfL/7N5cuXD+XNt2zZcv/99w/lHS7p1V3bX62o6kg6UHTvI/ddeW8UopCQgOhofPUV5szB448juvfh5MqeGU4i81uDX9z/F1ffADCXCxs3Ii0Nev0e1+GSUsepxE+eSv3RtOgpgXl/IhoylQ0AczoxcSKAz19Y9eyqZ91RX905e2R23HMBe38iCgSVPeOw2QC8ZJy197Z7hLMfWuf9JRaxSsdERD2pq6tSkXTTw6ssVVOuWrr2d6tPTmLWIFIntdxx/Kut5bnS8s/bv5gjNM62unDfQvzmN0oHRUT+KZ84OrvO5ldvPGw/e8vMttcSFwLAL5SOiYj6pHDieK/xow8qXFcl/s8LC2bpojSX/gNEpAKKJY5677GC0oozOGOaO+ne2FSlwiCiQVAgcfxv1+nlu9/914Fv3DkzdmHCo8EPgIiGKFgDwC4M67LGeCoqWuJuO738jofior41lI8mIqUM8wAwKV/cdBPmzHGOH/3CFZ1fxV6dPfee5NjxQ/9cIlLKcJYqF4aB/m/M5c/kPey5ZtoP7CXmluvwy8eH8UOJaPgNW+JwufDkkwBe/tWknf9mur515xvLFl7d9iUKCobrE4koWIYhcbhcKCrCn/704YzRJX/OH3kG+X/OGXezHt9LRUoKh3URhYGAJo4LKcOtvXzJKw9/1T5tVlnJ7D1HYDJh8WLEcvw4UZgI3FwVpxM33dRe8qdn/jAp+6mXxx7CW0sWzt6yH089hYKCIGQNub+jOEZyMUZyMZVEMrgwAnHHsWsXnn0WV1/9/gOj16c9FncSqwtytCdO4OabMXs2axMKA2azWfH9g1QlEHccd97Z2Lj9p2lX/Mcd+cb3/mZZlqO96iosWWK+557e7jX6TnJ9/O7gsuPg3nDQQUZmJIP+9zMkIhncnwrjaxKAO47HVk05NeLXyTX/ePy9JZdNvB1Llpx/oqGOOzEiCrgBjBxVSUlGRMqyWCwBGHJuOXoUNTVITMTGjbjxxkAFR0SqFYiHo+XlAXgTIgod6lo6kIhCAhMHEQ3YUJ9xKM5pNRfXSC+1hrycdEGpKOxJFqO+W0iKxOM3kiAHI5bl59qau32sQtekj0iCHYz8uclZ5/96lPo56T2SgQQT7J1sA8xTmpdX6lE0BMcbJpPJZHrDIf9Sikh+oVQkSl0cxxu+F+MNh3LX5OJIlL8mF14pf03kV4O5JsovVjw0ogdw55pt8MmfwQ2gzJNksWSU5ZdeCMitnZwhANAnJRfbRSBY/5b0jESxi6M3Wi58lKDRQsFrclEkargmOB+H8tfk61gGfk1CPHE47TXNuixLjh4Qy/KtTn3QU4eQni4Aou8hnUb6Gbjws6pUJIpfHKc115NpSYfoUeqa9IxE2WsiVQRaQ54REBX7OekZyeCuSYg/HNUbLRcypKDRuT3iJc4PigthiJ5mReNQ9OI4rWafhy1KXpNukSh6TfRGi8ViMaEkv0yEotekWySDuiYhnjicVunvAIDocV9I4UoSNLrmjx0iAKe9RqtoQIpdHLEs32xPkn8aFbwmPSNR7Jr4fK5EsWtyUSSDuybh01VRsKcCiGX5pZocNXRV/EYS1FB8HtF//dGKXJM+Iwn2X8/XwVx4jqB4V+WiSAYQSsgnDiIKvhAvVYhICUwcRDRgTBxENGBMHEQ0YP8PnecGT97zpNwAAAAASUVORK5CYII=\"></div>"
      ],
      "text/plain": [
       "-Graphics-"
      ]
     },
     "execution_count": 20,
     "metadata": {
      "text/html": [],
      "text/plain": []
     },
     "output_type": "execute_result"
    }
   ],
   "source": [
    "Show[ListPlot[angle30Table, PlotStyle -> Red],\n",
    "    Plot[angle30SqAp, {x, 0, 36}, PlotStyle -> Green],\n",
    "    Plot[angle30Line, {x, 0, 36}], PlotRange -> All]"
   ]
  },
  {
   "cell_type": "code",
   "execution_count": 21,
   "metadata": {},
   "outputs": [
    {
     "data": {
      "text/html": [
       "<div><img alt=\"Output\" src=\"data:image/png;base64,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\"></div>"
      ],
      "text/plain": [
       "-Graphics-"
      ]
     },
     "execution_count": 21,
     "metadata": {
      "text/html": [],
      "text/plain": []
     },
     "output_type": "execute_result"
    }
   ],
   "source": [
    "Show[ListPlot[angle30Table, PlotStyle -> Red],\n",
    "    Plot[angle30SqAp, {x, 0, 36}, PlotStyle -> Green],\n",
    "    Plot[angle30Line, {x, 0, 36}], PlotRange -> {{0, 10}, {0, 15}}]"
   ]
  },
  {
   "cell_type": "markdown",
   "metadata": {},
   "source": [
    "## Зеленый - линия с началом в нуле\n",
    "## Синий - ax+b"
   ]
  }
 ],
 "metadata": {
  "kernelspec": {
   "display_name": "Wolfram Language 12.2",
   "language": "Wolfram Language",
   "name": "wolframlanguage12.2"
  },
  "language_info": {
   "codemirror_mode": "mathematica",
   "file_extension": ".m",
   "mimetype": "application/vnd.wolfram.m",
   "name": "Wolfram Language",
   "pygments_lexer": "mathematica",
   "version": "12.0"
  }
 },
 "nbformat": 4,
 "nbformat_minor": 4
}
