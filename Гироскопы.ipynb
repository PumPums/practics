{
 "cells": [
  {
   "cell_type": "markdown",
   "metadata": {},
   "source": [
    "# Угол 90"
   ]
  },
  {
   "cell_type": "code",
   "execution_count": 1,
   "metadata": {},
   "outputs": [],
   "source": [
    "angle90Table = Table[{{36, 11.7}, {27, 5.9}, {18, 2.4},{9, 0.8}, {7.5, 0.6}, {6, 0.4}, {4.5, 0.2}, {3, 0.1}, {1.5, 0.05}, {1.25, 0.03}}];"
   ]
  },
  {
   "cell_type": "markdown",
   "metadata": {},
   "source": [
    "### Линейная регрессия"
   ]
  },
  {
   "cell_type": "code",
   "execution_count": 2,
   "metadata": {},
   "outputs": [
    {
     "data": {
      "text/html": [
       "<div><img alt=\"Output\" src=\"data:image/png;base64,iVBORw0KGgoAAAANSUhEUgAAAIoAAAAPCAIAAAC0mMBYAAAAy3pUWHRSYXcgcHJvZmlsZSB0eXBlIGV4aWYAAHjabU9tDkIhDPvPKTzC2EYHx+EpL/EGHt8hU4OxCWvXfQBpPO5nukxwpqTFKhpADm3auLuotLA4U3vFZfWo5d1PdIbf3SrfAkb4x+4bFnP9XcRLyLzBtWgMxCLh5ed4yRH93GvdFwlt0Pp5+v9cjFGQTT0qkxma65pcOqEwFcOJK+CNGTcmvToPmPkYbHZIn4MTPGzvHgnixm1+QebJ0p3Fo+f8dkTUYxbmI6qvj6Qnna5a4kwhX64AAAAJcEhZcwAACxMAAAsTAQCanBgAAAA8dEVYdFNvZnR3YXJlAENyZWF0ZWQgd2l0aCB0aGUgV29sZnJhbSBMYW5ndWFnZSA6IHd3dy53b2xmcmFtLmNvbVyipoUAAAAhdEVYdENyZWF0aW9uIFRpbWUAMjAyMTowMzoyMCAyMTozNDoxMvVU3zgAAAJ2SURBVFiF7Vg7kqMwEG3NWcDBlk8gnwAmceTUmQhNstmEZJPIockmnWiTESfAJ6AcIN2FDcRHMt3ATG3VEvAiaL1Wv1aLlgrWNA1sWCte/reADVPYyrNqbOVZNWbLY64HxhhLioVExtjhagAAoEiYj3aSMZMKNMwwH3+RJAKOUodJufds1/xsHJzH8u3YopSaKSgBXGotOQg1SWy05C1FSw5canwq+wAO1T5igdy33vsbQAPNwBGPu6PZYUY6pBLAhVgmaLo8c5FQOHkhUzgLrSUHj+oHUsJ/IeqjlULtU4FIzOlEZaBGatHoHa+EI1IJAC71vz97TF2BOEaerXhPQf6O2tH9LgAoEhZ+nqSAqqb7Tv6na4dZTnF0XVMylgfqelP4edI3WqepK37afR38NoYZrfz42VYkcSU/LgEmIbo1SuRxUrQ0XV4CWx7jgU5iHkUSpnt186pjrlku3lxNRcJiUE152U1MFd20rGyCZzgJhNGp1aTsRYFsMLtr3x6hcygg7vc0gw+7wffpuV13xBhcyv47gjRMCgAokhhUiRfHS7mnvQCAMdrDT+tjrgcWg2qei3PuPh0ACHZ7yOPsl25ukbNHcfQplq8wJray68ejRmR/K9CA6Gi/E9Kd95s/Oor7QwNp7JW8njhUtTHXLO8+qDC9Qx7jVxbO+fAy34/RNuo1yo6ENdvRSeR06ucxql8Tt412PkmM0IFG4jEn1B29JMzcHNpjZJQRvlhcameW2Zubh37G58PWvo+Z5EWn3SjdEBpo4E2d6mR50ECYeDe6S0TdnUzR9DujY0J2FrXjvdsIl5o12z+3FWP7a7BqbOVZNf4CWDsq6lXG8lIAAAAASUVORK5CYII=\"></div>"
      ],
      "text/plain": [
       "-1.27019 + 0.306654 x"
      ]
     },
     "execution_count": 2,
     "metadata": {
      "text/html": [],
      "text/plain": []
     },
     "output_type": "execute_result"
    }
   ],
   "source": [
    "angle90Line = Fit[angle90Table, {1, x}, x]"
   ]
  },
  {
   "cell_type": "markdown",
   "metadata": {},
   "source": [
    "### МНК"
   ]
  },
  {
   "cell_type": "code",
   "execution_count": 3,
   "metadata": {},
   "outputs": [],
   "source": [
    "angle90List = {{36, 11.7}, {27, 5.9}, {18, 2.4},{9, 0.8}, {7.5, 0.6}, {6, 0.4}, {4.5, 0.2}, {3, 0.1}, {1.5, 0.05}, {1.25, 0.03}};"
   ]
  },
  {
   "cell_type": "code",
   "execution_count": 4,
   "metadata": {},
   "outputs": [],
   "source": [
    "angle90ListH = {{36, 1}, {27, 1}, {18, 1}, {9, 1}, {7.5, 1}, {6, 1}, {4.5, 1}, {3, 1}, {1.5, 1}, {1.25, 1}};"
   ]
  },
  {
   "cell_type": "code",
   "execution_count": 5,
   "metadata": {},
   "outputs": [],
   "source": [
    "angle90ListZ = {{11.7}, {5.9}, {2.4}, {0.8}, {0.6}, {0.4}, {0.2}, {0.1}, {0.05}, {0.03}};"
   ]
  },
  {
   "cell_type": "code",
   "execution_count": 6,
   "metadata": {},
   "outputs": [],
   "source": [
    "angle90ListHT = Transpose[angle90ListH];"
   ]
  },
  {
   "cell_type": "code",
   "execution_count": 7,
   "metadata": {},
   "outputs": [
    {
     "data": {
      "text/html": [
       "<div><img alt=\"Output\" src=\"data:image/png;base64,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\"></div>"
      ],
      "text/plain": [
       "36     1\n",
       "\n",
       "27     1\n",
       "\n",
       "18     1\n",
       "\n",
       "9      1\n",
       "\n",
       "7.5    1\n",
       "\n",
       "6      1\n",
       "\n",
       "4.5    1\n",
       "\n",
       "3      1\n",
       "\n",
       "1.5    1\n",
       "\n",
       "1.25   1"
      ]
     },
     "execution_count": 7,
     "metadata": {
      "text/html": [],
      "text/plain": []
     },
     "output_type": "execute_result"
    }
   ],
   "source": [
    "MatrixForm[angle90ListH]"
   ]
  },
  {
   "cell_type": "code",
   "execution_count": 8,
   "metadata": {},
   "outputs": [
    {
     "data": {
      "text/html": [
       "<div><img alt=\"Output\" src=\"data:image/png;base64,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\"></div>"
      ],
      "text/plain": [
       "11.7\n",
       "\n",
       "5.9\n",
       "\n",
       "2.4\n",
       "\n",
       "0.8\n",
       "\n",
       "0.6\n",
       "\n",
       "0.4\n",
       "\n",
       "0.2\n",
       "\n",
       "0.1\n",
       "\n",
       "0.05\n",
       "\n",
       "0.03"
      ]
     },
     "execution_count": 8,
     "metadata": {
      "text/html": [],
      "text/plain": []
     },
     "output_type": "execute_result"
    }
   ],
   "source": [
    "MatrixForm[angle90ListZ]"
   ]
  },
  {
   "cell_type": "code",
   "execution_count": 9,
   "metadata": {},
   "outputs": [
    {
     "data": {
      "text/html": [
       "<div><pre style=\"&#102;&#111;&#110;&#116;&#45;&#102;&#97;&#109;&#105;&#108;&#121;&#58;&#32;&#34;&#67;&#111;&#117;&#114;&#105;&#101;&#114;&#32;&#78;&#101;&#119;&#34;&#44;&#67;&#111;&#117;&#114;&#105;&#101;&#114;&#44;&#109;&#111;&#110;&#111;&#115;&#112;&#97;&#99;&#101;&#59;\">&#123;&#123;&#48;&#46;&#51;&#48;&#54;&#54;&#53;&#52;&#125;&#44;&#32;&#123;&#45;&#49;&#46;&#50;&#55;&#48;&#49;&#57;&#125;&#125;</pre></div>"
      ],
      "text/plain": [
       "{{0.306654}, {-1.27019}}"
      ]
     },
     "execution_count": 9,
     "metadata": {
      "text/html": [],
      "text/plain": []
     },
     "output_type": "execute_result"
    }
   ],
   "source": [
    "angle90LSe = Inverse[(angle90ListHT.angle90ListH)].angle90ListHT.angle90ListZ"
   ]
  },
  {
   "cell_type": "markdown",
   "metadata": {},
   "source": [
    "##### А в линейной регрессии было: "
   ]
  },
  {
   "cell_type": "code",
   "execution_count": 10,
   "metadata": {},
   "outputs": [
    {
     "data": {
      "text/html": [
       "<div><img alt=\"Output\" src=\"data:image/png;base64,iVBORw0KGgoAAAANSUhEUgAAAIoAAAAPCAIAAAC0mMBYAAAAy3pUWHRSYXcgcHJvZmlsZSB0eXBlIGV4aWYAAHjabU9tDkIhDPvPKTzC2EYHx+EpL/EGHt8hU4OxCWvXfQBpPO5nukxwpqTFKhpADm3auLuotLA4U3vFZfWo5d1PdIbf3SrfAkb4x+4bFnP9XcRLyLzBtWgMxCLh5ed4yRH93GvdFwlt0Pp5+v9cjFGQTT0qkxma65pcOqEwFcOJK+CNGTcmvToPmPkYbHZIn4MTPGzvHgnixm1+QebJ0p3Fo+f8dkTUYxbhI6qvj6Qnnb5a4w472csAAAAJcEhZcwAACxMAAAsTAQCanBgAAAA8dEVYdFNvZnR3YXJlAENyZWF0ZWQgd2l0aCB0aGUgV29sZnJhbSBMYW5ndWFnZSA6IHd3dy53b2xmcmFtLmNvbVyipoUAAAAhdEVYdENyZWF0aW9uIFRpbWUAMjAyMTowMzoyMCAyMTozNDoxM4JT764AAAJ2SURBVFiF7Vg7kqMwEG3NWcDBlk8gnwAmceTUmQhNstmEZJPIockmnWiTESfAJ6AcIN2FDcRHMt3ATG3VEvAiaL1Wv1aLlgrWNA1sWCte/reADVPYyrNqbOVZNWbLY64HxhhLioVExtjhagAAoEiYj3aSMZMKNMwwH3+RJAKOUodJufds1/xsHJzH8u3YopSaKSgBXGotOQg1SWy05C1FSw5canwq+wAO1T5igdy33vsbQAPNwBGPu6PZYUY6pBLAhVgmaLo8c5FQOHkhUzgLrSUHj+oHUsJ/IeqjlULtU4FIzOlEZaBGatHoHa+EI1IJAC71vz97TF2BOEaerXhPQf6O2tH9LgAoEhZ+nqSAqqb7Tv6na4dZTnF0XVMylgfqelP4edI3WqepK37afR38NoYZrfz42VYkcSU/LgEmIbo1SuRxUrQ0XV4CWx7jgU5iHkUSpnt186pjrlku3lxNRcJiUE152U1MFd20rGyCZzgJhNGp1aTsRYFsMLtr3x6hcygg7vc0gw+7wffpuV13xBhcyv47gjRMCgAokhhUiRfHS7mnvQCAMdrDT+tjrgcWg2qei3PuPh0ACHZ7yOPsl25ukbNHcfQplq8wJray68ejRmR/K9CA6Gi/E9Kd95s/Oor7QwNp7JW8njhUtTHXLO8+qDC9Qx7jVxbO+fAy34/RNuo1yo6ENdvRSeR06ucxql8Tt412PkmM0IFG4jEn1B29JMzcHNpjZJQRvlhcameW2Zubh37G58PWvo+Z5EWn3SjdEBpo4E2d6mR50ECYeDe6S0TdnUzR9DujY0J2FrXjvdsIl5o12z+3FWP7a7BqbOVZNf4CWDsq6lXG8lIAAAAASUVORK5CYII=\"></div>"
      ],
      "text/plain": [
       "-1.27019 + 0.306654 x"
      ]
     },
     "execution_count": 10,
     "metadata": {
      "text/html": [],
      "text/plain": []
     },
     "output_type": "execute_result"
    }
   ],
   "source": [
    "angle90Line\n",
    "(* Во втором случае посчитаем только регрессию *)"
   ]
  },
  {
   "cell_type": "markdown",
   "metadata": {},
   "source": [
    "##### Приближение полиномом втрой степини (a*x^2+bx+c), b=0, c=0"
   ]
  },
  {
   "cell_type": "code",
   "execution_count": 12,
   "metadata": {},
   "outputs": [
    {
     "data": {
      "text/html": [
       "<div><img alt=\"Output\" src=\"data:image/png;base64,iVBORw0KGgoAAAANSUhEUgAAAFYAAAAPCAIAAADxta+fAAAAzXpUWHRSYXcgcHJvZmlsZSB0eXBlIGV4aWYAAHjabU9bjgMhDPvnFD1CSIIDx2E6jLQ32OM3DNmtqGqJ2HEeQBq/P1d6THCmpMUqGkAObdq4u6i0sDhTu+ONgqjl3U90hd/dKu8CRvjH7lss4vq5iJeQeYNr0RiIRcLLz33lR/Rzr3VfJLRB6//Tv+dijIJs6lGZzNBc1+TSCYWpGC48AW/MOJn06Txg5mOw2SF9Dk7wsL17JIgb5/yCzJOlO4tHz/nPEVGPWYSPqN4fSS9Z/Vq1ePwcxwAAAAlwSFlzAAALEwAACxMBAJqcGAAAADx0RVh0U29mdHdhcmUAQ3JlYXRlZCB3aXRoIHRoZSBXb2xmcmFtIExhbmd1YWdlIDogd3d3LndvbGZyYW0uY29tXKKmhQAAACF0RVh0Q3JlYXRpb24gVGltZQAyMDIxOjAzOjIwIDIxOjM0OjEzglPvrgAAAaVJREFUSIntVz16wjAMfe5ZUiZOIE5ADtC1mzNyAcZuXZyRbl17AHMCbsDH4txFDHaIHGTD1A6pJvz89GNJloNhZixLhr57/zlj/fZ92DUAwIuTEAIzB0fkAjPzy1/X5PelaZr4Y71qAGCBKQCAof+87A/buODYFGkr9Ua5iTSmCno7ObR+jghY2khIgSng0VHVZvkQ1opzIppJmsFRzYjKLIE3O94qmc1Bb0HW6r4V9eBIK5bqSD0EiIiIYiIgFbNSVIOZmLq6CFILLE91ZOjpV9FnQW/FcbwtNDlumpHiyplUmRX11KRKRrOsjAv1XLP8jX3/fAuMPVrpkDQOj51p4fm0Wz0aJCrzDhz6jWnhmdmjNZt+EOSh//iy+/gk49i18Ke0mEvGBIDtIUa9v7ya7lhjThrBnVtjKl6Q7obo5dpFuGeqYGZGDAue3eNpkE6SbZYqlxe1xuTgiKg24pCZy6PN7xIXmBooY8rjm3nIQ812ykxlmD5i1pJUexSV6fj0oyjrW2iBagoUpvImPrApJ2BwVBiHhhf3H2EuC/06lPKfAlwB8T1Q5+GpJB4AAAAASUVORK5CYII=\"></div>"
      ],
      "text/plain": [
       "            2\n",
       "0.00874737 x"
      ]
     },
     "execution_count": 12,
     "metadata": {
      "text/html": [],
      "text/plain": []
     },
     "output_type": "execute_result"
    }
   ],
   "source": [
    "angle90SqAp = Fit[angle90Table, {x^2}, x]"
   ]
  },
  {
   "cell_type": "code",
   "execution_count": 13,
   "metadata": {},
   "outputs": [
    {
     "data": {
      "text/html": [
       "<div><img alt=\"Output\" src=\"data:image/png;base64,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\"></div>"
      ],
      "text/plain": [
       "-Graphics-"
      ]
     },
     "execution_count": 13,
     "metadata": {
      "text/html": [],
      "text/plain": []
     },
     "output_type": "execute_result"
    }
   ],
   "source": [
    "Show[ListPlot[angle90Table, PlotStyle -> Red],\n",
    "    Plot[angle90SqAp, {x, 0, 36}, PlotStyle -> Green],\n",
    "    Plot[angle90Line, {x, 0, 36}], PlotRange -> All]"
   ]
  },
  {
   "cell_type": "markdown",
   "metadata": {},
   "source": [
    "# Угол 30"
   ]
  },
  {
   "cell_type": "code",
   "execution_count": 14,
   "metadata": {},
   "outputs": [],
   "source": [
    " angle30Table = Table[{{36, 11.8}, {27, 11.5}, {18, 11.5},{9, 11.6}, {7.5, 11.8}, {6, 11.8}, {4.5, 11.8}, {3, 8.7}, {1.5, 4.2}, {1.25, 3.4}, {1, 2.7}, {0.75, 2}, {0.5, 1.4}, {0.25, 0.7}, {0.2, 0.5}}];"
   ]
  },
  {
   "cell_type": "markdown",
   "metadata": {},
   "source": [
    "### МНК"
   ]
  },
  {
   "cell_type": "code",
   "execution_count": 15,
   "metadata": {},
   "outputs": [
    {
     "data": {
      "text/html": [
       "<div><img alt=\"Output\" src=\"data:image/png;base64,iVBORw0KGgoAAAANSUhEUgAAAIIAAAAPCAIAAACnT4CsAAAAy3pUWHRSYXcgcHJvZmlsZSB0eXBlIGV4aWYAAHjabU9tEkIhCPzvKToCAi56HF/5ZrpBxw+TamzaGVlYviSNx/1MlwnOlLRYRQPIoU0bd3cqLSzO1F52SRy5vOuJztC7S+WbwAj92HXDYq6/g2KDzA3ui0ZDDBJeeu4rPqKee637IKENWj9f/x+LMQqyqVtlMkNzvyZ3nVCYiuHEFfDCjBuTXp0HzLwNNiukz8YJHrZXjwRx4TZPkPmydGdx6zG/FRF1m0X4iOzrkPQEWIdatD0QzzUAAAAJcEhZcwAACxMAAAsTAQCanBgAAAA8dEVYdFNvZnR3YXJlAENyZWF0ZWQgd2l0aCB0aGUgV29sZnJhbSBMYW5ndWFnZSA6IHd3dy53b2xmcmFtLmNvbVyipoUAAAAhdEVYdENyZWF0aW9uIFRpbWUAMjAyMTowMzoyMCAyMTozNDoxM4JT764AAAJASURBVFiF7VgtmuMwDJV7lraoJ3BPkKBBpcMc2JJlA8uGuLBlQwctWeUE3RPkWxD7Ll6QH8uxnKRoAvJQIktPz1LkpBXOOVjx09j8tIAVAGsbFoK1DYuAb4O9HYUQRZn2LQsRwjv3S8ebpXSBKWFkw19Cinamp98X3X3rGhSE92T0k1LN25JrgAqkUhIUunlABVIb55wzWnaXdLWjMrpjZY1s+EvgaTkYLaOkNMTvqbkK6XjPCf0zdweEdWITQ/bWlSjqMVDZlIk1suF8SkTWjaedQt87VCRgICYsCO85oZ+pKSoiEhWA1GYDAGWRV/rrvJ0xO90Qfl5A/8oAAGxdydP+z5FOoK0rOOy3AGUhdt8nraCqLWtkw3mYuubMPO0UbF2Besuam8fv5oSxt+tjPCz2TOpvj6Xd98ncs4AkuztUj7wo28qb53m7gbLIAZ+vNMHerg/14SP+Xq7w1fT2cHnvlZSFyAHd87wnsYwxEU4TWmstAJjuIgKbK4my2F0O2FQnuxtd5UIIId7hpEaiUp68/uzePO4f/3bxC7ej8pXXMso3fkgMTjujJblrBxcVoenmkjWy4YOEBhERtVIaEaOjiaUdl59yGUan2fqVaf38qWW0lNKzQ7gUsgSnGLEFJvZtS3L7ANY4+2WNOrHE0vL6x3rApE+1gXpO6We70Bp9wFgbmDcem8n4iQq/K6LhmjCOPsjJNiRoY/1mOPnd8xxnRzXXk9VPwtkehB8VUhvh1v+UFoD1V/QisLZhEfgPhQ6SRK0UVIYAAAAASUVORK5CYII=\"></div>"
      ],
      "text/plain": [
       "4.76006 + 0.291963 x"
      ]
     },
     "execution_count": 15,
     "metadata": {
      "text/html": [],
      "text/plain": []
     },
     "output_type": "execute_result"
    }
   ],
   "source": [
    "angle30Line = Fit[angle30Table, {1, x}, x]"
   ]
  },
  {
   "cell_type": "markdown",
   "metadata": {},
   "source": [
    "##### Приближение полиномом a*x^(1/3)+bx"
   ]
  },
  {
   "cell_type": "code",
   "execution_count": 16,
   "metadata": {},
   "outputs": [
    {
     "data": {
      "text/html": [
       "<div><img alt=\"Output\" src=\"data:image/png;base64,iVBORw0KGgoAAAANSUhEUgAAAJsAAAAPCAIAAAB89CqOAAAAzHpUWHRSYXcgcHJvZmlsZSB0eXBlIGV4aWYAAHjabU/bDQMhDPtnio4QkuDAONDjpG7Q8RsO2oqqlogd5wGE/nyc4TbAkYImyygAObRo4eoi08TkSOWKF0pbtbj7gc7lV7fSt4C+/Lb7hsmcfxfxFDJucC26BtYi4enHOvO2+rnmvC8S2qD58/T/uRgjIZp6VCYzFNc5uHRCYkqGE3fAGyMOJr07d5j5GGx0SB2DA9xt7+4B4sYxviDjRKnO4tFzfjsi6jGKcFvV6yPhBaCxWuXEbM6WAAAACXBIWXMAAAsTAAALEwEAmpwYAAAAPHRFWHRTb2Z0d2FyZQBDcmVhdGVkIHdpdGggdGhlIFdvbGZyYW0gTGFuZ3VhZ2UgOiB3d3cud29sZnJhbS5jb21coqaFAAAAIXRFWHRDcmVhdGlvbiBUaW1lADIwMjE6MDM6MjAgMjE6MzQ6MTOCU++uAAACt0lEQVRYhe1YMXbiMBAd5yw2hR8nECeQ06SipZNKu0m3JR2NXZqOlmqblU5gTuBHgXQXbYHBkpBke8luloRfxZPRn5k/0kgPUA8IwUqCSClssxBKCUYQQggRZv/7m+AFHg6y2pwAoLXNXEAMEOO6aZpml643/DOy+3Q8YEfjvM5fU9vKBeC4+1tKvjnO3/A/Tuz/wAN21AXJIbk2UAoBKbQ/v+0ZldUi6kGHdTgv0Bw7Bnsppx3nopJhTwfnJEgBSXz9ijHG+fvyj1rai9EnHXYdWYthvCpjq+7k9AZyojujhF0u1npoVnGa7OcEad/RCnaiRIaXrBbROu0eJ00e+z1dnEHIii5WxeFQrBYXgfSJW1FKKaWr4/J98tjlNCnmZynEcp8ENJxYi2XEtfaUYQRQmvg4/YF8UEqUSOvoABgBVIrbJZbl7OZkuF3r41SKEeh3GyPgJmUf9azVsj5LOCTLyFr8BToonG6eHrn06c7oNhs1ajjN2nKXxyEfAAB5atFy9msxhjTEiWvFyDajvHMTjcsP48GERkGeWpjPYgBOo2S/LAm0p4HJa8FZS1A0vimgnD5MOrj0eQGI8+a6E6AIjBpOM2BOTR04FGvYnffOvFh5ezrIiWtRtlkUTQgdgjTgzijKgKkmn03ldtYSLFBW6y35cVdZN/oYb934dYm8+1JW6+3lLCfFAbZZ8PSh67bEb+RwFHdxIjT+GglBSmHAjBTP5rDN1qlQNdZO7FhuVy2UBgqU1eqeA6rB0Mcey/pNZYzp8Fi3LNqnKJFB6ru2/VcFKsUNy9+BdpEyAtZV6JBiUi220Yowae1Nyr0+cHkEnHttaOZ/HegBGDH3i9ZI0+LzDCStbzFRIs/L6CPRp22EupFiei2W0bFFnZzBQC59IqXU6MP9xAPgi/xm9MQVz45+NfwG6FdgaYDhqHAAAAAASUVORK5CYII=\"></div>"
      ],
      "text/plain": [
       "         1/3\n",
       "5.41614 x    - 0.144711 x"
      ]
     },
     "execution_count": 16,
     "metadata": {
      "text/html": [],
      "text/plain": []
     },
     "output_type": "execute_result"
    }
   ],
   "source": [
    "angle30SqAp = Fit[angle30Table, {x, x^(1/3)}, x]"
   ]
  },
  {
   "cell_type": "code",
   "execution_count": 17,
   "metadata": {},
   "outputs": [
    {
     "data": {
      "text/html": [
       "<div><img alt=\"Output\" src=\"data:image/png;base64,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\"></div>"
      ],
      "text/plain": [
       "-Graphics-"
      ]
     },
     "execution_count": 17,
     "metadata": {
      "text/html": [],
      "text/plain": []
     },
     "output_type": "execute_result"
    }
   ],
   "source": [
    "Show[ListPlot[angle30Table, PlotStyle -> Red],\n",
    "    Plot[angle30SqAp, {x, 0, 36}, PlotStyle -> Green],\n",
    "    Plot[angle30Line, {x, 0, 36}], PlotRange -> All]"
   ]
  },
  {
   "cell_type": "code",
   "execution_count": null,
   "metadata": {},
   "outputs": [],
   "source": []
  }
 ],
 "metadata": {
  "kernelspec": {
   "display_name": "Wolfram Language 12.2",
   "language": "Wolfram Language",
   "name": "wolframlanguage12.2"
  },
  "language_info": {
   "codemirror_mode": "mathematica",
   "file_extension": ".m",
   "mimetype": "application/vnd.wolfram.m",
   "name": "Wolfram Language",
   "pygments_lexer": "mathematica",
   "version": "12.0"
  }
 },
 "nbformat": 4,
 "nbformat_minor": 4
}
